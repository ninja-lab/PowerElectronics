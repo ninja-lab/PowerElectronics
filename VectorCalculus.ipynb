{
 "cells": [
  {
   "cell_type": "code",
   "execution_count": 12,
   "id": "25b180ba-5ce0-47db-9431-640003e420b1",
   "metadata": {
    "tags": []
   },
   "outputs": [],
   "source": [
    "from sympy.abc import x, y, z \n",
    "from sympy import simplify, together "
   ]
  },
  {
   "cell_type": "code",
   "execution_count": 7,
   "id": "4e1870de-a0b8-42b6-b336-158d73a4a39b",
   "metadata": {
    "tags": []
   },
   "outputs": [
    {
     "data": {
      "text/latex": [
       "$\\displaystyle - \\frac{3.0 x^{2}}{\\left(x^{2} + y^{2} + z^{2}\\right)^{2.5}} - \\frac{3.0 y^{2}}{\\left(x^{2} + y^{2} + z^{2}\\right)^{2.5}} - \\frac{3.0 z^{2}}{\\left(x^{2} + y^{2} + z^{2}\\right)^{2.5}} + \\frac{3}{\\left(x^{2} + y^{2} + z^{2}\\right)^{1.5}}$"
      ],
      "text/plain": [
       "-3.0*x**2/(x**2 + y**2 + z**2)**2.5 - 3.0*y**2/(x**2 + y**2 + z**2)**2.5 - 3.0*z**2/(x**2 + y**2 + z**2)**2.5 + 3/(x**2 + y**2 + z**2)**1.5"
      ]
     },
     "execution_count": 7,
     "metadata": {},
     "output_type": "execute_result"
    }
   ],
   "source": [
    "P = x / (x**2 + y**2 + z**2)**(3/2)\n",
    "Q = y / (x**2 + y**2 + z**2)**(3/2)\n",
    "R = z / (x**2 + y**2 + z**2)**(3/2)\n",
    "P.diff(x) + Q.diff(y) + R.diff(z) "
   ]
  },
  {
   "cell_type": "code",
   "execution_count": 11,
   "id": "5e511b44-7065-45d3-a03e-08f67f7def8d",
   "metadata": {
    "tags": []
   },
   "outputs": [
    {
     "data": {
      "text/latex": [
       "$\\displaystyle 0$"
      ],
      "text/plain": [
       "0"
      ]
     },
     "execution_count": 11,
     "metadata": {},
     "output_type": "execute_result"
    }
   ],
   "source": [
    "simplify(P.diff(x) + Q.diff(y) + R.diff(z))"
   ]
  },
  {
   "cell_type": "code",
   "execution_count": 13,
   "id": "73f5b308-2db2-4a8e-af47-442dfb953c39",
   "metadata": {
    "tags": []
   },
   "outputs": [
    {
     "data": {
      "text/latex": [
       "$\\displaystyle - \\frac{3.0 x^{2}}{\\left(x^{2} + y^{2} + z^{2}\\right)^{2.5}} - \\frac{3.0 y^{2}}{\\left(x^{2} + y^{2} + z^{2}\\right)^{2.5}} - \\frac{3.0 z^{2}}{\\left(x^{2} + y^{2} + z^{2}\\right)^{2.5}} + \\frac{3}{\\left(x^{2} + y^{2} + z^{2}\\right)^{1.5}}$"
      ],
      "text/plain": [
       "-3.0*x**2/(x**2 + y**2 + z**2)**2.5 - 3.0*y**2/(x**2 + y**2 + z**2)**2.5 - 3.0*z**2/(x**2 + y**2 + z**2)**2.5 + 3/(x**2 + y**2 + z**2)**1.5"
      ]
     },
     "execution_count": 13,
     "metadata": {},
     "output_type": "execute_result"
    }
   ],
   "source": [
    "together(P.diff(x) + Q.diff(y) + R.diff(z))"
   ]
  },
  {
   "cell_type": "code",
   "execution_count": null,
   "id": "368d8077-f608-41ff-96a0-785ec47863c7",
   "metadata": {},
   "outputs": [],
   "source": []
  },
  {
   "cell_type": "code",
   "execution_count": null,
   "id": "95ba70c0-9575-47a0-a821-8bb586a47178",
   "metadata": {},
   "outputs": [],
   "source": [
    "from sympy.vector import CoordSys3D\n",
    "from sympy import sin\n",
    "\n",
    "# Define the spherical coordinate system\n",
    "N = CoordSys3D('N', transformation='spherical')\n",
    "\n",
    "# Spherical coordinates\n",
    "r, theta, phi = N.base_scalars()\n",
    "\n",
    "# Define the vector field: F = r * r_hat + sin(theta) * theta_hat + phi * phi_hat\n",
    "F = r * N.i + sin(theta) * N.j + phi * N.k\n",
    "\n",
    "F\n"
   ]
  },
  {
   "cell_type": "code",
   "execution_count": null,
   "id": "2f0d0a86-0f4e-4834-ade0-8a6f25cb119e",
   "metadata": {},
   "outputs": [],
   "source": []
  },
  {
   "cell_type": "code",
   "execution_count": null,
   "id": "59298b5b-df22-4fb3-ab4f-8db2a1ddbe1c",
   "metadata": {},
   "outputs": [],
   "source": []
  },
  {
   "cell_type": "code",
   "execution_count": null,
   "id": "24e3cd18-1be4-43dc-9a4a-5c3b30265b93",
   "metadata": {},
   "outputs": [],
   "source": []
  },
  {
   "cell_type": "code",
   "execution_count": null,
   "id": "ced377e9-c677-4bf7-aa1b-608acf21e90c",
   "metadata": {},
   "outputs": [],
   "source": []
  }
 ],
 "metadata": {
  "kernelspec": {
   "display_name": "Python 3 (ipykernel)",
   "language": "python",
   "name": "python3"
  },
  "language_info": {
   "codemirror_mode": {
    "name": "ipython",
    "version": 3
   },
   "file_extension": ".py",
   "mimetype": "text/x-python",
   "name": "python",
   "nbconvert_exporter": "python",
   "pygments_lexer": "ipython3",
   "version": "3.8.17"
  }
 },
 "nbformat": 4,
 "nbformat_minor": 5
}
