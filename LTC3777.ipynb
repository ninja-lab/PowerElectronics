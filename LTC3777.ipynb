{
 "cells": [
  {
   "cell_type": "code",
   "execution_count": 112,
   "id": "86476a91",
   "metadata": {},
   "outputs": [],
   "source": [
    "import control as ct\n",
    "import matplotlib as plt\n",
    "from math import sqrt\n",
    "s = ct.TransferFunction.s"
   ]
  },
  {
   "cell_type": "code",
   "execution_count": 113,
   "id": "44f3273e",
   "metadata": {},
   "outputs": [],
   "source": [
    "def par(x, y):\n",
    "    return x*y/(x+y)"
   ]
  },
  {
   "cell_type": "code",
   "execution_count": 114,
   "id": "f1f1ebff",
   "metadata": {},
   "outputs": [],
   "source": [
    "Vo = 16\n",
    "R=25\n",
    "Vg = 12\n",
    "D = 1-Vg/Vo\n",
    "Dp = 1-D\n",
    "fs = 160e3\n",
    "Ts = 1/fs\n",
    "L = 100e-6\n",
    "C = 6.2e-6\n",
    "Ma =  -.5*(Vg-Vo)/L #page 448\n",
    "\n",
    "Rfbtop = 26e3\n",
    "Rfbbot = 1.5e3\n",
    "gm = 1.5e-3 #mmhos \n",
    "Cp = 10e-12\n",
    "Cs = 100e-9\n",
    "Rs = 1e3\n"
   ]
  },
  {
   "cell_type": "code",
   "execution_count": 115,
   "id": "d810377b",
   "metadata": {},
   "outputs": [
    {
     "data": {
      "text/latex": [
       "$$\\frac{1 \\times 10^{-22} s^3 + 1 \\times 10^{-18} s^2}{1 \\times 10^{-33} s^4 + 1 \\times 10^{-25} s^3}$$"
      ],
      "text/plain": [
       "TransferFunction(array([1.e-22, 1.e-18, 0.e+00, 0.e+00]), array([1.0000e-33, 1.0001e-25, 0.0000e+00, 0.0000e+00, 0.0000e+00]))"
      ]
     },
     "execution_count": 115,
     "metadata": {},
     "output_type": "execute_result"
    }
   ],
   "source": [
    "par(1/(s*Cp), 1/(s*Cs)+Rs)"
   ]
  },
  {
   "cell_type": "code",
   "execution_count": 116,
   "id": "f74acbe6",
   "metadata": {},
   "outputs": [],
   "source": [
    "Fg = (2*D-1)*Ts/(2*L)\n",
    "Fv = Dp**2*Ts/(2*L)\n",
    "Fm = 1/(Ma*Ts)"
   ]
  },
  {
   "cell_type": "code",
   "execution_count": 117,
   "id": "81e1e304",
   "metadata": {},
   "outputs": [],
   "source": [
    "Gco = (Vo/Dp)*Fm/(1+2*Fm*Vo/(Dp**2*R)+ Fm*Fv*Vo/Dp)\n",
    "Qc = Dp*R*sqrt(C/L)*sqrt(1+2*Fm*Vo/(Dp**2*R)+ Fm*Fv*Vo/Dp)/(1+R*C*Fm*Vo/L-Fm*Fv*Vo/Dp)\n",
    "Ggo = (1/Dp)*(1-Fm*Fg*Vo+ Fm*Vo/(Dp**2*R))/(1+2*Fm*Vo/(Dp**2*R)+Fm*Fv*Vo/Dp)\n",
    "wgz = (Dp**3*R/L)*(1-Fm*Fg*Vo+Fm*Vo/(Dp**2*R))/(Fm*Fg*Vo)\n",
    "wc = (Dp/sqrt(L*C))*sqrt(1+2*Fm*Vo/(Dp**2*R)+Fm*Fv*Vo/Dp)"
   ]
  },
  {
   "cell_type": "code",
   "execution_count": 110,
   "id": "a7eb2b2c",
   "metadata": {},
   "outputs": [],
   "source": [
    "%matplotlib qt"
   ]
  },
  {
   "cell_type": "code",
   "execution_count": 118,
   "id": "e6409589",
   "metadata": {},
   "outputs": [],
   "source": [
    "Gvic = Gco*(1-s*L/(Dp**2*R)) / (1+s/(Qc*wc) + (s/wc)**2)\n",
    "Gcomp = (Rfbbot/(Rfbbot+Rfbtop))*gm*par(1/(s*Cp), 1/(s*Cs)+Rs)\n",
    "Avol= Gvic*Gcomp\n"
   ]
  },
  {
   "cell_type": "code",
   "execution_count": 88,
   "id": "7ed7ae37",
   "metadata": {},
   "outputs": [],
   "source": []
  },
  {
   "cell_type": "code",
   "execution_count": 105,
   "id": "20b6e77d",
   "metadata": {},
   "outputs": [],
   "source": [
    "ans = ct.bode(Gvic, plot=True, Hz=True, margins=False, omega_limits=[1e1, 1e6])\n"
   ]
  },
  {
   "cell_type": "code",
   "execution_count": 121,
   "id": "ad2e70e5",
   "metadata": {},
   "outputs": [],
   "source": [
    "ans = ct.bode(Gcomp, plot=True, Hz=True, margins=False, omega_limits=[1e1, 1e6])"
   ]
  },
  {
   "cell_type": "code",
   "execution_count": null,
   "id": "480834f9",
   "metadata": {},
   "outputs": [],
   "source": [
    "ans = ct.bode(Avol, plot=True, Hz=True, margins=False, omega_limits=[1e1, 1e6])"
   ]
  }
 ],
 "metadata": {
  "kernelspec": {
   "display_name": "Python 3 (ipykernel)",
   "language": "python",
   "name": "python3"
  },
  "language_info": {
   "codemirror_mode": {
    "name": "ipython",
    "version": 3
   },
   "file_extension": ".py",
   "mimetype": "text/x-python",
   "name": "python",
   "nbconvert_exporter": "python",
   "pygments_lexer": "ipython3",
   "version": "3.8.11"
  }
 },
 "nbformat": 4,
 "nbformat_minor": 5
}
