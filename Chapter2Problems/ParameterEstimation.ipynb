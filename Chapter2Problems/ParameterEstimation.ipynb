{
 "cells": [
  {
   "cell_type": "code",
   "execution_count": 100,
   "id": "4b823bec-3538-4211-9b4e-7bb6ce694303",
   "metadata": {},
   "outputs": [],
   "source": [
    "import numpy as np\n",
    "from scipy.optimize import minimize\n",
    "from scipy.optimize import Bounds\n",
    "from IPython.core.interactiveshell import InteractiveShell\n",
    "InteractiveShell.ast_node_interactivity = \"all\"\n",
    "#InteractiveShell.ast_node_interactivity = \"last_expr\""
   ]
  },
  {
   "cell_type": "code",
   "execution_count": 101,
   "id": "e02d199e-ccf0-413a-a657-8ffc290e8846",
   "metadata": {},
   "outputs": [],
   "source": [
    "def scale_bounds(b):\n",
    "    if b[1] - b[0] > 10:\n",
    "        b = np.log10(b)\n",
    "    c1i = (b[1] + b[0])*.5\n",
    "    c2i = (b[1] - b[0])*.5\n",
    "    return ((b[0] - c1i)/c2i, (b[1] - c1i)/c2i)\n",
    "def unscale(p, b): \n",
    "    if b[1] - b[0] > 10:\n",
    "        b = np.log10(b)\n",
    "        c1i = (b[1] + b[0])*.5\n",
    "        c2i = (b[1] - b[0])*.5        \n",
    "        return 10**(p*c2i+c1i)\n",
    "    c1i = (b[1] + b[0])*.5\n",
    "    c2i = (b[1] - b[0])*.5\n",
    "    return p*c2i+c1i"
   ]
  },
  {
   "cell_type": "code",
   "execution_count": 106,
   "id": "90e537be-b067-4fff-9e30-49e81dd75ff9",
   "metadata": {},
   "outputs": [],
   "source": [
    "fs = 103e3\n",
    "Ts = 1/fs \n",
    "times = np.arange(0, 4*Ts, 4*Ts/200)\n",
    "tau = Ts \n",
    "Cmin = 1e-12\n",
    "Cmax = 1e-6\n",
    "Rmin = 10e2\n",
    "Rmax = 10e3\n",
    "Vmin = .1\n",
    "Vmax = 10 \n",
    "\n",
    "def voltage_response(t, R, C, V0):\n",
    "    return V0 * (1 - np.exp(-t / (R * C)))\n",
    "\n",
    "def cost_function(params, t, data):\n",
    "    #need to unscale the params \n",
    "    R, C, V0 = params\n",
    "    R = unscale(R, (Rmin, Rmax))\n",
    "    C = unscale(C, (Cmin, Cmax))\n",
    "    V0 = unscale(V0, (Vmin, Vmax))\n",
    "    residuals = data - voltage_response(t, R, C, V0)\n",
    "    return np.sum(residuals**2)\n",
    "\n"
   ]
  },
  {
   "cell_type": "code",
   "execution_count": 108,
   "id": "c93d806b-9eb7-4eb9-a9fd-aab4aee0cb3f",
   "metadata": {},
   "outputs": [
    {
     "name": "stdout",
     "output_type": "stream",
     "text": [
      "R = 4260.01626014016\n",
      "C = 2.2790280672200176e-09\n",
      "V0 = 3.0999965565812753\n"
     ]
    }
   ],
   "source": [
    "\n",
    "#subs = {R2: 10e3, R1:10e3, Vm:10, C1:.3e-9, w: 2*pi*fs}\n",
    "# Initial guess for the parameters\n",
    "#initial_guess = [50e3, 1.1e-10, 1]\n",
    "initial_guess = [0, 0, 0]\n",
    "# Observed data\n",
    "t_data = np.array(times)  # times\n",
    "\n",
    "V_data = 3.1*(1 - np.exp(-times / (tau)))   # observed voltages\n",
    "\n",
    "result = minimize(cost_function, initial_guess, args=(t_data, V_data), bounds=([-1,1], [-1,1],[-1,1]))\n",
    "\n",
    "estimated_R, estimated_C, estimated_V0 = result.x\n",
    "print(f'R = {unscale(estimated_R, (Rmin, Rmax))}')\n",
    "print(f'C = {unscale(estimated_C, (Cmin, Cmax))}')\n",
    "print(f'V0 = {unscale(estimated_V0, (Vmin, Vmax))}')"
   ]
  },
  {
   "cell_type": "code",
   "execution_count": 109,
   "id": "e0ad2406-99d1-455b-a28d-0d64ce930e20",
   "metadata": {},
   "outputs": [
    {
     "data": {
      "text/plain": [
       "      fun: 6.495983779564482e-10\n",
       " hess_inv: <3x3 LbfgsInvHessProduct with dtype=float64>\n",
       "      jac: array([-3.47725152e-04, -9.55072505e-03,  1.59355837e-05])\n",
       "  message: 'CONVERGENCE: REL_REDUCTION_OF_F_<=_FACTR*EPSMCH'\n",
       "     nfev: 272\n",
       "      nit: 23\n",
       "     njev: 68\n",
       "   status: 0\n",
       "  success: True\n",
       "        x: array([ 0.25882251, -0.99544394, -0.39394009])"
      ]
     },
     "execution_count": 109,
     "metadata": {},
     "output_type": "execute_result"
    }
   ],
   "source": [
    "result "
   ]
  },
  {
   "cell_type": "code",
   "execution_count": 9,
   "id": "bc2a081f-6db5-45d3-8064-45535ff6f13e",
   "metadata": {},
   "outputs": [
    {
     "data": {
      "text/plain": [
       "1e-05"
      ]
     },
     "execution_count": 9,
     "metadata": {},
     "output_type": "execute_result"
    }
   ],
   "source": [
    "result.x[0]*result.x[1]"
   ]
  },
  {
   "cell_type": "markdown",
   "id": "706ac147-e992-45c3-ac58-1e7414a4d341",
   "metadata": {},
   "source": [
    "Realization - the optimize function returns a solution - but there were other solutions. \n",
    "With 3 unknowns, if I pick 1, I could plot the last two with respect to eachother. Or, A 3D plot showing the \n",
    "relationship of the last one as a function of two. \n",
    "I have not utilized constraints yet in optimation.  THe cost function above uses a known response and compares it to the model. \n",
    "Constraints are relationships amongst the parameters being optimized for, like R1*C2 = x. \n",
    "\n",
    "KVL and KCL are a kind of constraint too, but unless the parameters of the cost function are the branch voltages and currents, they can't be used in ```optimize``` Contraints are the circuit model equations (Tableau or MNA) because the topology is given or known.\n",
    "\n",
    "The desired output (branch current or voltage) is some function of time that can be sketched or written down. If there is more than one desired output equation, use a combined wieghted cost function. Phase/initial conditions will effect convergence. \n",
    "Optimization won't leave degrees of freedom but will solve it entirely. \n",
    "It'll be really difficult to plot things symbollically. A chicken and egg scenario arises. It would be nice to be able to write down the circuit equations and then infer time of frequency domain behavior in symbolic terms - but\n"
   ]
  }
 ],
 "metadata": {
  "kernelspec": {
   "display_name": "Python 3 (ipykernel)",
   "language": "python",
   "name": "python3"
  },
  "language_info": {
   "codemirror_mode": {
    "name": "ipython",
    "version": 3
   },
   "file_extension": ".py",
   "mimetype": "text/x-python",
   "name": "python",
   "nbconvert_exporter": "python",
   "pygments_lexer": "ipython3",
   "version": "3.8.13"
  }
 },
 "nbformat": 4,
 "nbformat_minor": 5
}
