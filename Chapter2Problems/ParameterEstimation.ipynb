{
 "cells": [
  {
   "cell_type": "code",
   "execution_count": 54,
   "id": "4b823bec-3538-4211-9b4e-7bb6ce694303",
   "metadata": {},
   "outputs": [],
   "source": [
    "import numpy as np\n",
    "from scipy.optimize import minimize, Bounds \n",
    "from scipy.optimize import Bounds\n",
    "from IPython.core.interactiveshell import InteractiveShell\n",
    "import matplotlib.pyplot as plt\n",
    "InteractiveShell.ast_node_interactivity = \"all\"\n",
    "#InteractiveShell.ast_node_interactivity = \"last_expr\""
   ]
  },
  {
   "cell_type": "code",
   "execution_count": 55,
   "id": "e02d199e-ccf0-413a-a657-8ffc290e8846",
   "metadata": {},
   "outputs": [],
   "source": [
    "def scale_bounds(b):\n",
    "    if b[1] - b[0] > 10:\n",
    "        b = np.log10(b)\n",
    "    c1i = (b[1] + b[0])*.5\n",
    "    c2i = (b[1] - b[0])*.5\n",
    "    return ((b[0] - c1i)/c2i, (b[1] - c1i)/c2i)\n",
    "def unscale(p, b): \n",
    "    if b[1] - b[0] > 10:\n",
    "        b = np.log10(b)\n",
    "        c1i = (b[1] + b[0])*.5\n",
    "        c2i = (b[1] - b[0])*.5        \n",
    "        return 10**(p*c2i+c1i)\n",
    "    c1i = (b[1] + b[0])*.5\n",
    "    c2i = (b[1] - b[0])*.5\n",
    "    return p*c2i+c1i"
   ]
  },
  {
   "cell_type": "code",
   "execution_count": 56,
   "id": "fc132715-e853-43ef-8d21-c04ea63876b5",
   "metadata": {},
   "outputs": [
    {
     "data": {
      "text/plain": [
       "(-1.0000000000000002, 0.9999999999999997)"
      ]
     },
     "execution_count": 56,
     "metadata": {},
     "output_type": "execute_result"
    }
   ],
   "source": [
    "scale_bounds([10, 52])"
   ]
  },
  {
   "cell_type": "code",
   "execution_count": 68,
   "id": "90e537be-b067-4fff-9e30-49e81dd75ff9",
   "metadata": {},
   "outputs": [],
   "source": [
    "Cmin = 1e-12\n",
    "Cmax = 1e-6\n",
    "Rmin = 10e2\n",
    "Rmax = 10e3\n",
    "Vmin = .1\n",
    "Vmax = 10 \n",
    "fs = 100e3 #Hertz\n",
    "Ts = 1/fs  #seconds\n",
    "tau=2e3*1e-8\n",
    "periods = 3\n",
    "samples_per_period =300\n",
    "t = np.linspace(0, Ts*periods, periods*samples_per_period)\n",
    "t_data=t\n",
    "def voltage_response(t, R=1, C=1, V0=1):\n",
    "    return V0 * (1 - np.exp(-t / (R * C)))\n",
    "def cost_function(params, t, data):\n",
    "    #need to unscale the params \n",
    "    R, C, V0 = params\n",
    "    R = unscale(R, (Rmin, Rmax))\n",
    "    C = unscale(C, (Cmin, Cmax))\n",
    "    V0 = unscale(V0, (Vmin, Vmax))\n",
    "    residuals = data - voltage_response(t, R, C, V0)\n",
    "    return np.sum(residuals**2)\n",
    "\n"
   ]
  },
  {
   "cell_type": "code",
   "execution_count": 69,
   "id": "c93d806b-9eb7-4eb9-a9fd-aab4aee0cb3f",
   "metadata": {},
   "outputs": [
    {
     "name": "stdout",
     "output_type": "stream",
     "text": [
      "R = 1926.376591305229\n",
      "C = 1.0382104228785637e-08\n",
      "V0 = 3.099985892661474\n"
     ]
    }
   ],
   "source": [
    "\n",
    "#subs = {R2: 10e3, R1:10e3, Vm:10, C1:.3e-9, w: 2*pi*fs}\n",
    "# Initial guess for the parameters\n",
    "\n",
    "initial_guess = [0, 0, 0]\n",
    "# Observed data\n",
    "\n",
    "V_data = 3.1*(1 - np.exp(-t_data / (tau)))   # observed voltages\n",
    "\n",
    "result = minimize(cost_function, initial_guess, args=(t_data, V_data), bounds=([-1,1], [-1,1],[-1,1]))\n",
    "\n",
    "estimated_R, estimated_C, estimated_V0 = result.x\n",
    "print(f'R = {unscale(estimated_R, (Rmin, Rmax))}')\n",
    "print(f'C = {unscale(estimated_C, (Cmin, Cmax))}')\n",
    "print(f'V0 = {unscale(estimated_V0, (Vmin, Vmax))}')"
   ]
  },
  {
   "cell_type": "code",
   "execution_count": 67,
   "id": "e0ad2406-99d1-455b-a28d-0d64ce930e20",
   "metadata": {},
   "outputs": [
    {
     "data": {
      "text/plain": [
       "      fun: 1.8838854008506886e-09\n",
       " hess_inv: <3x3 LbfgsInvHessProduct with dtype=float64>\n",
       "      jac: array([-0.00043776,  0.0005028 , -0.00018336])\n",
       "  message: 'CONVERGENCE: REL_REDUCTION_OF_F_<=_FACTR*EPSMCH'\n",
       "     nfev: 204\n",
       "      nit: 28\n",
       "     njev: 51\n",
       "   status: 0\n",
       "  success: True\n",
       "        x: array([-0.43051762, -0.97923777, -0.39394224])"
      ]
     },
     "execution_count": 67,
     "metadata": {},
     "output_type": "execute_result"
    }
   ],
   "source": [
    "result "
   ]
  },
  {
   "cell_type": "code",
   "execution_count": 64,
   "id": "bc2a081f-6db5-45d3-8064-45535ff6f13e",
   "metadata": {},
   "outputs": [
    {
     "data": {
      "text/plain": [
       "1.0"
      ]
     },
     "execution_count": 64,
     "metadata": {},
     "output_type": "execute_result"
    }
   ],
   "source": [
    "result.x[0]*result.x[1]"
   ]
  },
  {
   "cell_type": "markdown",
   "id": "706ac147-e992-45c3-ac58-1e7414a4d341",
   "metadata": {},
   "source": [
    "Realization - the optimize function returns a solution - but there were other solutions. \n",
    "With 3 unknowns, if I pick 1, I could plot the last two with respect to eachother. Or, A 3D plot showing the \n",
    "relationship of the last one as a function of two. \n",
    "I have not utilized constraints yet in optimation.  THe cost function above uses a known response and compares it to the model. \n",
    "Constraints are relationships amongst the parameters being optimized for, like R1*C2 = x. \n",
    "\n",
    "KVL and KCL are a kind of constraint too, but unless the parameters of the cost function are the branch voltages and currents, they can't be used in ```optimize``` Contraints are the circuit model equations (Tableau or MNA) because the topology is given or known.\n",
    "\n",
    "The desired output (branch current or voltage) is some function of time that can be sketched or written down. If there is more than one desired output equation, use a combined wieghted cost function. Phase/initial conditions will effect convergence. \n",
    "Optimization won't leave degrees of freedom but will solve it entirely. \n",
    "It'll be really difficult to plot things symbollically. A chicken and egg scenario arises. It would be nice to be able to write down the circuit equations and then infer time of frequency domain behavior in symbolic terms - but\n"
   ]
  },
  {
   "cell_type": "code",
   "execution_count": 8,
   "id": "d8e62e4f-b2f1-410d-98f5-042aff8631b6",
   "metadata": {},
   "outputs": [],
   "source": [
    "# Try to pick 1, plot the other 2 against each other. \n",
    "#also plot the value of the cost function vs what is swept \n",
    "#To do that, pick the 2nd, find the optimal 3rd, and plot. \n",
    "#What if it doesn't converge?\n",
    "  "
   ]
  },
  {
   "cell_type": "code",
   "execution_count": 70,
   "id": "2a6eefec-7bba-4136-8a0b-0252de5dac48",
   "metadata": {},
   "outputs": [
    {
     "name": "stdout",
     "output_type": "stream",
     "text": [
      "C = 1.0384214592831852e-08\n"
     ]
    }
   ],
   "source": [
    "Rpick = 1926\n",
    "Vp = 3.1\n",
    "#def voltage_response(t, R=1, C=1, V0=1):\n",
    "#    return V0 * (1 - np.exp(-t / (R * C)))\n",
    "\n",
    "def cost_function2(params, t, data):\n",
    "    #need to unscale the params \n",
    "    #already picked 1: R=Rmin,\n",
    "    #then sweep the 2nd: Vo, find the third. \n",
    "    #minimize calls cost_function2 with params\n",
    "    C, = params\n",
    "    C = unscale(C, (Cmin, Cmax))\n",
    "    residuals = data - voltage_response(t, R=Rpick, C=C, V0=Vp)\n",
    "    return np.sum(residuals**2)\n",
    "\n",
    "\n",
    "initial_guess = 0\n",
    "# Observed data\n",
    "\n",
    "V_data = 3.1*(1 - np.exp(-t_data / (tau)))   # observed voltages\n",
    "result = minimize(cost_function2, initial_guess, args=(t_data, V_data), bounds=Bounds(-1,1))\n",
    "\n",
    "estimated_C,= result.x\n",
    "#print(f'R = {unscale(estimated_R, (Rmin, Rmax))}')\n",
    "print(f'C = {unscale(estimated_C, (Cmin, Cmax))}')\n",
    "#print(f'V0 = {unscale(estimated_V0, (Vmin, Vmax))}')"
   ]
  },
  {
   "cell_type": "code",
   "execution_count": 71,
   "id": "cf3c645d-a8b0-4df1-91fc-d84abf5f2a0d",
   "metadata": {},
   "outputs": [
    {
     "data": {
      "text/plain": [
       "      fun: 1.508160234799434e-11\n",
       " hess_inv: <1x1 LbfgsInvHessProduct with dtype=float64>\n",
       "      jac: array([0.0084867])\n",
       "  message: 'ABNORMAL_TERMINATION_IN_LNSRCH'\n",
       "     nfev: 82\n",
       "      nit: 7\n",
       "     njev: 41\n",
       "   status: 2\n",
       "  success: False\n",
       "        x: array([-0.97923355])"
      ]
     },
     "execution_count": 71,
     "metadata": {},
     "output_type": "execute_result"
    }
   ],
   "source": [
    "result "
   ]
  },
  {
   "cell_type": "code",
   "execution_count": 72,
   "id": "43b6aa42-1b32-4552-aff3-b528eace5a62",
   "metadata": {},
   "outputs": [
    {
     "data": {
      "text/plain": [
       "[<matplotlib.lines.Line2D at 0x7fcb7d10b910>]"
      ]
     },
     "execution_count": 72,
     "metadata": {},
     "output_type": "execute_result"
    },
    {
     "data": {
      "text/plain": [
       "[<matplotlib.lines.Line2D at 0x7fcb7d10bb20>]"
      ]
     },
     "execution_count": 72,
     "metadata": {},
     "output_type": "execute_result"
    },
    {
     "data": {
      "text/plain": [
       "<matplotlib.legend.Legend at 0x7fcb7d249070>"
      ]
     },
     "execution_count": 72,
     "metadata": {},
     "output_type": "execute_result"
    },
    {
     "data": {
      "image/png": "[encoded data removed]",
      "text/plain": [
       "<Figure size 600x350 with 1 Axes>"
      ]
     },
     "metadata": {},
     "output_type": "display_data"
    }
   ],
   "source": [
    "fig, ax = plt.subplots(subplot_kw={'title':'Parameter Estimation',\n",
    "                                   'xlabel': 'Time [s]',\n",
    "                                   'ylabel': 'Voltage [V]'}, figsize=(6,3.5))\n",
    "ax.plot(t_data, V_data, label = 'desired' )\n",
    "ax.plot(t_data, voltage_response(t, R=Rpick, C=unscale(estimated_C, (Cmin, Cmax)), V0=Vp), label='min resid')\n",
    "ax.legend()"
   ]
  },
  {
   "cell_type": "code",
   "execution_count": 73,
   "id": "4b2993ab-3152-41b5-9a0a-894c5d642819",
   "metadata": {},
   "outputs": [],
   "source": [
    "Rpick = 1926\n",
    "\n",
    "\n",
    "#Vsweep = np.linspace(1, 5, 10)\n",
    "num_sweep = 500\n",
    "Vsweep=np.logspace(np.log10(Vmin), np.log10(Vmax), num_sweep)\n",
    "#results = np.ndarray((num_sweep, 2))\n",
    "\n",
    "\n",
    "initial_guess = 0\n",
    "# Observed data\n",
    "\n",
    "V_data = 3.1*(1 - np.exp(-t_data / (tau)))   # observed voltages\n",
    "#for every V in Vsweep, there is best fit C, and a value of the cost function \n",
    "#for Vpick in Vsweep:\n",
    "\n",
    "def my_minimize(Vpick):\n",
    "    def cost_function2(params, t, data):\n",
    "        #need to unscale the params \n",
    "        #already picked 1: R=Rmin,\n",
    "        #then sweep the 2nd: Vo, and find the third. \n",
    "        #minimize calls cost_function2 with params\n",
    "        C, = params\n",
    "        C = unscale(C, (Cmin, Cmax))\n",
    "        residuals = data - voltage_response(t, R=Rpick, C=C, V0=Vpick)\n",
    "        return np.sum(residuals**2)    \n",
    "\n",
    "    \n",
    "    result = minimize(cost_function2, initial_guess, args=(t_data, V_data), bounds=Bounds(-1,1))\n",
    "    return result.fun, unscale(result.x[0], (Cmin, Cmax))\n",
    "\n",
    "ans = map(my_minimize, Vsweep)\n"
   ]
  },
  {
   "cell_type": "code",
   "execution_count": 74,
   "id": "ccacc283-f60b-46c7-a655-a27407d989ac",
   "metadata": {},
   "outputs": [],
   "source": [
    "arr = np.array(list(ans))\n"
   ]
  },
  {
   "cell_type": "code",
   "execution_count": 85,
   "id": "bee071fe-455c-41f4-a368-bc06585e0162",
   "metadata": {},
   "outputs": [],
   "source": [
    "#arr"
   ]
  },
  {
   "cell_type": "code",
   "execution_count": 75,
   "id": "9a8a04e0-bbce-43a2-b012-63462bf4b2b6",
   "metadata": {},
   "outputs": [],
   "source": [
    "index = arr[:,0].argmin()"
   ]
  },
  {
   "cell_type": "code",
   "execution_count": 76,
   "id": "fa63be45-ee69-4384-be25-264dc1439c09",
   "metadata": {},
   "outputs": [
    {
     "data": {
      "text/plain": [
       "array([6.79733341e-05, 1.03689831e-08])"
      ]
     },
     "execution_count": 76,
     "metadata": {},
     "output_type": "execute_result"
    }
   ],
   "source": [
    "arr[index]"
   ]
  },
  {
   "cell_type": "code",
   "execution_count": 77,
   "id": "3fc53790-a709-4e90-a0d6-3b69b1300f16",
   "metadata": {},
   "outputs": [
    {
     "data": {
      "text/plain": [
       "3.0972906673314085"
      ]
     },
     "execution_count": 77,
     "metadata": {},
     "output_type": "execute_result"
    }
   ],
   "source": [
    "Vsweep[index]"
   ]
  },
  {
   "cell_type": "code",
   "execution_count": 89,
   "id": "b6f8e3c8-51c0-41a1-bbe6-36c81b1d2ffd",
   "metadata": {},
   "outputs": [
    {
     "data": {
      "text/plain": [
       "[<matplotlib.lines.Line2D at 0x7fcb7ce91be0>]"
      ]
     },
     "execution_count": 89,
     "metadata": {},
     "output_type": "execute_result"
    },
    {
     "data": {
      "text/plain": [
       "[<matplotlib.lines.Line2D at 0x7fcb7c9d9bb0>]"
      ]
     },
     "execution_count": 89,
     "metadata": {},
     "output_type": "execute_result"
    },
    {
     "data": {
      "text/plain": [
       "Text(0, 0.5, 'Best Fit Capacitance')"
      ]
     },
     "execution_count": 89,
     "metadata": {},
     "output_type": "execute_result"
    },
    {
     "data": {
      "text/plain": [
       "(1e-12, 1e-06)"
      ]
     },
     "execution_count": 89,
     "metadata": {},
     "output_type": "execute_result"
    },
    {
     "data": {
      "text/plain": [
       "<matplotlib.legend.Legend at 0x7fcb7cb22a60>"
      ]
     },
     "execution_count": 89,
     "metadata": {},
     "output_type": "execute_result"
    },
    {
     "data": {
      "image/png": "[encoded data removed]",
      "text/plain": [
       "<Figure size 600x350 with 2 Axes>"
      ]
     },
     "metadata": {},
     "output_type": "display_data"
    }
   ],
   "source": [
    "fig, ax = plt.subplots(subplot_kw={'title':'Parameter Estimation',\n",
    "                                   'xlabel': 'Voltages swept',\n",
    "                                   'ylabel': 'Optimization Value'}, figsize=(6,3.5))\n",
    "ax.plot(Vsweep, arr[:,0], label = 'opt result' )\n",
    "ax.set_xscale('log')\n",
    "ax2 = ax.twinx() \n",
    "ax2.plot(Vsweep, arr[:,1], label='best C', color='red')\n",
    "ax2.set_ylabel('Best Fit Capacitance')\n",
    "ax2.set_ylim([Cmin, Cmax])\n",
    "ax2.set_yscale('log')\n",
    "ax.legend()"
   ]
  }
 ],
 "metadata": {
  "kernelspec": {
   "display_name": "Python 3 (ipykernel)",
   "language": "python",
   "name": "python3"
  },
  "language_info": {
   "codemirror_mode": {
    "name": "ipython",
    "version": 3
   },
   "file_extension": ".py",
   "mimetype": "text/x-python",
   "name": "python",
   "nbconvert_exporter": "python",
   "pygments_lexer": "ipython3",
   "version": "3.8.13"
  }
 },
 "nbformat": 4,
 "nbformat_minor": 5
}
