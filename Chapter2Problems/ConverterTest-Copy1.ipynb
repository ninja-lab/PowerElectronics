{
 "cells": [
  {
   "cell_type": "code",
   "execution_count": 1,
   "id": "b77233dd",
   "metadata": {},
   "outputs": [
    {
     "name": "stdout",
     "output_type": "stream",
     "text": [
      "Found Numpy. WIll be used for storing data\n"
     ]
    }
   ],
   "source": [
    "from IPython.display import display, Latex\n",
    "from functools import wraps\n",
    "from itertools import filterfalse \n",
    "from orderedset import OrderedSet\n",
    "import sympy\n",
    "from sympy.core.symbol import symbols, Symbol\n",
    "from sympy import S, Interval\n",
    "\n",
    "from sympy.printing import latex, pprint\n",
    "from sympy import Symbol, simplify\n",
    "import numpy as np\n",
    "import os\n",
    "import matplotlib.pyplot as plt\n",
    "from matplotlib.ticker import FuncFormatter, EngFormatter\n",
    "\n",
    "from math import log10\n",
    "from PyLTSpice import LTSpice_RawRead\n",
    "from sympy.solvers import solve, nonlinsolve\n",
    "import sys\n",
    "import logging\n",
    "from ipywidgets import FloatSlider, interact, interactive\n",
    "from converter7 import *"
   ]
  },
  {
   "cell_type": "code",
   "execution_count": 2,
   "id": "edbadacd",
   "metadata": {},
   "outputs": [],
   "source": [
    "def make_symbols():\n",
    "    global a, b, c, d, e, f, g,M, x, y, z, delta_iL, delta_vC\n",
    "    \n",
    "    a = variable('a', 'ohms', None, real=True, positive=True)\n",
    "    b = variable('b', 'F', None, real=True, positive=True)\n",
    "    c = variable('c', 'H', real=True, positive=True)\n",
    "    d = variable('d', '%', real=True, positive=True)\n",
    "    e = variable('e', 'Hz', real=True, positive=True)\n",
    "    f = variable('f', 'V', real=True)\n",
    "    g = variable('g', 'V', real= True)\n",
    "    x = variable('x')\n",
    "    y = variable('y')\n",
    "    z = variable('z')\n",
    "    M = variable('M', real=True, positive=True)\n",
    "    return\n",
    "make_symbols()"
   ]
  },
  {
   "cell_type": "code",
   "execution_count": 3,
   "id": "219a7a60",
   "metadata": {},
   "outputs": [
    {
     "name": "stdout",
     "output_type": "stream",
     "text": [
      "<Logger __main__ (DEBUG)>\n",
      "__main__\n"
     ]
    }
   ],
   "source": [
    "#logformat = '{asctime}\\n{message}'\n",
    "logformat = '{message}'\n",
    "logger = logging.getLogger(__name__)\n",
    "if logger.hasHandlers():\n",
    "    #handlers somehow stay alive even after restarting iPython\n",
    "    #console and clearing variables\n",
    "    logger.handlers.clear()\n",
    "\n",
    "logger.setLevel('DEBUG')\n",
    "print(logger)\n",
    "print(__name__)\n",
    "# Use FileHandler() to log to a file\n",
    "file_handler = logging.FileHandler('ConverterTest-Copy1.log', mode='w')\n",
    "formatter = logging.Formatter(fmt=logformat, style='{' )\n",
    "file_handler.setFormatter(formatter)\n",
    "logger.addHandler(file_handler)"
   ]
  },
  {
   "cell_type": "code",
   "execution_count": 44,
   "id": "9f34d31e",
   "metadata": {},
   "outputs": [
    {
     "data": {
      "text/latex": [
       "$$f = c - d$$"
      ],
      "text/plain": [
       "<IPython.core.display.Latex object>"
      ]
     },
     "metadata": {},
     "output_type": "display_data"
    },
    {
     "data": {
      "text/latex": [
       "$\\displaystyle a b > c$"
      ],
      "text/plain": [
       "a*b > c"
      ]
     },
     "metadata": {},
     "output_type": "display_data"
    }
   ],
   "source": [
    "conv = converter()\n",
    "eq1 = a*b > c\n",
    "eq2 = c - (d+f) \n",
    "#eq3 = b + f - x\n",
    "conv.add_equation(eq1) #VLavg must equal 0 in steady state\n",
    "conv.add_equation(eq2)\n",
    "#conv.add_equation(eq3)\n",
    "conv.showequations()"
   ]
  },
  {
   "cell_type": "code",
   "execution_count": 16,
   "id": "a0f78851",
   "metadata": {},
   "outputs": [
    {
     "data": {
      "text/plain": [
       "OrderedSet([a*b >= c])"
      ]
     },
     "execution_count": 16,
     "metadata": {},
     "output_type": "execute_result"
    }
   ],
   "source": [
    "conv.inequalities"
   ]
  },
  {
   "cell_type": "code",
   "execution_count": 25,
   "id": "25d3e9bc",
   "metadata": {},
   "outputs": [
    {
     "name": "stdout",
     "output_type": "stream",
     "text": [
      "\t\tc - d - f solved for c = {d + f}\n",
      "\t\t\tc - d - f solved for d = {c - f}\n",
      "\t\t\tc - d - f solved for f = {c - d}\n"
     ]
    },
    {
     "data": {
      "text/latex": [
       "$$a = d + f$$"
      ],
      "text/plain": [
       "<IPython.core.display.Latex object>"
      ]
     },
     "metadata": {},
     "output_type": "display_data"
    }
   ],
   "source": [
    "myprint(a, *conv.solver(given={}, want=c))\n",
    "#myprint(b, *conv.solver(given={}, want=b))\n",
    "#myprint(c, *conv.solver(given={}, want=c))\n",
    "#myprint(d, *conv.solver(given={}, want=d))\n",
    "#myprint(f, *conv.solver(given={}, want=f))"
   ]
  },
  {
   "cell_type": "code",
   "execution_count": 7,
   "id": "16d09512",
   "metadata": {},
   "outputs": [
    {
     "name": "stdout",
     "output_type": "stream",
     "text": [
      "\t\tc - d - f solved for a = ∅\n"
     ]
    },
    {
     "data": {
      "text/plain": [
       "OrderedSet([EmptySet])"
      ]
     },
     "execution_count": 7,
     "metadata": {},
     "output_type": "execute_result"
    }
   ],
   "source": [
    "conv.solver(given={}, want=a)"
   ]
  },
  {
   "cell_type": "code",
   "execution_count": 45,
   "id": "8600e336",
   "metadata": {},
   "outputs": [
    {
     "data": {
      "text/latex": [
       "$\\displaystyle \\left(\\frac{c}{b}, \\infty\\right)$"
      ],
      "text/plain": [
       "Interval.open(c/b, oo)"
      ]
     },
     "metadata": {},
     "output_type": "display_data"
    },
    {
     "data": {
      "text/plain": [
       "sympy.sets.sets.Interval"
      ]
     },
     "execution_count": 45,
     "metadata": {},
     "output_type": "execute_result"
    }
   ],
   "source": [
    "ans = solveset(eq1,a, domain=S.Reals) \n",
    "display(ans)\n",
    "type(ans)"
   ]
  },
  {
   "cell_type": "code",
   "execution_count": 37,
   "id": "92798c93",
   "metadata": {},
   "outputs": [
    {
     "data": {
      "text/latex": [
       "$\\displaystyle -\\infty$"
      ],
      "text/plain": [
       "-oo"
      ]
     },
     "execution_count": 37,
     "metadata": {},
     "output_type": "execute_result"
    }
   ],
   "source": [
    "ans.args[0]"
   ]
  },
  {
   "cell_type": "code",
   "execution_count": 39,
   "id": "66cd5b89",
   "metadata": {
    "scrolled": true
   },
   "outputs": [
    {
     "data": {
      "text/plain": [
       "True"
      ]
     },
     "execution_count": 39,
     "metadata": {},
     "output_type": "execute_result"
    }
   ],
   "source": [
    "ans.args[0] == S.NegativeInfinity"
   ]
  },
  {
   "cell_type": "code",
   "execution_count": 46,
   "id": "aaa0006c",
   "metadata": {},
   "outputs": [
    {
     "data": {
      "text/latex": [
       "$\\displaystyle a > \\frac{c}{b}$"
      ],
      "text/plain": [
       "a > c/b"
      ]
     },
     "metadata": {},
     "output_type": "display_data"
    }
   ],
   "source": [
    "display(parse_interval(a, ans))"
   ]
  },
  {
   "cell_type": "code",
   "execution_count": 50,
   "id": "018301ee",
   "metadata": {},
   "outputs": [
    {
     "ename": "TypeError",
     "evalue": "Latex expects text, not a*b > c",
     "output_type": "error",
     "traceback": [
      "\u001b[0;31m---------------------------------------------------------------------------\u001b[0m",
      "\u001b[0;31mTypeError\u001b[0m                                 Traceback (most recent call last)",
      "\u001b[0;32m/tmp/ipykernel_522773/2288112139.py\u001b[0m in \u001b[0;36m<module>\u001b[0;34m\u001b[0m\n\u001b[0;32m----> 1\u001b[0;31m \u001b[0mLatex\u001b[0m\u001b[0;34m(\u001b[0m\u001b[0meq1\u001b[0m\u001b[0;34m)\u001b[0m\u001b[0;34m\u001b[0m\u001b[0;34m\u001b[0m\u001b[0m\n\u001b[0m",
      "\u001b[0;32m~/anaconda3/lib/python3.8/site-packages/IPython/core/display.py\u001b[0m in \u001b[0;36m__init__\u001b[0;34m(self, data, url, filename, metadata)\u001b[0m\n\u001b[1;32m    636\u001b[0m \u001b[0;34m\u001b[0m\u001b[0m\n\u001b[1;32m    637\u001b[0m         \u001b[0mself\u001b[0m\u001b[0;34m.\u001b[0m\u001b[0mreload\u001b[0m\u001b[0;34m(\u001b[0m\u001b[0;34m)\u001b[0m\u001b[0;34m\u001b[0m\u001b[0;34m\u001b[0m\u001b[0m\n\u001b[0;32m--> 638\u001b[0;31m         \u001b[0mself\u001b[0m\u001b[0;34m.\u001b[0m\u001b[0m_check_data\u001b[0m\u001b[0;34m(\u001b[0m\u001b[0;34m)\u001b[0m\u001b[0;34m\u001b[0m\u001b[0;34m\u001b[0m\u001b[0m\n\u001b[0m\u001b[1;32m    639\u001b[0m \u001b[0;34m\u001b[0m\u001b[0m\n\u001b[1;32m    640\u001b[0m     \u001b[0;32mdef\u001b[0m \u001b[0m__repr__\u001b[0m\u001b[0;34m(\u001b[0m\u001b[0mself\u001b[0m\u001b[0;34m)\u001b[0m\u001b[0;34m:\u001b[0m\u001b[0;34m\u001b[0m\u001b[0;34m\u001b[0m\u001b[0m\n",
      "\u001b[0;32m~/anaconda3/lib/python3.8/site-packages/IPython/core/display.py\u001b[0m in \u001b[0;36m_check_data\u001b[0;34m(self)\u001b[0m\n\u001b[1;32m    698\u001b[0m     \u001b[0;32mdef\u001b[0m \u001b[0m_check_data\u001b[0m\u001b[0;34m(\u001b[0m\u001b[0mself\u001b[0m\u001b[0;34m)\u001b[0m\u001b[0;34m:\u001b[0m\u001b[0;34m\u001b[0m\u001b[0;34m\u001b[0m\u001b[0m\n\u001b[1;32m    699\u001b[0m         \u001b[0;32mif\u001b[0m \u001b[0mself\u001b[0m\u001b[0;34m.\u001b[0m\u001b[0mdata\u001b[0m \u001b[0;32mis\u001b[0m \u001b[0;32mnot\u001b[0m \u001b[0;32mNone\u001b[0m \u001b[0;32mand\u001b[0m \u001b[0;32mnot\u001b[0m \u001b[0misinstance\u001b[0m\u001b[0;34m(\u001b[0m\u001b[0mself\u001b[0m\u001b[0;34m.\u001b[0m\u001b[0mdata\u001b[0m\u001b[0;34m,\u001b[0m \u001b[0mstr\u001b[0m\u001b[0;34m)\u001b[0m\u001b[0;34m:\u001b[0m\u001b[0;34m\u001b[0m\u001b[0;34m\u001b[0m\u001b[0m\n\u001b[0;32m--> 700\u001b[0;31m             \u001b[0;32mraise\u001b[0m \u001b[0mTypeError\u001b[0m\u001b[0;34m(\u001b[0m\u001b[0;34m\"%s expects text, not %r\"\u001b[0m \u001b[0;34m%\u001b[0m \u001b[0;34m(\u001b[0m\u001b[0mself\u001b[0m\u001b[0;34m.\u001b[0m\u001b[0m__class__\u001b[0m\u001b[0;34m.\u001b[0m\u001b[0m__name__\u001b[0m\u001b[0;34m,\u001b[0m \u001b[0mself\u001b[0m\u001b[0;34m.\u001b[0m\u001b[0mdata\u001b[0m\u001b[0;34m)\u001b[0m\u001b[0;34m)\u001b[0m\u001b[0;34m\u001b[0m\u001b[0;34m\u001b[0m\u001b[0m\n\u001b[0m\u001b[1;32m    701\u001b[0m \u001b[0;34m\u001b[0m\u001b[0m\n\u001b[1;32m    702\u001b[0m \u001b[0;32mclass\u001b[0m \u001b[0mPretty\u001b[0m\u001b[0;34m(\u001b[0m\u001b[0mTextDisplayObject\u001b[0m\u001b[0;34m)\u001b[0m\u001b[0;34m:\u001b[0m\u001b[0;34m\u001b[0m\u001b[0;34m\u001b[0m\u001b[0m\n",
      "\u001b[0;31mTypeError\u001b[0m: Latex expects text, not a*b > c"
     ]
    }
   ],
   "source": [
    "Latex(eq1)"
   ]
  },
  {
   "cell_type": "code",
   "execution_count": 49,
   "id": "2952948d",
   "metadata": {},
   "outputs": [
    {
     "data": {
      "text/plain": [
       "'a b > c'"
      ]
     },
     "metadata": {},
     "output_type": "display_data"
    }
   ],
   "source": [
    "display(latex(eq1))\n",
    "        \n",
    "    "
   ]
  }
 ],
 "metadata": {
  "kernelspec": {
   "display_name": "Python 3 (ipykernel)",
   "language": "python",
   "name": "python3"
  },
  "language_info": {
   "codemirror_mode": {
    "name": "ipython",
    "version": 3
   },
   "file_extension": ".py",
   "mimetype": "text/x-python",
   "name": "python",
   "nbconvert_exporter": "python",
   "pygments_lexer": "ipython3",
   "version": "3.8.11"
  }
 },
 "nbformat": 4,
 "nbformat_minor": 5
}
