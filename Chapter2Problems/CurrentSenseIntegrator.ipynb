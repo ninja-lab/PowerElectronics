{
 "cells": [
  {
   "cell_type": "code",
   "execution_count": 11,
   "id": "13638351",
   "metadata": {},
   "outputs": [],
   "source": [
    "from IPython.core.interactiveshell import InteractiveShell\n",
    "InteractiveShell.ast_node_interactivity = \"all\"\n",
    "from sympy import *\n",
    "import numpy as np\n",
    "import matplotlib.pyplot as plt\n",
    "from math import log10\n",
    "from matplotlib.widgets import Slider, Button, RadioButtons\n",
    "from matplotlib.ticker import EngFormatter"
   ]
  },
  {
   "cell_type": "code",
   "execution_count": 18,
   "id": "68d86df0",
   "metadata": {},
   "outputs": [],
   "source": [
    "Rf = symbols('R_f', real=True, positive=True)\n",
    "R1 = symbols('R_1', real=True, positive=True)\n",
    "Cf= symbols('C_f', real=True, positive=True)\n",
    "Vin= symbols('V_in', real=True, cls=Function)\n",
    "Vo= symbols('V_o', real=True, cls=Function)\n",
    "Vref= symbols('V_ref', real=True)\n",
    "t= symbols('t', real=True)\n",
    "tau= symbols('tau', real=True)\n",
    "w= symbols('omega', real=True)"
   ]
  },
  {
   "cell_type": "code",
   "execution_count": null,
   "id": "b9f4102c",
   "metadata": {},
   "outputs": [],
   "source": [
    "Vo(t)\n",
    "Vo(t).diff(t)"
   ]
  },
  {
   "cell_type": "code",
   "execution_count": 13,
   "id": "157fd0ff",
   "metadata": {
    "scrolled": true
   },
   "outputs": [
    {
     "data": {
      "text/latex": [
       "$\\displaystyle \\frac{d}{d t} \\operatorname{V_{o}}{\\left(t \\right)} + \\frac{\\operatorname{V_{o}}{\\left(t \\right)}}{C_{f} Rf} = - \\frac{\\operatorname{V_{in}}{\\left(t \\right)}}{C_{f} R_{1}}$"
      ],
      "text/plain": [
       "Eq(Derivative(V_o(t), t) + V_o(t)/(C_f*Rf), -V_in(t)/(C_f*R_1))"
      ]
     },
     "execution_count": 13,
     "metadata": {},
     "output_type": "execute_result"
    }
   ],
   "source": [
    "eq1 = Vo(t).diff(t) + Vo(t)/(Rf*Cf)\n",
    "eq2 = -Vin(t)/(R1*Cf)\n",
    "Eq(eq1, eq2)"
   ]
  },
  {
   "cell_type": "code",
   "execution_count": 14,
   "id": "8eeea263",
   "metadata": {},
   "outputs": [
    {
     "data": {
      "text/latex": [
       "$\\displaystyle \\frac{R_{1} \\int \\operatorname{V_{o}}{\\left(t \\right)} e^{\\frac{t}{C_{f} Rf}}\\, dt + Rf \\int \\operatorname{V_{in}}{\\left(t \\right)} e^{\\frac{t}{C_{f} Rf}}\\, dt}{C_{f} R_{1} Rf} = C_{1}$"
      ],
      "text/plain": [
       "Eq((R_1*Integral(V_o(t)*exp(t/(C_f*Rf)), t) + Rf*Integral(V_in(t)*exp(t/(C_f*Rf)), t))/(C_f*R_1*Rf), C1)"
      ]
     },
     "execution_count": 14,
     "metadata": {},
     "output_type": "execute_result"
    },
    {
     "data": {
      "text/latex": [
       "$\\displaystyle \\frac{R_{1} \\int \\operatorname{V_{o}}{\\left(t \\right)} e^{\\frac{t}{C_{f} Rf}}\\, dt + Rf \\int \\operatorname{V_{in}}{\\left(t \\right)} e^{\\frac{t}{C_{f} Rf}}\\, dt}{C_{f} R_{1} Rf} = 0$"
      ],
      "text/plain": [
       "Eq((R_1*Integral(V_o(t)*exp(t/(C_f*Rf)), t) + Rf*Integral(V_in(t)*exp(t/(C_f*Rf)), t))/(C_f*R_1*Rf), 0)"
      ]
     },
     "execution_count": 14,
     "metadata": {},
     "output_type": "execute_result"
    },
    {
     "data": {
      "text/latex": [
       "$\\displaystyle \\left\\{\\operatorname{V_{o}}{\\left(t \\right)}\\; \\middle|\\; \\operatorname{V_{o}}{\\left(t \\right)} \\in \\mathbb{R} \\wedge \\int \\operatorname{V_{o}}{\\left(t \\right)} e^{\\frac{t}{C_{f} Rf}}\\, dt + \\frac{Rf \\int \\operatorname{V_{in}}{\\left(t \\right)} e^{\\frac{t}{C_{f} Rf}}\\, dt}{R_{1}} = 0 \\right\\}$"
      ],
      "text/plain": [
       "ConditionSet(V_o(t), Eq(Integral(V_o(t)*exp(t/(C_f*Rf)), t) + Rf*Integral(V_in(t)*exp(t/(C_f*Rf)), t)/R_1, 0), Reals)"
      ]
     },
     "execution_count": 14,
     "metadata": {},
     "output_type": "execute_result"
    }
   ],
   "source": [
    "ans = dsolve(Eq(eq1, eq2), Vo(t))\n",
    "ans\n",
    "new_ans = Eq(ans.lhs, 0)\n",
    "new_ans\n",
    "solveset(new_ans, Vo(t), domain=S.Reals) "
   ]
  },
  {
   "cell_type": "code",
   "execution_count": 19,
   "id": "4dcb713a",
   "metadata": {},
   "outputs": [
    {
     "data": {
      "text/latex": [
       "$\\displaystyle \\frac{d}{d t} \\operatorname{V_{o}}{\\left(t \\right)} + \\frac{\\operatorname{V_{o}}{\\left(t \\right)}}{C_{f} R_{f}} = \\frac{- V_{ref} - \\sin{\\left(\\omega t \\right)}}{C_{f} R_{1}}$"
      ],
      "text/plain": [
       "Eq(Derivative(V_o(t), t) + V_o(t)/(C_f*R_f), (-V_ref - sin(omega*t))/(C_f*R_1))"
      ]
     },
     "execution_count": 19,
     "metadata": {},
     "output_type": "execute_result"
    },
    {
     "data": {
      "text/latex": [
       "$\\displaystyle \\operatorname{V_{o}}{\\left(t \\right)} = C_{1} e^{- \\frac{t}{C_{f} R_{f}}} + \\frac{C_{f} R_{f}^{2} \\omega \\cos{\\left(\\omega t \\right)}}{R_{1} \\left(C_{f}^{2} R_{f}^{2} \\omega^{2} + 1\\right)} - \\frac{R_{f} V_{ref}}{R_{1}} - \\frac{R_{f} \\sin{\\left(\\omega t \\right)}}{R_{1} \\left(C_{f}^{2} R_{f}^{2} \\omega^{2} + 1\\right)}$"
      ],
      "text/plain": [
       "Eq(V_o(t), C1*exp(-t/(C_f*R_f)) + C_f*R_f**2*omega*cos(omega*t)/(R_1*(C_f**2*R_f**2*omega**2 + 1)) - R_f*V_ref/R_1 - R_f*sin(omega*t)/(R_1*(C_f**2*R_f**2*omega**2 + 1)))"
      ]
     },
     "execution_count": 19,
     "metadata": {},
     "output_type": "execute_result"
    }
   ],
   "source": [
    "\n",
    "Vin= sin(w*t)+Vref\n",
    "eq1 = Vo(t).diff(t) + Vo(t)/(Rf*Cf)\n",
    "eq2 = -Vin/(R1*Cf)\n",
    "eq = Eq(eq1, eq2)\n",
    "eq\n",
    "ans = dsolve(Eq(eq1, eq2), Vo(t))\n",
    "ans"
   ]
  },
  {
   "cell_type": "code",
   "execution_count": null,
   "id": "63f1e9d8",
   "metadata": {},
   "outputs": [],
   "source": [
    "ans = ans.subs({t:0, Vo(t):0, Vin(t):0})\n",
    "ans \n",
    "ans.rhs"
   ]
  },
  {
   "cell_type": "code",
   "execution_count": 15,
   "id": "ccd1e287",
   "metadata": {},
   "outputs": [
    {
     "data": {
      "text/latex": [
       "$\\displaystyle \\int \\operatorname{V_{in}}{\\left(t \\right)} e^{\\frac{t}{\\tau}}\\, dt$"
      ],
      "text/plain": [
       "Integral(V_in(t)*exp(t/tau), t)"
      ]
     },
     "execution_count": 15,
     "metadata": {},
     "output_type": "execute_result"
    }
   ],
   "source": [
    "Vin= symbols('V_in', real=True, cls=Function)\n",
    "integrate(Vin(t)*exp(t/tau), t).doit()"
   ]
  },
  {
   "cell_type": "code",
   "execution_count": null,
   "id": "f19fd1ef",
   "metadata": {},
   "outputs": [],
   "source": [
    "solveset(ans, ans.rhs, domain=S.Reals)"
   ]
  },
  {
   "cell_type": "code",
   "execution_count": 16,
   "id": "70370fed",
   "metadata": {},
   "outputs": [
    {
     "data": {
      "text/latex": [
       "$\\displaystyle \\frac{V_{ref} \\omega^{2} \\tau^{3} e^{\\frac{t}{\\tau}}}{\\omega^{2} \\tau^{2} + 1} + \\frac{V_{ref} \\tau e^{\\frac{t}{\\tau}}}{\\omega^{2} \\tau^{2} + 1} - \\frac{\\omega \\tau^{2} e^{\\frac{t}{\\tau}} \\cos{\\left(\\omega t \\right)}}{\\omega^{2} \\tau^{2} + 1} + \\frac{\\tau e^{\\frac{t}{\\tau}} \\sin{\\left(\\omega t \\right)}}{\\omega^{2} \\tau^{2} + 1}$"
      ],
      "text/plain": [
       "V_ref*omega**2*tau**3*exp(t/tau)/(omega**2*tau**2 + 1) + V_ref*tau*exp(t/tau)/(omega**2*tau**2 + 1) - omega*tau**2*exp(t/tau)*cos(omega*t)/(omega**2*tau**2 + 1) + tau*exp(t/tau)*sin(omega*t)/(omega**2*tau**2 + 1)"
      ]
     },
     "execution_count": 16,
     "metadata": {},
     "output_type": "execute_result"
    }
   ],
   "source": [
    "Vin= sin(w*t)+Vref\n",
    "integrate(Vin*exp(t/tau), t)"
   ]
  },
  {
   "cell_type": "code",
   "execution_count": null,
   "id": "dc1b94b8",
   "metadata": {},
   "outputs": [],
   "source": [
    "simplify(ans.lhs)"
   ]
  },
  {
   "cell_type": "code",
   "execution_count": 9,
   "id": "279a9886",
   "metadata": {},
   "outputs": [
    {
     "data": {
      "text/latex": [
       "$\\displaystyle \\frac{C_{f} \\tau \\left(- V_{ref} \\omega^{2} \\tau^{2} - V_{ref} + \\omega \\tau \\cos{\\left(\\omega t \\right)} - \\sin{\\left(\\omega t \\right)}\\right)}{R_{1} \\left(\\omega^{2} \\tau^{2} + 1\\right)}$"
      ],
      "text/plain": [
       "C_f*tau*(-V_ref*omega**2*tau**2 - V_ref + omega*tau*cos(omega*t) - sin(omega*t))/(R_1*(omega**2*tau**2 + 1))"
      ]
     },
     "execution_count": 9,
     "metadata": {},
     "output_type": "execute_result"
    },
    {
     "data": {
      "text/latex": [
       "$\\displaystyle \\frac{- V_{ref} - \\sin{\\left(\\omega t \\right)} + \\frac{\\omega \\cos{\\left(\\omega t \\right)}}{C_{f} Rf} - \\frac{V_{ref} \\omega^{2}}{C_{f}^{2} Rf^{2}}}{R_{1} Rf \\left(1 + \\frac{\\omega^{2}}{C_{f}^{2} Rf^{2}}\\right)}$"
      ],
      "text/plain": [
       "(-V_ref - sin(omega*t) + omega*cos(omega*t)/(C_f*Rf) - V_ref*omega**2/(C_f**2*Rf**2))/(R_1*Rf*(1 + omega**2/(C_f**2*Rf**2)))"
      ]
     },
     "execution_count": 9,
     "metadata": {},
     "output_type": "execute_result"
    },
    {
     "data": {
      "text/latex": [
       "$\\displaystyle - 3.74964386169248 \\cdot 10^{-28} \\sin{\\left(533800.0 t \\right)} + 9.09799951532475 \\cdot 10^{-18} \\cos{\\left(533800.0 t \\right)} - 5.51876379690949 \\cdot 10^{-7}$"
      ],
      "text/plain": [
       "-3.74964386169248e-28*sin(533800.0*t) + 9.09799951532475e-18*cos(533800.0*t) - 5.51876379690949e-7"
      ]
     },
     "execution_count": 9,
     "metadata": {},
     "output_type": "execute_result"
    }
   ],
   "source": [
    "ans = simplify(integrate(Vin*exp(t/tau), t)*exp(-t/tau)*(-1/(R1/Cf)))\n",
    "ans\n",
    "ans = ans.subs({tau: 1/(Cf*Rf)})\n",
    "ans\n",
    "ans = ans.subs({Vref:2.5, Rf:10e3, Cf: 2.2e-9, R1:453, w:2*3.14*85e3})\n",
    "ans"
   ]
  },
  {
   "cell_type": "code",
   "execution_count": 10,
   "id": "586a5855",
   "metadata": {},
   "outputs": [
    {
     "data": {
      "text/latex": [
       "$\\displaystyle - 3.74964386169248 \\cdot 10^{-28} \\sin{\\left(533800.0 t \\right)} + 9.09799951532475 \\cdot 10^{-18} \\cos{\\left(533800.0 t \\right)} - 5.51876379690949 \\cdot 10^{-7}$"
      ],
      "text/plain": [
       "-3.74964386169248e-28*sin(533800.0*t) + 9.09799951532475e-18*cos(533800.0*t) - 5.51876379690949e-7"
      ]
     },
     "execution_count": 10,
     "metadata": {},
     "output_type": "execute_result"
    }
   ],
   "source": [
    "simplify(ans.doit())"
   ]
  },
  {
   "cell_type": "code",
   "execution_count": null,
   "id": "63e1e769",
   "metadata": {},
   "outputs": [],
   "source": [
    "simplify(integrate(Vin*exp(t/tau), t)*exp(-t/tau)*(-1/(R1/Cf)))"
   ]
  },
  {
   "cell_type": "code",
   "execution_count": null,
   "id": "86472129",
   "metadata": {},
   "outputs": [],
   "source": [
    "pi"
   ]
  },
  {
   "cell_type": "code",
   "execution_count": null,
   "id": "a7e8d28f",
   "metadata": {},
   "outputs": [],
   "source": []
  },
  {
   "cell_type": "code",
   "execution_count": null,
   "id": "c3961b13",
   "metadata": {},
   "outputs": [],
   "source": []
  },
  {
   "cell_type": "code",
   "execution_count": null,
   "id": "f638851d",
   "metadata": {},
   "outputs": [],
   "source": []
  }
 ],
 "metadata": {
  "kernelspec": {
   "display_name": "Python 3 (ipykernel)",
   "language": "python",
   "name": "python3"
  },
  "language_info": {
   "codemirror_mode": {
    "name": "ipython",
    "version": 3
   },
   "file_extension": ".py",
   "mimetype": "text/x-python",
   "name": "python",
   "nbconvert_exporter": "python",
   "pygments_lexer": "ipython3",
   "version": "3.8.17"
  }
 },
 "nbformat": 4,
 "nbformat_minor": 5
}
