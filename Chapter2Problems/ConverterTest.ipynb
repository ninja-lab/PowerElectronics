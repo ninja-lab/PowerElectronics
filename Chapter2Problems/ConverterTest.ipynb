{
 "cells": [
  {
   "cell_type": "code",
   "execution_count": 1,
   "id": "b77233dd",
   "metadata": {},
   "outputs": [
    {
     "name": "stdout",
     "output_type": "stream",
     "text": [
      "Found Numpy. WIll be used for storing data\n"
     ]
    }
   ],
   "source": [
    "from IPython.display import display, Latex\n",
    "from functools import wraps\n",
    "from orderedset import OrderedSet\n",
    "import sympy\n",
    "from sympy.core.symbol import symbols, Symbol\n",
    "\n",
    "from sympy.printing import latex, pprint\n",
    "from sympy import Symbol, simplify\n",
    "import numpy as np\n",
    "import os\n",
    "import matplotlib.pyplot as plt\n",
    "from matplotlib.ticker import FuncFormatter, EngFormatter\n",
    "\n",
    "from math import log10\n",
    "from PyLTSpice import LTSpice_RawRead\n",
    "from sympy.solvers import solve\n",
    "import sys\n",
    "import logging\n",
    "from ipywidgets import FloatSlider, interact, interactive\n",
    "from converter5 import *"
   ]
  },
  {
   "cell_type": "code",
   "execution_count": 2,
   "id": "edbadacd",
   "metadata": {},
   "outputs": [],
   "source": [
    "def make_symbols():\n",
    "    global a, b, c, d, e, f, g, x, y, z, delta_iL, delta_vC\n",
    "    \n",
    "    a = variable('a', 'ohms', None, real=True, positive=True)\n",
    "    b = variable('b', 'F', None, real=True, positive=True)\n",
    "    c = variable('c', 'H', real=True, positive=True)\n",
    "    d = variable('d', '%', real=True, positive=True)\n",
    "    \n",
    "    e = variable('e', 'Hz', real=True, positive=True)\n",
    "    \n",
    "\n",
    "    f = variable('f', 'V', real=True)\n",
    "    g = variable('g', 'V', real= True)\n",
    "    x = variable('x')\n",
    "    y = variable('y')\n",
    "    z = variable('z')\n",
    " \n",
    "    delta_iL = variable('\\Delta i_L', 'A', 'delta_iL', real=True)\n",
    "    delta_vC = variable('\\Delta v_C', 'V', 'detla_vC', real=True)\n",
    "    \n",
    "    \n",
    "    return\n",
    "make_symbols()"
   ]
  },
  {
   "cell_type": "code",
   "execution_count": 3,
   "id": "219a7a60",
   "metadata": {},
   "outputs": [
    {
     "name": "stdout",
     "output_type": "stream",
     "text": [
      "<Logger __main__ (DEBUG)>\n",
      "__main__\n"
     ]
    }
   ],
   "source": [
    "logformat = '{asctime}\\n{message}'\n",
    "logger = logging.getLogger(__name__)\n",
    "if logger.hasHandlers():\n",
    "    #handlers somehow stay alive even after restarting iPython\n",
    "    #console and clearing variables\n",
    "    logger.handlers.clear()\n",
    "\n",
    "logger.setLevel('DEBUG')\n",
    "print(logger)\n",
    "print(__name__)\n",
    "# Use FileHandler() to log to a file\n",
    "file_handler = logging.FileHandler('ConverterTest.log', mode='w')\n",
    "formatter = logging.Formatter(fmt=logformat, style='{' )\n",
    "file_handler.setFormatter(formatter)\n",
    "logger.addHandler(file_handler)"
   ]
  },
  {
   "cell_type": "code",
   "execution_count": 4,
   "id": "9f34d31e",
   "metadata": {},
   "outputs": [
    {
     "data": {
      "text/latex": [
       "$$c = a b$$"
      ],
      "text/plain": [
       "<IPython.core.display.Latex object>"
      ]
     },
     "metadata": {},
     "output_type": "display_data"
    },
    {
     "data": {
      "text/latex": [
       "$$- f = c + d$$"
      ],
      "text/plain": [
       "<IPython.core.display.Latex object>"
      ]
     },
     "metadata": {},
     "output_type": "display_data"
    },
    {
     "data": {
      "text/latex": [
       "$$x = b + f$$"
      ],
      "text/plain": [
       "<IPython.core.display.Latex object>"
      ]
     },
     "metadata": {},
     "output_type": "display_data"
    }
   ],
   "source": [
    "hbridge = converter()\n",
    "eq1 = a*b - c\n",
    "eq2 = c + d+f\n",
    "eq3 = b + f - x\n",
    "hbridge.equations.add(eq1) #VLavg must equal 0 in steady state\n",
    "hbridge.equations.add(eq2)\n",
    "hbridge.equations.add(eq3)\n",
    "hbridge.showequations()"
   ]
  },
  {
   "cell_type": "code",
   "execution_count": 5,
   "id": "25d3e9bc",
   "metadata": {},
   "outputs": [
    {
     "data": {
      "text/latex": [
       "$$c = a b= - d - f= a \\left(- f + x\\right)= b - d - x$$"
      ],
      "text/plain": [
       "<IPython.core.display.Latex object>"
      ]
     },
     "metadata": {},
     "output_type": "display_data"
    }
   ],
   "source": [
    "myprint(c, *hbridge.solver(given={}, want=c))"
   ]
  },
  {
   "cell_type": "code",
   "execution_count": null,
   "id": "16d09512",
   "metadata": {},
   "outputs": [],
   "source": []
  },
  {
   "cell_type": "code",
   "execution_count": null,
   "id": "cde0cc8b",
   "metadata": {},
   "outputs": [],
   "source": []
  },
  {
   "cell_type": "code",
   "execution_count": null,
   "id": "32522003",
   "metadata": {},
   "outputs": [],
   "source": []
  },
  {
   "cell_type": "code",
   "execution_count": null,
   "id": "4a8325d5",
   "metadata": {},
   "outputs": [],
   "source": []
  },
  {
   "cell_type": "code",
   "execution_count": null,
   "id": "11226ca8",
   "metadata": {},
   "outputs": [],
   "source": []
  },
  {
   "cell_type": "code",
   "execution_count": null,
   "id": "58ea776a",
   "metadata": {},
   "outputs": [],
   "source": []
  }
 ],
 "metadata": {
  "kernelspec": {
   "display_name": "Python 3",
   "language": "python",
   "name": "python3"
  },
  "language_info": {
   "codemirror_mode": {
    "name": "ipython",
    "version": 3
   },
   "file_extension": ".py",
   "mimetype": "text/x-python",
   "name": "python",
   "nbconvert_exporter": "python",
   "pygments_lexer": "ipython3",
   "version": "3.8.8"
  }
 },
 "nbformat": 4,
 "nbformat_minor": 5
}
