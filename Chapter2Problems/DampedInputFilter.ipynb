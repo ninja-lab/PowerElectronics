{
 "cells": [
  {
   "cell_type": "code",
   "execution_count": 1,
   "id": "f208f2a5",
   "metadata": {
    "scrolled": true
   },
   "outputs": [
    {
     "name": "stdout",
     "output_type": "stream",
     "text": [
      "Found Numpy. WIll be used for storing data\n"
     ]
    }
   ],
   "source": [
    "import sympy\n",
    "from sympy.core.symbol import symbols, Symbol\n",
    "from sympy import Abs\n",
    "from sympy.printing import latex, pprint\n",
    "from sympy import Symbol, simplify, collect, expand, apart, together, factor\n",
    "from sympy import dsolve, Function, Derivative, integrate, diff\n",
    "import numpy as np\n",
    "import os\n",
    "import matplotlib.pyplot as plt\n",
    "from matplotlib.ticker import FuncFormatter, EngFormatter\n",
    "from copy import copy, deepcopy\n",
    "from math import log10\n",
    "from PyLTSpice import LTSpice_RawRead\n",
    "from math import log10\n",
    "import logging\n",
    "from ipywidgets import FloatSlider, FloatLogSlider, interact, interactive\n",
    "#from ipywidgets import interact, interactive, fixed, interact_manual\n",
    "from converter5 import *\n",
    "from scipy.optimize import minimize"
   ]
  },
  {
   "cell_type": "code",
   "execution_count": 2,
   "id": "799dd740",
   "metadata": {
    "tags": []
   },
   "outputs": [
    {
     "data": {
      "application/vnd.jupyter.widget-view+json": {
       "model_id": "2f9b0f2d3d3c4ceeb9bde8ec39267cca",
       "version_major": 2,
       "version_minor": 0
      },
      "text/plain": [
       "FloatSlider(value=0.0)"
      ]
     },
     "metadata": {},
     "output_type": "display_data"
    }
   ],
   "source": [
    "from IPython.display import display\n",
    "#import ipywidgets as widgets\n",
    "w = FloatSlider()\n",
    "display(w)"
   ]
  },
  {
   "cell_type": "code",
   "execution_count": 3,
   "id": "55cdbe22",
   "metadata": {
    "tags": []
   },
   "outputs": [
    {
     "data": {
      "application/vnd.jupyter.widget-view+json": {
       "model_id": "1a3d565895704333b7d110a3c237e136",
       "version_major": 2,
       "version_minor": 0
      },
      "text/plain": [
       "interactive(children=(FloatSlider(value=0.0, description='m', max=2.0, min=-2.0), FloatSlider(value=0.0, descr…"
      ]
     },
     "execution_count": 3,
     "metadata": {},
     "output_type": "execute_result"
    }
   ],
   "source": [
    "%matplotlib ipympl  \n",
    "from ipywidgets import interactive\n",
    "import matplotlib.pyplot as plt\n",
    "import numpy as np\n",
    "x = np.linspace(-10, 10, num=1000)\n",
    "def f(m, b):\n",
    "    plt.figure(2)\n",
    "\n",
    "    plt.plot(x, m * x + b)\n",
    "    plt.ylim(-5, 5)\n",
    "    plt.show()\n",
    "\n",
    "interactive_plot = interactive(f, m=(-2.0, 2.0), b=(-3, 3, 0.5))\n",
    "output = interactive_plot.children[-1]\n",
    "output.layout.height = '350px'\n",
    "interactive_plot"
   ]
  },
  {
   "cell_type": "code",
   "execution_count": 4,
   "id": "6ac3b86e",
   "metadata": {
    "tags": []
   },
   "outputs": [
    {
     "data": {
      "application/vnd.jupyter.widget-view+json": {
       "model_id": "dc8d5e0f2c2243ffb763cee629fd6031",
       "version_major": 2,
       "version_minor": 0
      },
      "text/plain": [
       "interactive(children=(FloatSlider(value=0.0, continuous_update=False, description='m', max=2.0, min=-2.0, read…"
      ]
     },
     "execution_count": 4,
     "metadata": {},
     "output_type": "execute_result"
    },
    {
     "data": {
      "application/vnd.jupyter.widget-view+json": {
       "model_id": "775fe0b64ed341d789330f3ef045f0f5",
       "version_major": 2,
       "version_minor": 0
      },
      "image/png": "[encoded data removed]",
      "text/html": [
       "\n",
       "            <div style=\"display: inline-block;\">\n",
       "                <div class=\"jupyter-widgets widget-label\" style=\"text-align: center;\">\n",
       "                    Figure\n",
       "                </div>\n",
       "                <img src='data:image/png;base64,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' width=600.0/>\n",
       "            </div>\n",
       "        "
      ],
      "text/plain": [
       "Canvas(toolbar=Toolbar(toolitems=[('Home', 'Reset original view', 'home', 'home'), ('Back', 'Back to previous …"
      ]
     },
     "metadata": {},
     "output_type": "display_data"
    }
   ],
   "source": [
    "%matplotlib ipympl\n",
    "from ipywidgets import interactive\n",
    "import matplotlib.pyplot as plt\n",
    "import numpy as np\n",
    "r_widget = FloatSlider(min=-2, max=2, step=.5, readout_format='.3f', continuous_update=False)\n",
    "c_widget = FloatSlider(min=-5, max=5, step=.5, readout_format='.1e', continuous_update=False)\n",
    "fig, ax = plt.subplots(figsize=(6,4))\n",
    "x = np.linspace(-10, 10, num=1000)\n",
    "l, = ax.plot(x, r_widget.value * x + c_widget.value)\n",
    "ax.set_ylim(-5, 5)\n",
    "def f(m, b):\n",
    "\n",
    "    l.set_ydata(m*x+b)\n",
    "    #plt.show()\n",
    "    fig.canvas.draw()\n",
    "    #plt.show()\n",
    "interactive_plot = interactive(f, m = r_widget, b=c_widget )\n",
    "#output = interactive_plot.children[-1]\n",
    "#output.layout.height = '350px'\n",
    "interactive_plot \n"
   ]
  },
  {
   "cell_type": "code",
   "execution_count": 5,
   "id": "10c589d1",
   "metadata": {
    "tags": []
   },
   "outputs": [
    {
     "name": "stdout",
     "output_type": "stream",
     "text": [
      "Warning: Cannot change to a different GUI toolkit: widget. Using ipympl instead.\n"
     ]
    },
    {
     "data": {
      "application/vnd.jupyter.widget-view+json": {
       "model_id": "dfe4e28b35784ee5aa55dd927d91f65f",
       "version_major": 2,
       "version_minor": 0
      },
      "text/plain": [
       "interactive(children=(FloatSlider(value=0.0, continuous_update=False, description='m', max=2.0, min=-2.0, read…"
      ]
     },
     "execution_count": 5,
     "metadata": {},
     "output_type": "execute_result"
    }
   ],
   "source": [
    "%matplotlib widget  \n",
    "from ipywidgets import interactive\n",
    "import matplotlib.pyplot as plt\n",
    "import numpy as np\n",
    "m_widget = FloatSlider(min=-2, max=2, step=.5, readout_format='.3f', continuous_update=False)\n",
    "b_widget = FloatSlider(min=-5, max=5, step=.5, readout_format='.1e', continuous_update=False)\n",
    "def f(m, b):\n",
    "    fig, ax = plt.subplots(figsize=(6,4))\n",
    "    x = np.linspace(-10, 10, num=1000)\n",
    "    ax.plot(x, m * x + b)\n",
    "    ax.set_ylim(-5, 5)\n",
    "    plt.show()\n",
    "\n",
    "interactive_plot = interactive(f, m=m_widget, b=b_widget)\n",
    "interactive_plot "
   ]
  },
  {
   "cell_type": "code",
   "execution_count": 6,
   "id": "7c7f5467",
   "metadata": {
    "scrolled": true
   },
   "outputs": [],
   "source": [
    "Lf = symbols('L_f', real=True, positive=True)\n",
    "Cf = symbols('C_f' ,real=True, positive=True)\n",
    "Cd = symbols('C_d', real=True, positive=True)\n",
    "Vg = symbols('V_g' ,real=True, positive=True)\n",
    "Rd = symbols('R_d' ,real=True, positive=True)\n",
    "s = symbols('s')\n",
    "j = sympy.sqrt(-1)\n",
    "w = symbols('omega')\n",
    "Z_Lf = s*Lf\n",
    "Z_Cf = 1/(s*Cf)\n",
    "Z_Cd = 1/(s*Cd)\n"
   ]
  },
  {
   "cell_type": "code",
   "execution_count": 7,
   "id": "b8f41002",
   "metadata": {
    "scrolled": true
   },
   "outputs": [],
   "source": [
    "def parallel(x, y):\n",
    "    return x*y/(x+y)\n"
   ]
  },
  {
   "cell_type": "code",
   "execution_count": 8,
   "id": "d5cd494d",
   "metadata": {
    "scrolled": true
   },
   "outputs": [
    {
     "data": {
      "text/latex": [
       "$\\displaystyle \\frac{C_{d} R_{d} s + 1}{C_{d} R_{d} s + L_{f} s^{2} \\left(C_{d} C_{f} R_{d} s + C_{d} + C_{f}\\right) + 1}$"
      ],
      "text/plain": [
       "(C_d*R_d*s + 1)/(C_d*R_d*s + L_f*s**2*(C_d*C_f*R_d*s + C_d + C_f) + 1)"
      ]
     },
     "metadata": {},
     "output_type": "display_data"
    }
   ],
   "source": [
    "Zb = parallel(Z_Cf, Z_Cd+Rd)\n",
    "Zt = Z_Lf\n",
    "Vout = Vg * Zb/(Zb+Zt)\n",
    "Vout = Vout.simplify()\n",
    "H = Vout/Vg\n",
    "display(collect(H, s))\n",
    "num, den = H.as_numer_denom() "
   ]
  },
  {
   "cell_type": "code",
   "execution_count": 9,
   "id": "2c6b7bef",
   "metadata": {},
   "outputs": [
    {
     "data": {
      "text/latex": [
       "$$a_{3} = C_{d} C_{f} L_{f} R_{d}$$"
      ],
      "text/plain": [
       "<IPython.core.display.Latex object>"
      ]
     },
     "metadata": {},
     "output_type": "display_data"
    },
    {
     "data": {
      "text/latex": [
       "$$a_{2} = C_{d} L_{f} + C_{f} L_{f}$$"
      ],
      "text/plain": [
       "<IPython.core.display.Latex object>"
      ]
     },
     "metadata": {},
     "output_type": "display_data"
    },
    {
     "data": {
      "text/latex": [
       "$$a_{1} = C_{d} R_{d}$$"
      ],
      "text/plain": [
       "<IPython.core.display.Latex object>"
      ]
     },
     "metadata": {},
     "output_type": "display_data"
    },
    {
     "data": {
      "text/latex": [
       "$\\displaystyle \\frac{1}{\\left(1 + \\frac{L_{f} s \\left(C_{d} + C_{f}\\right)}{C_{d} R_{d}}\\right) \\left(\\frac{C_{d} C_{f} R_{d} s}{C_{d} + C_{f}} + 1\\right)}$"
      ],
      "text/plain": [
       "1/((1 + L_f*s*(C_d + C_f)/(C_d*R_d))*(C_d*C_f*R_d*s/(C_d + C_f) + 1))"
      ]
     },
     "metadata": {},
     "output_type": "display_data"
    }
   ],
   "source": [
    "def get_as(num):\n",
    "    #Construct coefficients for a polynomial of degree num\n",
    "    a_s = [Symbol('a_{}'.format(i)) for i in range(num, 0, -1)]\n",
    "    return a_s\n",
    "\n",
    "def display_coefficients(expr):\n",
    "    coeffs = expr.as_poly(s).coeffs()\n",
    "    order = len(coeffs) - 1 #we don't want to count the constant term\n",
    "    m = zip(coeffs, get_as(order)) #zip stops after first iterable is exhausted\n",
    "    #the arguments to zip above don't have the same length\n",
    "    n = deepcopy(m) #make a copy so we can display the result \n",
    "    #but still return an unexhausted zip object\n",
    "    for pair in n: \n",
    "        myprint(pair[1], pair[0])\n",
    "    return m \n",
    "\n",
    "\n",
    "def make_poly(coeffs):\n",
    "    s = symbols('s')\n",
    "    try: \n",
    "        return (1+s/coeffs.pop())*make_poly(coeffs)\n",
    "    except IndexError:\n",
    "        return 1\n",
    "    \n",
    "    \n",
    "m = display_coefficients(den)\n",
    "\n",
    "def low_q(expr):\n",
    "    num, den = expr.as_numer_denom() \n",
    "    num_coeffs = num.as_poly(s).coeffs()\n",
    "    den_coeffs = den.as_poly(s).coeffs()\n",
    "    new_den_coeffs = [simplify(pair[1]/pair[0]) for pair in zip(den_coeffs, den_coeffs[1:]+[1])]\n",
    "    new_num_coeffs = [simplify(pair[1]/pair[0]) for pair in zip(num_coeffs, num_coeffs[1:]+[1])]\n",
    "    return make_poly(new_num_coeffs)/make_poly(new_den_coeffs)\n",
    "            \n",
    "H_approx = low_q(H)\n",
    "display(H_approx)"
   ]
  },
  {
   "cell_type": "code",
   "execution_count": 10,
   "id": "634f3d7b",
   "metadata": {
    "scrolled": true
   },
   "outputs": [],
   "source": [
    "\n",
    "max_f = 1e6\n",
    "min_f = 1e2\n",
    "freqs_f = np.logspace(np.log10(min_f), np.log10(max_f)) # freqs in Hz\n",
    "freqs_w = 2*np.pi*freqs_f \n",
    "\n",
    "def mag(Rd_, Cd_):\n",
    "    Vout_ = Vout.subs({Vg:1, Cf: 1e-6, Lf:1e-6, Rd: Rd_, Cd:Cd_})\n",
    "    t = lambdify(list(Vout_.atoms(Symbol)), Vout_)\n",
    "    return 20*np.log10(np.abs(t(j*freqs_w)).astype(np.float64))\n",
    "\n",
    "def low_q_mag(Rd_, Cd_):\n",
    "    H_ = H_approx.subs({Vg:1, Cf: 1e-6, Lf:1e-6, Rd: Rd_, Cd:Cd_})\n",
    "    t = lambdify(list(H_.atoms(Symbol)), H_)\n",
    "    return 20*np.log10(np.abs(t(j*freqs_w)).astype(np.float64))\n",
    "\n",
    "def phase(Rd_, Cd_):\n",
    "\n",
    "    Vout_ = Vout.subs({Vg:1, Cf: 1e-6, Lf:1e-6, Rd: Rd_, Cd:Cd_})\n",
    "    t = lambdify(list(Vout_.atoms(Symbol)), Vout_)\n",
    "    return np.angle(t(freqs).astype(complex), deg=True)\n",
    "    "
   ]
  },
  {
   "cell_type": "code",
   "execution_count": 11,
   "id": "2536ab9d",
   "metadata": {},
   "outputs": [],
   "source": [
    "H_ = H.subs({Vg:1, Cf: 1e-6, Lf:1e-6, Rd: .1, Cd:.1e-6})\n",
    "t = lambdify(list(H_.atoms(Symbol)), H_)\n",
    "#t?"
   ]
  },
  {
   "cell_type": "code",
   "execution_count": null,
   "id": "d09b9355",
   "metadata": {},
   "outputs": [],
   "source": []
  },
  {
   "cell_type": "code",
   "execution_count": 12,
   "id": "455b8bf7",
   "metadata": {},
   "outputs": [
    {
     "data": {
      "application/vnd.jupyter.widget-view+json": {
       "model_id": "e8bd831f33bf4a92b49883f2a5114df4",
       "version_major": 2,
       "version_minor": 0
      },
      "text/plain": [
       "interactive(children=(FloatSlider(value=0.01, continuous_update=False, description='Rd_', max=2.1, min=0.01, r…"
      ]
     },
     "execution_count": 12,
     "metadata": {},
     "output_type": "execute_result"
    },
    {
     "data": {
      "application/vnd.jupyter.widget-view+json": {
       "model_id": "168989d0969542b4a474dd915d1a6490",
       "version_major": 2,
       "version_minor": 0
      },
      "image/png": "[encoded data removed]",
      "text/html": [
       "\n",
       "            <div style=\"display: inline-block;\">\n",
       "                <div class=\"jupyter-widgets widget-label\" style=\"text-align: center;\">\n",
       "                    Figure\n",
       "                </div>\n",
       "                <img src='data:image/png;base64,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' width=500.0/>\n",
       "            </div>\n",
       "        "
      ],
      "text/plain": [
       "Canvas(toolbar=Toolbar(toolitems=[('Home', 'Reset original view', 'home', 'home'), ('Back', 'Back to previous …"
      ]
     },
     "metadata": {},
     "output_type": "display_data"
    }
   ],
   "source": [
    "%matplotlib ipympl\n",
    "#%matplotlib notebook \n",
    "#doesn't work with inline backend\n",
    "#%matplotlib inline \n",
    "max_R = 2.1\n",
    "min_R = .01\n",
    "max_C =40e-6\n",
    "min_C = 1e-6\n",
    "r_widget = FloatSlider(min=min_R, max=max_R, step=.02, readout_format='.3f', continuous_update=False)\n",
    "c_widget = FloatSlider(min=min_C, max=max_C, step=5e-6, readout_format='.1e', continuous_update=False)\n",
    "\n",
    "fig, ax = plt.subplots(subplot_kw={'title':'Input Filter Bode Plot'}, figsize=(5,3))\n",
    "ax.set_ylim(bottom= -40, top=40)\n",
    "ax.set_xlim(left=100, right=1e6)\n",
    "ax.set_ylabel('Magnitude [dB]')\n",
    "ax.set_xlabel('Frequency [Hz]')\n",
    "\n",
    "l, = ax.semilogx(freqs_f, mag(min_R, min_C), label='exact')\n",
    "l_approx, = ax.semilogx(freqs_f, low_q_mag(min_R, min_C), label='low Q')\n",
    "ax.legend()\n",
    "fig.tight_layout()\n",
    "def g(Rd_, Cd_):\n",
    "    \n",
    "    l.set_ydata(mag(Rd_, Cd_))\n",
    "    l_approx.set_ydata(low_q_mag(Rd_, Cd_))\n",
    "    fig.canvas.draw()\n",
    "\n",
    "interactive_plot = interactive(g, Rd_ = r_widget, Cd_=c_widget)\n",
    "interactive_plot"
   ]
  },
  {
   "cell_type": "code",
   "execution_count": 13,
   "id": "2722c67c",
   "metadata": {
    "tags": []
   },
   "outputs": [
    {
     "data": {
      "application/vnd.jupyter.widget-view+json": {
       "model_id": "3a75b35b285a48b99084e09913b88633",
       "version_major": 2,
       "version_minor": 0
      },
      "text/plain": [
       "interactive(children=(FloatSlider(value=0.01, description='Rd_', max=2.1, min=0.01, readout_format='.3f', step…"
      ]
     },
     "execution_count": 13,
     "metadata": {},
     "output_type": "execute_result"
    }
   ],
   "source": [
    "#%matplotlib widget\n",
    "#%matplotlib notebook \n",
    "#doesn't work with inline backend\n",
    "%matplotlib inline \n",
    "max_R = 2.1\n",
    "min_R = .01\n",
    "max_C =40e-6\n",
    "min_C = 1e-6\n",
    "r_widget = FloatSlider(min=min_R, max=max_R, step=.02, readout_format='.3f')#, continuous_update=False)\n",
    "c_widget = FloatSlider(min=min_C, max=max_C, step=5e-6, readout_format='.1e')#, continuous_update=False)\n",
    "\n",
    "\n",
    "\n",
    "#l, = ax.semilogx(freqs_f, mag(min_R, min_C), label='exact')\n",
    "#l_approx, = ax.semilogx(freqs_f, low_q_mag(min_R, min_C), label='low Q')\n",
    "\n",
    "def g(Rd_, Cd_):\n",
    "    fig, ax = plt.subplots(subplot_kw={'title':'Input Filter Bode Plot'}, figsize=(5,3))\n",
    "    ax.set_ylim(bottom= -40, top=40)\n",
    "    ax.set_xlim(left=100, right=1e6)\n",
    "    ax.set_ylabel('Magnitude [dB]')\n",
    "    ax.set_xlabel('Frequency [Hz]')\n",
    "    #l.set_ydata(mag(Rd_, Cd_))\n",
    "    #l_approx.set_ydata(low_q_mag(Rd_, Cd_))\n",
    "    \n",
    "    ax.semilogx(freqs_f, mag(min_R, min_C), label='exact')\n",
    "    ax.semilogx(freqs_f, low_q_mag(min_R, min_C), label='low Q')\n",
    "    ax.legend()\n",
    "    fig.tight_layout()\n",
    "    #fig.canvas.draw()\n",
    "\n",
    "interactive_plot = interactive(g, Rd_ = r_widget, Cd_=c_widget)\n",
    "interactive_plot"
   ]
  },
  {
   "cell_type": "code",
   "execution_count": 14,
   "id": "87e9da42",
   "metadata": {
    "scrolled": true
   },
   "outputs": [],
   "source": [
    "#Vout = Vout.subs({Vg:1, Cf: 10e-6, Lf:1e-6, Rd: 1, Cd:1e-6})\n",
    "t = lambdify([Rd, Cd], Vout.subs({Vg:1, Cf: 10e-6, Lf:1e-6, s: j*50e3}))\n",
    "def newt(x):\n",
    "    return np.abs(t(x[0], x[1]))\n",
    "    "
   ]
  },
  {
   "cell_type": "code",
   "execution_count": 15,
   "id": "e6cbc1e9",
   "metadata": {
    "scrolled": true
   },
   "outputs": [
    {
     "data": {
      "text/plain": [
       "\u001b[0;31mSignature:\u001b[0m \u001b[0mt\u001b[0m\u001b[0;34m(\u001b[0m\u001b[0mR_d\u001b[0m\u001b[0;34m,\u001b[0m \u001b[0mC_d\u001b[0m\u001b[0;34m)\u001b[0m\u001b[0;34m\u001b[0m\u001b[0;34m\u001b[0m\u001b[0m\n",
       "\u001b[0;31mDocstring:\u001b[0m\n",
       "Created with lambdify. Signature:\n",
       "\n",
       "func(R_d, C_d)\n",
       "\n",
       "Expression:\n",
       "\n",
       "(50000.0*I*C_d*R_d + 1)/(48750.0*I*C_d*R_d - 2500.0*C_d + 0.975)\n",
       "\n",
       "Source code:\n",
       "\n",
       "def _lambdifygenerated(R_d, C_d):\n",
       "    return (50000.0*1j*C_d*R_d + 1)/(48750.0*1j*C_d*R_d - 2500.0*C_d + 0.975)\n",
       "\n",
       "\n",
       "Imported modules:\n",
       "\u001b[0;31mFile:\u001b[0m      ~/GitRepos/PowerElectronics/Chapter2Problems/<lambdifygenerated-8>\n",
       "\u001b[0;31mType:\u001b[0m      function"
      ]
     },
     "metadata": {},
     "output_type": "display_data"
    }
   ],
   "source": [
    "t?"
   ]
  },
  {
   "cell_type": "code",
   "execution_count": 16,
   "id": "629c18eb",
   "metadata": {
    "scrolled": true
   },
   "outputs": [
    {
     "data": {
      "text/plain": [
       "  message: CONVERGENCE: NORM_OF_PROJECTED_GRADIENT_<=_PGTOL\n",
       "  success: True\n",
       "   status: 0\n",
       "      fun: 1.0292297035952584\n",
       "        x: [ 3.000e+00  3.000e-05]\n",
       "      nit: 5\n",
       "      jac: [-2.292e-03 -1.138e+02]\n",
       "     nfev: 18\n",
       "     njev: 6\n",
       " hess_inv: <2x2 LbfgsInvHessProduct with dtype=float64>"
      ]
     },
     "execution_count": 16,
     "metadata": {},
     "output_type": "execute_result"
    }
   ],
   "source": [
    "\n",
    "minimize(newt, [1, 80e-6], bounds = [(1e-3, 3), (.1e-6, 30e-6)])"
   ]
  },
  {
   "cell_type": "code",
   "execution_count": 17,
   "id": "ac18bf83",
   "metadata": {
    "scrolled": true
   },
   "outputs": [],
   "source": [
    "Rd_ = np.linspace(min_R, max_R, 10)\n",
    "Cd_ = np.linspace(min_C, max_C, 10)\n",
    "Rd_, Cd_ = np.meshgrid(Rd_, Cd_)\n",
    "\n",
    "def mag2(s_):\n",
    "    Vout_ = Vout.subs({Vg:1, Cf: 10e-6, Lf:1e-6,s:s_})#, Rd: Rd_, Cd:Cd_})\n",
    "    t = lambdify([Rd, Cd], Vout_)\n",
    "    return 20*np.log10(np.abs(t(Rd_, Cd_)))"
   ]
  },
  {
   "cell_type": "code",
   "execution_count": 18,
   "id": "c6a232af",
   "metadata": {},
   "outputs": [
    {
     "data": {
      "image/png": "[encoded data removed]",
      "text/plain": [
       "<Figure size 300x300 with 1 Axes>"
      ]
     },
     "metadata": {},
     "output_type": "display_data"
    },
    {
     "data": {
      "application/vnd.jupyter.widget-view+json": {
       "model_id": "41f39e811f644c44adb19d6243071bc4",
       "version_major": 2,
       "version_minor": 0
      },
      "text/plain": [
       "interactive(children=(FloatLogSlider(value=1000.0, continuous_update=False, description='freq', max=5.0, min=3…"
      ]
     },
     "execution_count": 18,
     "metadata": {},
     "output_type": "execute_result"
    }
   ],
   "source": [
    "\n",
    "ax = plt.figure(figsize=(3,3)).add_subplot(projection='3d')\n",
    "ans = mag2(j*5e4/(2*np.pi))\n",
    "polyc = ax.plot_surface(Rd_, Cd_,ans , linewidth=0.2, antialiased=True)\n",
    "ax.set_zlim(-20, 20)\n",
    "ax.set_zlabel('Magnitude [dB]')\n",
    "ax.set_xlabel('R damp [\\u03A9]')\n",
    "ax.set_ylabel('C damp [\\u03BCF]')\n",
    "\n",
    "major_formatter= FuncFormatter(lambda val, pos: f'{val*1e6:.0f}')\n",
    "ax.yaxis.set_major_formatter(major_formatter)   \n",
    "\n",
    "major_formatter= EngFormatter(unit='', places=0, sep='')\n",
    "ax.xaxis.set_major_formatter(major_formatter)   \n",
    "\n",
    "freq_widget = FloatLogSlider(min=3, max=5, step=.1, readout_format='.2e', continuous_update=False)\n",
    "def h(freq):\n",
    "    #freq in Hz\n",
    "    #ax.collections = []\n",
    "    ax.collections.clear()\n",
    "    ax.plot_surface(Rd_, Cd_, mag2(j*freq*(2*np.pi)) , linewidth=0.2, antialiased=True)\n",
    "\n",
    "    ax.figure.canvas.draw()\n",
    "\n",
    "interactive_plot = interactive(h, freq=freq_widget)\n",
    "interactive_plot"
   ]
  },
  {
   "cell_type": "code",
   "execution_count": 19,
   "id": "77cedd36",
   "metadata": {},
   "outputs": [
    {
     "data": {
      "text/plain": [
       "<Axes.ArtistList of 1 collections>"
      ]
     },
     "execution_count": 19,
     "metadata": {},
     "output_type": "execute_result"
    }
   ],
   "source": [
    "ax.collections "
   ]
  }
 ],
 "metadata": {
  "kernelspec": {
   "display_name": "Python 3 (Spyder)",
   "language": "python3",
   "name": "python3"
  },
  "language_info": {
   "codemirror_mode": {
    "name": "ipython",
    "version": 3
   },
   "file_extension": ".py",
   "mimetype": "text/x-python",
   "name": "python",
   "nbconvert_exporter": "python",
   "pygments_lexer": "ipython3",
   "version": "3.8.19"
  }
 },
 "nbformat": 4,
 "nbformat_minor": 5
}
