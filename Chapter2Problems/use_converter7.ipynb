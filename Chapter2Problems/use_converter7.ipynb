{
 "cells": [
  {
   "cell_type": "markdown",
   "id": "f3cd3dd9-a68d-4c89-912c-6976a3f30079",
   "metadata": {},
   "source": [
    "Say I've got a system of fairly simple relationships between variables: a = b + c, d = a*c, f = sqrt(a*b). Note there are implicit relations like c = a- b = f**2/b - b as well. Are there any ready to use libraries or modules that implement a constraint satisfaction network like this? I'd like the system start out without values assigned to any variables, but then the user inputs something like f = 3. This constrains the system now. If the user adds more values, at some point the system will be satisfied. As values are updated by the user, the system continue to ensure satisfaction, updating downstream values as necessary. I know this is generally a complex thing. I'd consider python-constraint but that is for finite-domains, and I'd like the system to support real number interval domains. Anyone know of some other similar projects out there? "
   ]
  },
  {
   "cell_type": "code",
   "execution_count": 1,
   "id": "63ccf38b-c4c8-4cc5-8086-3d50445d89d3",
   "metadata": {},
   "outputs": [
    {
     "name": "stdout",
     "output_type": "stream",
     "text": [
      "\n",
      "/home/erik/GitRepos/PowerElectronics\n",
      "/home/erik/GitRepos/PowerElectronics/Chapter2Problems\n",
      "/home/erik/anaconda3/envs/py312/lib/python3.12\n",
      "/home/erik/anaconda3/envs/py312/lib/python3.12/lib-dynload\n",
      "/home/erik/anaconda3/envs/py312/lib/python3.12/site-packages\n",
      "/home/erik/anaconda3/envs/py312/lib/python312.zip\n"
     ]
    }
   ],
   "source": [
    "import sys   \n",
    "sys.path.append(r'/home/erik/GitRepos/PowerElectronics')\n",
    "for i in sorted(sys.path):\n",
    "    print(i)"
   ]
  },
  {
   "cell_type": "code",
   "execution_count": 2,
   "id": "84afb098-1dd9-4361-86cf-c5237ed213c6",
   "metadata": {},
   "outputs": [],
   "source": [
    "from IPython.display import display, Latex\n",
    "from functools import wraps\n",
    "from ordered_set import OrderedSet\n",
    "import sympy\n",
    "from sympy.core.symbol import symbols, Symbol\n",
    "from sympy.solvers.solveset import nonlinsolve\n",
    "from sympy import solveset\n",
    "from sympy import Eq\n",
    "from sympy.utilities.lambdify import lambdify\n",
    "from sympy.printing import latex, pprint\n",
    "from sympy import Symbol, simplify\n",
    "import numpy as np\n",
    "import os\n",
    "import matplotlib.pyplot as plt\n",
    "from matplotlib.ticker import FuncFormatter, EngFormatter\n",
    "from sympy import pi, sqrt \n",
    "from math import log10\n",
    "#from PyLTSpice import RawRead#LTSpice_RawRead\n",
    "from sympy.solvers import solve\n",
    "import sys\n",
    "#import logging\n",
    "#from ipywidgets import FloatSlider, interact, interactive\n",
    "from converter8 import * #works acceptably with converter3"
   ]
  },
  {
   "cell_type": "code",
   "execution_count": 3,
   "id": "44bcfd5c-760f-4599-a49d-8b1e9c1c77e1",
   "metadata": {},
   "outputs": [],
   "source": [
    "def make_symbols():\n",
    "    global Rl, Cres, Lres, D, s, Vcmax, Vin, VL, iin, iavg, iC, iR, f_sw, f_res,k, wsw, delta_vC, Tsw\n",
    "    \n",
    "    Rl = variable('R_L', 'ohms', None, real=True, positive=True)\n",
    "    Cres = variable('C_res', 'F', None, real=True, positive=True)\n",
    "    Lres = variable('L_res', 'H', real=True, positive=True)\n",
    "    D = variable('D', '%', real=True, positive=True)\n",
    "    \n",
    "    f_sw = variable('f_sw', 'Hz', real=True, positive=True)\n",
    "    f_res = variable('f_res', 'Hz', real=True, positive=True) \n",
    "\n",
    "    Vcmax = variable('V_C,max', 'V', real=True)\n",
    "    Vin = variable('V_g', 'V', real= True)\n",
    "    VL = variable('V_L', 'V', real= True)\n",
    "\n",
    "    iin = variable('i_in', 'A', real=True)\n",
    "    iavg = variable('i_avg', 'A', real=True)\n",
    "    iC = variable('i_C', 'A', real=True)\n",
    "    iR = variable('i_R', 'A', real=True)\n",
    "    wsw = variable(r'\\omega_sw', 'A')\n",
    "    delta_vC = variable(r'\\Delta v_C', 'V')\n",
    "    Tsw = variable('T_sw', real=True)\n",
    "    k = variable('k', real=True, positive=True)\n",
    "    return\n",
    "make_symbols()\n",
    "#delta_iL"
   ]
  },
  {
   "cell_type": "code",
   "execution_count": 4,
   "id": "35c0765a-bb7c-4e60-a903-1b48094988fc",
   "metadata": {},
   "outputs": [
    {
     "data": {
      "text/latex": [
       "$$\\frac{1}{2 \\pi \\sqrt{C_{res}} \\sqrt{L_{res}}} = f_{res}$$"
      ],
      "text/plain": [
       "<IPython.core.display.Latex object>"
      ]
     },
     "metadata": {},
     "output_type": "display_data"
    },
    {
     "data": {
      "text/latex": [
       "$$f_{sw} k = f_{res}$$"
      ],
      "text/plain": [
       "<IPython.core.display.Latex object>"
      ]
     },
     "metadata": {},
     "output_type": "display_data"
    },
    {
     "data": {
      "text/latex": [
       "$$\\frac{i_{avg}}{2 V_{C,max} f_{res}} = C_{res}$$"
      ],
      "text/plain": [
       "<IPython.core.display.Latex object>"
      ]
     },
     "metadata": {},
     "output_type": "display_data"
    },
    {
     "data": {
      "text/latex": [
       "$$\\frac{1}{f_{sw}} = T_{sw}$$"
      ],
      "text/plain": [
       "<IPython.core.display.Latex object>"
      ]
     },
     "metadata": {},
     "output_type": "display_data"
    },
    {
     "data": {
      "text/latex": [
       "$$2 \\pi f_{sw} = \\omega_{sw}$$"
      ],
      "text/plain": [
       "<IPython.core.display.Latex object>"
      ]
     },
     "metadata": {},
     "output_type": "display_data"
    }
   ],
   "source": [
    "net = converter()\n",
    "net.add_equation(f_res - 1/(2*pi*sqrt(Lres*Cres))) #VLavg must equal 0 in steady state\n",
    "net.add_equation(f_res - k*f_sw)\n",
    "net.add_equation(Cres - iavg/(2*f_res*Vcmax))\n",
    "net.add_equation(Tsw - 1/f_sw)\n",
    "net.add_equation(wsw - 2*pi*f_sw)\n",
    "net.showequations()"
   ]
  },
  {
   "cell_type": "code",
   "execution_count": 5,
   "id": "c6d508d1-a94a-4846-8333-c47289a58dd7",
   "metadata": {},
   "outputs": [
    {
     "data": {
      "text/latex": [
       "$$f_{sw} = \\frac{f_{res}}{k}= \\frac{1}{T_{sw}}= \\frac{\\omega_{sw}}{2 \\pi}= \\frac{1}{2 \\pi \\sqrt{C_{res}} \\sqrt{L_{res}} k}= \\frac{i_{avg}}{2 C_{res} V_{C,max} k}$$"
      ],
      "text/plain": [
       "<IPython.core.display.Latex object>"
      ]
     },
     "metadata": {},
     "output_type": "display_data"
    }
   ],
   "source": [
    "myprint(f_sw, *net.solver(given={}, want=f_sw))\n",
    "#myprint(M, *buckboost.solver(given={}, want=M))"
   ]
  },
  {
   "cell_type": "code",
   "execution_count": 6,
   "id": "024b059f-0991-4a42-8fa4-8a1b7c227975",
   "metadata": {},
   "outputs": [
    {
     "name": "stdout",
     "output_type": "stream",
     "text": [
      " fsw computation test2: 333.3333333333333\n",
      "keyerror\n",
      " fsw computation test2: 0.1\n"
     ]
    }
   ],
   "source": [
    "print(f' fsw computation test2: {net.computesym(f_sw, {k:3, f_res:1e3})}')\n",
    "print(f' fsw computation test2: {net.computesym(f_sw, {Tsw:10})}')"
   ]
  }
 ],
 "metadata": {
  "kernelspec": {
   "display_name": "Python 3.12",
   "language": "python",
   "name": "py312"
  },
  "language_info": {
   "codemirror_mode": {
    "name": "ipython",
    "version": 3
   },
   "file_extension": ".py",
   "mimetype": "text/x-python",
   "name": "python",
   "nbconvert_exporter": "python",
   "pygments_lexer": "ipython3",
   "version": "3.12.4"
  }
 },
 "nbformat": 4,
 "nbformat_minor": 5
}
