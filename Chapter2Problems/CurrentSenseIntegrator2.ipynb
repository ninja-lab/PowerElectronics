{
 "cells": [
  {
   "cell_type": "code",
   "execution_count": 1,
   "id": "0a6361d9",
   "metadata": {},
   "outputs": [],
   "source": [
    "from IPython.core.interactiveshell import InteractiveShell\n",
    "InteractiveShell.ast_node_interactivity = \"all\"\n",
    "from sympy import *\n",
    "import numpy as np\n",
    "import matplotlib.pyplot as plt\n",
    "from math import log10\n",
    "from matplotlib.widgets import Slider, Button, RadioButtons\n",
    "from matplotlib.ticker import EngFormatter"
   ]
  },
  {
   "cell_type": "code",
   "execution_count": 2,
   "id": "0cb0c7da",
   "metadata": {},
   "outputs": [],
   "source": [
    "Rf = symbols('Rf', real=True, positive=True)\n",
    "R1 = symbols('R_1', real=True, positive=True)\n",
    "Cf= symbols('C_f', real=True, positive=True)\n",
    "Vin= symbols('V_in', real=True, cls=Function)\n",
    "Vo= symbols('V_o', real=True, cls=Function)\n",
    "Vref= symbols('V_ref', real=True)\n",
    "t= symbols('t', real=True)\n",
    "tau= symbols('tau', real=True)\n",
    "w= symbols('omega', real=True)"
   ]
  },
  {
   "cell_type": "code",
   "execution_count": 3,
   "id": "bfb08742",
   "metadata": {},
   "outputs": [
    {
     "data": {
      "text/latex": [
       "$\\displaystyle \\operatorname{V_{o}}{\\left(t \\right)}$"
      ],
      "text/plain": [
       "V_o(t)"
      ]
     },
     "execution_count": 3,
     "metadata": {},
     "output_type": "execute_result"
    },
    {
     "data": {
      "text/latex": [
       "$\\displaystyle \\frac{d}{d t} \\operatorname{V_{o}}{\\left(t \\right)}$"
      ],
      "text/plain": [
       "Derivative(V_o(t), t)"
      ]
     },
     "execution_count": 3,
     "metadata": {},
     "output_type": "execute_result"
    }
   ],
   "source": [
    "Vo(t)\n",
    "Vo(t).diff(t)"
   ]
  },
  {
   "cell_type": "code",
   "execution_count": null,
   "id": "73bf80b8",
   "metadata": {
    "scrolled": true
   },
   "outputs": [],
   "source": [
    "eq1 = Vo(t).diff(t) + Vo(t)/(Rf*Cf)\n",
    "eq2 = -Vin(t)/(R1*Cf)\n",
    "Eq(eq1, eq2)"
   ]
  },
  {
   "cell_type": "code",
   "execution_count": null,
   "id": "dbfd6205",
   "metadata": {},
   "outputs": [],
   "source": [
    "ans = dsolve(Eq(eq1, eq2), Vo(t))\n",
    "ans\n",
    "new_ans = Eq(ans.lhs, 0)\n",
    "new_ans\n",
    "solveset(new_ans, Vo(t), domain=S.Reals) "
   ]
  },
  {
   "cell_type": "code",
   "execution_count": 4,
   "id": "7e23b413",
   "metadata": {},
   "outputs": [
    {
     "data": {
      "text/latex": [
       "$\\displaystyle - \\frac{\\omega \\tau^{2} e^{\\frac{t}{\\tau}} \\cos{\\left(\\omega t \\right)}}{\\omega^{2} \\tau^{2} + 1} + \\frac{\\tau e^{\\frac{t}{\\tau}} \\sin{\\left(\\omega t \\right)}}{\\omega^{2} \\tau^{2} + 1}$"
      ],
      "text/plain": [
       "-omega*tau**2*exp(t/tau)*cos(omega*t)/(omega**2*tau**2 + 1) + tau*exp(t/tau)*sin(omega*t)/(omega**2*tau**2 + 1)"
      ]
     },
     "execution_count": 4,
     "metadata": {},
     "output_type": "execute_result"
    }
   ],
   "source": [
    "Vin= sin(w*t)\n",
    "integrate(Vin*exp(t/tau), t)"
   ]
  },
  {
   "cell_type": "code",
   "execution_count": null,
   "id": "0d2e152c",
   "metadata": {},
   "outputs": [],
   "source": [
    "ans = simplify(integrate(Vin*exp(t/tau), t)*exp(-t/tau)*(-1/(R1/Cf)))\n",
    "ans\n",
    "ans.subs({tau: 1/(Cf*Rf)})"
   ]
  },
  {
   "cell_type": "code",
   "execution_count": null,
   "id": "f9266a95",
   "metadata": {},
   "outputs": [],
   "source": [
    "simplify(integrate(Vin*exp(t/tau), t)*exp(-t/tau)*(-1/(R1/Cf)))"
   ]
  },
  {
   "cell_type": "code",
   "execution_count": null,
   "id": "947e1db4",
   "metadata": {},
   "outputs": [],
   "source": []
  },
  {
   "cell_type": "code",
   "execution_count": null,
   "id": "e0e4e974",
   "metadata": {},
   "outputs": [],
   "source": []
  },
  {
   "cell_type": "code",
   "execution_count": null,
   "id": "04b8cf97",
   "metadata": {},
   "outputs": [],
   "source": []
  },
  {
   "cell_type": "code",
   "execution_count": null,
   "id": "9c941868",
   "metadata": {},
   "outputs": [],
   "source": []
  }
 ],
 "metadata": {
  "kernelspec": {
   "display_name": "Python 3 (ipykernel)",
   "language": "python",
   "name": "python3"
  },
  "language_info": {
   "codemirror_mode": {
    "name": "ipython",
    "version": 3
   },
   "file_extension": ".py",
   "mimetype": "text/x-python",
   "name": "python",
   "nbconvert_exporter": "python",
   "pygments_lexer": "ipython3",
   "version": "3.8.13"
  }
 },
 "nbformat": 4,
 "nbformat_minor": 5
}
