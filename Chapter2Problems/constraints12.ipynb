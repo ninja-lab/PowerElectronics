{
 "cells": [
  {
   "cell_type": "code",
   "execution_count": 1,
   "id": "31231fda-4ab5-4408-90f9-3c46713dbee2",
   "metadata": {
    "editable": true,
    "slideshow": {
     "slide_type": ""
    },
    "tags": []
   },
   "outputs": [],
   "source": [
    "from IPython.core.interactiveshell import InteractiveShell\n",
    "InteractiveShell.ast_node_interactivity = \"all\""
   ]
  },
  {
   "cell_type": "code",
   "execution_count": 2,
   "id": "8862d4aa-b50f-4918-a60b-ee76f9e20ef1",
   "metadata": {
    "editable": true,
    "slideshow": {
     "slide_type": ""
    },
    "tags": []
   },
   "outputs": [],
   "source": [
    "from IPython.display import display, Latex\n",
    "#from functools import wraps\n",
    "#from ordered_set import OrderedSet\n",
    "import sympy\n",
    "from sympy.core.symbol import symbols, Symbol\n",
    "from sympy.solvers.solveset import nonlinsolve\n",
    "from sympy import solveset, nsolve, And\n",
    "from sympy import S, Interval\n",
    "from sympy.utilities.lambdify import lambdify\n",
    "from sympy.printing import latex, pprint\n",
    "from sympy import  simplify, oo\n",
    "import numpy as np\n",
    "#import os\n",
    "import matplotlib.pyplot as plt\n",
    "from matplotlib.ticker import FuncFormatter, EngFormatter\n",
    "from sympy import pi, sqrt \n",
    "from math import log10\n",
    "from sympy import Le, Lt, Eq, Gt, Ge, Contains \n",
    "from sympy.solvers import solve\n",
    "import sys\n",
    "from scipy.optimize import fsolve"
   ]
  },
  {
   "cell_type": "code",
   "execution_count": 3,
   "id": "6b4af852-04ca-4998-8051-77fda663961b",
   "metadata": {},
   "outputs": [],
   "source": [
    "def make_symbols():\n",
    "    global a, b, c, d, e ,f, g\n",
    "    a, b, c, d, e ,f, g = symbols('a b c d e f g', real=True, positive=True)\n",
    "\n",
    "    return\n",
    "make_symbols()"
   ]
  },
  {
   "cell_type": "code",
   "execution_count": 31,
   "id": "3e3e1ad5-23ee-44df-8d8c-9fe5e984cacb",
   "metadata": {},
   "outputs": [
    {
     "data": {
      "text/latex": [
       "$\\displaystyle L_{res}$"
      ],
      "text/plain": [
       "L_res"
      ]
     },
     "execution_count": 31,
     "metadata": {},
     "output_type": "execute_result"
    },
    {
     "data": {
      "text/latex": [
       "$\\displaystyle \\omega_{res}$"
      ],
      "text/plain": [
       "\\omega_res"
      ]
     },
     "execution_count": 31,
     "metadata": {},
     "output_type": "execute_result"
    }
   ],
   "source": [
    "Lres, Cres, RL = symbols('L_res C_res, RL', real=True, positive=True)\n",
    "Lres \n",
    "fres, fsw, Tsw, wsw, wres = symbols(r'f_res f_sw, T_sw, \\omega_sw, \\omega_res', real=True, positive=True)\n",
    "wres\n",
    "Q = symbols('Q', real=True, positive=True)\n",
    "k = symbols('k', real=True, positive=True)\n",
    "m = symbols('m', integer=True, positive=True, even=True) "
   ]
  },
  {
   "cell_type": "code",
   "execution_count": 33,
   "id": "8855919d-5b89-4183-b739-1f61a6932d31",
   "metadata": {},
   "outputs": [
    {
     "data": {
      "text/plain": [
       "[a*b - c, c - d - e, d - e/f, a - 1, b - 2, e - 3, f - 1]"
      ]
     },
     "execution_count": 33,
     "metadata": {},
     "output_type": "execute_result"
    },
    {
     "data": {
      "text/plain": [
       "'\\na*b = 1*2 = 2 = c\\ne =\\n\\n'"
      ]
     },
     "execution_count": 33,
     "metadata": {},
     "output_type": "execute_result"
    }
   ],
   "source": [
    "eq1 = a*b - c\n",
    "eq2 = c - (d + e)\n",
    "eq3 = d - (e/f)\n",
    "eqs =[eq1, eq2, eq3]\n",
    "given = [a-1, b-2, e-3, f-1]\n",
    "eqs + given\n",
    "'''\n",
    "a*b = 1*2 = 2 = c\n",
    "e =\n",
    "\n",
    "'''"
   ]
  },
  {
   "cell_type": "code",
   "execution_count": null,
   "id": "7d89a285-61b1-4b9f-a63b-78e9a4e98f77",
   "metadata": {},
   "outputs": [],
   "source": [
    "nonlinsolve(eqs+given, [a,b,c,d,e,f])\n",
    "nonlinsolve(eqs+given, [a])"
   ]
  },
  {
   "cell_type": "code",
   "execution_count": null,
   "id": "7feef481-64d2-4269-8b2f-d99a9a21c260",
   "metadata": {},
   "outputs": [],
   "source": [
    "eq1 = a*b - c\n",
    "eq2 = Le(c, (d + e))\n",
    "eq3 = d - (e/f)\n",
    "eqs =[eq1, eq2, eq3]\n",
    "given = [a-1,g-a, f-4, b-9]\n",
    "nonlinsolve(eqs+given, [a,b,c,d,e,f,g])"
   ]
  },
  {
   "cell_type": "code",
   "execution_count": null,
   "id": "b160a5e9-5ba1-4ae6-b6a8-14640ec8f6f6",
   "metadata": {},
   "outputs": [],
   "source": [
    "a= symbols('a', real=True, positive=True)"
   ]
  },
  {
   "cell_type": "code",
   "execution_count": null,
   "id": "167cbf3e-0a5c-4a45-9938-9204a494d2c5",
   "metadata": {},
   "outputs": [],
   "source": [
    "eq1 = a - sqrt(b*c)\n",
    "eq2 = c - (d + e)\n",
    "eq3 = d - (e/f)\n",
    "eqs =[eq1, eq2, eq3]\n",
    "given = [c-2,g-a, f-4, b-9, ]\n",
    "#nonlinsolve(eqs+given, [a,b,c,d,e,f,g]) #& Interval(0, oo)\n",
    "ans = solve(eqs+given,  [a,b,c,d,e,f,g]) \n",
    "ans \n",
    "type(ans)"
   ]
  },
  {
   "cell_type": "code",
   "execution_count": null,
   "id": "f98967b6-b711-4de0-b25b-9f8917e6b3be",
   "metadata": {},
   "outputs": [],
   "source": [
    "S.Reals \n",
    "Gt(a, 0)\n",
    "Interval(0, oo)"
   ]
  },
  {
   "cell_type": "code",
   "execution_count": null,
   "id": "619970f9-2be8-4da5-bc39-09147ae05722",
   "metadata": {},
   "outputs": [],
   "source": [
    "eq1 = a - sqrt(b*c)\n",
    "eq2 = c - (d + e)\n",
    "eq3 = d - (e/f)\n",
    "eqs =[eq1, eq2, eq3]\n",
    "given = [c-2,g-a, f-4, g-3]\n",
    "nonlinsolve(eqs+given, [a,b,c,d,e,f,g]) #& Interval(0, oo)\n",
    "solve(eqs+given,  [a,b,c,d,e,f,g]) "
   ]
  },
  {
   "cell_type": "code",
   "execution_count": 27,
   "id": "7b6ad00d-bddd-45b6-91cc-acbc792ea9c2",
   "metadata": {},
   "outputs": [
    {
     "ename": "NotImplementedError",
     "evalue": "no valid subset found",
     "output_type": "error",
     "traceback": [
      "\u001b[0;31m---------------------------------------------------------------------------\u001b[0m",
      "\u001b[0;31mNotImplementedError\u001b[0m                       Traceback (most recent call last)",
      "Cell \u001b[0;32mIn[27], line 2\u001b[0m\n\u001b[1;32m      1\u001b[0m eqs \u001b[38;5;241m=\u001b[39m [a \u001b[38;5;241m-\u001b[39m b\u001b[38;5;241m*\u001b[39mc, c \u001b[38;5;241m-\u001b[39m d \u001b[38;5;241m-\u001b[39m e, e \u001b[38;5;241m-\u001b[39m f\u001b[38;5;241m*\u001b[39m\u001b[38;5;241m*\u001b[39m\u001b[38;5;241m2\u001b[39m, e \u001b[38;5;241m-\u001b[39m \u001b[38;5;241m16.0\u001b[39m, f \u001b[38;5;241m-\u001b[39m \u001b[38;5;241m4.0\u001b[39m]\n\u001b[0;32m----> 2\u001b[0m solve(eqs,  [a,b,c,d,e,f])\n",
      "File \u001b[0;32m~/anaconda3/envs/py312/lib/python3.12/site-packages/sympy/solvers/solvers.py:1147\u001b[0m, in \u001b[0;36msolve\u001b[0;34m(f, *symbols, **flags)\u001b[0m\n\u001b[1;32m   1145\u001b[0m         solution \u001b[38;5;241m=\u001b[39m _solve(f[\u001b[38;5;241m0\u001b[39m], \u001b[38;5;241m*\u001b[39msymbols, \u001b[38;5;241m*\u001b[39m\u001b[38;5;241m*\u001b[39mflags)\n\u001b[1;32m   1146\u001b[0m \u001b[38;5;28;01melse\u001b[39;00m:\n\u001b[0;32m-> 1147\u001b[0m     linear, solution \u001b[38;5;241m=\u001b[39m _solve_system(f, symbols, \u001b[38;5;241m*\u001b[39m\u001b[38;5;241m*\u001b[39mflags)\n\u001b[1;32m   1148\u001b[0m \u001b[38;5;28;01massert\u001b[39;00m \u001b[38;5;28mtype\u001b[39m(solution) \u001b[38;5;129;01mis\u001b[39;00m \u001b[38;5;28mlist\u001b[39m\n\u001b[1;32m   1149\u001b[0m \u001b[38;5;28;01massert\u001b[39;00m \u001b[38;5;129;01mnot\u001b[39;00m solution \u001b[38;5;129;01mor\u001b[39;00m \u001b[38;5;28mtype\u001b[39m(solution[\u001b[38;5;241m0\u001b[39m]) \u001b[38;5;129;01mis\u001b[39;00m \u001b[38;5;28mdict\u001b[39m, solution\n",
      "File \u001b[0;32m~/anaconda3/envs/py312/lib/python3.12/site-packages/sympy/solvers/solvers.py:1860\u001b[0m, in \u001b[0;36m_solve_system\u001b[0;34m(exprs, symbols, **flags)\u001b[0m\n\u001b[1;32m   1858\u001b[0m         solved_syms \u001b[38;5;241m=\u001b[39m \u001b[38;5;28mlist\u001b[39m(got_s)\n\u001b[1;32m   1859\u001b[0m     \u001b[38;5;28;01melse\u001b[39;00m:\n\u001b[0;32m-> 1860\u001b[0m         \u001b[38;5;28;01mraise\u001b[39;00m \u001b[38;5;167;01mNotImplementedError\u001b[39;00m(\u001b[38;5;124m'\u001b[39m\u001b[38;5;124mno valid subset found\u001b[39m\u001b[38;5;124m'\u001b[39m)\n\u001b[1;32m   1861\u001b[0m \u001b[38;5;28;01melse\u001b[39;00m:\n\u001b[1;32m   1862\u001b[0m     \u001b[38;5;28;01mtry\u001b[39;00m:\n",
      "\u001b[0;31mNotImplementedError\u001b[0m: no valid subset found"
     ]
    }
   ],
   "source": [
    "eqs = [a - b*c, c - d - e, e - f**2, e - 16.0, f - 4.0]\n",
    "solve(eqs,  [a,b,c,d,e,f]) "
   ]
  },
  {
   "cell_type": "code",
   "execution_count": 7,
   "id": "1aa51f4a-7f87-4941-b227-8808f2dfc05f",
   "metadata": {},
   "outputs": [
    {
     "data": {
      "text/latex": [
       "$\\displaystyle \\left\\{\\left( b d + 16.0 b, \\  b, \\  d + 16.0, \\  d, \\  16.0, \\  4.0\\right)\\right\\}$"
      ],
      "text/plain": [
       "{(b*d + 16.0*b, b, d + 16.0, d, 16.0, 4.0)}"
      ]
     },
     "execution_count": 7,
     "metadata": {},
     "output_type": "execute_result"
    }
   ],
   "source": [
    "eqs = [a - b*c, c - d - e, e - f**2, e - 16.0, f - 4.0]\n",
    "nonlinsolve(eqs,  [a,b,c,d,e,f])"
   ]
  },
  {
   "cell_type": "code",
   "execution_count": 8,
   "id": "102d9a2e-80a2-4e4e-801f-2f7352e73c7a",
   "metadata": {},
   "outputs": [
    {
     "data": {
      "text/latex": [
       "$\\displaystyle \\emptyset$"
      ],
      "text/plain": [
       "EmptySet"
      ]
     },
     "execution_count": 8,
     "metadata": {},
     "output_type": "execute_result"
    }
   ],
   "source": [
    "eqs = [a - b*c, c - d - e, e - f**2, d - 12.0, e - 7.0, f - 2.44948974278318]\n",
    "nonlinsolve(eqs,  [a,b,c,d,e,f])"
   ]
  },
  {
   "cell_type": "code",
   "execution_count": 9,
   "id": "c11fd1db-3976-425f-90df-e60c4b6afb62",
   "metadata": {},
   "outputs": [
    {
     "data": {
      "text/latex": [
       "$\\displaystyle \\left\\{\\left( 21.0 b, \\  b, \\  21.0, \\  12.0, \\  9.0, \\  3.0\\right)\\right\\}$"
      ],
      "text/plain": [
       "{(21.0*b, b, 21.0, 12.0, 9.0, 3.0)}"
      ]
     },
     "execution_count": 9,
     "metadata": {},
     "output_type": "execute_result"
    }
   ],
   "source": [
    "eqs = [a - b*c, c - d - e, e - f**2, d - 12.0, e - 9, f - 3]\n",
    "nonlinsolve(eqs,  [a,b,c,d,e,f])"
   ]
  },
  {
   "cell_type": "code",
   "execution_count": 25,
   "id": "90386ba0-2375-4b78-80da-3c198b352fa8",
   "metadata": {},
   "outputs": [
    {
     "ename": "TypeError",
     "evalue": "cannot determine truth value of Relational",
     "output_type": "error",
     "traceback": [
      "\u001b[0;31m---------------------------------------------------------------------------\u001b[0m",
      "\u001b[0;31mTypeError\u001b[0m                                 Traceback (most recent call last)",
      "Cell \u001b[0;32mIn[25], line 2\u001b[0m\n\u001b[1;32m      1\u001b[0m eqs \u001b[38;5;241m=\u001b[39m [a \u001b[38;5;241m-\u001b[39m b\u001b[38;5;241m*\u001b[39mc, c \u001b[38;5;241m-\u001b[39m d \u001b[38;5;241m-\u001b[39m e, e \u001b[38;5;241m-\u001b[39m f\u001b[38;5;241m*\u001b[39m\u001b[38;5;241m*\u001b[39m\u001b[38;5;241m2\u001b[39m, a\u001b[38;5;241m-\u001b[39m \u001b[38;5;241m1.0\u001b[39m]\n\u001b[0;32m----> 2\u001b[0m nonlinsolve(eqs,  [a,b,c,d,e,f])\n",
      "File \u001b[0;32m~/anaconda3/envs/py312/lib/python3.12/site-packages/sympy/solvers/solveset.py:3865\u001b[0m, in \u001b[0;36mnonlinsolve\u001b[0;34m(system, *symbols)\u001b[0m\n\u001b[1;32m   3855\u001b[0m     \u001b[38;5;28;01mreturn\u001b[39;00m FiniteSet(\u001b[38;5;241m*\u001b[39m\u001b[38;5;28mmap\u001b[39m(to_tuple, poly_sol))\n\u001b[1;32m   3856\u001b[0m \u001b[38;5;28;01melse\u001b[39;00m:\n\u001b[1;32m   3857\u001b[0m     \u001b[38;5;66;03m# Here we handle:\u001b[39;00m\n\u001b[1;32m   3858\u001b[0m     \u001b[38;5;66;03m#\u001b[39;00m\n\u001b[0;32m   (...)\u001b[0m\n\u001b[1;32m   3863\u001b[0m     \u001b[38;5;66;03m# If solve_poly_system did succeed then we pass those solutions in as\u001b[39;00m\n\u001b[1;32m   3864\u001b[0m     \u001b[38;5;66;03m# preliminary results.\u001b[39;00m\n\u001b[0;32m-> 3865\u001b[0m     subs_res \u001b[38;5;241m=\u001b[39m substitution(remaining, symbols, result\u001b[38;5;241m=\u001b[39mpoly_sol, exclude\u001b[38;5;241m=\u001b[39mdenominators)\n\u001b[1;32m   3867\u001b[0m     \u001b[38;5;28;01mif\u001b[39;00m \u001b[38;5;129;01mnot\u001b[39;00m \u001b[38;5;28misinstance\u001b[39m(subs_res, FiniteSet):\n\u001b[1;32m   3868\u001b[0m         \u001b[38;5;28;01mreturn\u001b[39;00m subs_res\n",
      "File \u001b[0;32m~/anaconda3/envs/py312/lib/python3.12/site-packages/sympy/solvers/solveset.py:3411\u001b[0m, in \u001b[0;36msubstitution\u001b[0;34m(system, symbols, result, known_symbols, exclude, all_symbols)\u001b[0m\n\u001b[1;32m   3408\u001b[0m     \u001b[38;5;28;01mreturn\u001b[39;00m result, total_solvest_call, total_conditionst\n\u001b[1;32m   3409\u001b[0m \u001b[38;5;66;03m# end def _solve_using_know_values()\u001b[39;00m\n\u001b[0;32m-> 3411\u001b[0m new_result_real, solve_call1, cnd_call1 \u001b[38;5;241m=\u001b[39m _solve_using_known_values(\n\u001b[1;32m   3412\u001b[0m     old_result, solveset_real)\n\u001b[1;32m   3413\u001b[0m new_result_complex, solve_call2, cnd_call2 \u001b[38;5;241m=\u001b[39m _solve_using_known_values(\n\u001b[1;32m   3414\u001b[0m     old_result, solveset_complex)\n\u001b[1;32m   3416\u001b[0m \u001b[38;5;66;03m# If total_solveset_call is equal to total_conditionset\u001b[39;00m\n\u001b[1;32m   3417\u001b[0m \u001b[38;5;66;03m# then solveset failed to solve all of the equations.\u001b[39;00m\n\u001b[1;32m   3418\u001b[0m \u001b[38;5;66;03m# In this case we return a ConditionSet here.\u001b[39;00m\n",
      "File \u001b[0;32m~/anaconda3/envs/py312/lib/python3.12/site-packages/sympy/solvers/solveset.py:3345\u001b[0m, in \u001b[0;36msubstitution.<locals>._solve_using_known_values\u001b[0;34m(result, solver)\u001b[0m\n\u001b[1;32m   3341\u001b[0m     \u001b[38;5;28;01mif\u001b[39;00m index \u001b[38;5;241m>\u001b[39m \u001b[38;5;241m0\u001b[39m \u001b[38;5;129;01mand\u001b[39;00m solver \u001b[38;5;241m==\u001b[39m solveset_real:\n\u001b[1;32m   3342\u001b[0m         \u001b[38;5;66;03m# one symbol's real soln, another symbol may have\u001b[39;00m\n\u001b[1;32m   3343\u001b[0m         \u001b[38;5;66;03m# corresponding complex soln.\u001b[39;00m\n\u001b[1;32m   3344\u001b[0m         \u001b[38;5;28;01mif\u001b[39;00m \u001b[38;5;129;01mnot\u001b[39;00m \u001b[38;5;28misinstance\u001b[39m(soln, (ImageSet, ConditionSet)):\n\u001b[0;32m-> 3345\u001b[0m             soln \u001b[38;5;241m+\u001b[39m\u001b[38;5;241m=\u001b[39m solveset_complex(eq2, sym)  \u001b[38;5;66;03m# might give ValueError with Abs\u001b[39;00m\n\u001b[1;32m   3346\u001b[0m \u001b[38;5;28;01mexcept\u001b[39;00m (\u001b[38;5;167;01mNotImplementedError\u001b[39;00m, \u001b[38;5;167;01mValueError\u001b[39;00m):\n\u001b[1;32m   3347\u001b[0m     \u001b[38;5;66;03m# If solveset is not able to solve equation `eq2`. Next\u001b[39;00m\n\u001b[1;32m   3348\u001b[0m     \u001b[38;5;66;03m# time we may get soln using next equation `eq2`\u001b[39;00m\n\u001b[1;32m   3349\u001b[0m     \u001b[38;5;28;01mcontinue\u001b[39;00m\n",
      "File \u001b[0;32m~/anaconda3/envs/py312/lib/python3.12/site-packages/sympy/core/decorators.py:236\u001b[0m, in \u001b[0;36m_SympifyWrapper.make_wrapped.<locals>._func\u001b[0;34m(self, other)\u001b[0m\n\u001b[1;32m    234\u001b[0m \u001b[38;5;28;01mif\u001b[39;00m \u001b[38;5;129;01mnot\u001b[39;00m \u001b[38;5;28misinstance\u001b[39m(other, expectedcls):\n\u001b[1;32m    235\u001b[0m     \u001b[38;5;28;01mreturn\u001b[39;00m retval\n\u001b[0;32m--> 236\u001b[0m \u001b[38;5;28;01mreturn\u001b[39;00m func(\u001b[38;5;28mself\u001b[39m, other)\n",
      "File \u001b[0;32m~/anaconda3/envs/py312/lib/python3.12/site-packages/sympy/sets/sets.py:760\u001b[0m, in \u001b[0;36mSet.__add__\u001b[0;34m(self, other)\u001b[0m\n\u001b[1;32m    758\u001b[0m \u001b[38;5;129m@sympify_return\u001b[39m([(\u001b[38;5;124m'\u001b[39m\u001b[38;5;124mother\u001b[39m\u001b[38;5;124m'\u001b[39m, \u001b[38;5;124m'\u001b[39m\u001b[38;5;124mSet\u001b[39m\u001b[38;5;124m'\u001b[39m)], \u001b[38;5;28mNotImplemented\u001b[39m)\n\u001b[1;32m    759\u001b[0m \u001b[38;5;28;01mdef\u001b[39;00m \u001b[38;5;21m__add__\u001b[39m(\u001b[38;5;28mself\u001b[39m, other):\n\u001b[0;32m--> 760\u001b[0m     \u001b[38;5;28;01mreturn\u001b[39;00m \u001b[38;5;28mself\u001b[39m\u001b[38;5;241m.\u001b[39munion(other)\n",
      "File \u001b[0;32m~/anaconda3/envs/py312/lib/python3.12/site-packages/sympy/sets/sets.py:129\u001b[0m, in \u001b[0;36mSet.union\u001b[0;34m(self, other)\u001b[0m\n\u001b[1;32m    104\u001b[0m \u001b[38;5;28;01mdef\u001b[39;00m \u001b[38;5;21munion\u001b[39m(\u001b[38;5;28mself\u001b[39m, other):\n\u001b[1;32m    105\u001b[0m \u001b[38;5;250m    \u001b[39m\u001b[38;5;124;03m\"\"\"\u001b[39;00m\n\u001b[1;32m    106\u001b[0m \u001b[38;5;124;03m    Returns the union of ``self`` and ``other``.\u001b[39;00m\n\u001b[1;32m    107\u001b[0m \n\u001b[0;32m   (...)\u001b[0m\n\u001b[1;32m    127\u001b[0m \n\u001b[1;32m    128\u001b[0m \u001b[38;5;124;03m    \"\"\"\u001b[39;00m\n\u001b[0;32m--> 129\u001b[0m     \u001b[38;5;28;01mreturn\u001b[39;00m Union(\u001b[38;5;28mself\u001b[39m, other)\n",
      "File \u001b[0;32m~/anaconda3/envs/py312/lib/python3.12/site-packages/sympy/sets/sets.py:1310\u001b[0m, in \u001b[0;36mUnion.__new__\u001b[0;34m(cls, *args, **kwargs)\u001b[0m\n\u001b[1;32m   1308\u001b[0m \u001b[38;5;28;01mif\u001b[39;00m evaluate:\n\u001b[1;32m   1309\u001b[0m     args \u001b[38;5;241m=\u001b[39m \u001b[38;5;28mlist\u001b[39m(\u001b[38;5;28mcls\u001b[39m\u001b[38;5;241m.\u001b[39m_new_args_filter(args))\n\u001b[0;32m-> 1310\u001b[0m     \u001b[38;5;28;01mreturn\u001b[39;00m simplify_union(args)\n\u001b[1;32m   1312\u001b[0m args \u001b[38;5;241m=\u001b[39m \u001b[38;5;28mlist\u001b[39m(ordered(args, Set\u001b[38;5;241m.\u001b[39m_infimum_key))\n\u001b[1;32m   1314\u001b[0m obj \u001b[38;5;241m=\u001b[39m Basic\u001b[38;5;241m.\u001b[39m\u001b[38;5;21m__new__\u001b[39m(\u001b[38;5;28mcls\u001b[39m, \u001b[38;5;241m*\u001b[39margs)\n",
      "File \u001b[0;32m~/anaconda3/envs/py312/lib/python3.12/site-packages/sympy/sets/sets.py:2534\u001b[0m, in \u001b[0;36msimplify_union\u001b[0;34m(args)\u001b[0m\n\u001b[1;32m   2532\u001b[0m \u001b[38;5;28;01mif\u001b[39;00m \u001b[38;5;28mlen\u001b[39m(finite_sets) \u001b[38;5;241m>\u001b[39m \u001b[38;5;241m1\u001b[39m:\n\u001b[1;32m   2533\u001b[0m     a \u001b[38;5;241m=\u001b[39m (x \u001b[38;5;28;01mfor\u001b[39;00m \u001b[38;5;28mset\u001b[39m \u001b[38;5;129;01min\u001b[39;00m finite_sets \u001b[38;5;28;01mfor\u001b[39;00m x \u001b[38;5;129;01min\u001b[39;00m \u001b[38;5;28mset\u001b[39m)\n\u001b[0;32m-> 2534\u001b[0m     finite_set \u001b[38;5;241m=\u001b[39m FiniteSet(\u001b[38;5;241m*\u001b[39ma)\n\u001b[1;32m   2535\u001b[0m     args \u001b[38;5;241m=\u001b[39m [finite_set] \u001b[38;5;241m+\u001b[39m [x \u001b[38;5;28;01mfor\u001b[39;00m x \u001b[38;5;129;01min\u001b[39;00m args \u001b[38;5;28;01mif\u001b[39;00m \u001b[38;5;129;01mnot\u001b[39;00m x\u001b[38;5;241m.\u001b[39mis_FiniteSet]\n\u001b[1;32m   2537\u001b[0m \u001b[38;5;66;03m# ===== Pair-wise Rules =====\u001b[39;00m\n\u001b[1;32m   2538\u001b[0m \u001b[38;5;66;03m# Here we depend on rules built into the constituent sets\u001b[39;00m\n",
      "File \u001b[0;32m~/anaconda3/envs/py312/lib/python3.12/site-packages/sympy/sets/sets.py:1938\u001b[0m, in \u001b[0;36mFiniteSet.__new__\u001b[0;34m(cls, *args, **kwargs)\u001b[0m\n\u001b[1;32m   1936\u001b[0m \u001b[38;5;66;03m# keep the form of the first canonical arg\u001b[39;00m\n\u001b[1;32m   1937\u001b[0m dargs \u001b[38;5;241m=\u001b[39m {}\n\u001b[0;32m-> 1938\u001b[0m \u001b[38;5;28;01mfor\u001b[39;00m i \u001b[38;5;129;01min\u001b[39;00m \u001b[38;5;28mreversed\u001b[39m(\u001b[38;5;28mlist\u001b[39m(ordered(args))):\n\u001b[1;32m   1939\u001b[0m     \u001b[38;5;28;01mif\u001b[39;00m i\u001b[38;5;241m.\u001b[39mis_Symbol:\n\u001b[1;32m   1940\u001b[0m         dargs[i] \u001b[38;5;241m=\u001b[39m i\n",
      "File \u001b[0;32m~/anaconda3/envs/py312/lib/python3.12/site-packages/sympy/core/sorting.py:309\u001b[0m, in \u001b[0;36mordered\u001b[0;34m(seq, keys, default, warn)\u001b[0m\n\u001b[1;32m    306\u001b[0m         \u001b[38;5;28;01mif\u001b[39;00m \u001b[38;5;28mlen\u001b[39m(u) \u001b[38;5;241m>\u001b[39m \u001b[38;5;241m1\u001b[39m:\n\u001b[1;32m    307\u001b[0m             \u001b[38;5;28;01mraise\u001b[39;00m \u001b[38;5;167;01mValueError\u001b[39;00m(\n\u001b[1;32m    308\u001b[0m                 \u001b[38;5;124m'\u001b[39m\u001b[38;5;124mnot enough keys to break ties: \u001b[39m\u001b[38;5;132;01m%s\u001b[39;00m\u001b[38;5;124m'\u001b[39m \u001b[38;5;241m%\u001b[39m u)\n\u001b[0;32m--> 309\u001b[0m \u001b[38;5;28;01myield from\u001b[39;00m value\n",
      "File \u001b[0;32m~/anaconda3/envs/py312/lib/python3.12/site-packages/sympy/core/sorting.py:309\u001b[0m, in \u001b[0;36mordered\u001b[0;34m(seq, keys, default, warn)\u001b[0m\n\u001b[1;32m    306\u001b[0m         \u001b[38;5;28;01mif\u001b[39;00m \u001b[38;5;28mlen\u001b[39m(u) \u001b[38;5;241m>\u001b[39m \u001b[38;5;241m1\u001b[39m:\n\u001b[1;32m    307\u001b[0m             \u001b[38;5;28;01mraise\u001b[39;00m \u001b[38;5;167;01mValueError\u001b[39;00m(\n\u001b[1;32m    308\u001b[0m                 \u001b[38;5;124m'\u001b[39m\u001b[38;5;124mnot enough keys to break ties: \u001b[39m\u001b[38;5;132;01m%s\u001b[39;00m\u001b[38;5;124m'\u001b[39m \u001b[38;5;241m%\u001b[39m u)\n\u001b[0;32m--> 309\u001b[0m \u001b[38;5;28;01myield from\u001b[39;00m value\n",
      "File \u001b[0;32m~/anaconda3/envs/py312/lib/python3.12/site-packages/sympy/core/sorting.py:297\u001b[0m, in \u001b[0;36mordered\u001b[0;34m(seq, keys, default, warn)\u001b[0m\n\u001b[1;32m    294\u001b[0m         \u001b[38;5;28;01mraise\u001b[39;00m \u001b[38;5;167;01mValueError\u001b[39;00m(\u001b[38;5;124m'\u001b[39m\u001b[38;5;124mif default=False then keys must be provided\u001b[39m\u001b[38;5;124m'\u001b[39m)\n\u001b[1;32m    295\u001b[0m     d[\u001b[38;5;28;01mNone\u001b[39;00m]\u001b[38;5;241m.\u001b[39mextend(seq)\n\u001b[0;32m--> 297\u001b[0m \u001b[38;5;28;01mfor\u001b[39;00m k, value \u001b[38;5;129;01min\u001b[39;00m \u001b[38;5;28msorted\u001b[39m(d\u001b[38;5;241m.\u001b[39mitems()):\n\u001b[1;32m    298\u001b[0m     \u001b[38;5;28;01mif\u001b[39;00m \u001b[38;5;28mlen\u001b[39m(value) \u001b[38;5;241m>\u001b[39m \u001b[38;5;241m1\u001b[39m:\n\u001b[1;32m    299\u001b[0m         \u001b[38;5;28;01mif\u001b[39;00m keys:\n",
      "File \u001b[0;32m~/anaconda3/envs/py312/lib/python3.12/site-packages/sympy/core/relational.py:510\u001b[0m, in \u001b[0;36mRelational.__bool__\u001b[0;34m(self)\u001b[0m\n\u001b[1;32m    509\u001b[0m \u001b[38;5;28;01mdef\u001b[39;00m \u001b[38;5;21m__bool__\u001b[39m(\u001b[38;5;28mself\u001b[39m):\n\u001b[0;32m--> 510\u001b[0m     \u001b[38;5;28;01mraise\u001b[39;00m \u001b[38;5;167;01mTypeError\u001b[39;00m(\u001b[38;5;124m\"\u001b[39m\u001b[38;5;124mcannot determine truth value of Relational\u001b[39m\u001b[38;5;124m\"\u001b[39m)\n",
      "\u001b[0;31mTypeError\u001b[0m: cannot determine truth value of Relational"
     ]
    }
   ],
   "source": [
    "eqs = [a - b*c, c - d - e, e - f**2, a- 1.0]\n",
    "nonlinsolve(eqs,  [a,b,c,d,e,f])  "
   ]
  },
  {
   "cell_type": "code",
   "execution_count": 44,
   "id": "c035d8c5-9f1f-452a-bbb3-a7fd171a01cd",
   "metadata": {},
   "outputs": [
    {
     "data": {
      "text/latex": [
       "$\\displaystyle \\left\\{\\left( 2.0 b, \\  b, \\  2.0, \\  2.0 - f^{2}, \\  f^{2}, \\  f\\right)\\right\\}$"
      ],
      "text/plain": [
       "{(2.0*b, b, 2.0, 2.0 - f**2, f**2, f)}"
      ]
     },
     "execution_count": 44,
     "metadata": {},
     "output_type": "execute_result"
    }
   ],
   "source": [
    "a, b, c, d, e ,f, g = symbols('a b c d e f g', real=True, positive=True)\n",
    "eqs = [a - b*c, c - d - e, e - f**2, c - 2.0]\n",
    "ans = nonlinsolve(eqs,  [a,b,c,d,e,f])\n",
    "ans"
   ]
  },
  {
   "cell_type": "code",
   "execution_count": 66,
   "id": "c19f6a15-9421-4741-b52b-7fddcf71f171",
   "metadata": {},
   "outputs": [
    {
     "data": {
      "text/latex": [
       "$\\displaystyle \\emptyset$"
      ],
      "text/plain": [
       "EmptySet"
      ]
     },
     "execution_count": 66,
     "metadata": {},
     "output_type": "execute_result"
    }
   ],
   "source": [
    "eqs = [a - b*c, c - d - e, e - f**2, b - 100, c - 5, d - 6755399441055743/2251799813685248, e - 4503599627370497/2251799813685248, f - 6369051672525773/4503599627370496]\n",
    "ans = nonlinsolve(eqs,  [a,b,c,d,e,f])\n",
    "ans"
   ]
  },
  {
   "cell_type": "code",
   "execution_count": 85,
   "id": "8ed8ab46-233e-4eb3-800d-82d936d0249c",
   "metadata": {},
   "outputs": [
    {
     "data": {
      "text/latex": [
       "$\\displaystyle \\emptyset$"
      ],
      "text/plain": [
       "EmptySet"
      ]
     },
     "execution_count": 85,
     "metadata": {},
     "output_type": "execute_result"
    }
   ],
   "source": [
    "a, b, c, d, e ,f, g = symbols('a b c d e f g', real=True, positive=True)\n",
    "eqs = [a - b*c, c - d - e, e - f**2, b - 100.0, c - 5,   d - 6755399441055743/2251799813685248, e - 4503599627370497/2251799813685248, f - 6369051672525773/4503599627370496]\n",
    "ans = nonlinsolve(eqs,  [a,b,c,d,e,f])\n",
    "ans"
   ]
  },
  {
   "cell_type": "code",
   "execution_count": 98,
   "id": "2fae7404-96fd-42db-b288-7af7f0a39466",
   "metadata": {},
   "outputs": [
    {
     "data": {
      "text/latex": [
       "$\\displaystyle \\left\\{\\left( 500.0, \\  100.0, \\  5.0, \\  3.0, \\  2.0, \\  1.4142135623731\\right)\\right\\}$"
      ],
      "text/plain": [
       "{(500.0, 100.0, 5.0, 3.0, 2.0, 1.4142135623731)}"
      ]
     },
     "execution_count": 98,
     "metadata": {},
     "output_type": "execute_result"
    },
    {
     "data": {
      "text/latex": [
       "$\\displaystyle 1.4142135623731$"
      ],
      "text/plain": [
       "1.41421356237310"
      ]
     },
     "execution_count": 98,
     "metadata": {},
     "output_type": "execute_result"
    },
    {
     "data": {
      "text/latex": [
       "$\\displaystyle \\emptyset$"
      ],
      "text/plain": [
       "EmptySet"
      ]
     },
     "execution_count": 98,
     "metadata": {},
     "output_type": "execute_result"
    }
   ],
   "source": [
    "a, b, c, d, e ,f, g = symbols('a b c d e f g', real=True, positive=True)\n",
    "eqs = [a - b*c, c - d - e, e - f**2, b - 100.0, c - 5,   d - 6755399441055743/2251799813685248, e - 2, f - sqrt(2)]\n",
    "ans = nonlinsolve(eqs,  [a,b,c,d,e,f])\n",
    "ans\n",
    "new_f = list(ans)[0][5]\n",
    "new_f\n",
    "\n",
    "eqs = [a - b*c, c - d - e, e - f**2, b - 100.0, c - 5,   d - 6755399441055743/2251799813685248, e - 2, f - new_f]\n",
    "ans = nonlinsolve(eqs,  [a,b,c,d,e,f])\n",
    "ans"
   ]
  },
  {
   "cell_type": "code",
   "execution_count": 101,
   "id": "e1bb683f-441d-4205-ab03-e54f3de21435",
   "metadata": {},
   "outputs": [
    {
     "data": {
      "text/latex": [
       "$\\displaystyle \\left\\{\\left( 500.0, \\  100.0, \\  5.0, \\  3.0, \\  2.0, \\  -1.4142135623731\\right), \\left( 500.0, \\  100.0, \\  5.0, \\  3.0, \\  2.0, \\  1.4142135623731\\right)\\right\\}$"
      ],
      "text/plain": [
       "{(500.0, 100.0, 5.0, 3.0, 2.0, -1.4142135623731), (500.0, 100.0, 5.0, 3.0, 2.0, 1.4142135623731)}"
      ]
     },
     "execution_count": 101,
     "metadata": {},
     "output_type": "execute_result"
    },
    {
     "data": {
      "text/latex": [
       "$\\displaystyle 1.4142135623731$"
      ],
      "text/plain": [
       "1.41421356237310"
      ]
     },
     "execution_count": 101,
     "metadata": {},
     "output_type": "execute_result"
    },
    {
     "data": {
      "text/latex": [
       "$\\displaystyle \\emptyset$"
      ],
      "text/plain": [
       "EmptySet"
      ]
     },
     "execution_count": 101,
     "metadata": {},
     "output_type": "execute_result"
    }
   ],
   "source": [
    "a, b, c, d, e ,f, g = symbols('a b c d e f g', real=True, positive=True)\n",
    "eqs = [a - b*c, c - d - e, e - f**2, b - 100.0, c - 5,   d - 6755399441055743/2251799813685248, e - 2]\n",
    "ans = nonlinsolve(eqs,  [a,b,c,d,e,f])\n",
    "ans\n",
    "new_f = list(ans)[1][5]\n",
    "new_f\n",
    "\n",
    "eqs = [a - b*c, c - d - e, e - f**2, b - 100.0, c - 5,   d - 6755399441055743/2251799813685248, e - 2, f - new_f]\n",
    "ans = nonlinsolve(eqs,  [a,b,c,d,e,f])\n",
    "ans"
   ]
  },
  {
   "cell_type": "code",
   "execution_count": 119,
   "id": "7872d1f4-d045-4ccc-ae6d-87ee44cd5348",
   "metadata": {},
   "outputs": [
    {
     "data": {
      "text/plain": [
       "{a, b}"
      ]
     },
     "execution_count": 119,
     "metadata": {},
     "output_type": "execute_result"
    },
    {
     "data": {
      "text/plain": [
       "set()"
      ]
     },
     "execution_count": 119,
     "metadata": {},
     "output_type": "execute_result"
    }
   ],
   "source": [
    "(a-b).free_symbols\n",
    "(Rational(3) - 4.99).free_symbols"
   ]
  },
  {
   "cell_type": "code",
   "execution_count": 117,
   "id": "b9faee7c-e0b7-43fb-9736-8380a4a525c9",
   "metadata": {},
   "outputs": [
    {
     "data": {
      "text/latex": [
       "$\\displaystyle \\left\\{\\left( \\frac{1131529406376837}{562949953421312}, \\  - \\frac{\\sqrt{2263058812753674}}{33554432}\\right), \\left( \\frac{1131529406376837}{562949953421312}, \\  \\frac{\\sqrt{2263058812753674}}{33554432}\\right)\\right\\}$"
      ],
      "text/plain": [
       "{(1131529406376837/562949953421312, -sqrt(2263058812753674)/33554432), (1131529406376837/562949953421312, sqrt(2263058812753674)/33554432)}"
      ]
     },
     "execution_count": 117,
     "metadata": {},
     "output_type": "execute_result"
    },
    {
     "data": {
      "text/latex": [
       "$\\displaystyle \\frac{\\sqrt{2263058812753674}}{33554432}$"
      ],
      "text/plain": [
       "sqrt(2263058812753674)/33554432"
      ]
     },
     "execution_count": 117,
     "metadata": {},
     "output_type": "execute_result"
    },
    {
     "data": {
      "text/latex": [
       "$\\displaystyle \\left\\{\\left( \\frac{1131529406376837}{562949953421312}, \\  \\frac{\\sqrt{2263058812753674}}{33554432}\\right)\\right\\}$"
      ],
      "text/plain": [
       "{(1131529406376837/562949953421312, sqrt(2263058812753674)/33554432)}"
      ]
     },
     "execution_count": 117,
     "metadata": {},
     "output_type": "execute_result"
    }
   ],
   "source": [
    "a, b,  = symbols('a b ', real=True, positive=True)\n",
    "eqs = [ a - b**2,   a - Rational(2.01)]\n",
    "ans = nonlinsolve(eqs,  [a,b])\n",
    "ans\n",
    "new_b = list(ans)[0][1] if list(ans)[0][1] > 0 else list(ans)[1][1]\n",
    "new_b\n",
    "\n",
    "eqs = [ a - b**2,  a - Rational(2.01), b - new_b]\n",
    "ans = nonlinsolve(eqs,  [a,b])\n",
    "ans"
   ]
  },
  {
   "cell_type": "code",
   "execution_count": 115,
   "id": "c8735f15-555f-47fa-8a08-6fc0257adf80",
   "metadata": {},
   "outputs": [
    {
     "data": {
      "text/latex": [
       "$\\displaystyle \\frac{1212703712800925}{18889465931478580854784}$"
      ],
      "text/plain": [
       "1212703712800925/18889465931478580854784"
      ]
     },
     "execution_count": 115,
     "metadata": {},
     "output_type": "execute_result"
    }
   ],
   "source": [
    "Rational(64.2e-9)"
   ]
  },
  {
   "cell_type": "code",
   "execution_count": 106,
   "id": "978c9810-bcb7-4225-811e-cb4757c75f64",
   "metadata": {},
   "outputs": [
    {
     "data": {
      "text/latex": [
       "$\\displaystyle \\left\\{\\left( 2.0, \\  -1.4142135623731, \\  5.0, \\  3.0\\right), \\left( 2.0, \\  1.4142135623731, \\  5.0, \\  3.0\\right)\\right\\}$"
      ],
      "text/plain": [
       "{(2.0, -1.4142135623731, 5.0, 3.0), (2.0, 1.4142135623731, 5.0, 3.0)}"
      ]
     },
     "execution_count": 106,
     "metadata": {},
     "output_type": "execute_result"
    },
    {
     "data": {
      "text/latex": [
       "$\\displaystyle -1.4142135623731$"
      ],
      "text/plain": [
       "-1.41421356237310"
      ]
     },
     "execution_count": 106,
     "metadata": {},
     "output_type": "execute_result"
    },
    {
     "data": {
      "text/latex": [
       "$\\displaystyle \\emptyset$"
      ],
      "text/plain": [
       "EmptySet"
      ]
     },
     "execution_count": 106,
     "metadata": {},
     "output_type": "execute_result"
    }
   ],
   "source": [
    "a, b, c, d  = symbols('a b c d ', real=True, positive=True)\n",
    "eqs = [ a - b**2, c - (d+ a),  a - 2.0, c-5]\n",
    "ans = nonlinsolve(eqs,  [a,b,c ,d])\n",
    "ans\n",
    "new_b = list(ans)[0][1]\n",
    "new_b\n",
    "\n",
    "eqs = [ a - b**2,  c - (d+ a), a - 2, b - new_b, c-5]\n",
    "ans = nonlinsolve(eqs,  [a,b,c,d])\n",
    "ans"
   ]
  },
  {
   "cell_type": "code",
   "execution_count": 94,
   "id": "f2407dc0-4f54-4645-8b0c-4605aafd3547",
   "metadata": {},
   "outputs": [
    {
     "data": {
      "text/latex": [
       "$\\displaystyle \\sqrt{2}$"
      ],
      "text/plain": [
       "sqrt(2)"
      ]
     },
     "execution_count": 94,
     "metadata": {},
     "output_type": "execute_result"
    },
    {
     "data": {
      "text/plain": [
       "sympy.core.power.Pow"
      ]
     },
     "execution_count": 94,
     "metadata": {},
     "output_type": "execute_result"
    },
    {
     "data": {
      "text/plain": [
       "{1/2, 2}"
      ]
     },
     "execution_count": 94,
     "metadata": {},
     "output_type": "execute_result"
    },
    {
     "data": {
      "text/plain": [
       "{-1, a, b}"
      ]
     },
     "execution_count": 94,
     "metadata": {},
     "output_type": "execute_result"
    },
    {
     "data": {
      "text/latex": [
       "$\\displaystyle 0$"
      ],
      "text/plain": [
       "0"
      ]
     },
     "execution_count": 94,
     "metadata": {},
     "output_type": "execute_result"
    }
   ],
   "source": [
    "sqrt(2)\n",
    "type(sqrt(2))\n",
    "sqrt(2).atoms()\n",
    "(a - b).atoms()\n",
    "(a - b).func()"
   ]
  },
  {
   "cell_type": "code",
   "execution_count": 81,
   "id": "fee3af5f-ceff-4ca1-b835-7745994c1b35",
   "metadata": {},
   "outputs": [
    {
     "data": {
      "text/plain": [
       "[a - b*c, c - d - 2.0, 0.0, b - 100, c - 5.0, d - 3.0, 0.0, 0.0]"
      ]
     },
     "execution_count": 81,
     "metadata": {},
     "output_type": "execute_result"
    },
    {
     "data": {
      "text/latex": [
       "$\\displaystyle \\left\\{\\left( 500.0, \\  100.0, \\  5.0, \\  3.0, \\  2.0, \\  1.4142135623731\\right)\\right\\}$"
      ],
      "text/plain": [
       "{(500.0, 100.0, 5.0, 3.0, 2.0, 1.4142135623731)}"
      ]
     },
     "execution_count": 81,
     "metadata": {},
     "output_type": "execute_result"
    }
   ],
   "source": [
    "[a - b*c, c - d - e, e - f**2, b - 100, c - 5.0, d - 6755399441055743/2251799813685248, e - 4503599627370497/2251799813685248, f - 6369051672525773/4503599627370496]\n",
    "ans = nonlinsolve(eqs,  [a,b,c,d,e,f])\n",
    "ans"
   ]
  },
  {
   "cell_type": "code",
   "execution_count": 82,
   "id": "66a593c3-794b-49fe-8737-58d6f866c843",
   "metadata": {},
   "outputs": [
    {
     "name": "stdout",
     "output_type": "stream",
     "text": [
      "e = 2.0000000000000004\n",
      "f = 1.4142135623730951\n",
      "f**2 = 2.0000000000000004\n",
      "sqrt(e) = 1.41421356237310\n"
     ]
    },
    {
     "data": {
      "text/plain": [
       "2.9999999999999996"
      ]
     },
     "execution_count": 82,
     "metadata": {},
     "output_type": "execute_result"
    }
   ],
   "source": [
    "e =  4503599627370497/2251799813685248\n",
    "print(f'e = {e}')\n",
    "#e = f**2 \n",
    "f = 6369051672525773/4503599627370496\n",
    "print(f'f = {f}')\n",
    "print(f'f**2 = {f**2}')\n",
    "print(f'sqrt(e) = {sqrt(e)}')\n",
    "#f**2\n",
    "#sqrt(f)\n",
    "d = 6755399441055743/2251799813685248\n",
    "d"
   ]
  },
  {
   "cell_type": "code",
   "execution_count": 47,
   "id": "1020cff8-38da-488a-a62f-44fe77d65a9d",
   "metadata": {},
   "outputs": [],
   "source": [
    "def filter_solutions(solutions, symbols):\n",
    "    def satisfies_assumptions(solution, symbols):\n",
    "        for sol, symbol in zip(solution, symbols):\n",
    "            # Check assumptions only for numeric elements\n",
    "            if sol.is_number:\n",
    "                assumptions = symbol.assumptions0\n",
    "                if assumptions.get('positive', False) and not sol.is_positive:\n",
    "                    return False\n",
    "                if assumptions.get('negative', False) and not sol.is_negative:\n",
    "                    return False\n",
    "                if assumptions.get('real', False) and not sol.is_real:\n",
    "                    return False\n",
    "        return True\n",
    "\n",
    "    return {sol for sol in solutions if satisfies_assumptions(sol, symbols)}"
   ]
  },
  {
   "cell_type": "code",
   "execution_count": 48,
   "id": "d492729e-d936-447c-8fed-8934439ee5c6",
   "metadata": {},
   "outputs": [
    {
     "data": {
      "text/plain": [
       "{(2.0*b, b, 2.0, 2.0 - f**2, f**2, f)}"
      ]
     },
     "execution_count": 48,
     "metadata": {},
     "output_type": "execute_result"
    }
   ],
   "source": [
    "filter_solutions(ans, [a,b,c,d,e,f])"
   ]
  },
  {
   "cell_type": "code",
   "execution_count": 43,
   "id": "74208cd3-fd71-4e04-bfdf-62a4ee7ef44c",
   "metadata": {},
   "outputs": [
    {
     "data": {
      "text/plain": [
       "False"
      ]
     },
     "execution_count": 43,
     "metadata": {},
     "output_type": "execute_result"
    }
   ],
   "source": [
    "def satisfies_assumptions(solution, symbols):\n",
    "    return all(symbol.assumptions0.get('positive', True) == (sol > 0) if symbol.assumptions0.get('positive') else True\n",
    "               and symbol.assumptions0.get('negative', True) == (sol < 0) if symbol.assumptions0.get('negative') else True\n",
    "               and symbol.assumptions0.get('real', True) == (sol.is_real) if symbol.assumptions0.get('real') else True\n",
    "               for sol, symbol in zip(solution, symbols))\n",
    "satisfies_assumptions((1,a-c,3,4,5,6),(a,b,c,d,e,f))"
   ]
  },
  {
   "cell_type": "code",
   "execution_count": 26,
   "id": "66d4cfbc-aa2b-4f7c-b31c-a6fbebcbcfbe",
   "metadata": {},
   "outputs": [
    {
     "data": {
      "text/plain": [
       "[(1.00000000000000, 1/(d + f**2), d + f**2, d, f**2, f)]"
      ]
     },
     "execution_count": 26,
     "metadata": {},
     "output_type": "execute_result"
    }
   ],
   "source": [
    "eqs = [a - b*c, c - d - e, e - f**2, a- 1.0]\n",
    "solve(eqs,  [a,b,c,d,e,f])  "
   ]
  },
  {
   "cell_type": "markdown",
   "id": "ca8d97ea-48bc-4673-908a-84f72ba4ebdc",
   "metadata": {},
   "source": [
    "1. never end a pass with a conflict\n",
    "2. rounding error from prior solution no longer satisfies nonlinsolve"
   ]
  },
  {
   "cell_type": "code",
   "execution_count": 51,
   "id": "a4525501-824a-45a1-b384-541baf2548d7",
   "metadata": {},
   "outputs": [
    {
     "data": {
      "text/latex": [
       "$\\displaystyle \\left\\{\\left( b d + 3.00000000000001 b, \\  b, \\  d + 3.00000000000001, \\  d, \\  3.00000000000001, \\  1.73205080756888\\right)\\right\\}$"
      ],
      "text/plain": [
       "{(b*d + 3.00000000000001*b, b, d + 3.00000000000001, d, 3.00000000000001, 1.73205080756888)}"
      ]
     },
     "execution_count": 51,
     "metadata": {},
     "output_type": "execute_result"
    },
    {
     "data": {
      "text/plain": [
       "{(b*d + 3.00000000000001*b, b, d + 3.00000000000001, d, 3.00000000000001, 1.73205080756888)}"
      ]
     },
     "execution_count": 51,
     "metadata": {},
     "output_type": "execute_result"
    }
   ],
   "source": [
    "eqs = [a - b*c, c - d - e, e - f**2, f - 1.73205080756888]\n",
    "\n",
    "ans  = nonlinsolve(eqs,  [a,b,c,d,e,f])\n",
    "ans\n",
    "filter_solutions(ans, [a,b,c,d,e,f])"
   ]
  },
  {
   "cell_type": "code",
   "execution_count": 52,
   "id": "6f4f3511-7b72-48c0-b199-9ce13cebfc44",
   "metadata": {},
   "outputs": [
    {
     "data": {
      "text/latex": [
       "$\\displaystyle \\emptyset$"
      ],
      "text/plain": [
       "EmptySet"
      ]
     },
     "execution_count": 52,
     "metadata": {},
     "output_type": "execute_result"
    }
   ],
   "source": [
    "#round off error causing no solution: \n",
    "eqs = [a - b*c, c - d - e, e - f**2, b - 4.0, c - 3.0, d - 0.4, e - 2.6, f - 1.61245154965971]\n",
    "ans  = nonlinsolve(eqs,  [a,b,c,d,e,f])\n",
    "ans"
   ]
  },
  {
   "cell_type": "code",
   "execution_count": 64,
   "id": "1f894bb6-47df-4975-b59c-e78a288c2428",
   "metadata": {},
   "outputs": [
    {
     "data": {
      "text/latex": [
       "$\\displaystyle \\frac{6369051672525773}{4503599627370496}$"
      ],
      "text/plain": [
       "6369051672525773/4503599627370496"
      ]
     },
     "execution_count": 64,
     "metadata": {},
     "output_type": "execute_result"
    },
    {
     "data": {
      "text/latex": [
       "$\\displaystyle 1.4142135623731$"
      ],
      "text/plain": [
       "1.41421356237310"
      ]
     },
     "execution_count": 64,
     "metadata": {},
     "output_type": "execute_result"
    },
    {
     "data": {
      "text/latex": [
       "$\\displaystyle 1.4142135623731$"
      ],
      "text/plain": [
       "1.41421356237310"
      ]
     },
     "execution_count": 64,
     "metadata": {},
     "output_type": "execute_result"
    }
   ],
   "source": [
    "s2a = Rational(sqrt(2).evalf())\n",
    "s2a\n",
    "s2a.evalf()\n",
    "sqrt(2).evalf()"
   ]
  },
  {
   "cell_type": "code",
   "execution_count": 57,
   "id": "77f72111-f47c-4b09-865b-d543a02ec04c",
   "metadata": {},
   "outputs": [
    {
     "data": {
      "text/latex": [
       "$\\displaystyle \\left\\{\\left( 2, \\  \\sqrt{2}\\right)\\right\\}$"
      ],
      "text/plain": [
       "{(2, sqrt(2))}"
      ]
     },
     "execution_count": 57,
     "metadata": {},
     "output_type": "execute_result"
    },
    {
     "data": {
      "text/latex": [
       "$\\displaystyle \\emptyset$"
      ],
      "text/plain": [
       "EmptySet"
      ]
     },
     "execution_count": 57,
     "metadata": {},
     "output_type": "execute_result"
    }
   ],
   "source": [
    "eqs = [a - b**2, a - 2, b - sqrt(2)]\n",
    "ans = nonlinsolve(eqs, [a, b])\n",
    "ans\n",
    "eqs = [a - b**2, a - 2, b - sqrt(2).evalf(10)]\n",
    "ans = nonlinsolve(eqs, [a, b])\n",
    "ans"
   ]
  },
  {
   "cell_type": "code",
   "execution_count": 59,
   "id": "e4dfb205-18b3-4744-aa63-1f04499372da",
   "metadata": {},
   "outputs": [
    {
     "name": "stdout",
     "output_type": "stream",
     "text": [
      "Solutions: {(2, sqrt(2))}\n",
      "Solutions with rational approximation: EmptySet\n"
     ]
    }
   ],
   "source": [
    "# Define the symbols\n",
    "from sympy import Rational\n",
    "a, b = symbols('a b', real=True, positive=True)\n",
    "\n",
    "# Original equations\n",
    "eqs = [a - b**2, a - 2, b - sqrt(2)]\n",
    "\n",
    "# Solve the system\n",
    "ans = nonlinsolve(eqs, [a, b])\n",
    "print(\"Solutions:\", ans)\n",
    "\n",
    "# Convert sqrt(2) to a rational approximation\n",
    "sqrt_2_approx = Rational(sqrt(2).evalf())\n",
    "\n",
    "# New equations with rational approximation\n",
    "eqs_approx = [a - b**2, a - 2, b - sqrt_2_approx]\n",
    "\n",
    "# Solve the system with the rational approximation\n",
    "ans_approx = nonlinsolve(eqs_approx, [a, b])\n",
    "print(\"Solutions with rational approximation:\", ans_approx)"
   ]
  },
  {
   "cell_type": "code",
   "execution_count": null,
   "id": "68dd945e-7007-419e-a0d2-61492da14b31",
   "metadata": {},
   "outputs": [],
   "source": [
    "def zipsys(syms, inputs):\n",
    "        given = []\n",
    "        print(f'symsols: {st.session_state.sym_sols}')\n",
    "    #grab inputs from number_inputs, but replace with sym representation \n",
    "    #if they are there, since those will be from a prior solution. \n",
    "    #But, don't replace the index i since that has changed from user. \n",
    "        for s, v in inputs.items():\n",
    "            if s != sym:\n",
    "                try: \n",
    "                    given.append(s - st.session_state.sym_sols[s])\n",
    "                except TypeError:\n",
    "                \n",
    "            \n",
    "                    try:\n",
    "                        given.append(s - v)\n",
    "                    except TypeError:\n",
    "                        pass \n",
    "            else:\n",
    "                try:\n",
    "                    given.append(s - v)\n",
    "                except TypeError:\n",
    "                    pass                 \n",
    "        return given\n",
    "{'a': 3.00000000000000, 'b': 0.750000000000000, 'c': 4.00000000000000, 'd': None, 'e': None, 'f': None}"
   ]
  },
  {
   "cell_type": "code",
   "execution_count": null,
   "id": "5918c36f-ea10-4c5f-860f-1656f8db0a03",
   "metadata": {},
   "outputs": [],
   "source": [
    "Lres, Cres, RL = symbols('L_res C_res, R_L', real=True, positive=True)\n",
    "fres, fsw, Tsw, wsw, wres = symbols(r'f_res f_sw, T_sw, \\omega_sw, \\omega_res', real=True, positive=True)\n",
    "Vcmax, Vin, iavg, k = symbols('V_cmax, V_in, i_avg, k', real=True, positive=True)\n",
    "eq1 = Cres - iavg/(2*fres*Vcmax)\n",
    "eq2 = fres - 1/(2*pi*sqrt(Lres*Cres))\n",
    "eq3 = wres - 2*pi*fres\n",
    "eq4 = Tsw - 1/fsw\n",
    "eq5 = fres - k*fsw\n",
    "eqs = [eq1, eq2, eq3, eq4, eq5]\n",
    "syms = [Lres, Cres, RL, fres, fsw, Tsw, iavg, k]\n",
    "inputs = [None, None,None,None,\n",
    "          2, None,None, None]\n",
    "given=[]\n",
    "for s, v in zip(syms, inputs):\n",
    "    try: \n",
    "        given.append(s - v )\n",
    "   \n",
    "    except TypeError:\n",
    "        pass\n",
    "given\n",
    "sys = eqs + given\n",
    "for eq in sys:\n",
    "    eq\n",
    "ans = nonlinsolve(sys, syms)\n",
    "ans"
   ]
  },
  {
   "cell_type": "code",
   "execution_count": 16,
   "id": "c40008d5-53a9-4243-84e8-2e05deb3937f",
   "metadata": {},
   "outputs": [
    {
     "data": {
      "text/latex": [
       "$\\displaystyle \\emptyset$"
      ],
      "text/plain": [
       "EmptySet"
      ]
     },
     "execution_count": 16,
     "metadata": {},
     "output_type": "execute_result"
    },
    {
     "data": {
      "text/latex": [
       "$\\displaystyle \\left\\{\\left( 1, \\  1 - c, \\  c\\right)\\right\\}$"
      ],
      "text/plain": [
       "{(1, 1 - c, c)}"
      ]
     },
     "execution_count": 16,
     "metadata": {},
     "output_type": "execute_result"
    }
   ],
   "source": [
    "a,b,c = symbols('a, b, c', real=True, positive=True)\n",
    "eq1 = a - 1\n",
    "eq2 = a - (b+c)\n",
    "\n",
    "ans = nonlinsolve([eq1, eq2], [a])\n",
    "ans\n",
    "ans = nonlinsolve([eq1, eq2], [a, b, c])\n",
    "ans"
   ]
  },
  {
   "cell_type": "code",
   "execution_count": null,
   "id": "19e798d0-5352-4955-b6b7-4d2b8bb89ad0",
   "metadata": {},
   "outputs": [],
   "source": [
    "eq1 = a > c\n",
    "eq2 = a - (b+c)\n",
    "\n",
    "ans = nonlinsolve([eq1, eq2], [a, b,c])\n",
    "ans"
   ]
  },
  {
   "cell_type": "code",
   "execution_count": 20,
   "id": "8721f556-40d2-43ee-b814-5506d30836a5",
   "metadata": {},
   "outputs": [
    {
     "data": {
      "text/latex": [
       "$\\displaystyle x > y + 1 \\wedge x < 3 - y$"
      ],
      "text/plain": [
       "(x > y + 1) & (x < 3 - y)"
      ]
     },
     "execution_count": 20,
     "metadata": {},
     "output_type": "execute_result"
    }
   ],
   "source": [
    "x, y = symbols('x y', real=True)\n",
    "\n",
    "inequality1 = x + y < 3\n",
    "inequality2 = x - y > 1\n",
    "\n",
    "solution1 = solve(inequality1, x)\n",
    "solution2 = solve(inequality2, x)\n",
    "\n",
    "And(solution1, solution2)\n"
   ]
  },
  {
   "cell_type": "code",
   "execution_count": null,
   "id": "5be516e7-5570-4bc4-b09b-6f8a3296af6e",
   "metadata": {},
   "outputs": [],
   "source": [
    "latex(a)"
   ]
  },
  {
   "cell_type": "code",
   "execution_count": 5,
   "id": "f3814ef3-4d02-426c-a791-87a64f75bea0",
   "metadata": {},
   "outputs": [
    {
     "ename": "SyntaxError",
     "evalue": "closing parenthesis ']' does not match opening parenthesis '(' (1913937076.py, line 12)",
     "output_type": "error",
     "traceback": [
      "\u001b[0;36m  Cell \u001b[0;32mIn[5], line 12\u001b[0;36m\u001b[0m\n\u001b[0;31m    1/(2*np.pi*np.sqrt(x[0]*x[1]]\u001b[0m\n\u001b[0m                                ^\u001b[0m\n\u001b[0;31mSyntaxError\u001b[0m\u001b[0;31m:\u001b[0m closing parenthesis ']' does not match opening parenthesis '('\n"
     ]
    }
   ],
   "source": [
    "'''\n",
    "x0 Lres \n",
    "x1 Cres \n",
    "x2 fres\n",
    "x5 wres \n",
    "x6 Vcmax\n",
    "x7 iavg\n",
    "x8 k\n",
    "'''\n",
    "def func(x):\n",
    "    return [(x[7] / (2*x[6]*x[2])) - x[1],\n",
    "           1/(2*np.pi*np.sqrt(x[0]*x[1]]\n",
    "root = fsolve(func, [1, 1])\n",
    "root"
   ]
  },
  {
   "cell_type": "code",
   "execution_count": 6,
   "id": "d6ca01df-f069-4837-992d-c0e0d31dcd57",
   "metadata": {},
   "outputs": [],
   "source": [
    "\n",
    "sys.path.append('/home/erik/GitRepos/PowerElectronics')"
   ]
  },
  {
   "cell_type": "code",
   "execution_count": 7,
   "id": "cfbc18a7-5798-4bfa-9bb3-22390710d3b2",
   "metadata": {},
   "outputs": [],
   "source": [
    "from constraint_helpers import *\n",
    "fsw_max = 1e6\n",
    "fsw_min = 10e3\n",
    "wsw_max = 2*np.pi*fsw_max\n",
    "wsw_min = 2*np.pi*fsw_min\n",
    "Tsw_min = 1/fsw_max\n",
    "Tsw_max = 1/fsw_min\n",
    "Lres_min = 1e-10\n",
    "Lres_max = 1e-3\n",
    "Cres_min = Lres_min\n",
    "Cres_max = Lres_max\n",
    "fres_min = 1/(2*np.pi*np.sqrt(Lres_max*Cres_max))\n",
    "fres_max = 1/(2*np.pi*np.sqrt(Lres_min*Cres_min))\n",
    "wres_min = 2*np.pi*fres_min\n",
    "wres_max = 2*np.pi*fres_max\n",
    "Lres = variable('L_{res}', 'H', '%.2e', min_value=Lres_min, max_value=Lres_max, step=1e-10, real=True, positive=True)\n",
    "Cres = variable('C_{res}', 'F', '%.2e', min_value=Cres_min, max_value=Cres_max, step=1e-10, real=True, positive=True)\n",
    "RL =  variable('R_L', 'Ω', '%.2f', min_value=.001, max_value=1000.0, step=.001, real=True, positive=True)\n",
    "fres = variable('f_{res}', 'Hz', '%.2e',min_value=fres_min, max_value=fres_max, step=fres_min, real=True, positive=True )\n",
    "fsw = variable('f_{sw}', 'Hz', '%.2e',min_value=fsw_min, max_value=fsw_max, step=fsw_min, real=True, positive=True)\n",
    "Tsw = variable('T_{sw}', 's', '%.2e', min_value=Tsw_min, max_value=Tsw_max, step=Tsw_min, real=True, positive=True)\n",
    "wsw = variable(r'\\omega_{sw}', 'rad/s', '%.2e',min_value=wsw_min, max_value=wsw_max, step=wsw_min, real=True, positive=True)\n",
    "wres = variable(r'\\omega_{res}', 'rad/s', '%.2e',min_value=wres_min, max_value=wres_max, step=wres_min, real=True, positive=True)\n",
    "Vcmax = variable('V_{C,max}', 'V', '%.2f',min_value=10.0, max_value=200.0,step=1.0, real=True, positive=True)\n",
    "Vin = variable('V_{in}', 'Vin', '%.2f',min_value=10.0, max_value=200.0,step=1.0, real=True, positive=True)\n",
    "iavg = variable('i_{avg}', 'A', '%.2f',min_value=.1, max_value=20.0,step=.1, real=True, positive=True)\n",
    "k = variable('k', '', '', min_value=.1, max_value=1.0,step=.1, real=True, positive=True)"
   ]
  },
  {
   "cell_type": "markdown",
   "id": "39fb9f35-d81f-4e64-bf52-15e6c30682a8",
   "metadata": {},
   "source": [
    "there are certain number of equations e\n",
    "there are some number of unknowns u, known k: u + k = v\n",
    "there are some values input from user, from which others are symbollically constrained \n",
    "Those are each additional equations \n",
    "\n",
    "The same number of equations as unknowns \n",
    "\n",
    "e eqs, v variables \n",
    "v - k = u\n",
    "eqs + k  has to equal v\n",
    "If eqs + k < v, need to input guesses as constraints. Variables report their guesses (perhaps customarily).   "
   ]
  },
  {
   "cell_type": "code",
   "execution_count": 15,
   "id": "dcbebeaa-8ebc-4ca5-8de3-846b48cfaf80",
   "metadata": {},
   "outputs": [
    {
     "data": {
      "text/plain": [
       "'\\nx0 Lres \\nx1 Cres \\nx2 fres\\nx3 fsw \\nx4 Tsw \\nx5 wres \\nx6 Vcmax\\nx7 iavg\\nx8 k\\n'"
      ]
     },
     "execution_count": 15,
     "metadata": {},
     "output_type": "execute_result"
    },
    {
     "data": {
      "text/plain": [
       "array([1.00000000e-06, 1.00000000e-06, 1.59154943e+05, 2.00000000e+05,\n",
       "       5.00000000e-06, 1.00000000e+06, 5.00000000e+01, 1.59139282e+01,\n",
       "       7.95774715e-01])"
      ]
     },
     "execution_count": 15,
     "metadata": {},
     "output_type": "execute_result"
    },
    {
     "data": {
      "text/plain": [
       "array([ True,  True,  True,  True,  True,  True,  True,  True,  True])"
      ]
     },
     "execution_count": 15,
     "metadata": {},
     "output_type": "execute_result"
    },
    {
     "data": {
      "text/plain": [
       "[False, False, False, False, False, True, True, True, True]"
      ]
     },
     "execution_count": 15,
     "metadata": {},
     "output_type": "execute_result"
    }
   ],
   "source": [
    "'''\n",
    "x0 Lres \n",
    "x1 Cres \n",
    "x2 fres\n",
    "x3 fsw \n",
    "x4 Tsw \n",
    "x5 wres \n",
    "x6 Vcmax\n",
    "x7 iavg\n",
    "x8 k\n",
    "'''\n",
    "def func(x):\n",
    "    return [(x[7] / (2*x[6]*x[2])) - x[1],\n",
    "           1/(2*np.pi*np.sqrt(x[0]*x[1])) - x[2],\n",
    "            2*np.pi*x[2]- x[5],\n",
    "            1/x[3] - x[4],\n",
    "            x[3]*x[8] - x[2],\n",
    "            x[0] - 1e-6,\n",
    "            x[1] - 1e-6,\n",
    "            x[3] - 2e5,\n",
    "            x[6] - 50]\n",
    "              \n",
    "root = fsolve(func, [1e-6, 1e-6, 2e5, fsw.guess, Tsw.guess,\n",
    "                     wres.guess, Vcmax.guess, iavg.guess, k.guess  ])\n",
    "root\n",
    "np.isclose(func(root), np.zeros(9))\n",
    "\n",
    "[math.isclose(*a, rel_tol=.001) for a in zip(func(root), np.zeros(9))]"
   ]
  },
  {
   "cell_type": "code",
   "execution_count": 19,
   "id": "00afe051-d8f5-4c59-9cec-65b49aae2ea9",
   "metadata": {},
   "outputs": [
    {
     "data": {
      "text/plain": [
       "44.74225600737906"
      ]
     },
     "execution_count": 19,
     "metadata": {},
     "output_type": "execute_result"
    }
   ],
   "source": [
    "Vcmax.guess \n"
   ]
  },
  {
   "cell_type": "code",
   "execution_count": 9,
   "id": "a7b5974c-c713-4d96-a73e-f183dde618d3",
   "metadata": {},
   "outputs": [
    {
     "data": {
      "text/plain": [
       "[-9.840439849484411e-11,\n",
       " -2.9103830456733704e-11,\n",
       " 1.1641532182693481e-10,\n",
       " 9.317362419797304e-21,\n",
       " 1.4551915228366852e-10,\n",
       " 0.0,\n",
       " 0.0,\n",
       " 0.0,\n",
       " 0.0]"
      ]
     },
     "execution_count": 9,
     "metadata": {},
     "output_type": "execute_result"
    }
   ],
   "source": [
    "func(root)"
   ]
  },
  {
   "cell_type": "code",
   "execution_count": 10,
   "id": "7481f0b8-6cac-42e9-a5ca-d8f88381149c",
   "metadata": {},
   "outputs": [
    {
     "data": {
      "text/plain": [
       "[True, True, True, True, True, True, True, True, True]"
      ]
     },
     "execution_count": 10,
     "metadata": {},
     "output_type": "execute_result"
    }
   ],
   "source": [
    "[math.isclose(*a, abs_tol=1e-5) for a in zip(func(root), np.zeros(9))]"
   ]
  },
  {
   "cell_type": "code",
   "execution_count": 125,
   "id": "ee62774c-feef-4c85-8bc9-2d988e901121",
   "metadata": {},
   "outputs": [
    {
     "data": {
      "text/plain": [
       "array([5.78259069, 1.04545848, 1.1       ])"
      ]
     },
     "execution_count": 125,
     "metadata": {},
     "output_type": "execute_result"
    }
   ],
   "source": [
    "\n",
    "def func(x):\n",
    "    return [x[0] * np.cos(x[1]) - 4 + x[2],\n",
    "            x[1] * x[0] - x[1] - 5,\n",
    "           x[2]-1.1]\n",
    "root = fsolve(func, [1, 1, 1])\n",
    "root"
   ]
  },
  {
   "cell_type": "markdown",
   "id": "93753a7d-c531-4a06-adb0-94a2e5282459",
   "metadata": {},
   "source": [
    "### try to figure out inequalities [eq33]"
   ]
  },
  {
   "cell_type": "code",
   "execution_count": 33,
   "id": "abc93cd4-4780-4fe5-b4db-85c79f89d9e8",
   "metadata": {},
   "outputs": [
    {
     "data": {
      "text/latex": [
       "$\\displaystyle \\frac{\\pi Q}{2 m \\left(m + 1\\right)} \\leq \\frac{f_{sw}}{f_{res}}$"
      ],
      "text/plain": [
       "pi*Q/(2*m*(m + 1)) <= f_sw/f_res"
      ]
     },
     "execution_count": 33,
     "metadata": {},
     "output_type": "execute_result"
    },
    {
     "data": {
      "text/latex": [
       "$\\displaystyle \\frac{f_{sw}}{f_{res}} \\leq \\frac{\\pi Q}{2 m \\left(m - 1\\right)}$"
      ],
      "text/plain": [
       "f_sw/f_res <= pi*Q/(2*m*(m - 1))"
      ]
     },
     "execution_count": 33,
     "metadata": {},
     "output_type": "execute_result"
    },
    {
     "data": {
      "text/latex": [
       "$\\displaystyle Q \\leq \\frac{2 m - 2}{\\pi}$"
      ],
      "text/plain": [
       "Q <= (2*m - 2)/pi"
      ]
     },
     "execution_count": 33,
     "metadata": {},
     "output_type": "execute_result"
    },
    {
     "data": {
      "text/latex": [
       "$\\displaystyle k - \\frac{f_{sw}}{f_{res}}$"
      ],
      "text/plain": [
       "k - f_sw/f_res"
      ]
     },
     "execution_count": 33,
     "metadata": {},
     "output_type": "execute_result"
    }
   ],
   "source": [
    "exp1 = pi*Q/(2*m*(m+1)) <= fsw/fres\n",
    "exp1\n",
    "exp2 = fsw/fres <= pi*Q/(2*m*(m-1))\n",
    "exp2\n",
    "exp3 = Q <= 2*(m-1)/pi\n",
    "exp3\n",
    "exp4 = k - fsw/fres\n",
    "exp4"
   ]
  },
  {
   "cell_type": "code",
   "execution_count": 25,
   "id": "769b7f48-7809-4bee-b945-daea88f9d289",
   "metadata": {},
   "outputs": [
    {
     "data": {
      "text/latex": [
       "$\\displaystyle \\left\\{17, 18, \\ldots\\right\\}$"
      ],
      "text/plain": [
       "Range(17, oo, 1)"
      ]
     },
     "execution_count": 25,
     "metadata": {},
     "output_type": "execute_result"
    },
    {
     "data": {
      "text/latex": [
       "$\\displaystyle 17$"
      ],
      "text/plain": [
       "17"
      ]
     },
     "execution_count": 25,
     "metadata": {},
     "output_type": "execute_result"
    }
   ],
   "source": [
    "ans = solveset(exp3.subs({Q:10}), m, domain = S.Naturals0)\n",
    "ans \n",
    "#min(ans)\n",
    "m_min = ans.start\n",
    "m_min"
   ]
  },
  {
   "cell_type": "code",
   "execution_count": 29,
   "id": "a807226a-fddf-4b78-ba98-a38525ac474d",
   "metadata": {},
   "outputs": [
    {
     "data": {
      "text/latex": [
       "$\\displaystyle \\left\\{m\\; \\middle|\\; m \\in \\mathbb{C} \\wedge 99 \\leq \\frac{2 m - 2}{\\pi} \\right\\}$"
      ],
      "text/plain": [
       "ConditionSet(m, 99 <= (2*m - 2)/pi, Complexes)"
      ]
     },
     "execution_count": 29,
     "metadata": {},
     "output_type": "execute_result"
    },
    {
     "data": {
      "text/latex": [
       "$\\displaystyle \\left[156.508836352695, \\infty\\right)$"
      ],
      "text/plain": [
       "Interval(156.508836352695, oo)"
      ]
     },
     "execution_count": 29,
     "metadata": {},
     "output_type": "execute_result"
    }
   ],
   "source": [
    "ans = solveset(exp3.subs({Q:99}), m)\n",
    "ans\n",
    "ans = solveset(exp3.subs({Q:99}), m, domain=S.Reals)\n",
    "ans.evalf()"
   ]
  },
  {
   "cell_type": "code",
   "execution_count": 26,
   "id": "2297f8ea-c886-47fe-9963-e9ce8309ed1d",
   "metadata": {},
   "outputs": [
    {
     "data": {
      "text/latex": [
       "$\\displaystyle \\text{True}$"
      ],
      "text/plain": [
       "True"
      ]
     },
     "execution_count": 26,
     "metadata": {},
     "output_type": "execute_result"
    },
    {
     "data": {
      "text/latex": [
       "$\\displaystyle \\text{False}$"
      ],
      "text/plain": [
       "False"
      ]
     },
     "execution_count": 26,
     "metadata": {},
     "output_type": "execute_result"
    }
   ],
   "source": [
    "exp1.subs({Q:10, fsw: 90e3, fres:990e3, m:m_min})\n",
    "exp2.subs({Q:10, fsw: 90e3, fres:990e3, m:m_min})"
   ]
  },
  {
   "cell_type": "markdown",
   "id": "54461c31-acc2-4d0a-8f65-6095527ef1e4",
   "metadata": {},
   "source": [
    "### work the other way - find $f_{sw}/f_{res}$ to satisfy mode m and Q "
   ]
  },
  {
   "cell_type": "code",
   "execution_count": 39,
   "id": "aa1f9010-a8bd-494a-bd85-ded65e382aaa",
   "metadata": {},
   "outputs": [
    {
     "data": {
      "text/latex": [
       "$\\displaystyle \\frac{17 \\pi}{8010} \\leq \\frac{f_{sw}}{f_{res}}$"
      ],
      "text/plain": [
       "17*pi/8010 <= f_sw/f_res"
      ]
     },
     "execution_count": 39,
     "metadata": {},
     "output_type": "execute_result"
    },
    {
     "data": {
      "text/latex": [
       "$\\displaystyle \\frac{f_{sw}}{f_{res}} \\leq \\frac{17 \\pi}{7832}$"
      ],
      "text/plain": [
       "f_sw/f_res <= 17*pi/7832"
      ]
     },
     "execution_count": 39,
     "metadata": {},
     "output_type": "execute_result"
    },
    {
     "data": {
      "text/latex": [
       "$\\displaystyle \\text{True}$"
      ],
      "text/plain": [
       "True"
      ]
     },
     "execution_count": 39,
     "metadata": {},
     "output_type": "execute_result"
    },
    {
     "data": {
      "text/latex": [
       "$\\displaystyle 0.05 - \\frac{f_{sw}}{f_{res}}$"
      ],
      "text/plain": [
       "0.05 - f_sw/f_res"
      ]
     },
     "execution_count": 39,
     "metadata": {},
     "output_type": "execute_result"
    }
   ],
   "source": [
    "subs = {k:.05, Q:34, m:89}\n",
    "exp1.subs(subs)\n",
    "exp2.subs(subs)\n",
    "exp3.subs(subs)\n",
    "exp4.subs(subs)"
   ]
  },
  {
   "cell_type": "code",
   "execution_count": 42,
   "id": "5c269c39-82ab-409b-b772-650d5ef5acd2",
   "metadata": {},
   "outputs": [
    {
     "data": {
      "text/latex": [
       "$\\displaystyle f_{sw} = 0.05 f_{res} \\wedge f_{sw} \\geq \\frac{17 \\pi f_{res}}{8010} \\wedge f_{sw} \\leq \\frac{17 \\pi f_{res}}{7832}$"
      ],
      "text/plain": [
       "Eq(f_sw, 0.05*f_res) & (f_sw >= 17*pi*f_res/8010) & (f_sw <= 17*pi*f_res/7832)"
      ]
     },
     "execution_count": 42,
     "metadata": {},
     "output_type": "execute_result"
    }
   ],
   "source": [
    "solve([exp1.subs(subs),exp2.subs(subs),exp3.subs(subs),exp4.subs(subs)], fsw)"
   ]
  },
  {
   "cell_type": "code",
   "execution_count": 50,
   "id": "c2c5b43a-0d4d-4ad3-9858-5442c353e934",
   "metadata": {},
   "outputs": [
    {
     "data": {
      "text/latex": [
       "$\\displaystyle f_{sw} = 49500.0 \\wedge f_{sw} \\geq \\frac{2970000.0 \\pi}{2.0 m^{2} + 2.0 m} \\wedge f_{sw} \\leq \\frac{2970000.0 \\pi}{2.0 m^{2} - 2.0 m} \\wedge 1 + \\frac{3 \\pi}{2} \\leq m$"
      ],
      "text/plain": [
       "Eq(f_sw, 49500.0) & (1 + 3*pi/2 <= m) & (f_sw >= 2970000.0*pi/(2.0*m**2 + 2.0*m)) & (f_sw <= 2970000.0*pi/(2.0*m**2 - 2.0*m))"
      ]
     },
     "execution_count": 50,
     "metadata": {},
     "output_type": "execute_result"
    }
   ],
   "source": [
    "subs = {k:.05, Q:3, fres:990e3}\n",
    "ans = solve([exp1.subs(subs),exp2.subs(subs),exp3.subs(subs),exp4.subs(subs)], fsw)\n",
    "ans"
   ]
  },
  {
   "cell_type": "code",
   "execution_count": 52,
   "id": "250fc61e-26a3-4389-bb4a-ffb307f4c8e2",
   "metadata": {},
   "outputs": [
    {
     "data": {
      "text/plain": [
       "{-1,\n",
       " -2.00000000000000,\n",
       " 1,\n",
       " 2,\n",
       " 2.00000000000000,\n",
       " 2970000.00000000,\n",
       " 3/2,\n",
       " 49500.0000000000,\n",
       " f_sw,\n",
       " m,\n",
       " pi}"
      ]
     },
     "execution_count": 52,
     "metadata": {},
     "output_type": "execute_result"
    }
   ],
   "source": [
    "ans.atoms()"
   ]
  },
  {
   "cell_type": "code",
   "execution_count": null,
   "id": "85d8e73c-d92f-483c-b23b-10f8b84ee110",
   "metadata": {},
   "outputs": [],
   "source": []
  },
  {
   "cell_type": "code",
   "execution_count": null,
   "id": "870d24c6-38c8-4c95-8ab3-90b659e5445e",
   "metadata": {},
   "outputs": [],
   "source": [
    "subs = {k:.05, Q:34, m:89}#, fres:990e3}\n",
    "solve([exp1.subs(subs),exp2.subs(subs),exp3.subs(subs),exp4.subs(subs)], fsw)"
   ]
  }
 ],
 "metadata": {
  "kernelspec": {
   "display_name": "Python 3.12",
   "language": "python",
   "name": "py312"
  },
  "language_info": {
   "codemirror_mode": {
    "name": "ipython",
    "version": 3
   },
   "file_extension": ".py",
   "mimetype": "text/x-python",
   "name": "python",
   "nbconvert_exporter": "python",
   "pygments_lexer": "ipython3",
   "version": "3.12.4"
  }
 },
 "nbformat": 4,
 "nbformat_minor": 5
}
