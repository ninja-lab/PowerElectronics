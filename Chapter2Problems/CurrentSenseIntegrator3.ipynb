{
 "cells": [
  {
   "cell_type": "code",
   "execution_count": 11,
   "id": "13638351",
   "metadata": {},
   "outputs": [],
   "source": [
    "from IPython.core.interactiveshell import InteractiveShell\n",
    "InteractiveShell.ast_node_interactivity = \"all\"\n",
    "from sympy import *\n",
    "import numpy as np\n",
    "import matplotlib.pyplot as plt\n",
    "from math import log10\n",
    "from matplotlib.widgets import Slider, Button, RadioButtons\n",
    "from matplotlib.ticker import EngFormatter"
   ]
  },
  {
   "cell_type": "code",
   "execution_count": 14,
   "id": "68d86df0",
   "metadata": {},
   "outputs": [],
   "source": [
    "Rf = symbols('R_f', real=True, positive=True)\n",
    "R1 = symbols('R_1', real=True, positive=True)\n",
    "Cf= symbols('C_f', real=True, positive=True)\n",
    "#Vin= symbols('V_in', real=True, cls=Function)\n",
    "Vo= symbols('V_o', real=True, cls=Function)\n",
    "Vref= symbols('V_ref', real=True)\n",
    "t= symbols('t', real=True)\n",
    "tau= symbols('tau', real=True)\n",
    "w= symbols('omega', real=True)\n",
    "C1= symbols('C_1', real=True)\n",
    "Vin= sin(w*t)+Vref"
   ]
  },
  {
   "cell_type": "markdown",
   "id": "a5d108b8",
   "metadata": {},
   "source": [
    "### The inverting input "
   ]
  },
  {
   "cell_type": "code",
   "execution_count": 3,
   "id": "4dcb713a",
   "metadata": {},
   "outputs": [
    {
     "data": {
      "text/latex": [
       "$\\displaystyle \\frac{d}{d t} \\operatorname{V_{o}}{\\left(t \\right)} + \\frac{\\operatorname{V_{o}}{\\left(t \\right)}}{C_{f} R_{f}} = \\frac{- V_{ref} - \\sin{\\left(\\omega t \\right)}}{C_{f} R_{1}}$"
      ],
      "text/plain": [
       "Eq(Derivative(V_o(t), t) + V_o(t)/(C_f*R_f), (-V_ref - sin(omega*t))/(C_f*R_1))"
      ]
     },
     "execution_count": 3,
     "metadata": {},
     "output_type": "execute_result"
    },
    {
     "data": {
      "text/latex": [
       "$\\displaystyle \\operatorname{V_{o}}{\\left(t \\right)} = C_{1} e^{- \\frac{t}{C_{f} R_{f}}} + \\frac{C_{f} R_{f}^{2} \\omega \\cos{\\left(\\omega t \\right)}}{R_{1} \\left(C_{f}^{2} R_{f}^{2} \\omega^{2} + 1\\right)} - \\frac{R_{f} V_{ref}}{R_{1}} - \\frac{R_{f} \\sin{\\left(\\omega t \\right)}}{R_{1} \\left(C_{f}^{2} R_{f}^{2} \\omega^{2} + 1\\right)}$"
      ],
      "text/plain": [
       "Eq(V_o(t), C1*exp(-t/(C_f*R_f)) + C_f*R_f**2*omega*cos(omega*t)/(R_1*(C_f**2*R_f**2*omega**2 + 1)) - R_f*V_ref/R_1 - R_f*sin(omega*t)/(R_1*(C_f**2*R_f**2*omega**2 + 1)))"
      ]
     },
     "execution_count": 3,
     "metadata": {},
     "output_type": "execute_result"
    }
   ],
   "source": [
    "Vin= sin(w*t)+Vref\n",
    "eq1 = Vo(t).diff(t) + Vo(t)/(Rf*Cf)\n",
    "eq2 = -Vin/(R1*Cf)\n",
    "eq = Eq(eq1, eq2)\n",
    "eq\n",
    "ans = dsolve(Eq(eq1, eq2), Vo(t))\n",
    "ans"
   ]
  },
  {
   "cell_type": "code",
   "execution_count": 4,
   "id": "63f1e9d8",
   "metadata": {},
   "outputs": [
    {
     "data": {
      "text/plain": [
       "{-1, 1, 2, C1, C_f, R_1, R_f, V_ref, omega, t}"
      ]
     },
     "execution_count": 4,
     "metadata": {},
     "output_type": "execute_result"
    }
   ],
   "source": [
    "ans.atoms()"
   ]
  },
  {
   "cell_type": "code",
   "execution_count": 5,
   "id": "279a9886",
   "metadata": {},
   "outputs": [
    {
     "data": {
      "text/latex": [
       "$\\displaystyle \\operatorname{V_{o}}{\\left(t \\right)} = - 0.159 \\sin{\\left(170000 \\pi t \\right)} + 1.87 \\cos{\\left(170000 \\pi t \\right)} - 55.2$"
      ],
      "text/plain": [
       "Eq(V_o(t), -0.159*sin(170000*pi*t) + 1.87*cos(170000*pi*t) - 55.2)"
      ]
     },
     "execution_count": 5,
     "metadata": {},
     "output_type": "execute_result"
    }
   ],
   "source": [
    "ans = ans.subs({Vref:2.5, Rf:10e3, Cf: 2.2e-9, R1:453, w:2*pi*85e3, 'C1':0})\n",
    "ans.evalf(3)"
   ]
  },
  {
   "cell_type": "markdown",
   "id": "3ff83fcd",
   "metadata": {},
   "source": [
    "### The non-inverting input "
   ]
  },
  {
   "cell_type": "code",
   "execution_count": 6,
   "id": "a7e8d28f",
   "metadata": {},
   "outputs": [
    {
     "data": {
      "text/latex": [
       "$\\displaystyle \\frac{d}{d t} \\operatorname{V_{o}}{\\left(t \\right)} + \\frac{\\operatorname{V_{o}}{\\left(t \\right)}}{C_{f} R_{f}} = \\frac{V_{ref} \\left(\\frac{1}{R_{f}} + \\frac{1}{R_{1}}\\right)}{C_{f}}$"
      ],
      "text/plain": [
       "Eq(Derivative(V_o(t), t) + V_o(t)/(C_f*R_f), V_ref*(1/R_f + 1/R_1)/C_f)"
      ]
     },
     "execution_count": 6,
     "metadata": {},
     "output_type": "execute_result"
    },
    {
     "data": {
      "text/latex": [
       "$\\displaystyle \\operatorname{V_{o}}{\\left(t \\right)} = C_{1} e^{- \\frac{t}{C_{f} R_{f}}} + V_{ref} + \\frac{R_{f} V_{ref}}{R_{1}}$"
      ],
      "text/plain": [
       "Eq(V_o(t), C1*exp(-t/(C_f*R_f)) + V_ref + R_f*V_ref/R_1)"
      ]
     },
     "execution_count": 6,
     "metadata": {},
     "output_type": "execute_result"
    }
   ],
   "source": [
    "eq1 = Vo(t).diff(t) + Vo(t)/(Rf*Cf)\n",
    "eq2 = Vref*(1/R1+1/Rf)*(1/Cf)\n",
    "eq = Eq(eq1, eq2)\n",
    "eq\n",
    "ans2 = dsolve(Eq(eq1, eq2), Vo(t))\n",
    "ans2"
   ]
  },
  {
   "cell_type": "code",
   "execution_count": 7,
   "id": "c3961b13",
   "metadata": {},
   "outputs": [
    {
     "data": {
      "text/latex": [
       "$\\displaystyle \\operatorname{V_{o}}{\\left(t \\right)} = 57.7$"
      ],
      "text/plain": [
       "Eq(V_o(t), 57.7)"
      ]
     },
     "execution_count": 7,
     "metadata": {},
     "output_type": "execute_result"
    }
   ],
   "source": [
    "ans2 = ans2.subs({Vref:2.5, Rf:10e3, Cf: 2.2e-9, R1:453, w:2*3.14*85e3, 'C1':0})\n",
    "ans2.evalf(3)"
   ]
  },
  {
   "cell_type": "markdown",
   "id": "5daef313",
   "metadata": {},
   "source": [
    "### Add the two together using superposition "
   ]
  },
  {
   "cell_type": "code",
   "execution_count": 8,
   "id": "f638851d",
   "metadata": {},
   "outputs": [
    {
     "data": {
      "text/latex": [
       "$\\displaystyle - 0.159 \\sin{\\left(170000 \\pi t \\right)} + 1.87 \\cos{\\left(170000 \\pi t \\right)} + 2.5$"
      ],
      "text/plain": [
       "-0.159*sin(170000*pi*t) + 1.87*cos(170000*pi*t) + 2.5"
      ]
     },
     "execution_count": 8,
     "metadata": {},
     "output_type": "execute_result"
    }
   ],
   "source": [
    "(ans.rhs+ans2.rhs).evalf(3)"
   ]
  },
  {
   "cell_type": "markdown",
   "id": "23b450d9",
   "metadata": {},
   "source": [
    "### Try the other setup for analysis "
   ]
  },
  {
   "cell_type": "code",
   "execution_count": 20,
   "id": "b989eab0",
   "metadata": {},
   "outputs": [
    {
     "data": {
      "text/latex": [
       "$\\displaystyle \\operatorname{V_{o}}{\\left(t \\right)} = C_{1} e^{- \\frac{t}{C_{f} R_{f}}} + \\frac{C_{f} R_{f}^{2} \\omega \\cos{\\left(\\omega t \\right)}}{R_{1} \\left(C_{f}^{2} R_{f}^{2} \\omega^{2} + 1\\right)} + V_{ref} - \\frac{R_{f} \\sin{\\left(\\omega t \\right)}}{R_{1} \\left(C_{f}^{2} R_{f}^{2} \\omega^{2} + 1\\right)}$"
      ],
      "text/plain": [
       "Eq(V_o(t), C1*exp(-t/(C_f*R_f)) + C_f*R_f**2*omega*cos(omega*t)/(R_1*(C_f**2*R_f**2*omega**2 + 1)) + V_ref - R_f*sin(omega*t)/(R_1*(C_f**2*R_f**2*omega**2 + 1)))"
      ]
     },
     "execution_count": 20,
     "metadata": {},
     "output_type": "execute_result"
    }
   ],
   "source": [
    "Vin= sin(w*t)\n",
    "eq = Vin/(R1*Cf)-Vref/(Rf*Cf)+Vo(t)/(Rf*Cf) + Vo(t).diff(t)\n",
    "ans3 = dsolve(eq, Vo(t))\n",
    "ans3"
   ]
  },
  {
   "cell_type": "code",
   "execution_count": 21,
   "id": "09660762",
   "metadata": {},
   "outputs": [
    {
     "data": {
      "text/latex": [
       "$\\displaystyle \\operatorname{V_{o}}{\\left(t \\right)} = - 0.159 \\sin{\\left(533800.0 t \\right)} + 1.87 \\cos{\\left(533800.0 t \\right)} + 2.5$"
      ],
      "text/plain": [
       "Eq(V_o(t), -0.159*sin(533800.0*t) + 1.87*cos(533800.0*t) + 2.5)"
      ]
     },
     "execution_count": 21,
     "metadata": {},
     "output_type": "execute_result"
    }
   ],
   "source": [
    "ans3 = ans3.subs({Vref:2.5, Rf:10e3, Cf: 2.2e-9, R1:453, w:2*3.14*85e3, 'C1':0})\n",
    "ans3.evalf(3)"
   ]
  },
  {
   "cell_type": "code",
   "execution_count": null,
   "id": "e8e7c1dc",
   "metadata": {},
   "outputs": [],
   "source": []
  }
 ],
 "metadata": {
  "kernelspec": {
   "display_name": "Python 3 (ipykernel)",
   "language": "python",
   "name": "python3"
  },
  "language_info": {
   "codemirror_mode": {
    "name": "ipython",
    "version": 3
   },
   "file_extension": ".py",
   "mimetype": "text/x-python",
   "name": "python",
   "nbconvert_exporter": "python",
   "pygments_lexer": "ipython3",
   "version": "3.8.13"
  }
 },
 "nbformat": 4,
 "nbformat_minor": 5
}
