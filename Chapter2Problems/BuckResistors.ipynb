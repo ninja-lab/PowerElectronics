{
 "cells": [
  {
   "cell_type": "code",
   "execution_count": 43,
   "id": "celtic-folder",
   "metadata": {},
   "outputs": [],
   "source": [
    "from IPython.display import display, Latex\n",
    "from functools import wraps\n",
    "#from sympy import *\n",
    "from sympy.core.symbol import symbols\n",
    "from sympy.solvers.solveset import nonlinsolve\n",
    "from sympy.utilities.lambdify import lambdify\n",
    "from sympy.printing import latex, pprint\n",
    "from sympy import Symbol\n",
    "from sympy.integrals import integrate\n",
    "from sympy import simplify\n",
    "from sympy import sqrt\n",
    "from sympy import Piecewise"
   ]
  },
  {
   "cell_type": "code",
   "execution_count": 14,
   "id": "improved-liberal",
   "metadata": {},
   "outputs": [],
   "source": [
    "def make_symbols():\n",
    "    global R, C, L, D, s, Vc, Vg, VL, iin, iL, Idc, iR, fs, M, delta_iL, delta_vC, Ts, t\n",
    "    \n",
    "    R = symbols('R', real=True, positive=True)\n",
    "    C = symbols('C', real=True, positive=True)\n",
    "    L = symbols('L', real=True, positive=True)\n",
    "    D = symbols('D', real=True, positive=True)\n",
    "    \n",
    "    fs = symbols('f_s', real=True, positive=True)\n",
    "    Ts = symbols('T_s', real=True, positive=True)\n",
    "\n",
    "    Vc = symbols('V_c', real=True)\n",
    "    #Vo = symbols('V_o', real=True)\n",
    "    Vg = symbols('V_g', real= True)\n",
    "    VL = symbols('V_L', real= True)\n",
    "\n",
    "    iin = symbols('i_in', real=True)\n",
    "    iL = symbols('i_L', real=True)\n",
    "    Idc = symbols('Idc', real=True)\n",
    "    iR = symbols('i_R', real=True)\n",
    "    delta_iL = symbols('\\\\Delta\\ i_L', real=True)\n",
    "    delta_vC = symbols('\\\\Delta\\ vC', real=True)\n",
    "    M = symbols('M', real=True)\n",
    "    t = symbols('t', real=True, positive=True)\n",
    "    #M = Vc/Vg\n",
    "    return\n",
    "make_symbols()"
   ]
  },
  {
   "cell_type": "code",
   "execution_count": 44,
   "id": "chubby-cargo",
   "metadata": {},
   "outputs": [
    {
     "data": {
      "text/latex": [
       "$\\displaystyle Idc + \\Delta i_{L} - \\frac{2 \\Delta i_{L} t}{T_{s} \\left(1 - D\\right)}$"
      ],
      "text/plain": [
       "Idc + \\Delta i_L - 2*\\Delta i_L*t/(T_s*(1 - D))"
      ]
     },
     "execution_count": 44,
     "metadata": {},
     "output_type": "execute_result"
    }
   ],
   "source": [
    "Ion = -2*delta_iL*t/((1-D)*Ts)+Idc+delta_iL\n",
    "Ion"
   ]
  },
  {
   "cell_type": "code",
   "execution_count": null,
   "id": "generous-science",
   "metadata": {},
   "outputs": [],
   "source": []
  },
  {
   "cell_type": "code",
   "execution_count": 45,
   "id": "average-celebration",
   "metadata": {},
   "outputs": [
    {
     "ename": "TypeError",
     "evalue": "cannot determine truth value of Relational",
     "output_type": "error",
     "traceback": [
      "\u001b[0;31m---------------------------------------------------------------------------\u001b[0m",
      "\u001b[0;31mTypeError\u001b[0m                                 Traceback (most recent call last)",
      "\u001b[0;32m<ipython-input-45-14748c5b4866>\u001b[0m in \u001b[0;36m<module>\u001b[0;34m\u001b[0m\n\u001b[0;32m----> 1\u001b[0;31m \u001b[0mIrsns\u001b[0m \u001b[0;34m=\u001b[0m \u001b[0mPiecewise\u001b[0m\u001b[0;34m(\u001b[0m\u001b[0;34m(\u001b[0m\u001b[0;36m0\u001b[0m\u001b[0;34m,\u001b[0m \u001b[0mt\u001b[0m\u001b[0;34m<\u001b[0m\u001b[0mD\u001b[0m\u001b[0;34m*\u001b[0m\u001b[0mTs\u001b[0m\u001b[0;34m)\u001b[0m\u001b[0;34m,\u001b[0m \u001b[0;34m(\u001b[0m\u001b[0mIon\u001b[0m\u001b[0;34m,\u001b[0m \u001b[0mD\u001b[0m\u001b[0;34m*\u001b[0m\u001b[0mTs\u001b[0m\u001b[0;34m<\u001b[0m\u001b[0mt\u001b[0m\u001b[0;34m<\u001b[0m\u001b[0mTs\u001b[0m\u001b[0;34m)\u001b[0m\u001b[0;34m)\u001b[0m\u001b[0;34m\u001b[0m\u001b[0;34m\u001b[0m\u001b[0m\n\u001b[0m",
      "\u001b[0;32m~/anaconda3/lib/python3.8/site-packages/sympy/core/relational.py\u001b[0m in \u001b[0;36m__bool__\u001b[0;34m(self)\u001b[0m\n\u001b[1;32m    393\u001b[0m \u001b[0;34m\u001b[0m\u001b[0m\n\u001b[1;32m    394\u001b[0m     \u001b[0;32mdef\u001b[0m \u001b[0m__bool__\u001b[0m\u001b[0;34m(\u001b[0m\u001b[0mself\u001b[0m\u001b[0;34m)\u001b[0m\u001b[0;34m:\u001b[0m\u001b[0;34m\u001b[0m\u001b[0;34m\u001b[0m\u001b[0m\n\u001b[0;32m--> 395\u001b[0;31m         \u001b[0;32mraise\u001b[0m \u001b[0mTypeError\u001b[0m\u001b[0;34m(\u001b[0m\u001b[0;34m\"cannot determine truth value of Relational\"\u001b[0m\u001b[0;34m)\u001b[0m\u001b[0;34m\u001b[0m\u001b[0;34m\u001b[0m\u001b[0m\n\u001b[0m\u001b[1;32m    396\u001b[0m \u001b[0;34m\u001b[0m\u001b[0m\n\u001b[1;32m    397\u001b[0m     \u001b[0;32mdef\u001b[0m \u001b[0m_eval_as_set\u001b[0m\u001b[0;34m(\u001b[0m\u001b[0mself\u001b[0m\u001b[0;34m)\u001b[0m\u001b[0;34m:\u001b[0m\u001b[0;34m\u001b[0m\u001b[0;34m\u001b[0m\u001b[0m\n",
      "\u001b[0;31mTypeError\u001b[0m: cannot determine truth value of Relational"
     ]
    }
   ],
   "source": [
    "Irsns = Piecewise((0, t<D*Ts), (Ion, D*Ts<t<Ts))"
   ]
  },
  {
   "cell_type": "code",
   "execution_count": null,
   "id": "interstate-robinson",
   "metadata": {},
   "outputs": [],
   "source": [
    "sqrt(simplify(integrate(Irsns**2, (t, 0, Ts))/Ts))"
   ]
  },
  {
   "cell_type": "code",
   "execution_count": null,
   "id": "international-employee",
   "metadata": {},
   "outputs": [],
   "source": []
  },
  {
   "cell_type": "code",
   "execution_count": null,
   "id": "cutting-bridal",
   "metadata": {},
   "outputs": [],
   "source": []
  },
  {
   "cell_type": "code",
   "execution_count": 46,
   "id": "specific-thesaurus",
   "metadata": {},
   "outputs": [
    {
     "data": {
      "text/latex": [
       "$\\displaystyle Idc + \\Delta i_{L} + \\frac{2 \\Delta i_{L} t}{T_{s} \\left(1 - D\\right)}$"
      ],
      "text/plain": [
       "Idc + \\Delta i_L + 2*\\Delta i_L*t/(T_s*(1 - D))"
      ]
     },
     "execution_count": 46,
     "metadata": {},
     "output_type": "execute_result"
    }
   ],
   "source": [
    "Irsns = 2*delta_iL*t/((1-D)*Ts)+Idc+delta_iL\n",
    "Irsns"
   ]
  },
  {
   "cell_type": "code",
   "execution_count": 47,
   "id": "collective-imperial",
   "metadata": {},
   "outputs": [],
   "source": [
    "Irsns_RMS = sqrt(simplify(integrate(Irsns**2, (t, 0, (1-D)*Ts))/Ts)) #only integrate over the bottom FET on time"
   ]
  },
  {
   "cell_type": "code",
   "execution_count": 48,
   "id": "oriental-guyana",
   "metadata": {},
   "outputs": [
    {
     "data": {
      "text/latex": [
       "$\\displaystyle \\sqrt{- D Idc^{2} - 4 D Idc \\Delta i_{L} - \\frac{13 D \\Delta i_{L}^{2}}{3} + Idc^{2} + 4 Idc \\Delta i_{L} + \\frac{13 \\Delta i_{L}^{2}}{3}}$"
      ],
      "text/plain": [
       "sqrt(-D*Idc**2 - 4*D*Idc*\\Delta i_L - 13*D*\\Delta i_L**2/3 + Idc**2 + 4*Idc*\\Delta i_L + 13*\\Delta i_L**2/3)"
      ]
     },
     "execution_count": 48,
     "metadata": {},
     "output_type": "execute_result"
    }
   ],
   "source": [
    "Irsns_RMS"
   ]
  },
  {
   "cell_type": "code",
   "execution_count": 55,
   "id": "continent-active",
   "metadata": {},
   "outputs": [],
   "source": [
    "vals = {D:.1, Idc:5, delta_iL:.5}"
   ]
  },
  {
   "cell_type": "code",
   "execution_count": 56,
   "id": "bored-catch",
   "metadata": {},
   "outputs": [
    {
     "data": {
      "text/latex": [
       "$\\displaystyle 0.6495$"
      ],
      "text/plain": [
       "0.649500000000000"
      ]
     },
     "execution_count": 56,
     "metadata": {},
     "output_type": "execute_result"
    }
   ],
   "source": [
    "Irsns_RMS.subs(vals)**2*.02"
   ]
  },
  {
   "cell_type": "code",
   "execution_count": null,
   "id": "naughty-marble",
   "metadata": {},
   "outputs": [],
   "source": []
  },
  {
   "cell_type": "code",
   "execution_count": null,
   "id": "starting-psychiatry",
   "metadata": {},
   "outputs": [],
   "source": []
  }
 ],
 "metadata": {
  "kernelspec": {
   "display_name": "Python 3 (ipykernel)",
   "language": "python",
   "name": "python3"
  },
  "language_info": {
   "codemirror_mode": {
    "name": "ipython",
    "version": 3
   },
   "file_extension": ".py",
   "mimetype": "text/x-python",
   "name": "python",
   "nbconvert_exporter": "python",
   "pygments_lexer": "ipython3",
   "version": "3.8.13"
  }
 },
 "nbformat": 4,
 "nbformat_minor": 5
}
