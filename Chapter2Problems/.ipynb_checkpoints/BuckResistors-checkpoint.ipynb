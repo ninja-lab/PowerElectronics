{
 "cells": [
  {
   "cell_type": "code",
   "execution_count": 28,
   "id": "elder-catalog",
   "metadata": {},
   "outputs": [],
   "source": [
    "from IPython.display import display, Latex\n",
    "from functools import wraps\n",
    "#from sympy import *\n",
    "from sympy.core.symbol import symbols\n",
    "from sympy.solvers.solveset import nonlinsolve\n",
    "from sympy.utilities.lambdify import lambdify\n",
    "from sympy.printing import latex, pprint\n",
    "from sympy import Symbol\n",
    "from sympy.integrals import integrate\n",
    "from sympy import simplify\n",
    "from sympy import sqrt"
   ]
  },
  {
   "cell_type": "code",
   "execution_count": 14,
   "id": "lesser-charlotte",
   "metadata": {},
   "outputs": [],
   "source": [
    "def make_symbols():\n",
    "    global R, C, L, D, s, Vc, Vg, VL, iin, iL, Idc, iR, fs, M, delta_iL, delta_vC, Ts, t\n",
    "    \n",
    "    R = symbols('R', real=True, positive=True)\n",
    "    C = symbols('C', real=True, positive=True)\n",
    "    L = symbols('L', real=True, positive=True)\n",
    "    D = symbols('D', real=True, positive=True)\n",
    "    \n",
    "    fs = symbols('f_s', real=True, positive=True)\n",
    "    Ts = symbols('T_s', real=True, positive=True)\n",
    "\n",
    "    Vc = symbols('V_c', real=True)\n",
    "    #Vo = symbols('V_o', real=True)\n",
    "    Vg = symbols('V_g', real= True)\n",
    "    VL = symbols('V_L', real= True)\n",
    "\n",
    "    iin = symbols('i_in', real=True)\n",
    "    iL = symbols('i_L', real=True)\n",
    "    Idc = symbols('Idc', real=True)\n",
    "    iR = symbols('i_R', real=True)\n",
    "    delta_iL = symbols('\\\\Delta\\ i_L', real=True)\n",
    "    delta_vC = symbols('\\\\Delta\\ vC', real=True)\n",
    "    M = symbols('M', real=True)\n",
    "    t = symbols('t', real=True, positive=True)\n",
    "    #M = Vc/Vg\n",
    "    return\n",
    "make_symbols()"
   ]
  },
  {
   "cell_type": "code",
   "execution_count": 15,
   "id": "quarterly-stability",
   "metadata": {},
   "outputs": [
    {
     "data": {
      "text/latex": [
       "$\\displaystyle Idc + \\Delta i_{L} - \\frac{2 \\Delta i_{L} t}{T_{s} \\left(1 - D\\right)}$"
      ],
      "text/plain": [
       "Idc + \\Delta i_L - 2*\\Delta i_L*t/(T_s*(1 - D))"
      ]
     },
     "execution_count": 15,
     "metadata": {},
     "output_type": "execute_result"
    }
   ],
   "source": [
    "Irsns = -2*delta_iL*t/((1-D)*Ts)+Idc+delta_iL\n",
    "Irsns"
   ]
  },
  {
   "cell_type": "code",
   "execution_count": 33,
   "id": "alternative-lambda",
   "metadata": {},
   "outputs": [],
   "source": [
    "Irsns_RMS = sqrt(simplify(integrate(Irsns**2, (t, 0, Ts))/Ts))"
   ]
  },
  {
   "cell_type": "code",
   "execution_count": 34,
   "id": "initial-showcase",
   "metadata": {},
   "outputs": [
    {
     "data": {
      "text/latex": [
       "$\\displaystyle \\sqrt{\\frac{D^{2} Idc^{2} + 2 D^{2} Idc \\Delta i_{L} + D^{2} \\Delta i_{L}^{2} - 2 D Idc^{2} - 2 D Idc \\Delta i_{L} + Idc^{2} + \\frac{\\Delta i_{L}^{2}}{3}}{D^{2} - 2 D + 1}}$"
      ],
      "text/plain": [
       "sqrt((D**2*Idc**2 + 2*D**2*Idc*\\Delta i_L + D**2*\\Delta i_L**2 - 2*D*Idc**2 - 2*D*Idc*\\Delta i_L + Idc**2 + \\Delta i_L**2/3)/(D**2 - 2*D + 1))"
      ]
     },
     "execution_count": 34,
     "metadata": {},
     "output_type": "execute_result"
    }
   ],
   "source": [
    "Irsns_RMS"
   ]
  },
  {
   "cell_type": "code",
   "execution_count": null,
   "id": "secure-merit",
   "metadata": {},
   "outputs": [],
   "source": []
  },
  {
   "cell_type": "code",
   "execution_count": null,
   "id": "entire-nylon",
   "metadata": {},
   "outputs": [],
   "source": []
  },
  {
   "cell_type": "code",
   "execution_count": null,
   "id": "responsible-bridal",
   "metadata": {},
   "outputs": [],
   "source": []
  },
  {
   "cell_type": "code",
   "execution_count": null,
   "id": "prescription-management",
   "metadata": {},
   "outputs": [],
   "source": []
  }
 ],
 "metadata": {
  "kernelspec": {
   "display_name": "Python 3",
   "language": "python",
   "name": "python3"
  },
  "language_info": {
   "codemirror_mode": {
    "name": "ipython",
    "version": 3
   },
   "file_extension": ".py",
   "mimetype": "text/x-python",
   "name": "python",
   "nbconvert_exporter": "python",
   "pygments_lexer": "ipython3",
   "version": "3.8.8"
  }
 },
 "nbformat": 4,
 "nbformat_minor": 5
}
