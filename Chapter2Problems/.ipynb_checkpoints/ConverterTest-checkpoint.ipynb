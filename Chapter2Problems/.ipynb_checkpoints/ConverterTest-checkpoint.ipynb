{
 "cells": [
  {
   "cell_type": "code",
   "execution_count": 2,
   "id": "b77233dd",
   "metadata": {},
   "outputs": [
    {
     "name": "stdout",
     "output_type": "stream",
     "text": [
      "Found Numpy. WIll be used for storing data\n"
     ]
    }
   ],
   "source": [
    "from IPython.display import display, Latex\n",
    "from functools import wraps\n",
    "from itertools import filterfalse \n",
    "from orderedset import OrderedSet\n",
    "import sympy\n",
    "from sympy.core.symbol import symbols, Symbol\n",
    "from sympy import S, Interval\n",
    "\n",
    "from sympy.printing import latex, pprint\n",
    "from sympy import Symbol, simplify, srepr, preorder_traversal, postorder_traversal\n",
    "import numpy as np\n",
    "import os\n",
    "import matplotlib.pyplot as plt\n",
    "from matplotlib.ticker import FuncFormatter, EngFormatter\n",
    "\n",
    "from math import log10\n",
    "from PyLTSpice import LTSpice_RawRead\n",
    "from sympy.solvers import solve, nonlinsolve\n",
    "import sys\n",
    "import logging\n",
    "from ipywidgets import FloatSlider, interact, interactive\n",
    "from converter7 import *"
   ]
  },
  {
   "cell_type": "code",
   "execution_count": 3,
   "id": "edbadacd",
   "metadata": {},
   "outputs": [],
   "source": [
    "def make_symbols():\n",
    "    global a, b, c, d, e, f, g,M, x, y, z, delta_iL, delta_vC\n",
    "    \n",
    "    a = variable('a', 'ohms', None, real=True, positive=True)\n",
    "    b = variable('b', 'F', None, real=True, positive=True)\n",
    "    c = variable('c', 'H', real=True, positive=True)\n",
    "    d = variable('d', '%', real=True, positive=True)\n",
    "    \n",
    "    e = variable('e', 'Hz', real=True, positive=True)\n",
    "    \n",
    "\n",
    "    f = variable('f', 'V', real=True)\n",
    "    g = variable('g', 'V', real= True)\n",
    "    x = variable('x')\n",
    "    y = variable('y')\n",
    "    z = variable('z')\n",
    " \n",
    "    i1 = variable('i_1', real=True)\n",
    "    i2 = variable('i_2', real=True)\n",
    "    M = variable('M', real=True, positive=True)\n",
    "    return\n",
    "make_symbols()"
   ]
  },
  {
   "cell_type": "code",
   "execution_count": 4,
   "id": "219a7a60",
   "metadata": {},
   "outputs": [
    {
     "name": "stdout",
     "output_type": "stream",
     "text": [
      "<Logger __main__ (DEBUG)>\n",
      "__main__\n"
     ]
    }
   ],
   "source": [
    "#logformat = '{asctime}\\n{message}'\n",
    "logformat = '{message}'\n",
    "logger = logging.getLogger(__name__)\n",
    "if logger.hasHandlers():\n",
    "    #handlers somehow stay alive even after restarting iPython\n",
    "    #console and clearing variables\n",
    "    logger.handlers.clear()\n",
    "\n",
    "logger.setLevel('DEBUG')\n",
    "print(logger)\n",
    "print(__name__)\n",
    "# Use FileHandler() to log to a file\n",
    "file_handler = logging.FileHandler('ConverterTest.log', mode='w')\n",
    "formatter = logging.Formatter(fmt=logformat, style='{' )\n",
    "file_handler.setFormatter(formatter)\n",
    "logger.addHandler(file_handler)"
   ]
  },
  {
   "cell_type": "code",
   "execution_count": 9,
   "id": "9f34d31e",
   "metadata": {},
   "outputs": [
    {
     "data": {
      "text/latex": [
       "$$f = c - d$$"
      ],
      "text/plain": [
       "<IPython.core.display.Latex object>"
      ]
     },
     "metadata": {},
     "output_type": "display_data"
    },
    {
     "data": {
      "text/latex": [
       "$$x = b + f$$"
      ],
      "text/plain": [
       "<IPython.core.display.Latex object>"
      ]
     },
     "metadata": {},
     "output_type": "display_data"
    },
    {
     "data": {
      "text/latex": [
       "$\\displaystyle a b < c$"
      ],
      "text/plain": [
       "a*b < c"
      ]
     },
     "metadata": {},
     "output_type": "display_data"
    }
   ],
   "source": [
    "conv = converter()\n",
    "eq1 = a*b < c\n",
    "eq2 = c - (d+f) \n",
    "eq3 = b + f - x\n",
    "conv.add_equation(eq1) #VLavg must equal 0 in steady state\n",
    "conv.add_equation(eq2)\n",
    "conv.add_equation(eq3)\n",
    "conv.showequations()"
   ]
  },
  {
   "cell_type": "code",
   "execution_count": 14,
   "id": "96e52b86",
   "metadata": {},
   "outputs": [
    {
     "name": "stdout",
     "output_type": "stream",
     "text": [
      "Add(Mul(Symbol('a'), Symbol('b'), Symbol('f'), Symbol('x')), Mul(Integer(-1), Symbol('c')))\n"
     ]
    }
   ],
   "source": [
    "a,b,c, x,f = symbols('a,b,c, x, f')\n",
    "eq3 = a*b*x*f - c\n",
    "eq4 = c - (x+f)\n",
    "s = srepr(eq3)\n",
    "print(srepr(eq3))"
   ]
  },
  {
   "cell_type": "code",
   "execution_count": null,
   "id": "284ba248",
   "metadata": {},
   "outputs": [],
   "source": [
    "s.find('Mul')"
   ]
  },
  {
   "cell_type": "code",
   "execution_count": 13,
   "id": "e5c89980",
   "metadata": {},
   "outputs": [
    {
     "data": {
      "text/plain": [
       "'M'"
      ]
     },
     "execution_count": 13,
     "metadata": {},
     "output_type": "execute_result"
    }
   ],
   "source": [
    "s[s.find('Mul')]"
   ]
  },
  {
   "cell_type": "code",
   "execution_count": 7,
   "id": "bd596248",
   "metadata": {},
   "outputs": [
    {
     "name": "stdout",
     "output_type": "stream",
     "text": [
      "a*b*f*x - c\n",
      "-c\n",
      "-1\n",
      "c\n",
      "a*b*f*x\n",
      "a\n",
      "b\n",
      "f\n",
      "x\n",
      "\n",
      "c - f - x\n",
      "c\n",
      "-f\n",
      "-1\n",
      "f\n",
      "-x\n",
      "-1\n",
      "x\n"
     ]
    }
   ],
   "source": [
    "for arg in preorder_traversal(eq3):\n",
    "    print(arg)\n",
    "print()\n",
    "for arg in preorder_traversal(eq4):\n",
    "    print(arg)"
   ]
  },
  {
   "cell_type": "code",
   "execution_count": 29,
   "id": "15de67ff",
   "metadata": {},
   "outputs": [],
   "source": [
    "def pre(expr):\n",
    "    print('expr: ', expr)\n",
    "    print('func: ', expr.func)\n",
    "    print('args: ', expr.args)\n",
    "    print()\n",
    "    for arg in expr.args:\n",
    "        pre(arg)"
   ]
  },
  {
   "cell_type": "code",
   "execution_count": 30,
   "id": "75bd50a2",
   "metadata": {},
   "outputs": [
    {
     "name": "stdout",
     "output_type": "stream",
     "text": [
      "expr:  a*b - c\n",
      "func:  <class 'sympy.core.add.Add'>\n",
      "args:  (-c, a*b)\n",
      "\n",
      "expr:  -c\n",
      "func:  <class 'sympy.core.mul.Mul'>\n",
      "args:  (-1, c)\n",
      "\n",
      "expr:  -1\n",
      "func:  <class 'sympy.core.numbers.NegativeOne'>\n",
      "args:  ()\n",
      "\n",
      "expr:  c\n",
      "func:  <class 'sympy.core.symbol.Symbol'>\n",
      "args:  ()\n",
      "\n",
      "expr:  a*b\n",
      "func:  <class 'sympy.core.mul.Mul'>\n",
      "args:  (a, b)\n",
      "\n",
      "expr:  a\n",
      "func:  <class 'sympy.core.symbol.Symbol'>\n",
      "args:  ()\n",
      "\n",
      "expr:  b\n",
      "func:  <class 'sympy.core.symbol.Symbol'>\n",
      "args:  ()\n",
      "\n"
     ]
    }
   ],
   "source": [
    "pre(eq3)"
   ]
  },
  {
   "cell_type": "code",
   "execution_count": null,
   "id": "f69be56c",
   "metadata": {},
   "outputs": [],
   "source": []
  },
  {
   "cell_type": "code",
   "execution_count": null,
   "id": "96628814",
   "metadata": {},
   "outputs": [],
   "source": []
  },
  {
   "cell_type": "code",
   "execution_count": 23,
   "id": "ce449c1a",
   "metadata": {},
   "outputs": [
    {
     "name": "stdout",
     "output_type": "stream",
     "text": [
      "b\n",
      "f\n",
      "b + f\n"
     ]
    }
   ],
   "source": [
    "for arg in postorder_traversal(eq3):\n",
    "    print(arg)"
   ]
  },
  {
   "cell_type": "code",
   "execution_count": 5,
   "id": "af45d11c",
   "metadata": {},
   "outputs": [
    {
     "name": "stdout",
     "output_type": "stream",
     "text": [
      "<class 'sympy.sets.sets.Complement'>\n"
     ]
    },
    {
     "data": {
      "text/latex": [
       "$\\displaystyle \\left\\{\\frac{g}{f}\\right\\} \\setminus \\left\\{0\\right\\}$"
      ],
      "text/plain": [
       "Complement(FiniteSet(g/f), FiniteSet(0))"
      ]
     },
     "metadata": {},
     "output_type": "display_data"
    }
   ],
   "source": [
    "a = variable('a', 'ohms', None, real=True, positive=True)\n",
    "b = variable('b', 'F', None, real=True, positive=True)\n",
    "c = variable('c', 'H',None, real=True, positive=True)\n",
    "eq4 = f - g/M\n",
    "ans = solveset(eq4, M)\n",
    "print(type(ans))\n",
    "display(ans)"
   ]
  },
  {
   "cell_type": "code",
   "execution_count": 6,
   "id": "1e49f31a",
   "metadata": {},
   "outputs": [
    {
     "name": "stdout",
     "output_type": "stream",
     "text": [
      "<class 'sympy.sets.sets.FiniteSet'>\n"
     ]
    },
    {
     "data": {
      "text/latex": [
       "$\\displaystyle \\left\\{M f\\right\\}$"
      ],
      "text/plain": [
       "FiniteSet(M*f)"
      ]
     },
     "metadata": {},
     "output_type": "display_data"
    }
   ],
   "source": [
    "eq4 = f - g/M\n",
    "ans = solveset(eq4, g)\n",
    "print(type(ans))\n",
    "display(ans)"
   ]
  },
  {
   "cell_type": "code",
   "execution_count": 7,
   "id": "3b3e6af5",
   "metadata": {},
   "outputs": [
    {
     "name": "stdout",
     "output_type": "stream",
     "text": [
      "<class 'sympy.sets.conditionset.ConditionSet'>\n"
     ]
    },
    {
     "data": {
      "text/latex": [
       "$\\displaystyle \\left\\{a\\; \\middle|\\; a \\in \\mathbb{C} \\wedge a b < c \\right\\}$"
      ],
      "text/plain": [
       "ConditionSet(a, a*b < c, Complexes)"
      ]
     },
     "metadata": {},
     "output_type": "display_data"
    }
   ],
   "source": [
    "#a = variable('a', 'ohms', None, real=True, positive=True)\n",
    "a = Symbol('a', real=True, positive=True)\n",
    "b = Symbol('b', real=True, positive=True)\n",
    "c = Symbol('c', real=True, positive=True)\n",
    "eq1 = a*b < c\n",
    "ans = solveset(eq1, a)\n",
    "print(type(ans))\n",
    "display(ans)"
   ]
  },
  {
   "cell_type": "code",
   "execution_count": 8,
   "id": "f609985a",
   "metadata": {},
   "outputs": [
    {
     "name": "stdout",
     "output_type": "stream",
     "text": [
      "<class 'sympy.sets.conditionset.ConditionSet'>\n"
     ]
    },
    {
     "data": {
      "text/latex": [
       "$\\displaystyle \\left\\{a\\; \\middle|\\; a \\in \\mathbb{C} \\wedge a b < c \\right\\}$"
      ],
      "text/plain": [
       "ConditionSet(a, a*b < c, Complexes)"
      ]
     },
     "metadata": {},
     "output_type": "display_data"
    }
   ],
   "source": [
    "a = Symbol('a', positive=True)\n",
    "b = Symbol('b', positive=True)\n",
    "c = Symbol('c', positive=True)\n",
    "eq1 = a*b < c\n",
    "ans = solveset(eq1, a)\n",
    "print(type(ans))\n",
    "display(ans)\n"
   ]
  },
  {
   "cell_type": "code",
   "execution_count": 9,
   "id": "1b03c7b9",
   "metadata": {},
   "outputs": [
    {
     "name": "stdout",
     "output_type": "stream",
     "text": [
      "<class 'sympy.sets.sets.Interval'>\n"
     ]
    },
    {
     "data": {
      "text/latex": [
       "$\\displaystyle \\left(-\\infty, \\frac{c}{b}\\right)$"
      ],
      "text/plain": [
       "Interval.open(-oo, c/b)"
      ]
     },
     "metadata": {},
     "output_type": "display_data"
    }
   ],
   "source": [
    "a = Symbol('a', positive=True)#, finite=True)\n",
    "b = Symbol('b', positive=True)\n",
    "c = Symbol('c', positive=True)\n",
    "eq1 = a*b < c\n",
    "ans = solveset(eq1,a , domain=S.Reals)\n",
    "print(type(ans))\n",
    "display(ans)"
   ]
  },
  {
   "cell_type": "code",
   "execution_count": 10,
   "id": "b8267790",
   "metadata": {},
   "outputs": [
    {
     "name": "stdout",
     "output_type": "stream",
     "text": [
      "<class 'sympy.sets.sets.FiniteSet'>\n"
     ]
    },
    {
     "data": {
      "text/latex": [
       "$\\displaystyle \\left\\{\\frac{b}{a}\\right\\}$"
      ],
      "text/plain": [
       "FiniteSet(b/a)"
      ]
     },
     "metadata": {},
     "output_type": "display_data"
    }
   ],
   "source": [
    "a = Symbol('a', real=True, positive=True)\n",
    "b = Symbol('b', real=True, positive=True)\n",
    "c = Symbol('c', real=True, positive=True)\n",
    "eq1 = a - b/c\n",
    "ans = solveset(eq1, c)\n",
    "print(type(ans))\n",
    "display(ans)"
   ]
  },
  {
   "cell_type": "code",
   "execution_count": 11,
   "id": "899edc4e",
   "metadata": {
    "scrolled": true
   },
   "outputs": [
    {
     "name": "stdout",
     "output_type": "stream",
     "text": [
      "<class 'sympy.sets.sets.FiniteSet'>\n"
     ]
    },
    {
     "data": {
      "text/latex": [
       "$\\displaystyle \\left\\{\\frac{b}{a}\\right\\}$"
      ],
      "text/plain": [
       "FiniteSet(b/a)"
      ]
     },
     "metadata": {},
     "output_type": "display_data"
    }
   ],
   "source": [
    "a = Symbol('a', real=True)\n",
    "b = Symbol('b', real=True, positive=True)\n",
    "c = Symbol('c', real=True)\n",
    "eq1 = a - b/c\n",
    "ans = solveset(eq1, c)\n",
    "print(type(ans))\n",
    "display(ans)"
   ]
  },
  {
   "cell_type": "code",
   "execution_count": null,
   "id": "295d351a",
   "metadata": {},
   "outputs": [],
   "source": [
    "t = pretty('looking for ') + pretty(ans, use_unicode=True)\n",
    "indents= '\\t'*2\n",
    "t"
   ]
  },
  {
   "cell_type": "code",
   "execution_count": null,
   "id": "e2c1cb47",
   "metadata": {},
   "outputs": [],
   "source": [
    "t.replace('\\n', '\\n'+indents+' '*12)"
   ]
  },
  {
   "cell_type": "code",
   "execution_count": null,
   "id": "ae9a8565",
   "metadata": {
    "scrolled": true
   },
   "outputs": [],
   "source": [
    "print(indents+ t.replace('\\n', '\\n'+indents+' '*12))"
   ]
  },
  {
   "cell_type": "code",
   "execution_count": 48,
   "id": "6157d6d2",
   "metadata": {},
   "outputs": [],
   "source": [
    "flag = 1\n",
    "def p(*args):\n",
    "    '''\n",
    "    first arg: sympy object\n",
    "    second arg: string \n",
    "    '''\n",
    "    def helper(*args, chars=0):\n",
    "        if len(args) == 0:\n",
    "            return ''\n",
    "        print(f'chars start = {chars}')\n",
    "        ret_str= pretty(args[0], use_unicode=True)\n",
    "        indent_ret_str = ret_str.replace('\\n', '\\n'+indents+' '*chars)\n",
    "        chars = len(indent_ret_str.expandtabs())\n",
    "        print(f'chars end = {chars}')\n",
    "        return indent_ret_str + helper(*args[1:], chars=chars)\n",
    "    indents = '\\t'*flag\n",
    "    return indents + helper(*args)#, chars = 4)"
   ]
  },
  {
   "cell_type": "code",
   "execution_count": 49,
   "id": "4fc1e07a",
   "metadata": {},
   "outputs": [
    {
     "name": "stdout",
     "output_type": "stream",
     "text": [
      "chars start = 0\n",
      "chars end = 12\n",
      "chars start = 12\n",
      "chars end = 51\n",
      "'⎧b⎫\\n⎨─⎬\\n⎩a⎭'\n",
      "\tlookingxforx⎧b⎫\n",
      "\txxxxxxxxxxxx⎨─⎬\n",
      "\txxxxxxxxxxxx⎩a⎭\n",
      "'\\tlooking for ⎧b⎫\\n\\t            ⎨─⎬\\n\\t            ⎩a⎭'\n"
     ]
    }
   ],
   "source": [
    "result= p('looking for ', ans )\n",
    "print(pretty(ans).__repr__())\n",
    "print(result.replace(' ', 'x'))\n",
    "print(result.__repr__() )"
   ]
  },
  {
   "cell_type": "code",
   "execution_count": 39,
   "id": "bb8998fa",
   "metadata": {},
   "outputs": [
    {
     "data": {
      "text/plain": [
       "'01xx012x0123xxxx01234'"
      ]
     },
     "execution_count": 39,
     "metadata": {},
     "output_type": "execute_result"
    }
   ],
   "source": [
    "'01\\t012\\t0123\\t01234'.expandtabs(4).replace(' ', 'x')"
   ]
  },
  {
   "cell_type": "code",
   "execution_count": 40,
   "id": "5d6dd921",
   "metadata": {},
   "outputs": [
    {
     "data": {
      "text/plain": [
       "4"
      ]
     },
     "execution_count": 40,
     "metadata": {},
     "output_type": "execute_result"
    }
   ],
   "source": [
    "len('xx\\t\\t')"
   ]
  },
  {
   "cell_type": "code",
   "execution_count": 54,
   "id": "e52a2d77",
   "metadata": {},
   "outputs": [
    {
     "data": {
      "text/plain": [
       "16"
      ]
     },
     "execution_count": 54,
     "metadata": {},
     "output_type": "execute_result"
    }
   ],
   "source": [
    "len(('\\t'*2).expandtabs())"
   ]
  },
  {
   "cell_type": "code",
   "execution_count": null,
   "id": "cb27000c",
   "metadata": {},
   "outputs": [],
   "source": [
    "len('\\t')"
   ]
  },
  {
   "cell_type": "code",
   "execution_count": 37,
   "id": "36545822",
   "metadata": {},
   "outputs": [
    {
     "name": "stdout",
     "output_type": "stream",
     "text": [
      "aa\taaaa\taaaaa\n",
      "2\n",
      "13\n",
      "17\n"
     ]
    }
   ],
   "source": [
    "mys = 'aa\\taaaa\\taaaaa'\n",
    "print(mys)\n",
    "print(len(mys.replace('a', '')))\n",
    "print(len(mys))\n",
    "print(len(mys.expandtabs(4)))"
   ]
  },
  {
   "cell_type": "code",
   "execution_count": null,
   "id": "bfcd8b65",
   "metadata": {},
   "outputs": [],
   "source": [
    "a = Symbol('a', real=True)\n",
    "b = Symbol('b', real=True)\n",
    "c = Symbol('c', real=True)\n",
    "eq1 = a - b/c\n",
    "ans = solveset(eq1, c)#domain=Interval(0, 100))\n",
    "print(type(ans))\n",
    "display(ans)"
   ]
  },
  {
   "cell_type": "code",
   "execution_count": null,
   "id": "614d8eb0",
   "metadata": {},
   "outputs": [],
   "source": []
  },
  {
   "cell_type": "code",
   "execution_count": null,
   "id": "2801ddbd",
   "metadata": {},
   "outputs": [],
   "source": [
    "a = variable('a', 'ohms', None)\n",
    "b = variable('b', 'F', None)\n",
    "c = variable('c', 'H')\n",
    "eq1 = a - b/c\n",
    "ans = solveset(eq1, c)\n",
    "print(type(ans))\n",
    "display(ans)"
   ]
  },
  {
   "cell_type": "code",
   "execution_count": null,
   "id": "e1f2fe7a",
   "metadata": {
    "scrolled": true
   },
   "outputs": [],
   "source": [
    "ans = solveset(eq4, M)\n",
    "ans"
   ]
  },
  {
   "cell_type": "code",
   "execution_count": null,
   "id": "f4958f61",
   "metadata": {},
   "outputs": [],
   "source": [
    "ans.args[1].args == (0,)"
   ]
  },
  {
   "cell_type": "code",
   "execution_count": null,
   "id": "d3f1bbf2",
   "metadata": {},
   "outputs": [],
   "source": [
    "in_equalities = (sympy.core.relational.LessThan,\n",
    "            sympy.core.relational.GreaterThan,\n",
    "            sympy.core.relational.StrictGreaterThan,\n",
    "            sympy.core.relational.StrictLessThan)\n",
    "any([isinstance(eq1, rel) for rel in in_equalities])"
   ]
  },
  {
   "cell_type": "code",
   "execution_count": null,
   "id": "e5b65c90",
   "metadata": {},
   "outputs": [],
   "source": [
    "display(eq1)\n",
    "print(eq1.func)\n",
    "isinstance(a<b, sympy.core.relational.LessThan)"
   ]
  },
  {
   "cell_type": "code",
   "execution_count": null,
   "id": "c363776c",
   "metadata": {},
   "outputs": [],
   "source": [
    "conv.inequalities"
   ]
  },
  {
   "cell_type": "code",
   "execution_count": null,
   "id": "da069196",
   "metadata": {},
   "outputs": [],
   "source": [
    "hbridge.equations?"
   ]
  },
  {
   "cell_type": "code",
   "execution_count": null,
   "id": "25d3e9bc",
   "metadata": {},
   "outputs": [],
   "source": [
    "myprint(a, *conv.solver(given={}, want=a))\n",
    "myprint(b, *conv.solver(given={}, want=b))\n",
    "myprint(c, *conv.solver(given={}, want=c))\n",
    "myprint(d, *conv.solver(given={}, want=d))\n",
    "myprint(f, *conv.solver(given={}, want=f))"
   ]
  },
  {
   "cell_type": "code",
   "execution_count": null,
   "id": "16d09512",
   "metadata": {},
   "outputs": [],
   "source": [
    "print(f' a computation test1: {hbridge.computesym(a, {b:-2, f:5})}')"
   ]
  },
  {
   "cell_type": "code",
   "execution_count": null,
   "id": "cde0cc8b",
   "metadata": {},
   "outputs": [],
   "source": [
    "a = Symbol('a', real=True)\n",
    "b = Symbol('b', real=True)\n",
    "c = Symbol('c', real=True)\n",
    "eq = a*b > c \n",
    "#solveset(eq, c)\n",
    "display(solveset(eq, a, domain=S.Reals))\n",
    "display(solveset(eq, b, domain=S.Reals))\n",
    "display(solveset(eq, c, domain=S.Reals))"
   ]
  },
  {
   "cell_type": "code",
   "execution_count": null,
   "id": "32522003",
   "metadata": {},
   "outputs": [],
   "source": [
    "ans = solveset(eq1, a, domain=S.Reals)\n",
    "print(type(ans))"
   ]
  },
  {
   "cell_type": "code",
   "execution_count": null,
   "id": "4a8325d5",
   "metadata": {},
   "outputs": [],
   "source": [
    "ans.args"
   ]
  },
  {
   "cell_type": "code",
   "execution_count": null,
   "id": "11226ca8",
   "metadata": {},
   "outputs": [],
   "source": [
    "ans.func"
   ]
  },
  {
   "cell_type": "code",
   "execution_count": null,
   "id": "58ea776a",
   "metadata": {},
   "outputs": [],
   "source": [
    "ans2 = solveset(eq, c, domain=S.Reals)"
   ]
  },
  {
   "cell_type": "code",
   "execution_count": null,
   "id": "b8fb0207",
   "metadata": {},
   "outputs": [],
   "source": [
    "ans.args"
   ]
  },
  {
   "cell_type": "code",
   "execution_count": null,
   "id": "640657c2",
   "metadata": {},
   "outputs": [],
   "source": [
    "from sympy.printing import pretty\n",
    "pretty?\n"
   ]
  },
  {
   "cell_type": "code",
   "execution_count": null,
   "id": "d6551864",
   "metadata": {},
   "outputs": [],
   "source": [
    "print( pretty(a)+pretty('a'))\n"
   ]
  },
  {
   "cell_type": "code",
   "execution_count": null,
   "id": "c4968284",
   "metadata": {},
   "outputs": [],
   "source": [
    "def f(*args):\n",
    "    def helper(*args):\n",
    "        if len(args) == 0:\n",
    "            return ''\n",
    "        print(args)\n",
    "        return args[0] + helper(*args[1:])\n",
    "    print(len(args))\n",
    "    return helper(*args)\n",
    "f('1','2','3')"
   ]
  }
 ],
 "metadata": {
  "kernelspec": {
   "display_name": "Python 3 (ipykernel)",
   "language": "python",
   "name": "python3"
  },
  "language_info": {
   "codemirror_mode": {
    "name": "ipython",
    "version": 3
   },
   "file_extension": ".py",
   "mimetype": "text/x-python",
   "name": "python",
   "nbconvert_exporter": "python",
   "pygments_lexer": "ipython3",
   "version": "3.8.11"
  }
 },
 "nbformat": 4,
 "nbformat_minor": 5
}
