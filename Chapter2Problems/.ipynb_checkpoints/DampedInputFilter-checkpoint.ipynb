{
 "cells": [
  {
   "cell_type": "code",
   "execution_count": 3,
   "id": "12ba6221",
   "metadata": {
    "scrolled": true
   },
   "outputs": [],
   "source": [
    "import sympy\n",
    "from sympy.core.symbol import symbols, Symbol\n",
    "from sympy import Abs\n",
    "from sympy.printing import latex, pprint\n",
    "from sympy import Symbol, simplify, collect, expand, apart, together, factor\n",
    "from sympy import dsolve, Function, Derivative, integrate, diff\n",
    "import numpy as np\n",
    "import os\n",
    "import matplotlib.pyplot as plt\n",
    "from matplotlib.ticker import FuncFormatter, EngFormatter\n",
    "from copy import copy, deepcopy\n",
    "from math import log10\n",
    "from PyLTSpice import LTSpice_RawRead\n",
    "from math import log10\n",
    "import logging\n",
    "from ipywidgets import FloatSlider, FloatLogSlider, interact, interactive\n",
    "from converter5 import *\n",
    "from scipy.optimize import minimize"
   ]
  },
  {
   "cell_type": "code",
   "execution_count": null,
   "id": "ee2e5c49",
   "metadata": {
    "scrolled": true
   },
   "outputs": [],
   "source": [
    "Lf = symbols('L_f', real=True, positive=True)\n",
    "Cf = symbols('C_f' ,real=True, positive=True)\n",
    "Cd = symbols('C_d', real=True, positive=True)\n",
    "Vg = symbols('V_g' ,real=True, positive=True)\n",
    "Rd = symbols('R_d' ,real=True, positive=True)\n",
    "s = symbols('s')\n",
    "j = sympy.sqrt(-1)\n",
    "w = symbols('omega')\n",
    "Z_Lf = s*Lf\n",
    "Z_Cf = 1/(s*Cf)\n",
    "Z_Cd = 1/(s*Cd)\n"
   ]
  },
  {
   "cell_type": "code",
   "execution_count": null,
   "id": "1e226bc4",
   "metadata": {
    "scrolled": true
   },
   "outputs": [],
   "source": [
    "def parallel(x, y):\n",
    "    return x*y/(x+y)\n"
   ]
  },
  {
   "cell_type": "code",
   "execution_count": null,
   "id": "36e7b7c7",
   "metadata": {
    "scrolled": true
   },
   "outputs": [],
   "source": [
    "Zb = parallel(Z_Cf, Z_Cd+Rd)\n",
    "Zt = Z_Lf\n",
    "Vout = Vg * Zb/(Zb+Zt)\n",
    "Vout = Vout.simplify()\n",
    "H = Vout/Vg\n",
    "display(collect(H, s))\n",
    "num, den = H.as_numer_denom() "
   ]
  },
  {
   "cell_type": "code",
   "execution_count": null,
   "id": "12f0c042",
   "metadata": {},
   "outputs": [],
   "source": [
    "def get_as(num):\n",
    "    #Construct coefficients for a polynomial of degree num\n",
    "    a_s = [Symbol('a_{}'.format(i)) for i in range(num, 0, -1)]\n",
    "    return a_s\n",
    "\n",
    "def display_coefficients(expr):\n",
    "    coeffs = expr.as_poly(s).coeffs()\n",
    "    order = len(coeffs) - 1 #we don't want to count the constant term\n",
    "    m = zip(coeffs, get_as(order)) #zip stops after first iterable is exhausted\n",
    "    #the arguments to zip above don't have the same length\n",
    "    n = deepcopy(m) #make a copy so we can display the result \n",
    "    #but still return an unexhausted zip object\n",
    "    for pair in n: \n",
    "        myprint(pair[1], pair[0])\n",
    "    return m \n",
    "\n",
    "\n",
    "def make_poly(coeffs):\n",
    "    s = symbols('s')\n",
    "    try: \n",
    "        return (1+s/coeffs.pop())*make_poly(coeffs)\n",
    "    except IndexError:\n",
    "        return 1\n",
    "    \n",
    "    \n",
    "m = display_coefficients(den)\n",
    "\n",
    "def low_q(expr):\n",
    "    num, den = expr.as_numer_denom() \n",
    "    num_coeffs = num.as_poly(s).coeffs()\n",
    "    den_coeffs = den.as_poly(s).coeffs()\n",
    "    new_den_coeffs = [simplify(pair[1]/pair[0]) for pair in zip(den_coeffs, den_coeffs[1:]+[1])]\n",
    "    new_num_coeffs = [simplify(pair[1]/pair[0]) for pair in zip(num_coeffs, num_coeffs[1:]+[1])]\n",
    "    return make_poly(new_num_coeffs)/make_poly(new_den_coeffs)\n",
    "            \n",
    "H_approx = low_q(H)\n",
    "display(H_approx)"
   ]
  },
  {
   "cell_type": "code",
   "execution_count": null,
   "id": "48301b08",
   "metadata": {
    "scrolled": true
   },
   "outputs": [],
   "source": [
    "\n",
    "max_f = 1e6\n",
    "min_f = 1e2\n",
    "freqs_f = np.logspace(np.log10(min_f), np.log10(max_f)) # freqs in Hz\n",
    "freqs_w = 2*np.pi*freqs_f \n",
    "\n",
    "def mag(Rd_, Cd_):\n",
    "    Vout_ = Vout.subs({Vg:1, Cf: 1e-6, Lf:1e-6, Rd: Rd_, Cd:Cd_})\n",
    "    t = lambdify(list(Vout_.atoms(Symbol)), Vout_)\n",
    "    return 20*np.log10(np.abs(t(j*freqs_w)).astype(np.float64))\n",
    "\n",
    "def low_q_mag(Rd_, Cd_):\n",
    "    H_ = H_approx.subs({Vg:1, Cf: 1e-6, Lf:1e-6, Rd: Rd_, Cd:Cd_})\n",
    "    t = lambdify(list(H_.atoms(Symbol)), H_)\n",
    "    return 20*np.log10(np.abs(t(j*freqs_w)).astype(np.float64))\n",
    "\n",
    "def phase(Rd_, Cd_):\n",
    "\n",
    "    Vout_ = Vout.subs({Vg:1, Cf: 1e-6, Lf:1e-6, Rd: Rd_, Cd:Cd_})\n",
    "    t = lambdify(list(Vout_.atoms(Symbol)), Vout_)\n",
    "    return np.angle(t(freqs).astype(complex), deg=True)\n",
    "    "
   ]
  },
  {
   "cell_type": "code",
   "execution_count": null,
   "id": "2e259b6d",
   "metadata": {},
   "outputs": [],
   "source": [
    "H_ = H.subs({Vg:1, Cf: 1e-6, Lf:1e-6, Rd: .1, Cd:.1e-6})\n",
    "t = lambdify(list(H_.atoms(Symbol)), H_)\n",
    "#t?"
   ]
  },
  {
   "cell_type": "code",
   "execution_count": null,
   "id": "4ab98037",
   "metadata": {},
   "outputs": [],
   "source": []
  },
  {
   "cell_type": "code",
   "execution_count": null,
   "id": "536db1b7",
   "metadata": {
    "scrolled": false
   },
   "outputs": [],
   "source": [
    "%matplotlib notebook\n",
    "#doesn't work with inline backend\n",
    "\n",
    "max_R = 2.1\n",
    "min_R = .01\n",
    "max_C =40e-6\n",
    "min_C = 1e-6\n",
    "r_widget = FloatSlider(min=min_R, max=max_R, step=.02, readout_format='.3f', continuous_update=False)\n",
    "c_widget = FloatSlider(min=min_C, max=max_C, step=5e-6, readout_format='.1e', continuous_update=False)\n",
    "\n",
    "fig, ax = plt.subplots(subplot_kw={'title':'Input Filter Bode Plot'}, figsize=(5,3))\n",
    "ax.set_ylim(bottom= -40, top=40)\n",
    "ax.set_xlim(left=100, right=1e6)\n",
    "ax.set_ylabel('Magnitude [dB]')\n",
    "ax.set_xlabel('Frequency [Hz]')\n",
    "\n",
    "l, = ax.semilogx(freqs_f, mag(min_R, min_C), label='exact')\n",
    "l_approx, = ax.semilogx(freqs_f, low_q_mag(min_R, min_C), label='low Q')\n",
    "ax.legend()\n",
    "fig.tight_layout()\n",
    "def g(Rd_, Cd_):\n",
    "    \n",
    "    l.set_ydata(mag(Rd_, Cd_))\n",
    "    l_approx.set_ydata(low_q_mag(Rd_, Cd_))\n",
    "    fig.canvas.draw()\n",
    "\n",
    "interactive_plot = interactive(g, Rd_ = r_widget, Cd_=c_widget)\n",
    "interactive_plot"
   ]
  },
  {
   "cell_type": "code",
   "execution_count": null,
   "id": "2fa25d0f",
   "metadata": {
    "scrolled": true
   },
   "outputs": [],
   "source": [
    "#Vout = Vout.subs({Vg:1, Cf: 10e-6, Lf:1e-6, Rd: 1, Cd:1e-6})\n",
    "t = lambdify([Rd, Cd], Vout.subs({Vg:1, Cf: 10e-6, Lf:1e-6, s: j*50e3}))\n",
    "def newt(x):\n",
    "    return np.abs(t(x[0], x[1]))\n",
    "    "
   ]
  },
  {
   "cell_type": "code",
   "execution_count": null,
   "id": "97ed4bf4",
   "metadata": {
    "scrolled": true
   },
   "outputs": [],
   "source": [
    "t?"
   ]
  },
  {
   "cell_type": "code",
   "execution_count": null,
   "id": "ecad7734",
   "metadata": {
    "scrolled": true
   },
   "outputs": [],
   "source": [
    "\n",
    "minimize(newt, [1, 80e-6], bounds = [(1e-3, 3), (.1e-6, 30e-6)])"
   ]
  },
  {
   "cell_type": "code",
   "execution_count": null,
   "id": "dfb81665",
   "metadata": {
    "scrolled": true
   },
   "outputs": [],
   "source": [
    "Rd_ = np.linspace(min_R, max_R, 10)\n",
    "Cd_ = np.linspace(min_C, max_C, 10)\n",
    "Rd_, Cd_ = np.meshgrid(Rd_, Cd_)\n",
    "\n",
    "def mag2(s_):\n",
    "    Vout_ = Vout.subs({Vg:1, Cf: 10e-6, Lf:1e-6,s:s_})#, Rd: Rd_, Cd:Cd_})\n",
    "    t = lambdify([Rd, Cd], Vout_)\n",
    "    return 20*np.log10(np.abs(t(Rd_, Cd_)))"
   ]
  },
  {
   "cell_type": "code",
   "execution_count": null,
   "id": "da43e5fa",
   "metadata": {
    "scrolled": false
   },
   "outputs": [],
   "source": [
    "\n",
    "ax = plt.figure(figsize=(3,3)).add_subplot(projection='3d')\n",
    "ans = mag2(j*5e4/(2*np.pi))\n",
    "polyc = ax.plot_surface(Rd_, Cd_,ans , linewidth=0.2, antialiased=True)\n",
    "ax.set_zlim(-20, 20)\n",
    "ax.set_zlabel('Magnitude [dB]')\n",
    "ax.set_xlabel('R damp [\\u03A9]')\n",
    "ax.set_ylabel('C damp [\\u03BCF]')\n",
    "\n",
    "major_formatter= FuncFormatter(lambda val, pos: f'{val*1e6:.0f}')\n",
    "ax.yaxis.set_major_formatter(major_formatter)   \n",
    "\n",
    "major_formatter= EngFormatter(unit='', places=0, sep='')\n",
    "ax.xaxis.set_major_formatter(major_formatter)   \n",
    "\n",
    "freq_widget = FloatLogSlider(min=3, max=5, step=.1, readout_format='.2e', continuous_update=False)\n",
    "def h(freq):\n",
    "    #freq in Hz\n",
    "    ax.collections = []\n",
    "    ax.plot_surface(Rd_, Cd_, mag2(j*freq*(2*np.pi)) , linewidth=0.2, antialiased=True)\n",
    "\n",
    "    ax.figure.canvas.draw()\n",
    "\n",
    "interactive_plot = interactive(h, freq=freq_widget)\n",
    "interactive_plot"
   ]
  },
  {
   "cell_type": "code",
   "execution_count": null,
   "id": "d5f06dfe",
   "metadata": {},
   "outputs": [],
   "source": []
  }
 ],
 "metadata": {
  "kernelspec": {
   "display_name": "Python 3 (ipykernel)",
   "language": "python",
   "name": "python3"
  },
  "language_info": {
   "codemirror_mode": {
    "name": "ipython",
    "version": 3
   },
   "file_extension": ".py",
   "mimetype": "text/x-python",
   "name": "python",
   "nbconvert_exporter": "python",
   "pygments_lexer": "ipython3",
   "version": "3.8.11"
  }
 },
 "nbformat": 4,
 "nbformat_minor": 5
}
