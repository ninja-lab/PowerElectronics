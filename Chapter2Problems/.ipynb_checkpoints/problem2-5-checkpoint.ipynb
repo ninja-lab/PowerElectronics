{
 "cells": [
  {
   "cell_type": "code",
   "execution_count": 3,
   "metadata": {},
   "outputs": [],
   "source": [
    "import numpy as np\n",
    "#import pandas as pd\n",
    "import sys\n",
    "#sys.path.append('/home/erik/Documents/ngspice_ckts/ngspice_read')\n",
    "#import ngspice_read\n",
    "import matplotlib.pyplot as plt\n",
    "\n",
    "from sympy import *\n",
    "from math import log10\n",
    "from matplotlib.widgets import Slider, Button, RadioButtons\n",
    "from matplotlib.ticker import EngFormatter"
   ]
  },
  {
   "cell_type": "code",
   "execution_count": null,
   "metadata": {},
   "outputs": [],
   "source": [
    "D= np.linspace(0, 1, 100)\n",
    "\n",
    "\n",
    "ratio = np.array([.001, .002, .01, .02])\n",
    "\n",
    "\n",
    "fig, ax = plt.subplots(subplot_kw={'title':'M(D) of current fed bridge inverter'})\n",
    "for r in ratio:    \n",
    "    M = (2*D-1)/((2*D-1)**2+r)\n",
    "    eta = ((2*D-1)**2)/((2*D-1)**2+r)\n",
    "    ax.plot(D, M)\n"
   ]
  },
  {
   "cell_type": "code",
   "execution_count": null,
   "metadata": {},
   "outputs": [],
   "source": [
    "fig3, ax3 = plt.subplots(subplot_kw={'title':'Efficiency vs Duty Cycle'})"
   ]
  },
  {
   "cell_type": "code",
   "execution_count": null,
   "metadata": {},
   "outputs": [],
   "source": []
  },
  {
   "cell_type": "code",
   "execution_count": null,
   "metadata": {},
   "outputs": [],
   "source": []
  },
  {
   "cell_type": "code",
   "execution_count": null,
   "metadata": {},
   "outputs": [],
   "source": []
  },
  {
   "cell_type": "code",
   "execution_count": null,
   "metadata": {},
   "outputs": [],
   "source": []
  },
  {
   "cell_type": "code",
   "execution_count": null,
   "metadata": {},
   "outputs": [],
   "source": []
  }
 ],
 "metadata": {
  "kernelspec": {
   "display_name": "Python 3",
   "language": "python",
   "name": "python3"
  },
  "language_info": {
   "codemirror_mode": {
    "name": "ipython",
    "version": 3
   },
   "file_extension": ".py",
   "mimetype": "text/x-python",
   "name": "python",
   "nbconvert_exporter": "python",
   "pygments_lexer": "ipython3",
   "version": "3.8.3"
  }
 },
 "nbformat": 4,
 "nbformat_minor": 4
}
