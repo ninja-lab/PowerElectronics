{
 "cells": [
  {
   "cell_type": "markdown",
   "metadata": {},
   "source": [
    "## Import all the modules needed"
   ]
  },
  {
   "cell_type": "code",
   "execution_count": 18,
   "metadata": {},
   "outputs": [],
   "source": [
    "from IPython.core.interactiveshell import InteractiveShell\n",
    "InteractiveShell.ast_node_interactivity = \"all\"\n",
    "from sympy import *\n",
    "import numpy as np\n",
    "import matplotlib.pyplot as plt\n",
    "from math import log10\n",
    "from matplotlib.widgets import Slider, Button, RadioButtons\n",
    "from matplotlib.ticker import EngFormatter"
   ]
  },
  {
   "cell_type": "markdown",
   "metadata": {},
   "source": [
    "## Define the symbols"
   ]
  },
  {
   "cell_type": "code",
   "execution_count": 19,
   "metadata": {},
   "outputs": [],
   "source": [
    "R = symbols('R', real=True, positive=True)\n",
    "C1 = symbols('C_1', real=True, positive=True)\n",
    "L1 = symbols('L_1', real=True, positive=True)\n",
    "C2 = symbols('C_2', real=True, positive=True)\n",
    "L2 = symbols('L_2', real=True, positive=True)\n",
    "D = symbols('D', real=True, positive=True)\n",
    "s = symbols('s', complex=True)\n",
    "Ts = symbols('T_s', real=True, positive=True)\n",
    "Vc2 = symbols('V_c2', real=True)\n",
    "Vc1 = symbols('V_c1', real=True)\n",
    "Vg = symbols('V_g', real= True)\n",
    "iL1 = symbols('i_L1', real= True)\n",
    "iL2 = symbols('i_L2', real= True)\n"
   ]
  },
  {
   "cell_type": "markdown",
   "metadata": {},
   "source": [
    "## Write in the matrix A from the hand analysis"
   ]
  },
  {
   "cell_type": "code",
   "execution_count": 20,
   "metadata": {},
   "outputs": [
    {
     "data": {
      "text/latex": [
       "$\\displaystyle \\left[\\begin{matrix}0 & D - 1 & 0 & D - 1\\\\1 - D & 0 & - D & 0\\\\0 & -1 & 0 & \\frac{1 - 2 D}{D}\\\\R \\left(1 - D\\right) & 0 & R \\left(1 - D\\right) & -1\\end{matrix}\\right]$"
      ],
      "text/plain": [
       "Matrix([\n",
       "[        0, D - 1,         0,       D - 1],\n",
       "[    1 - D,     0,        -D,           0],\n",
       "[        0,    -1,         0, (1 - 2*D)/D],\n",
       "[R*(1 - D),     0, R*(1 - D),          -1]])"
      ]
     },
     "execution_count": 20,
     "metadata": {},
     "output_type": "execute_result"
    }
   ],
   "source": [
    "A = Matrix([[0, D-1, 0, D-1], [1-D, 0, -D, 0],\n",
    "          [0, -1, 0, (1-2*D)/D], [R*(1-D), 0, R*(1-D), -1]])\n",
    "A"
   ]
  },
  {
   "cell_type": "markdown",
   "metadata": {},
   "source": [
    "## Write in the b vector from hand analysis"
   ]
  },
  {
   "cell_type": "code",
   "execution_count": 21,
   "metadata": {},
   "outputs": [
    {
     "data": {
      "text/latex": [
       "$\\displaystyle \\left[\\begin{matrix}- V_{g}\\\\0\\\\- V_{g}\\\\0\\end{matrix}\\right]$"
      ],
      "text/plain": [
       "Matrix([\n",
       "[-V_g],\n",
       "[   0],\n",
       "[-V_g],\n",
       "[   0]])"
      ]
     },
     "execution_count": 21,
     "metadata": {},
     "output_type": "execute_result"
    }
   ],
   "source": [
    "b = Matrix([-Vg, 0, -Vg, 0])\n",
    "b"
   ]
  },
  {
   "cell_type": "markdown",
   "metadata": {},
   "source": [
    "## solve for x, which is the averages in terms of what we want"
   ]
  },
  {
   "cell_type": "code",
   "execution_count": 22,
   "metadata": {
    "scrolled": true
   },
   "outputs": [
    {
     "data": {
      "text/latex": [
       "$\\displaystyle \\left[\\begin{matrix}- \\frac{D^{2} V_{g}}{D^{3} R - 3 D^{2} R + 3 D R - R} - \\frac{D^{2} V_{g}}{D^{2} R - 2 D R + R}\\\\- \\frac{D V_{g}}{D - 1} - \\frac{V_{g} \\left(2 D - 1\\right)}{D^{2} - 2 D + 1}\\\\\\frac{D V_{g}}{D^{2} R - 2 D R + R} + \\frac{D V_{g}}{D R - R}\\\\\\frac{D V_{g}}{D - 1} + \\frac{V_{g}}{D - 2 + \\frac{1}{D}}\\end{matrix}\\right]$"
      ],
      "text/plain": [
       "Matrix([\n",
       "[-D**2*V_g/(D**3*R - 3*D**2*R + 3*D*R - R) - D**2*V_g/(D**2*R - 2*D*R + R)],\n",
       "[                          -D*V_g/(D - 1) - V_g*(2*D - 1)/(D**2 - 2*D + 1)],\n",
       "[                             D*V_g/(D**2*R - 2*D*R + R) + D*V_g/(D*R - R)],\n",
       "[                                        D*V_g/(D - 1) + V_g/(D - 2 + 1/D)]])"
      ]
     },
     "execution_count": 22,
     "metadata": {},
     "output_type": "execute_result"
    }
   ],
   "source": [
    "x = A**-1*b\n",
    "x"
   ]
  },
  {
   "cell_type": "markdown",
   "metadata": {},
   "source": [
    "## often we have to get expressions into the form we want:"
   ]
  },
  {
   "cell_type": "code",
   "execution_count": 23,
   "metadata": {},
   "outputs": [
    {
     "data": {
      "text/latex": [
       "$\\displaystyle \\left[\\begin{matrix}- \\frac{D^{3} V_{g}}{R \\left(D^{3} - 3 D^{2} + 3 D - 1\\right)}\\\\\\frac{V_{g} \\left(- D^{2} - D + 1\\right)}{D^{2} - 2 D + 1}\\\\\\frac{D^{2} V_{g}}{R \\left(D^{2} - 2 D + 1\\right)}\\\\\\frac{D^{2} V_{g}}{D^{2} - 2 D + 1}\\end{matrix}\\right]$"
      ],
      "text/plain": [
       "Matrix([\n",
       "[-D**3*V_g/(R*(D**3 - 3*D**2 + 3*D - 1))],\n",
       "[   V_g*(-D**2 - D + 1)/(D**2 - 2*D + 1)],\n",
       "[          D**2*V_g/(R*(D**2 - 2*D + 1))],\n",
       "[              D**2*V_g/(D**2 - 2*D + 1)]])"
      ]
     },
     "execution_count": 23,
     "metadata": {},
     "output_type": "execute_result"
    }
   ],
   "source": [
    "x = simplify(x)\n",
    "x"
   ]
  },
  {
   "cell_type": "markdown",
   "metadata": {},
   "source": [
    "## pick out the results and name them"
   ]
  },
  {
   "cell_type": "code",
   "execution_count": 24,
   "metadata": {},
   "outputs": [],
   "source": [
    "IL1avg = x.row(0)[0,0]\n",
    "VC1avg = x.row(1)[0,0]\n",
    "IL2avg = x.row(2)[0,0]\n",
    "VC2avg = x.row(3)[0,0]"
   ]
  },
  {
   "cell_type": "markdown",
   "metadata": {},
   "source": [
    "## we can look at the conversion ratio\n",
    "VC2 is the output cap, and one of the most salient features \n",
    "of a converter is how the duty cycle affects the conversion"
   ]
  },
  {
   "cell_type": "code",
   "execution_count": 25,
   "metadata": {},
   "outputs": [
    {
     "data": {
      "text/plain": [
       "1.0"
      ]
     },
     "execution_count": 25,
     "metadata": {},
     "output_type": "execute_result"
    }
   ],
   "source": [
    "duty = np.linspace(0.01, .99, 100)\n",
    "M = lambdify(D, VC2avg/Vg)\n",
    "M(.5)"
   ]
  },
  {
   "cell_type": "markdown",
   "metadata": {},
   "source": [
    "## a really zoomed out plot\n",
    "We haven't accounted for a dissipative elements, so \n",
    "the conversion ratio can be huge with the Duty cycle near 1"
   ]
  },
  {
   "cell_type": "code",
   "execution_count": 26,
   "metadata": {},
   "outputs": [
    {
     "data": {
      "text/plain": [
       "[<matplotlib.lines.Line2D at 0x7fef8c13a280>]"
      ]
     },
     "execution_count": 26,
     "metadata": {},
     "output_type": "execute_result"
    },
    {
     "data": {
      "text/plain": [
       "Text(0.5, 0, 'Duty Cycle')"
      ]
     },
     "execution_count": 26,
     "metadata": {},
     "output_type": "execute_result"
    },
    {
     "data": {
      "text/plain": [
       "Text(0, 0.5, 'Conversion Ratio')"
      ]
     },
     "execution_count": 26,
     "metadata": {},
     "output_type": "execute_result"
    }
   ],
   "source": [
    "#%matplotlib notebook\n",
    "fig, ax = plt.subplots(subplot_kw={'title':'M(D) of SEPIC'})\n",
    "ax.plot(duty, M(duty))\n",
    "ax.set_xlabel('Duty Cycle')\n",
    "ax.set_ylabel('Conversion Ratio')\n",
    "\n"
   ]
  },
  {
   "cell_type": "markdown",
   "metadata": {},
   "source": [
    "## zoom in to see conversion ratios closer to 1"
   ]
  },
  {
   "cell_type": "code",
   "execution_count": 27,
   "metadata": {},
   "outputs": [
    {
     "data": {
      "text/plain": [
       "[<matplotlib.lines.Line2D at 0x7fef8c0b1070>]"
      ]
     },
     "execution_count": 27,
     "metadata": {},
     "output_type": "execute_result"
    },
    {
     "data": {
      "text/plain": [
       "Text(0.5, 0, 'Duty Cycle')"
      ]
     },
     "execution_count": 27,
     "metadata": {},
     "output_type": "execute_result"
    },
    {
     "data": {
      "text/plain": [
       "Text(0, 0.5, 'Conversion Ratio')"
      ]
     },
     "execution_count": 27,
     "metadata": {},
     "output_type": "execute_result"
    },
    {
     "data": {
      "text/plain": [
       "(0.0, 1.6)"
      ]
     },
     "execution_count": 27,
     "metadata": {},
     "output_type": "execute_result"
    },
    {
     "data": {
      "text/plain": [
       "(0.0, 0.7)"
      ]
     },
     "execution_count": 27,
     "metadata": {},
     "output_type": "execute_result"
    }
   ],
   "source": [
    "#%matplotlib qt\n",
    "fig, ax = plt.subplots(subplot_kw={'title':'M(D) of SEPIC'})\n",
    "ax.plot(duty, M(duty))\n",
    "ax.set_xlabel('Duty Cycle')\n",
    "ax.set_ylabel('Conversion Ratio')\n",
    "ax.set_ylim(top=1.6, bottom =0)\n",
    "ax.set_xlim(left=0, right=.7)\n",
    "ax.grid()"
   ]
  },
  {
   "cell_type": "markdown",
   "metadata": {},
   "source": [
    "## write expression for the ripples\n",
    "here the component values come into play: L1, L2, C1, C2"
   ]
  },
  {
   "cell_type": "code",
   "execution_count": 28,
   "metadata": {},
   "outputs": [],
   "source": [
    "DeltaiL1 = (Vg/L1)*(D*Ts)/2\n",
    "DeltavC1 = (IL1avg*(1-D)*Ts)/(2*C1)\n",
    "DeltaiL2 = (VC2avg*(1-D)*Ts)/(2*L2)\n",
    "DeltavC2 = (VC2avg/R)*(D*Ts)/(2*C2)"
   ]
  },
  {
   "cell_type": "markdown",
   "metadata": {},
   "source": [
    "## some more factoring to get the expressions in a better form"
   ]
  },
  {
   "cell_type": "code",
   "execution_count": 29,
   "metadata": {},
   "outputs": [
    {
     "data": {
      "text/latex": [
       "$\\displaystyle \\frac{D T_{s} V_{g}}{2 L_{1}}$"
      ],
      "text/plain": [
       "D*T_s*V_g/(2*L_1)"
      ]
     },
     "execution_count": 29,
     "metadata": {},
     "output_type": "execute_result"
    },
    {
     "data": {
      "text/latex": [
       "$\\displaystyle \\frac{D^{3} T_{s} V_{g}}{2 C_{1} R \\left(D - 1\\right)^{2}}$"
      ],
      "text/plain": [
       "D**3*T_s*V_g/(2*C_1*R*(D - 1)**2)"
      ]
     },
     "execution_count": 29,
     "metadata": {},
     "output_type": "execute_result"
    },
    {
     "data": {
      "text/latex": [
       "$\\displaystyle - \\frac{D^{2} T_{s} V_{g}}{2 L_{2} \\left(D - 1\\right)}$"
      ],
      "text/plain": [
       "-D**2*T_s*V_g/(2*L_2*(D - 1))"
      ]
     },
     "execution_count": 29,
     "metadata": {},
     "output_type": "execute_result"
    },
    {
     "data": {
      "text/latex": [
       "$\\displaystyle \\frac{D^{3} T_{s} V_{g}}{2 C_{2} R \\left(D - 1\\right)^{2}}$"
      ],
      "text/plain": [
       "D**3*T_s*V_g/(2*C_2*R*(D - 1)**2)"
      ]
     },
     "execution_count": 29,
     "metadata": {},
     "output_type": "execute_result"
    }
   ],
   "source": [
    "DeltaiL1 \n",
    "factor(DeltavC1 )\n",
    "factor(DeltaiL2 )\n",
    "factor(DeltavC2 )"
   ]
  },
  {
   "cell_type": "markdown",
   "metadata": {},
   "source": [
    "## convert the Sympy expressions to usable functions\n",
    "this way we can plug in values for the variables, and get a number"
   ]
  },
  {
   "cell_type": "code",
   "execution_count": 30,
   "metadata": {},
   "outputs": [],
   "source": [
    "DeltaiL1 = lambdify([D, Ts, Vg, R, L1, L2, C1, C2], DeltaiL1)\n",
    "DeltavC1 = lambdify([D, Ts, Vg, R, L1, L2, C1, C2], DeltavC1)\n",
    "DeltaiL2 = lambdify([D, Ts, Vg, R, L1, L2, C1, C2], DeltaiL2)\n",
    "DeltavC2 = lambdify([D, Ts, Vg, R, L1, L2, C1, C2], DeltavC2)"
   ]
  },
  {
   "cell_type": "code",
   "execution_count": null,
   "metadata": {},
   "outputs": [],
   "source": []
  },
  {
   "cell_type": "code",
   "execution_count": null,
   "metadata": {},
   "outputs": [],
   "source": []
  },
  {
   "cell_type": "markdown",
   "metadata": {},
   "source": [
    "## Remember x is the averages vector\n",
    "While each component's average doesn't depend on all the inputs, may as well \n",
    "compute them all at the same time. The averages function returns a length 4 array \n",
    "of the averages, based on the inputs. "
   ]
  },
  {
   "cell_type": "code",
   "execution_count": 31,
   "metadata": {},
   "outputs": [
    {
     "data": {
      "text/plain": [
       "[0.5, 0.001, 1, 1, 1e-06, '1e-6', 0.001, 0.001]"
      ]
     },
     "execution_count": 31,
     "metadata": {},
     "output_type": "execute_result"
    }
   ],
   "source": [
    "\n",
    "averages = lambdify([D, Ts, Vg, R, L1, L2, C1, C2], x)\n",
    "\n",
    "inputs = {'D': .5, 'Ts':1e-3, 'Vg':1, 'R':1, 'L1':1e-6, 'L2':'1e-6', 'C1':1e-3, 'C2':1e-3}\n",
    "list(inputs.values())\n"
   ]
  },
  {
   "cell_type": "markdown",
   "metadata": {},
   "source": [
    "## Try out the functions to see if they work\n",
    "There is some unpacking to do, with the *asterisk*\n",
    "because its more convenient to keep the inputs all \n",
    "together in a data structure like a dictionary, but \n",
    "the function returned by lambdify wants them separate\n"
   ]
  },
  {
   "cell_type": "code",
   "execution_count": 32,
   "metadata": {},
   "outputs": [
    {
     "data": {
      "text/plain": [
       "array([[0.03292181],\n",
       "       [1.22222222],\n",
       "       [0.04938272],\n",
       "       [0.44444444]])"
      ]
     },
     "execution_count": 32,
     "metadata": {},
     "output_type": "execute_result"
    },
    {
     "data": {
      "text/plain": [
       "array([[1.],\n",
       "       [1.],\n",
       "       [1.],\n",
       "       [1.]])"
      ]
     },
     "execution_count": 32,
     "metadata": {},
     "output_type": "execute_result"
    },
    {
     "data": {
      "text/plain": [
       "250.00000000000003"
      ]
     },
     "execution_count": 32,
     "metadata": {},
     "output_type": "execute_result"
    }
   ],
   "source": [
    "averages(*[ .4, .1e-3, 1, 9, 1e-6, 1e-6, 1e-3, 1e-3])\n",
    "averages(*list(inputs.values()))\n",
    "DeltaiL1(*list(inputs.values()))"
   ]
  },
  {
   "cell_type": "markdown",
   "metadata": {},
   "source": [
    "## Write some helper functions \n",
    "The per-cycle waveforms only have 5 relevent time points, for this analysis. \n",
    "### The waveform() function takes the inputs, a number for an average, and just adds or subtracts the ripple from the average, and the different time points\n",
    "Continuous conduction mode only, considered here!"
   ]
  },
  {
   "cell_type": "code",
   "execution_count": 33,
   "metadata": {},
   "outputs": [],
   "source": [
    "#inputs: D, Ts, Vg, R, L1, L2, C1, C2\n",
    "\n",
    "def get_time(inputs):\n",
    "    D = inputs['D']\n",
    "    Ts = inputs['Ts']\n",
    "    return np.array([0, D*Ts/2, D*Ts, D*Ts+(1-D)*Ts/2, Ts])\n",
    "\n",
    "def waveform(inputs, avg, ripple):\n",
    "    '''\n",
    "    inputs: a dictionary of keys {D: , Ts:, Vg:, R:, L1:, L2:, C1:, C2:}\n",
    "    avg: a number representing the average value of the waveform (already computed)\n",
    "    ripple: a function to compute the ripple, given the inputs. In use this is one \n",
    "    of the Delta___ functions returned by the lambdified expressions above. \n",
    "    \n",
    "    \n",
    "    returns: a 2D array of time and the waveform\n",
    "    '''\n",
    "    D = inputs['D']\n",
    "    Ts = inputs['Ts']\n",
    "    Vg =  inputs['Vg']\n",
    "    R =  inputs['R']\n",
    "    L1 =  inputs['L1']\n",
    "    L2 = inputs['L2']\n",
    "    C1 = inputs['C1']\n",
    "    C2 = inputs['C2']\n",
    "    \n",
    "    #av = avg(inputs)\n",
    "    rip = ripple(*list(inputs.values()))\n",
    "    #print(rip)\n",
    "    return np.array([avg-rip, avg, avg+rip, avg, avg-rip])"
   ]
  },
  {
   "cell_type": "markdown",
   "metadata": {},
   "source": [
    "## Set up the Matplotlib Figure\n",
    "Use the built in Slider widget, and recalculate everything when a slider value changes\n",
    "Also, make the plots look nice! \n",
    "If you want to understand why the waveforms change the way they do, \n",
    "just look at the sympy expressions above!"
   ]
  },
  {
   "cell_type": "code",
   "execution_count": 34,
   "metadata": {},
   "outputs": [
    {
     "data": {
      "text/plain": [
       "Text(0.5, 0.98, 'SEPIC Converter Waveform Visualizer')"
      ]
     },
     "execution_count": 34,
     "metadata": {},
     "output_type": "execute_result"
    },
    {
     "data": {
      "text/plain": [
       "(-1.0, 20.0)"
      ]
     },
     "execution_count": 34,
     "metadata": {},
     "output_type": "execute_result"
    },
    {
     "data": {
      "text/plain": [
       "(-1.0, 20.0)"
      ]
     },
     "execution_count": 34,
     "metadata": {},
     "output_type": "execute_result"
    },
    {
     "data": {
      "text/plain": [
       "(-1.0, 20.0)"
      ]
     },
     "execution_count": 34,
     "metadata": {},
     "output_type": "execute_result"
    },
    {
     "data": {
      "text/plain": [
       "(-1.0, 20.0)"
      ]
     },
     "execution_count": 34,
     "metadata": {},
     "output_type": "execute_result"
    },
    {
     "data": {
      "text/plain": [
       "Text(0, 0.5, 'L1 current')"
      ]
     },
     "execution_count": 34,
     "metadata": {},
     "output_type": "execute_result"
    },
    {
     "data": {
      "text/plain": [
       "Text(0, 0.5, 'L2 current')"
      ]
     },
     "execution_count": 34,
     "metadata": {},
     "output_type": "execute_result"
    },
    {
     "data": {
      "text/plain": [
       "Text(0, 0.5, 'C1 voltage')"
      ]
     },
     "execution_count": 34,
     "metadata": {},
     "output_type": "execute_result"
    },
    {
     "data": {
      "text/plain": [
       "Text(0, 0.5, 'C2 voltage')"
      ]
     },
     "execution_count": 34,
     "metadata": {},
     "output_type": "execute_result"
    },
    {
     "data": {
      "text/plain": [
       "0"
      ]
     },
     "execution_count": 34,
     "metadata": {},
     "output_type": "execute_result"
    },
    {
     "data": {
      "text/plain": [
       "0"
      ]
     },
     "execution_count": 34,
     "metadata": {},
     "output_type": "execute_result"
    },
    {
     "data": {
      "text/plain": [
       "0"
      ]
     },
     "execution_count": 34,
     "metadata": {},
     "output_type": "execute_result"
    },
    {
     "data": {
      "text/plain": [
       "0"
      ]
     },
     "execution_count": 34,
     "metadata": {},
     "output_type": "execute_result"
    },
    {
     "data": {
      "text/plain": [
       "0"
      ]
     },
     "execution_count": 34,
     "metadata": {},
     "output_type": "execute_result"
    },
    {
     "data": {
      "text/plain": [
       "0"
      ]
     },
     "execution_count": 34,
     "metadata": {},
     "output_type": "execute_result"
    },
    {
     "data": {
      "text/plain": [
       "0"
      ]
     },
     "execution_count": 34,
     "metadata": {},
     "output_type": "execute_result"
    },
    {
     "data": {
      "text/plain": [
       "0"
      ]
     },
     "execution_count": 34,
     "metadata": {},
     "output_type": "execute_result"
    }
   ],
   "source": [
    "\n",
    "%matplotlib qt\n",
    "fig, ((ax1, ax2), (ax3, ax4)) = plt.subplots(nrows=2, ncols=2, sharex=True, figsize=(8,7))\n",
    "fig.suptitle('SEPIC Converter Waveform Visualizer', fontsize=16)\n",
    "plt.subplots_adjust(left=.1, bottom=0.3)\n",
    "t = np.array([0, .25, .5, .75, 1])\n",
    "\n",
    "\n",
    "ax1.set_ylim(bottom = -1, top=20)\n",
    "ax2.set_ylim(bottom = -1, top=20)\n",
    "ax3.set_ylim(bottom = -1, top=20)\n",
    "ax4.set_ylim(bottom = -1, top=20)\n",
    "ax1.set_ylabel('L1 current')\n",
    "ax2.set_ylabel('L2 current')\n",
    "ax3.set_ylabel('C1 voltage')\n",
    "ax4.set_ylabel('C2 voltage')\n",
    "ax1.xaxis.set_major_formatter(EngFormatter(unit='s', places=2, sep=''))\n",
    "ax2.xaxis.set_major_formatter(EngFormatter(unit='s', places=2, sep=''))\n",
    "ax3.xaxis.set_major_formatter(EngFormatter(unit='s', places=2, sep=''))\n",
    "ax4.xaxis.set_major_formatter(EngFormatter(unit='s', places=2, sep=''))\n",
    "\n",
    "axcolor = 'lightgoldenrodyellow'\n",
    "L1ax =  plt.axes([0.1, 0.05, 0.3, 0.03], facecolor=axcolor)\n",
    "L2ax = plt.axes([0.1, 0.1, 0.3, 0.03], facecolor=axcolor)\n",
    "C1ax = plt.axes([0.1, 0.15, 0.3, 0.03], facecolor=axcolor)\n",
    "C2ax = plt.axes([0.1, 0.2, 0.3, 0.03], facecolor=axcolor)\n",
    "\n",
    "Dax = plt.axes([0.6, 0.05, 0.3, 0.03], facecolor=axcolor)\n",
    "Tsax = plt.axes([0.6, 0.1, 0.3, 0.03], facecolor=axcolor)\n",
    "Vgax = plt.axes([0.6, 0.15, 0.3, 0.03], facecolor=axcolor)\n",
    "Rax = plt.axes([0.6, 0.2, 0.3, 0.03], facecolor=axcolor)\n",
    "\n",
    "L1sld = Slider(L1ax, 'L1 [H]', 1e-6, 100e-6, valinit=20e-6, valstep=.3e-6, valfmt='%1.2e')\n",
    "C1sld = Slider(C1ax, 'C1 [F]', .001e-3, 1e-3, valinit=1e-3, valfmt='%1.2e')\n",
    "L2sld = Slider(L2ax, 'L2 [H]',1e-6, 100e-6, valinit=20e-6, valfmt='%1.2e')\n",
    "C2sld = Slider(C2ax, 'C2 [F]', 0.001e-3, 1e-3, valinit=.1e-3, valfmt='%1.2e')\n",
    "\n",
    "l1, = ax1.plot(t,t)\n",
    "l2, = ax2.plot(t,t)\n",
    "c1, = ax3.plot(t,t)\n",
    "c2, = ax4.plot(t,t)\n",
    "\n",
    "def update(val):\n",
    "    inputs = {'D':Dsld.val, 'Ts':Tssld.val, 'Vg':Vgsld.val, 'R':Rsld.val,\n",
    "              'L1':L1sld.val, 'L2':L2sld.val, 'C1':C1sld.val, 'C2':C2sld.val}\n",
    "    averages_arr = averages(*list(inputs.values()) )\n",
    "    t= get_time(inputs)\n",
    "    \n",
    "    l1.set_ydata(waveform(inputs, averages_arr[0][0], DeltaiL1))\n",
    "    l1.set_xdata(t,)\n",
    "    ax1.set_ylim(bottom=0, top=max(l1.get_ydata())+1)\n",
    "    ax1.set_xlim(left = 0 ,right=max(t))\n",
    "    \n",
    "    l2.set_ydata(waveform(inputs, averages_arr[2][0], DeltaiL2))\n",
    "    l2.set_xdata(t)\n",
    "    ax2.set_ylim(bottom=0, top=max(l2.get_ydata())+1)\n",
    "    ax2.set_xlim(left = 0 ,right=max(t))\n",
    "    \n",
    "    c1.set_ydata(waveform(inputs, averages_arr[1][0], DeltavC1))            \n",
    "    c1.set_xdata(t)\n",
    "    ax3.set_ylim(bottom = -2 ,top=max(c1.get_ydata())+3)\n",
    "    ax3.set_xlim(left = 0 ,right=max(t))\n",
    "\n",
    "    c2.set_ydata(waveform(inputs, averages_arr[3][0], DeltavC2))\n",
    "    c2.set_xdata(t)\n",
    "    ax4.set_ylim(bottom= -2,top=max(c2.get_ydata())+3)\n",
    "    ax4.set_xlim(left = 0 ,right=max(t))\n",
    "\n",
    "\n",
    "\n",
    "Dsld = Slider(Dax, 'D', .01, .99, valinit=.5)\n",
    "Tssld = Slider(Tsax, 'Ts [us]', 1e-6, 10e-6, valinit=2e-6,  valfmt='%1.2e')\n",
    "Vgsld = Slider(Vgax, 'Vg [V]', 1, 10, valinit=5, valfmt='%1.1f')\n",
    "Rsld = Slider(Rax, 'R [ohm]', 1, 10, valinit=9, valfmt='%1.1f')\n",
    "\n",
    "update(0)\n",
    "\n",
    "L1sld.on_changed(update)\n",
    "C1sld.on_changed(update)\n",
    "L2sld.on_changed(update)\n",
    "C2sld.on_changed(update)\n",
    "Dsld.on_changed(update)\n",
    "Rsld.on_changed(update)\n",
    "Vgsld.on_changed(update)\n",
    "Tssld.on_changed(update)\n",
    "\n",
    "\n",
    "def reset(event):\n",
    "\n",
    "    pass\n",
    "\n",
    "plt.show()"
   ]
  },
  {
   "cell_type": "code",
   "execution_count": null,
   "metadata": {},
   "outputs": [],
   "source": []
  },
  {
   "cell_type": "code",
   "execution_count": null,
   "metadata": {},
   "outputs": [],
   "source": []
  },
  {
   "cell_type": "code",
   "execution_count": null,
   "metadata": {},
   "outputs": [],
   "source": []
  },
  {
   "cell_type": "code",
   "execution_count": null,
   "metadata": {},
   "outputs": [],
   "source": []
  }
 ],
 "metadata": {
  "kernelspec": {
   "display_name": "Python 3 (ipykernel)",
   "language": "python",
   "name": "python3"
  },
  "language_info": {
   "codemirror_mode": {
    "name": "ipython",
    "version": 3
   },
   "file_extension": ".py",
   "mimetype": "text/x-python",
   "name": "python",
   "nbconvert_exporter": "python",
   "pygments_lexer": "ipython3",
   "version": "3.8.18"
  }
 },
 "nbformat": 4,
 "nbformat_minor": 4
}
