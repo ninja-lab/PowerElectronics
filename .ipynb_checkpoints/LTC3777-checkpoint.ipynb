{
 "cells": [
  {
   "cell_type": "code",
   "execution_count": 1,
   "id": "14a87833",
   "metadata": {},
   "outputs": [],
   "source": [
    "import control as ct\n",
    "import matplotlib as plt\n",
    "from math import sqrt\n",
    "s = ct.TransferFunction.s"
   ]
  },
  {
   "cell_type": "code",
   "execution_count": 24,
   "id": "b72befca",
   "metadata": {},
   "outputs": [],
   "source": [
    "def par(x, y):\n",
    "    return x*y/(x+y)"
   ]
  },
  {
   "cell_type": "code",
   "execution_count": 37,
   "id": "d0fc5092",
   "metadata": {},
   "outputs": [],
   "source": [
    "Vo = 15\n",
    "R=200\n",
    "Vg = 12\n",
    "D = 1-Vg/Vo\n",
    "Dp = 1-D\n",
    "fs = 160e3\n",
    "Ts = 1/fs\n",
    "L = 100e-6\n",
    "C = 6.6e-6\n",
    "Ma =  -.5*(Vg-Vo)/L #page 448\n",
    "\n",
    "Rfbtop = 100e3\n",
    "Rfbbot = 1.5e3\n",
    "gm = 1.5e-3 #mmhos \n",
    "Cp = 100e-12\n",
    "Cs = 100e-9\n",
    "Rs = 1e3\n",
    "Gcomp = (Rfbbot/(Rfbbot+Rfbtop))*gm*par(1/(s*Cp), 1/(s*Cs)+Rs)"
   ]
  },
  {
   "cell_type": "code",
   "execution_count": 38,
   "id": "dd3048a9",
   "metadata": {},
   "outputs": [
    {
     "data": {
      "text/latex": [
       "$$\\frac{1 \\times 10^{-21} s^3 + 1 \\times 10^{-17} s^2}{1 \\times 10^{-31} s^4 + 1.001 \\times 10^{-24} s^3}$$"
      ],
      "text/plain": [
       "TransferFunction(array([1.e-21, 1.e-17, 0.e+00, 0.e+00]), array([1.000e-31, 1.001e-24, 0.000e+00, 0.000e+00, 0.000e+00]))"
      ]
     },
     "execution_count": 38,
     "metadata": {},
     "output_type": "execute_result"
    }
   ],
   "source": [
    "par(1/(s*Cp), 1/(s*Cs)+Rs)"
   ]
  },
  {
   "cell_type": "code",
   "execution_count": 39,
   "id": "0bc9df27",
   "metadata": {},
   "outputs": [],
   "source": [
    "Fg = (2*D-1)*Ts/(2*L)\n",
    "Fv = Dp**2*Ts/(2*L)\n",
    "Fm = 1/(Ma*Ts)"
   ]
  },
  {
   "cell_type": "code",
   "execution_count": 40,
   "id": "84a23e27",
   "metadata": {},
   "outputs": [],
   "source": [
    "Gco = (Vo/Dp)*Fm/(1+2*Fm*Vo/(Dp**2*R)+ Fm*Fv*Vo/Dp)\n",
    "Qc = Dp*R*sqrt(C/L)*sqrt(1+2*Fm*Vo/(Dp**2*R)+ Fm*Fv*Vo/Dp)/(1+R*C*Fm*Vo/L-Fm*Fv*Vo/Dp)\n",
    "Ggo = (1/Dp)*(1-Fm*Fg*Vo+ Fm*Vo/(Dp**2*R))/(1+2*Fm*Vo/(Dp**2*R)+Fm*Fv*Vo/Dp)\n",
    "wgz = (Dp**3*R/L)*(1-Fm*Fg*Vo+Fm*Vo/(Dp**2*R))/(Fm*Fg*Vo)\n",
    "wc = (Dp/sqrt(L*C))*sqrt(1+2*Fm*Vo/(Dp**2*R)+Fm*Fv*Vo/Dp)"
   ]
  },
  {
   "cell_type": "code",
   "execution_count": 45,
   "id": "6d4b7c98",
   "metadata": {},
   "outputs": [],
   "source": [
    "%matplotlib qt"
   ]
  },
  {
   "cell_type": "code",
   "execution_count": 41,
   "id": "69c72b72",
   "metadata": {},
   "outputs": [],
   "source": [
    "Gvic = Gco*(1-s*L/(Dp**2*R)) / (1+s/(Qc*wc) + (s/wc)**2)"
   ]
  },
  {
   "cell_type": "code",
   "execution_count": 46,
   "id": "2927209f",
   "metadata": {},
   "outputs": [],
   "source": [
    "ans = ct.bode(Gvic, plot=True, Hz=True, margins=False, omega_limits=[1e1, 1e6])"
   ]
  },
  {
   "cell_type": "code",
   "execution_count": 47,
   "id": "ef98181a",
   "metadata": {},
   "outputs": [],
   "source": [
    "Avol= Gvic*Gcomp\n",
    "ans = ct.bode(Avol, plot=True, Hz=True, margins=False, omega_limits=[1e1, 1e6])"
   ]
  },
  {
   "cell_type": "code",
   "execution_count": 48,
   "id": "ac1db1e9",
   "metadata": {},
   "outputs": [],
   "source": [
    "ans = ct.bode(Gcomp, plot=True, Hz=True, margins=False, omega_limits=[1e1, 1e6])"
   ]
  },
  {
   "cell_type": "code",
   "execution_count": null,
   "id": "ce83dbab",
   "metadata": {},
   "outputs": [],
   "source": []
  }
 ],
 "metadata": {
  "kernelspec": {
   "display_name": "Python 3 (ipykernel)",
   "language": "python",
   "name": "python3"
  },
  "language_info": {
   "codemirror_mode": {
    "name": "ipython",
    "version": 3
   },
   "file_extension": ".py",
   "mimetype": "text/x-python",
   "name": "python",
   "nbconvert_exporter": "python",
   "pygments_lexer": "ipython3",
   "version": "3.8.11"
  }
 },
 "nbformat": 4,
 "nbformat_minor": 5
}
