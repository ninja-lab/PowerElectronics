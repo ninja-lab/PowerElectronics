{
 "cells": [
  {
   "cell_type": "code",
   "execution_count": 1,
   "id": "b72fb4f7",
   "metadata": {},
   "outputs": [
    {
     "name": "stdout",
     "output_type": "stream",
     "text": [
      "Found Numpy. Will be used for storing data\n"
     ]
    }
   ],
   "source": [
    "from IPython.display import display, Latex\n",
    "from functools import wraps\n",
    "from orderedset import OrderedSet\n",
    "import sympy\n",
    "from sympy.core.symbol import symbols, Symbol\n",
    "from sympy.solvers.solveset import nonlinsolve\n",
    "from sympy import solveset\n",
    "from sympy import Eq, sqrt, pi, arg, Abs\n",
    "\n",
    "from sympy.utilities.lambdify import lambdify\n",
    "from sympy.printing import latex, pprint\n",
    "from sympy import Symbol, simplify\n",
    "import numpy as np\n",
    "import os\n",
    "import matplotlib.pyplot as plt\n",
    "from matplotlib.ticker import FuncFormatter, EngFormatter\n",
    "\n",
    "from math import log10\n",
    "from PyLTSpice import LTSpice_RawRead\n",
    "from sympy.solvers import solve\n",
    "import sys\n",
    "import logging\n",
    "from ipywidgets import FloatSlider, interact, interactive\n",
    "from converter6 import * #works acceptably with converter3"
   ]
  },
  {
   "cell_type": "code",
   "execution_count": 2,
   "id": "0b1e3625",
   "metadata": {},
   "outputs": [],
   "source": [
    "def make_symbols():\n",
    "    global R1, R2, C,  s, Vc, Vg, VL,   f,  Ts, w, j\n",
    "    R1 = variable('R_1', 'ohms', None, real=True, positive=True)\n",
    "    R2 = variable('R_2', 'ohms', None, real=True, positive=True)\n",
    "    C = variable('C', 'F', None, real=True, positive=True)\n",
    "    f = variable('f', 'Hz', real=True, positive=True)\n",
    "    w = variable('omega', 'Hz', real=True, positive=True)\n",
    "    #w = 2*pi*f\n",
    "    Vc = variable('V_c', 'V', real=True)\n",
    "    Vg = variable('V_g', 'V', real= True)\n",
    "    VL = variable('V_L', 'V', real= True)\n",
    "    j = sqrt(-1)\n",
    "\n",
    "    return\n",
    "make_symbols()\n"
   ]
  },
  {
   "cell_type": "code",
   "execution_count": 33,
   "id": "4c73d4cc",
   "metadata": {},
   "outputs": [
    {
     "data": {
      "text/latex": [
       "$$\\frac{\\pi}{15} = \\arg{\\left(\\frac{i}{i C \\omega \\left(R_{1} + R_{2}\\right) + 1} \\right)}$$"
      ],
      "text/plain": [
       "<IPython.core.display.Latex object>"
      ]
     },
     "metadata": {},
     "output_type": "display_data"
    },
    {
     "data": {
      "text/latex": [
       "$$0.0033 = \\frac{C R_{2} \\omega}{\\sqrt{C^{2} R_{1}^{2} \\omega^{2} + 2 C^{2} R_{1} R_{2} \\omega^{2} + C^{2} R_{2}^{2} \\omega^{2} + 1}}$$"
      ],
      "text/plain": [
       "<IPython.core.display.Latex object>"
      ]
     },
     "metadata": {},
     "output_type": "display_data"
    }
   ],
   "source": [
    "#exp1 = w - 2*pi*f\n",
    "exp2 = j*w*C*R2/(1+(R1+R2)*j*w*C)\n",
    "exp3 = Abs(exp2) - 3.3e-3\n",
    "exp4 = arg(exp2) - 12*pi/180\n",
    "#myprint2(exp1)\n",
    "myprint2(exp4)\n",
    "myprint2(exp3)\n",
    "R2_ = 100"
   ]
  },
  {
   "cell_type": "code",
   "execution_count": 34,
   "id": "2c7d1612",
   "metadata": {},
   "outputs": [
    {
     "data": {
      "text/latex": [
       "$\\displaystyle \\frac{100 C \\omega}{\\sqrt{C^{2} R_{1}^{2} \\omega^{2} + 200 C^{2} R_{1} \\omega^{2} + 10000 C^{2} \\omega^{2} + 1}} - 0.0033$"
      ],
      "text/plain": [
       "100*C*omega/sqrt(C**2*R_1**2*omega**2 + 200*C**2*R_1*omega**2 + 10000*C**2*omega**2 + 1) - 0.0033"
      ]
     },
     "execution_count": 34,
     "metadata": {},
     "output_type": "execute_result"
    }
   ],
   "source": [
    "exp3.subs({R2:R2_})"
   ]
  },
  {
   "cell_type": "code",
   "execution_count": 35,
   "id": "eb3e6e65",
   "metadata": {},
   "outputs": [
    {
     "data": {
      "text/latex": [
       "$\\displaystyle \\sqrt{R_{1}^{2} + \\frac{3.46020761245675 \\cdot 10^{-11}}{\\pi^{2} C^{2}}} - 100000.0$"
      ],
      "text/plain": [
       "sqrt(R_1**2 + 3.46020761245675e-11/(pi**2*C**2)) - 100000.0"
      ]
     },
     "execution_count": 35,
     "metadata": {},
     "output_type": "execute_result"
    }
   ],
   "source": [
    "exp = Abs(R1+1/(j*w*C)).subs({w:2*pi*85e3}) - 1e3*R2_ #R2 chosen as 1k 1ohms \n",
    "exp"
   ]
  },
  {
   "cell_type": "code",
   "execution_count": 36,
   "id": "8f9157b9",
   "metadata": {},
   "outputs": [
    {
     "data": {
      "text/latex": [
       "$\\displaystyle \\arg{\\left(\\frac{i}{170000.0 i \\pi C \\left(R_{1} + 100\\right) + 1} \\right)} - \\frac{\\pi}{15}$"
      ],
      "text/plain": [
       "arg(I/(170000.0*I*pi*C*(R_1 + 100) + 1)) - pi/15"
      ]
     },
     "execution_count": 36,
     "metadata": {},
     "output_type": "execute_result"
    }
   ],
   "source": [
    "exp4 = arg(exp2).subs({w:2*pi*85e3, R2:R2_}) - 12*pi/180\n",
    "exp4"
   ]
  },
  {
   "cell_type": "code",
   "execution_count": 37,
   "id": "5fde2f6f",
   "metadata": {},
   "outputs": [
    {
     "data": {
      "text/latex": [
       "$\\displaystyle \\left\\{\\left( R_{1}, \\  - \\frac{5.88235294117647 \\cdot 10^{-11} \\sqrt{- \\frac{1}{1.0 \\cdot 10^{-5} R_{1} - 1.0}}}{\\pi \\sqrt{1.0 \\cdot 10^{-5} R_{1} + 1.0}}\\right), \\left( R_{1}, \\  \\frac{5.88235294117647 \\cdot 10^{-11} \\sqrt{- \\frac{1}{1.0 \\cdot 10^{-5} R_{1} - 1.0}}}{\\pi \\sqrt{1.0 \\cdot 10^{-5} R_{1} + 1.0}}\\right)\\right\\}$"
      ],
      "text/plain": [
       "{(R_1, -5.88235294117647e-11*sqrt(-1/(1.0e-5*R_1 - 1.0))/(pi*sqrt(1.0e-5*R_1 + 1.0))), (R_1, 5.88235294117647e-11*sqrt(-1/(1.0e-5*R_1 - 1.0))/(pi*sqrt(1.0e-5*R_1 + 1.0)))}"
      ]
     },
     "execution_count": 37,
     "metadata": {},
     "output_type": "execute_result"
    }
   ],
   "source": [
    "ans = nonlinsolve([exp, exp4], [R1, C])\n",
    "ans"
   ]
  },
  {
   "cell_type": "code",
   "execution_count": 17,
   "id": "d90fe919",
   "metadata": {},
   "outputs": [
    {
     "data": {
      "text/latex": [
       "$\\displaystyle \\left( R_{1}, \\  - \\frac{5.88235294117647 \\cdot 10^{-12} \\sqrt{- \\frac{1}{1.0 \\cdot 10^{-6} R_{1} - 1.0}}}{\\pi \\sqrt{1.0 \\cdot 10^{-6} R_{1} + 1.0}}\\right)$"
      ],
      "text/plain": [
       "(R_1, -5.88235294117647e-12*sqrt(-1/(1.0e-6*R_1 - 1.0))/(pi*sqrt(1.0e-6*R_1 + 1.0)))"
      ]
     },
     "execution_count": 17,
     "metadata": {},
     "output_type": "execute_result"
    }
   ],
   "source": [
    "ans1 = ans.args[0]\n",
    "ans1"
   ]
  },
  {
   "cell_type": "code",
   "execution_count": 20,
   "id": "acda8bf0",
   "metadata": {},
   "outputs": [
    {
     "data": {
      "text/latex": [
       "$\\displaystyle - \\frac{5.9119871485836 \\cdot 10^{-12}}{\\pi}$"
      ],
      "text/plain": [
       "-5.9119871485836e-12/pi"
      ]
     },
     "execution_count": 20,
     "metadata": {},
     "output_type": "execute_result"
    }
   ],
   "source": [
    "ans1[1].subs({R1:100e3})"
   ]
  },
  {
   "cell_type": "code",
   "execution_count": 38,
   "id": "492aa418",
   "metadata": {},
   "outputs": [
    {
     "data": {
      "text/latex": [
       "$\\displaystyle \\left( R_{1}, \\  \\frac{5.88235294117647 \\cdot 10^{-11} \\sqrt{- \\frac{1}{1.0 \\cdot 10^{-5} R_{1} - 1.0}}}{\\pi \\sqrt{1.0 \\cdot 10^{-5} R_{1} + 1.0}}\\right)$"
      ],
      "text/plain": [
       "(R_1, 5.88235294117647e-11*sqrt(-1/(1.0e-5*R_1 - 1.0))/(pi*sqrt(1.0e-5*R_1 + 1.0)))"
      ]
     },
     "execution_count": 38,
     "metadata": {},
     "output_type": "execute_result"
    }
   ],
   "source": [
    "ans2 = ans.args[1]\n",
    "ans2"
   ]
  },
  {
   "cell_type": "code",
   "execution_count": 42,
   "id": "f6b7df1a",
   "metadata": {},
   "outputs": [
    {
     "data": {
      "text/latex": [
       "$\\displaystyle 3.12 \\cdot 10^{-11}$"
      ],
      "text/plain": [
       "3.12e-11"
      ]
     },
     "execution_count": 42,
     "metadata": {},
     "output_type": "execute_result"
    }
   ],
   "source": [
    "ans2[1].subs({R1:80e3}).evalf(3)"
   ]
  },
  {
   "cell_type": "code",
   "execution_count": 44,
   "id": "7a52a23b",
   "metadata": {},
   "outputs": [
    {
     "data": {
      "text/latex": [
       "$\\displaystyle 1.62$"
      ],
      "text/plain": [
       "1.62"
      ]
     },
     "execution_count": 44,
     "metadata": {},
     "output_type": "execute_result"
    }
   ],
   "source": [
    "Abs(1/(j*2*pi*85e3*1.155e-6)).evalf(3)"
   ]
  },
  {
   "cell_type": "code",
   "execution_count": null,
   "id": "f780573e",
   "metadata": {},
   "outputs": [],
   "source": []
  },
  {
   "cell_type": "code",
   "execution_count": null,
   "id": "81d74407",
   "metadata": {},
   "outputs": [],
   "source": [
    "c= converter()\n",
    "#c.add_equation(exp1)\n",
    "#c.add_equation(exp3)\n",
    "#c.add_equation(exp4)\n",
    "#c.equations.add(exp1)\n",
    "c.equations.add(exp3)\n",
    "c.equations.add(exp4)\n",
    "c.solver(given={R2:1e3, w:2*pi*85e3}, want=R1)"
   ]
  },
  {
   "cell_type": "code",
   "execution_count": null,
   "id": "5a5f62be",
   "metadata": {},
   "outputs": [],
   "source": []
  },
  {
   "cell_type": "code",
   "execution_count": null,
   "id": "df7fc40b",
   "metadata": {},
   "outputs": [],
   "source": []
  },
  {
   "cell_type": "code",
   "execution_count": null,
   "id": "981fe444",
   "metadata": {},
   "outputs": [],
   "source": []
  },
  {
   "cell_type": "code",
   "execution_count": null,
   "id": "9c2648ae",
   "metadata": {},
   "outputs": [],
   "source": []
  }
 ],
 "metadata": {
  "kernelspec": {
   "display_name": "Python 3 (ipykernel)",
   "language": "python",
   "name": "python3"
  },
  "language_info": {
   "codemirror_mode": {
    "name": "ipython",
    "version": 3
   },
   "file_extension": ".py",
   "mimetype": "text/x-python",
   "name": "python",
   "nbconvert_exporter": "python",
   "pygments_lexer": "ipython3",
   "version": "3.8.11"
  }
 },
 "nbformat": 4,
 "nbformat_minor": 5
}
