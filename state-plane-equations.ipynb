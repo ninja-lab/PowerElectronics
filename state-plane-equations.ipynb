{
 "cells": [
  {
   "cell_type": "code",
   "execution_count": 158,
   "id": "5c5caaed-18e6-4389-b511-843d702b170d",
   "metadata": {},
   "outputs": [],
   "source": [
    "import matplotlib.pyplot as plt\n",
    "import numpy as np\n",
    "import pandas as pd\n",
    "from sympy import sin, cos, tan, atan\n",
    "from sympy import simplify, collect, expand, factor, apart, cancel \n",
    "from sympy.core.symbol import symbols, Symbol\n",
    "from sympy import solveset, linsolve, solve \n",
    "from sympy import Eq, Function, Matrix \n",
    "from sympy.solvers.ode.systems import dsolve_system\n"
   ]
  },
  {
   "cell_type": "code",
   "execution_count": 11,
   "id": "859124fb-6cb3-440f-9227-28c0756ec48d",
   "metadata": {},
   "outputs": [],
   "source": [
    "from IPython.core.interactiveshell import InteractiveShell\n",
    "InteractiveShell.ast_node_interactivity = \"all\""
   ]
  },
  {
   "cell_type": "code",
   "execution_count": 182,
   "id": "3820223e-0b9c-42d6-9271-dd78d8609665",
   "metadata": {},
   "outputs": [
    {
     "data": {
      "text/latex": [
       "$\\displaystyle \\left[\\begin{matrix}0 & \\frac{1}{C}\\\\- \\frac{1}{L} & 0\\end{matrix}\\right]$"
      ],
      "text/plain": [
       "Matrix([\n",
       "[   0, 1/C],\n",
       "[-1/L,   0]])"
      ]
     },
     "execution_count": 182,
     "metadata": {},
     "output_type": "execute_result"
    },
    {
     "data": {
      "text/latex": [
       "$\\displaystyle \\left[\\begin{matrix}v_{C}{\\left(t \\right)}\\\\i_{L}{\\left(t \\right)}\\end{matrix}\\right]$"
      ],
      "text/plain": [
       "Matrix([\n",
       "[v_C(t)],\n",
       "[i_L(t)]])"
      ]
     },
     "execution_count": 182,
     "metadata": {},
     "output_type": "execute_result"
    },
    {
     "data": {
      "text/latex": [
       "$\\displaystyle \\left[\\begin{matrix}\\frac{d}{d t} v_{C}{\\left(t \\right)} - \\frac{i_{L}{\\left(t \\right)}}{C}\\\\\\frac{d}{d t} i_{L}{\\left(t \\right)} - \\frac{V_{E}}{L} + \\frac{v_{C}{\\left(t \\right)}}{L}\\end{matrix}\\right]$"
      ],
      "text/plain": [
       "Matrix([\n",
       "[          Derivative(v_C(t), t) - i_L(t)/C],\n",
       "[Derivative(i_L(t), t) - V_{E}/L + v_C(t)/L]])"
      ]
     },
     "execution_count": 182,
     "metadata": {},
     "output_type": "execute_result"
    }
   ],
   "source": [
    "f, g = symbols(\"f g\", cls=Function)\n",
    "x, y, t = symbols('x y t')\n",
    "vc = symbols(\"v_C\", real=True, cls=Function)\n",
    "il = symbols(\"i_L\", real=True, cls=Function)\n",
    "L = symbols(\"L\", real=True, positive=True)\n",
    "C = symbols(\"C\", real=True, positive=True)\n",
    "VE = symbols('V_{E}' ,real=True )\n",
    "ILO = symbols('I_{LO}' ,real=True)\n",
    "VCO = symbols('V_{CO}' ,real=True)\n",
    "A = Matrix([[0, 1/C],[-1/L, 0]])\n",
    "x = Matrix([[vc(t)],[il(t)]])\n",
    "B = Matrix([[0],[VE/L]])\n",
    "A\n",
    "x\n",
    "eqs = x.diff(t) - (A*x+B) \n",
    "eqs \n"
   ]
  },
  {
   "cell_type": "code",
   "execution_count": 185,
   "id": "c12819d8-433f-4cb1-9a05-027b4961dfa5",
   "metadata": {},
   "outputs": [],
   "source": [
    "#ans = dsolve_system(eqs, ics={vc(0): VCO, il(0): ILO})\n",
    "ans = dsolve_system(eqs, ics={vc(t).subs(t, 0): VCO, il(t).subs(t, 0): ILO})"
   ]
  },
  {
   "cell_type": "code",
   "execution_count": 190,
   "id": "7d280367-2393-4bba-b7c4-039a63a43002",
   "metadata": {},
   "outputs": [
    {
     "data": {
      "text/latex": [
       "$\\displaystyle v_{C}{\\left(t \\right)} = V_{CO} \\cos{\\left(\\frac{t}{\\sqrt{C} \\sqrt{L}} \\right)} - V_{E} \\cos{\\left(\\frac{t}{\\sqrt{C} \\sqrt{L}} \\right)} + V_{E} + \\frac{I_{LO} \\sqrt{L} \\sin{\\left(\\frac{t}{\\sqrt{C} \\sqrt{L}} \\right)}}{\\sqrt{C}}$"
      ],
      "text/plain": [
       "Eq(v_C(t), V_{CO}*cos(t/(sqrt(C)*sqrt(L))) - V_{E}*cos(t/(sqrt(C)*sqrt(L))) + V_{E} + I_{LO}*sqrt(L)*sin(t/(sqrt(C)*sqrt(L)))/sqrt(C))"
      ]
     },
     "execution_count": 190,
     "metadata": {},
     "output_type": "execute_result"
    }
   ],
   "source": [
    "simplify(simplify(ans[0][0]))"
   ]
  },
  {
   "cell_type": "code",
   "execution_count": 195,
   "id": "bc1038fd-4202-459d-b5fb-b3ee0bfdc476",
   "metadata": {},
   "outputs": [
    {
     "data": {
      "text/latex": [
       "$\\displaystyle i_{L}{\\left(t \\right)} = - \\frac{\\sqrt{C} V_{CO} \\sin{\\left(\\frac{t}{\\sqrt{C} \\sqrt{L}} \\right)}}{\\sqrt{L}} + \\frac{\\sqrt{C} V_{E} \\sin{\\left(\\frac{t}{\\sqrt{C} \\sqrt{L}} \\right)}}{\\sqrt{L}} + I_{LO} \\cos{\\left(\\frac{t}{\\sqrt{C} \\sqrt{L}} \\right)}$"
      ],
      "text/plain": [
       "Eq(i_L(t), -sqrt(C)*V_{CO}*sin(t/(sqrt(C)*sqrt(L)))/sqrt(L) + sqrt(C)*V_{E}*sin(t/(sqrt(C)*sqrt(L)))/sqrt(L) + I_{LO}*cos(t/(sqrt(C)*sqrt(L))))"
      ]
     },
     "execution_count": 195,
     "metadata": {},
     "output_type": "execute_result"
    }
   ],
   "source": [
    "expand(simplify(ans[0][1]))"
   ]
  },
  {
   "cell_type": "code",
   "execution_count": 174,
   "id": "5b52266d-e825-4538-aa23-fb7d08d33844",
   "metadata": {},
   "outputs": [
    {
     "data": {
      "text/latex": [
       "$\\displaystyle 0$"
      ],
      "text/plain": [
       "0"
      ]
     },
     "execution_count": 174,
     "metadata": {},
     "output_type": "execute_result"
    },
    {
     "data": {
      "text/latex": [
       "$\\displaystyle \\frac{1}{C L}$"
      ],
      "text/plain": [
       "1/(C*L)"
      ]
     },
     "execution_count": 174,
     "metadata": {},
     "output_type": "execute_result"
    }
   ],
   "source": [
    "A.trace()\n",
    "A.det()"
   ]
  },
  {
   "cell_type": "code",
   "execution_count": 129,
   "id": "11a73387-f295-4351-87b1-b0cf9f882748",
   "metadata": {},
   "outputs": [],
   "source": [
    "vcN = symbols('V_{CN}' ,real=True)\n",
    "Vs = symbols('V_{S}' ,real=True)\n",
    "VEN = symbols('V_{EN}' ,real=True, positive=True)\n",
    "VE = symbols('V_{E}' ,real=True, positive=True)\n",
    "iLN = symbols('i_{LN}' ,real=True, positive=True)\n",
    "Zo = symbols('Z_o' ,real=True, positive=True)\n",
    "ILON = symbols('I_{LON}' ,real=True)\n",
    "ILO = symbols('I_{LO}' ,real=True)\n",
    "VCON = symbols('V_{CON}' ,real=True)\n",
    "VCO = symbols('V_{CO}' ,real=True)\n",
    "w = symbols('omega')\n",
    "theta = symbols('theta')\n",
    "x, y, v = symbols('x y v')"
   ]
  },
  {
   "attachments": {
    "2865b59f-7cce-48e5-8669-a71bfd45970c.png": {
     "image/png": "[encoded data removed]"
    }
   },
   "cell_type": "markdown",
   "id": "bac4715d-05dd-4d85-8dd8-a57150d10872",
   "metadata": {},
   "source": [
    "\n",
    "<img src=\"attachment:2865b59f-7cce-48e5-8669-a71bfd45970c.png\" style=\"width:500px\">"
   ]
  },
  {
   "cell_type": "markdown",
   "id": "e9124a6c-3b04-47ab-ad5b-c1e20f93c986",
   "metadata": {},
   "source": [
    "initial condition: $i_L(t=t_0) = I_{LO} = \\frac{V_S}{Z_0}$\n",
    "\n",
    "$i_{LN} = \\frac{i_L}{I_{LO}}$\n",
    "\n",
    "$v_{CON} = \\frac{V_{CO} - V_E}{V_S}$\n",
    "\n",
    "$I_{LON} = \\frac{I_{LO}}{Vs/Z_0}=1$\n",
    "\n",
    "in solving the above solution to the state space equation, keep the left side of the voltage equation together. "
   ]
  },
  {
   "cell_type": "code",
   "execution_count": 130,
   "id": "4c39ccbe-6459-4223-9c0c-a7017f8636f3",
   "metadata": {},
   "outputs": [
    {
     "data": {
      "text/latex": [
       "$\\displaystyle I_{LO} Z_{o} \\sin{\\left(\\theta \\right)} + \\left(V_{CO} - V_{E}\\right) \\cos{\\left(\\theta \\right)}$"
      ],
      "text/plain": [
       "I_{LO}*Z_o*sin(theta) + (V_{CO} - V_{E})*cos(theta)"
      ]
     },
     "execution_count": 130,
     "metadata": {},
     "output_type": "execute_result"
    },
    {
     "data": {
      "text/latex": [
       "$\\displaystyle I_{LO} \\cos{\\left(\\theta \\right)} - \\frac{\\left(V_{CO} - V_{E}\\right) \\sin{\\left(\\theta \\right)}}{Z_{o}}$"
      ],
      "text/plain": [
       "I_{LO}*cos(theta) - (V_{CO} - V_{E})*sin(theta)/Z_o"
      ]
     },
     "execution_count": 130,
     "metadata": {},
     "output_type": "execute_result"
    }
   ],
   "source": [
    "exp1 = ILO*Zo*sin(theta) + (VCO-VE)*cos(theta)\n",
    "exp2 = ILO*cos(theta) - (VCO-VE)*sin(theta)/Zo\n",
    "exp1\n",
    "exp2"
   ]
  },
  {
   "cell_type": "code",
   "execution_count": 131,
   "id": "e7655bcb-3fa2-4264-9525-444fc5c1bfd6",
   "metadata": {},
   "outputs": [
    {
     "data": {
      "text/latex": [
       "$\\displaystyle \\frac{V_{S} \\sin{\\left(\\theta \\right)} + \\left(V_{CO} - V_{E}\\right) \\cos{\\left(\\theta \\right)}}{V_{S}}$"
      ],
      "text/plain": [
       "(V_{S}*sin(theta) + (V_{CO} - V_{E})*cos(theta))/V_{S}"
      ]
     },
     "execution_count": 131,
     "metadata": {},
     "output_type": "execute_result"
    },
    {
     "data": {
      "text/latex": [
       "$\\displaystyle \\frac{V_{S} \\cos{\\left(\\theta \\right)} + \\left(- V_{CO} + V_{E}\\right) \\sin{\\left(\\theta \\right)}}{V_{S}}$"
      ],
      "text/plain": [
       "(V_{S}*cos(theta) + (-V_{CO} + V_{E})*sin(theta))/V_{S}"
      ]
     },
     "execution_count": 131,
     "metadata": {},
     "output_type": "execute_result"
    }
   ],
   "source": [
    "exp3 = simplify(exp1.subs({ILO:Vs/Zo})/Vs)\n",
    "exp4 = simplify(exp2.subs({ILO:Vs/Zo})/(Vs/Zo))\n",
    "exp3\n",
    "exp4"
   ]
  },
  {
   "cell_type": "code",
   "execution_count": 132,
   "id": "92b4ab9d-f26b-4abe-9e51-2cf62a2e3228",
   "metadata": {},
   "outputs": [
    {
     "data": {
      "text/latex": [
       "$\\displaystyle - V_{CON} \\sin{\\left(\\theta \\right)} + \\frac{V_{E} \\sin{\\left(\\theta \\right)}}{V_{S}} + \\cos{\\left(\\theta \\right)}$"
      ],
      "text/plain": [
       "-V_{CON}*sin(theta) + V_{E}*sin(theta)/V_{S} + cos(theta)"
      ]
     },
     "execution_count": 132,
     "metadata": {},
     "output_type": "execute_result"
    }
   ],
   "source": [
    "expand(exp4).subs({VCO/Vs: VCON})"
   ]
  },
  {
   "cell_type": "code",
   "execution_count": 133,
   "id": "a8bbb3f0-fd6f-423c-bff3-a3e056e17b83",
   "metadata": {},
   "outputs": [
    {
     "data": {
      "text/latex": [
       "$\\displaystyle \\frac{\\left(V_{S} \\sin{\\left(\\theta \\right)} + \\left(V_{CO} - V_{E}\\right) \\cos{\\left(\\theta \\right)}\\right)^{2}}{V_{S}^{2}} + \\frac{\\left(V_{S} \\cos{\\left(\\theta \\right)} + \\left(- V_{CO} + V_{E}\\right) \\sin{\\left(\\theta \\right)}\\right)^{2}}{V_{S}^{2}}$"
      ],
      "text/plain": [
       "(V_{S}*sin(theta) + (V_{CO} - V_{E})*cos(theta))**2/V_{S}**2 + (V_{S}*cos(theta) + (-V_{CO} + V_{E})*sin(theta))**2/V_{S}**2"
      ]
     },
     "execution_count": 133,
     "metadata": {},
     "output_type": "execute_result"
    },
    {
     "data": {
      "text/latex": [
       "$\\displaystyle \\frac{V_{CO}^{2} \\sin^{2}{\\left(\\theta \\right)}}{V_{S}^{2}} + \\frac{V_{CO}^{2} \\cos^{2}{\\left(\\theta \\right)}}{V_{S}^{2}} - \\frac{2 V_{CO} V_{E} \\sin^{2}{\\left(\\theta \\right)}}{V_{S}^{2}} - \\frac{2 V_{CO} V_{E} \\cos^{2}{\\left(\\theta \\right)}}{V_{S}^{2}} + \\frac{V_{E}^{2} \\sin^{2}{\\left(\\theta \\right)}}{V_{S}^{2}} + \\frac{V_{E}^{2} \\cos^{2}{\\left(\\theta \\right)}}{V_{S}^{2}} + \\sin^{2}{\\left(\\theta \\right)} + \\cos^{2}{\\left(\\theta \\right)}$"
      ],
      "text/plain": [
       "V_{CO}**2*sin(theta)**2/V_{S}**2 + V_{CO}**2*cos(theta)**2/V_{S}**2 - 2*V_{CO}*V_{E}*sin(theta)**2/V_{S}**2 - 2*V_{CO}*V_{E}*cos(theta)**2/V_{S}**2 + V_{E}**2*sin(theta)**2/V_{S}**2 + V_{E}**2*cos(theta)**2/V_{S}**2 + sin(theta)**2 + cos(theta)**2"
      ]
     },
     "execution_count": 133,
     "metadata": {},
     "output_type": "execute_result"
    },
    {
     "data": {
      "text/latex": [
       "$\\displaystyle \\frac{V_{CO}^{2} - 2 V_{CO} V_{E} + V_{E}^{2} + V_{S}^{2}}{V_{S}^{2}}$"
      ],
      "text/plain": [
       "(V_{CO}**2 - 2*V_{CO}*V_{E} + V_{E}**2 + V_{S}**2)/V_{S}**2"
      ]
     },
     "execution_count": 133,
     "metadata": {},
     "output_type": "execute_result"
    }
   ],
   "source": [
    "#use vcN = (vc-VE)/Vs\n",
    "exp3**2 + exp4**2\n",
    "expand(exp3**2 + exp4**2)\n",
    "simplify(expand(exp3**2 + exp4**2))"
   ]
  },
  {
   "cell_type": "markdown",
   "id": "49cc6ae0-bd2b-4d2d-bcf6-ac7f785dae68",
   "metadata": {},
   "source": []
  },
  {
   "cell_type": "code",
   "execution_count": 134,
   "id": "6ffe988c-0496-4e68-a031-d0dc8ffc4f2c",
   "metadata": {},
   "outputs": [
    {
     "data": {
      "text/latex": [
       "$\\displaystyle V_{CN} - V_{CON} \\cos{\\left(\\theta \\right)} + V_{EN} \\cos{\\left(\\theta \\right)} - \\sin{\\left(\\theta \\right)}$"
      ],
      "text/plain": [
       "V_{CN} - V_{CON}*cos(theta) + V_{EN}*cos(theta) - sin(theta)"
      ]
     },
     "execution_count": 134,
     "metadata": {},
     "output_type": "execute_result"
    },
    {
     "data": {
      "text/latex": [
       "$\\displaystyle V_{CON} \\sin{\\left(\\theta \\right)} - V_{EN} \\sin{\\left(\\theta \\right)} + i_{LN} - \\cos{\\left(\\theta \\right)}$"
      ],
      "text/plain": [
       "V_{CON}*sin(theta) - V_{EN}*sin(theta) + i_{LN} - cos(theta)"
      ]
     },
     "execution_count": 134,
     "metadata": {},
     "output_type": "execute_result"
    }
   ],
   "source": [
    "exp3 = simplify(exp1.subs({ILO:Vs/Zo})/Vs)\n",
    "exp4 = simplify(exp2.subs({ILO:Vs/Zo})/(Vs/Zo))\n",
    "#use vcN = (vc-VE)/Vs\n",
    "exp5 = vcN  - expand(exp3).subs({VCO/Vs: VCON, VE/Vs:VEN})\n",
    "exp6 = iLN - expand(exp4).subs({VCO/Vs: VCON, VE/Vs:VEN})\n",
    "exp5\n",
    "exp6"
   ]
  },
  {
   "cell_type": "code",
   "execution_count": 135,
   "id": "208057c4-92d8-45b5-a606-76eb5071320c",
   "metadata": {},
   "outputs": [
    {
     "data": {
      "text/latex": [
       "$\\displaystyle - V_{CON} \\sin{\\left(\\theta \\right)} + V_{EN} \\sin{\\left(\\theta \\right)} - i_{LN} + \\cos{\\left(\\theta \\right)}$"
      ],
      "text/plain": [
       "-V_{CON}*sin(theta) + V_{EN}*sin(theta) - i_{LN} + cos(theta)"
      ]
     },
     "execution_count": 135,
     "metadata": {},
     "output_type": "execute_result"
    },
    {
     "data": {
      "text/latex": [
       "$\\displaystyle - V_{CN} + V_{CON} \\cos{\\left(\\theta \\right)} - V_{EN} \\cos{\\left(\\theta \\right)} + \\sin{\\left(\\theta \\right)}$"
      ],
      "text/plain": [
       "-V_{CN} + V_{CON}*cos(theta) - V_{EN}*cos(theta) + sin(theta)"
      ]
     },
     "execution_count": 135,
     "metadata": {},
     "output_type": "execute_result"
    }
   ],
   "source": [
    "y = sin(theta) - solveset(exp5, sin(theta)).args[0]\n",
    "x = cos(theta) - solveset(exp6, cos(theta)).args[0]\n",
    "x\n",
    "y"
   ]
  },
  {
   "cell_type": "code",
   "execution_count": 136,
   "id": "71c365ce-4c8c-403d-8215-e4862f2980f7",
   "metadata": {},
   "outputs": [
    {
     "data": {
      "text/latex": [
       "$\\displaystyle - V_{CON} \\sin{\\left(\\theta \\right)} + V_{EN} \\sin{\\left(\\theta \\right)} - i_{LN} + \\frac{V_{CN} - \\sin{\\left(\\theta \\right)}}{V_{CON} - V_{EN}}$"
      ],
      "text/plain": [
       "-V_{CON}*sin(theta) + V_{EN}*sin(theta) - i_{LN} + (V_{CN} - sin(theta))/(V_{CON} - V_{EN})"
      ]
     },
     "execution_count": 136,
     "metadata": {},
     "output_type": "execute_result"
    },
    {
     "data": {
      "text/latex": [
       "$\\displaystyle \\frac{V_{CN} - V_{CON} i_{LN} + V_{EN} i_{LN}}{V_{CON}^{2} - 2 V_{CON} V_{EN} + V_{EN}^{2} + 1}$"
      ],
      "text/plain": [
       "(V_{CN} - V_{CON}*i_{LN} + V_{EN}*i_{LN})/(V_{CON}**2 - 2*V_{CON}*V_{EN} + V_{EN}**2 + 1)"
      ]
     },
     "execution_count": 136,
     "metadata": {},
     "output_type": "execute_result"
    }
   ],
   "source": [
    "exp7 = x.subs({cos(theta): solveset(y, cos(theta)).args[0]}) \n",
    "exp7\n",
    "sin_theta = solveset(exp7, sin(theta)).args[0]\n",
    "sin_theta"
   ]
  },
  {
   "cell_type": "code",
   "execution_count": 137,
   "id": "d2fe8dc1-53bd-4e6a-ba2a-272301abd1a7",
   "metadata": {},
   "outputs": [
    {
     "data": {
      "text/latex": [
       "$\\displaystyle \\frac{V_{CON} \\left(V_{CN} - V_{CON} i_{LN} + V_{EN} i_{LN}\\right)}{V_{CON}^{2} - 2 V_{CON} V_{EN} + V_{EN}^{2} + 1} - \\frac{V_{EN} \\left(V_{CN} - V_{CON} i_{LN} + V_{EN} i_{LN}\\right)}{V_{CON}^{2} - 2 V_{CON} V_{EN} + V_{EN}^{2} + 1} + i_{LN}$"
      ],
      "text/plain": [
       "V_{CON}*(V_{CN} - V_{CON}*i_{LN} + V_{EN}*i_{LN})/(V_{CON}**2 - 2*V_{CON}*V_{EN} + V_{EN}**2 + 1) - V_{EN}*(V_{CN} - V_{CON}*i_{LN} + V_{EN}*i_{LN})/(V_{CON}**2 - 2*V_{CON}*V_{EN} + V_{EN}**2 + 1) + i_{LN}"
      ]
     },
     "execution_count": 137,
     "metadata": {},
     "output_type": "execute_result"
    }
   ],
   "source": [
    "cos_theta = solveset(x.subs({sin(theta): sin_theta}), cos(theta)).args[0]\n",
    "cos_theta"
   ]
  },
  {
   "cell_type": "code",
   "execution_count": 138,
   "id": "37cb2e41-4d8f-4b84-b12a-ac0120d08e7e",
   "metadata": {},
   "outputs": [
    {
     "data": {
      "text/latex": [
       "$\\displaystyle \\frac{V_{CN} V_{CON} - V_{CN} V_{EN} + i_{LN}}{V_{CON}^{2} - 2 V_{CON} V_{EN} + V_{EN}^{2} + 1}$"
      ],
      "text/plain": [
       "(V_{CN}*V_{CON} - V_{CN}*V_{EN} + i_{LN})/(V_{CON}**2 - 2*V_{CON}*V_{EN} + V_{EN}**2 + 1)"
      ]
     },
     "execution_count": 138,
     "metadata": {},
     "output_type": "execute_result"
    }
   ],
   "source": [
    "cos_theta2 = solveset(y.subs({sin(theta): sin_theta}), cos(theta)).args[0]\n",
    "cos_theta2"
   ]
  },
  {
   "cell_type": "code",
   "execution_count": 139,
   "id": "893fc7c8-7466-4053-ab3a-748cc9b21df7",
   "metadata": {},
   "outputs": [
    {
     "data": {
      "text/latex": [
       "$\\displaystyle 0$"
      ],
      "text/plain": [
       "0"
      ]
     },
     "execution_count": 139,
     "metadata": {},
     "output_type": "execute_result"
    }
   ],
   "source": [
    "simplify(cos_theta1 - cos_theta2)"
   ]
  },
  {
   "cell_type": "code",
   "execution_count": null,
   "id": "c04ea3d7-59f4-4048-ab94-931c60f154f5",
   "metadata": {},
   "outputs": [],
   "source": []
  },
  {
   "cell_type": "code",
   "execution_count": 142,
   "id": "cf02a1b6-ebe5-43c4-8aef-c5675e6584b9",
   "metadata": {},
   "outputs": [
    {
     "data": {
      "text/latex": [
       "$\\displaystyle \\frac{V_{CN} V_{CON} - V_{CN} V_{EN} + i_{LN}}{V_{CON}^{2} - 2 V_{CON} V_{EN} + V_{EN}^{2} + 1}$"
      ],
      "text/plain": [
       "(V_{CN}*V_{CON} - V_{CN}*V_{EN} + i_{LN})/(V_{CON}**2 - 2*V_{CON}*V_{EN} + V_{EN}**2 + 1)"
      ]
     },
     "execution_count": 142,
     "metadata": {},
     "output_type": "execute_result"
    },
    {
     "data": {
      "text/latex": [
       "$\\displaystyle \\frac{V_{CN} - V_{CON} i_{LN} + V_{EN} i_{LN}}{V_{CON}^{2} - 2 V_{CON} V_{EN} + V_{EN}^{2} + 1}$"
      ],
      "text/plain": [
       "(V_{CN} - V_{CON}*i_{LN} + V_{EN}*i_{LN})/(V_{CON}**2 - 2*V_{CON}*V_{EN} + V_{EN}**2 + 1)"
      ]
     },
     "execution_count": 142,
     "metadata": {},
     "output_type": "execute_result"
    }
   ],
   "source": [
    "y, x = linsolve([exp5, exp6], (sin(theta), cos(theta))).args[0]\n",
    "x \n",
    "y \n",
    "tan_theta = y/x\n",
    "#don't forget vcN = (vc-VE)/Vs"
   ]
  },
  {
   "cell_type": "code",
   "execution_count": 143,
   "id": "3d6c0472-ca1c-46ff-bbc7-74864c48401e",
   "metadata": {},
   "outputs": [
    {
     "data": {
      "text/latex": [
       "$\\displaystyle 0$"
      ],
      "text/plain": [
       "0"
      ]
     },
     "execution_count": 143,
     "metadata": {},
     "output_type": "execute_result"
    },
    {
     "data": {
      "text/latex": [
       "$\\displaystyle 0$"
      ],
      "text/plain": [
       "0"
      ]
     },
     "execution_count": 143,
     "metadata": {},
     "output_type": "execute_result"
    }
   ],
   "source": [
    "simplify(x - cos_theta2)\n",
    "simplify(y - sin_theta)"
   ]
  },
  {
   "cell_type": "code",
   "execution_count": 145,
   "id": "9a2848ad-b9b0-4471-8dfb-dad6d12e2121",
   "metadata": {},
   "outputs": [
    {
     "data": {
      "text/latex": [
       "$\\displaystyle \\frac{V_{CN} - V_{CON} i_{LN} + V_{EN} i_{LN}}{V_{CN} V_{CON} - V_{CN} V_{EN} + i_{LN}}$"
      ],
      "text/plain": [
       "(V_{CN} - V_{CON}*i_{LN} + V_{EN}*i_{LN})/(V_{CN}*V_{CON} - V_{CN}*V_{EN} + i_{LN})"
      ]
     },
     "execution_count": 145,
     "metadata": {},
     "output_type": "execute_result"
    }
   ],
   "source": [
    "tan_theta"
   ]
  },
  {
   "cell_type": "markdown",
   "id": "6109f6e3-891c-45e3-895b-ffd7636fec57",
   "metadata": {},
   "source": [
    "### reverse engineer the paper's $\\tan(\\theta)$\n",
    "it actually matches the one above. The relevant identity is $\\tan(\\alpha \\pm \\beta) = \\frac{\\tan \\alpha \\pm \\tan \\beta}{1 \\mp \\tan \\alpha \\tan \\beta}$ But I get inverses of $\\alpha$ and $\\beta$ somehow. Regardless, my $\\tan(\\theta)$ matches the paper via substraction test. \n",
    "https://uvmoffice-my.sharepoint.com/:o:/g/personal/03eivers_uvm_edu/EmA8ICJquiZBmeBJ8AaVIZ8BKajqj_H4ltSqWeFXwhXzAg?e=Ee14hH"
   ]
  },
  {
   "cell_type": "code",
   "execution_count": 149,
   "id": "a5725925-669a-421b-a2dd-6d5afe402434",
   "metadata": {},
   "outputs": [],
   "source": [
    "tan_theta0 = -ILON/(VCON-VEN)\n",
    "#exp = -(iLN/(vcN-VEN)) - (tan(theta) - ILON/(VCON-VEN))/(1+tan(theta)*ILON/(VCON-VEN))"
   ]
  },
  {
   "cell_type": "code",
   "execution_count": 157,
   "id": "57eaa911-6dd3-4dd4-86cd-085e13791fad",
   "metadata": {},
   "outputs": [
    {
     "data": {
      "text/latex": [
       "$\\displaystyle - \\frac{- \\frac{I_{LON}}{V_{CON} - V_{EN}} + \\tan{\\left(\\theta \\right)}}{\\frac{I_{LON} \\tan{\\left(\\theta \\right)}}{V_{CON} - V_{EN}} + 1} - \\frac{i_{LN}}{V_{CN}}$"
      ],
      "text/plain": [
       "-(-I_{LON}/(V_{CON} - V_{EN}) + tan(theta))/(I_{LON}*tan(theta)/(V_{CON} - V_{EN}) + 1) - i_{LN}/V_{CN}"
      ]
     },
     "execution_count": 157,
     "metadata": {},
     "output_type": "execute_result"
    },
    {
     "data": {
      "text/latex": [
       "$\\displaystyle \\frac{I_{LON} V_{CN} - V_{CON} i_{LN} + V_{EN} i_{LN}}{I_{LON} i_{LN} + V_{CN} V_{CON} - V_{CN} V_{EN}}$"
      ],
      "text/plain": [
       "(I_{LON}*V_{CN} - V_{CON}*i_{LN} + V_{EN}*i_{LN})/(I_{LON}*i_{LN} + V_{CN}*V_{CON} - V_{CN}*V_{EN})"
      ]
     },
     "execution_count": 157,
     "metadata": {},
     "output_type": "execute_result"
    },
    {
     "data": {
      "text/latex": [
       "$\\displaystyle 0$"
      ],
      "text/plain": [
       "0"
      ]
     },
     "execution_count": 157,
     "metadata": {},
     "output_type": "execute_result"
    }
   ],
   "source": [
    "exp = -(iLN/(vcN)) -(tan(theta) + tan_theta0) / (1- tan(theta)*tan_theta0)\n",
    "exp\n",
    "solve(exp, tan(theta))[0]\n",
    "solve(exp, tan(theta))[0].subs({ILON:1}) - tan_theta"
   ]
  },
  {
   "cell_type": "code",
   "execution_count": null,
   "id": "108e78c4-2566-4684-a958-41ad486b1163",
   "metadata": {},
   "outputs": [],
   "source": []
  },
  {
   "cell_type": "code",
   "execution_count": null,
   "id": "ee5196b7-9b54-4e1f-b6ce-59f244ed518b",
   "metadata": {},
   "outputs": [],
   "source": []
  },
  {
   "cell_type": "code",
   "execution_count": null,
   "id": "567a7242-e1cd-4472-8079-dbc6a7add3e9",
   "metadata": {},
   "outputs": [],
   "source": []
  },
  {
   "cell_type": "code",
   "execution_count": null,
   "id": "1bac46b6-4650-438d-bc1b-b8ed77890db0",
   "metadata": {},
   "outputs": [],
   "source": []
  },
  {
   "cell_type": "code",
   "execution_count": null,
   "id": "702aecb2-15b8-42c8-8c45-034b526b1069",
   "metadata": {},
   "outputs": [],
   "source": []
  }
 ],
 "metadata": {
  "kernelspec": {
   "display_name": "Python 3 (ipykernel)",
   "language": "python",
   "name": "python3"
  },
  "language_info": {
   "codemirror_mode": {
    "name": "ipython",
    "version": 3
   },
   "file_extension": ".py",
   "mimetype": "text/x-python",
   "name": "python",
   "nbconvert_exporter": "python",
   "pygments_lexer": "ipython3",
   "version": "3.8.13"
  }
 },
 "nbformat": 4,
 "nbformat_minor": 5
}
