from IPython.core.interactiveshell import InteractiveShell
InteractiveShell.ast_node_interactivity = "all"


from IPython.display import display, Latex
#from functools import wraps
#from ordered_set import OrderedSet
import sympy
from sympy.core.symbol import symbols, Symbol
from sympy.solvers.solveset import nonlinsolve
from sympy import solveset, nsolve, And
from sympy import S, Interval
from sympy.utilities.lambdify import lambdify
from sympy.printing import latex, pprint
from sympy import  simplify, oo
import numpy as np
#import os
import matplotlib.pyplot as plt
from matplotlib.ticker import FuncFormatter, EngFormatter
from sympy import pi, sqrt 
from math import log10
from sympy import Le, Lt, Eq, Gt, Ge, Contains 
from sympy.solvers import solve
import sys
from scipy.optimize import fsolve


def make_symbols():
    global a, b, c, d, e ,f, g
    a, b, c, d, e ,f, g = symbols('a b c d e f g', real=True, positive=True)

    return
make_symbols()


Lres, Cres, RL = symbols('L_res C_res, RL', real=True, positive=True)
Lres 
fres, fsw, Tsw, wsw, wres = symbols(r'f_res f_sw, T_sw, \omega_sw, \omega_res', real=True, positive=True)
wres


eq1 = a*b - c
eq2 = c - (d + e)
eq3 = d - (e/f)
eqs =[eq1, eq2, eq3]
given = [a-1, b-2, e-3, f-1]
eqs + given
'''
a*b = 1*2 = 2 = c
e =

'''


nonlinsolve(eqs+given, [a,b,c,d,e,f])
nonlinsolve(eqs+given, [a])


eq1 = a*b - c
eq2 = Le(c, (d + e))
eq3 = d - (e/f)
eqs =[eq1, eq2, eq3]
given = [a-1,g-a, f-4, b-9]
nonlinsolve(eqs+given, [a,b,c,d,e,f,g])


a= symbols('a', real=True, positive=True)


eq1 = a - sqrt(b*c)
eq2 = c - (d + e)
eq3 = d - (e/f)
eqs =[eq1, eq2, eq3]
given = [c-2,g-a, f-4, b-9, ]
#nonlinsolve(eqs+given, [a,b,c,d,e,f,g]) #& Interval(0, oo)
ans = solve(eqs+given,  [a,b,c,d,e,f,g]) 
ans 
type(ans)


S.Reals 
Gt(a, 0)
Interval(0, oo)


eq1 = a - sqrt(b*c)
eq2 = c - (d + e)
eq3 = d - (e/f)
eqs =[eq1, eq2, eq3]
given = [c-2,g-a, f-4, g-3]
nonlinsolve(eqs+given, [a,b,c,d,e,f,g]) #& Interval(0, oo)
solve(eqs+given,  [a,b,c,d,e,f,g]) 


eqs = [a - b*c, c - d - e, e - f**2, e - 16.0, f - 4.0]
solve(eqs,  [a,b,c,d,e,f]) 


eqs = [a - b*c, c - d - e, e - f**2, e - 16.0, f - 4.0]
nonlinsolve(eqs,  [a,b,c,d,e,f])


eqs = [a - b*c, c - d - e, e - f**2, d - 12.0, e - 7.0, f - 2.44948974278318]
nonlinsolve(eqs,  [a,b,c,d,e,f])


eqs = [a - b*c, c - d - e, e - f**2, d - 12.0, e - 9, f - 3]
nonlinsolve(eqs,  [a,b,c,d,e,f])


eqs = [a - b*c, c - d - e, e - f**2, a- 1.0]
nonlinsolve(eqs,  [a,b,c,d,e,f])  


a, b, c, d, e ,f, g = symbols('a b c d e f g', real=True, positive=True)
eqs = [a - b*c, c - d - e, e - f**2, c - 2.0]
ans = nonlinsolve(eqs,  [a,b,c,d,e,f])
ans


eqs = [a - b*c, c - d - e, e - f**2, b - 100, c - 5, d - 6755399441055743/2251799813685248, e - 4503599627370497/2251799813685248, f - 6369051672525773/4503599627370496]
ans = nonlinsolve(eqs,  [a,b,c,d,e,f])
ans


a, b, c, d, e ,f, g = symbols('a b c d e f g', real=True, positive=True)
eqs = [a - b*c, c - d - e, e - f**2, b - 100.0, c - 5,   d - 6755399441055743/2251799813685248, e - 4503599627370497/2251799813685248, f - 6369051672525773/4503599627370496]
ans = nonlinsolve(eqs,  [a,b,c,d,e,f])
ans


a, b, c, d, e ,f, g = symbols('a b c d e f g', real=True, positive=True)
eqs = [a - b*c, c - d - e, e - f**2, b - 100.0, c - 5,   d - 6755399441055743/2251799813685248, e - 2, f - sqrt(2)]
ans = nonlinsolve(eqs,  [a,b,c,d,e,f])
ans
new_f = list(ans)[0][5]
new_f

eqs = [a - b*c, c - d - e, e - f**2, b - 100.0, c - 5,   d - 6755399441055743/2251799813685248, e - 2, f - new_f]
ans = nonlinsolve(eqs,  [a,b,c,d,e,f])
ans


a, b, c, d, e ,f, g = symbols('a b c d e f g', real=True, positive=True)
eqs = [a - b*c, c - d - e, e - f**2, b - 100.0, c - 5,   d - 6755399441055743/2251799813685248, e - 2]
ans = nonlinsolve(eqs,  [a,b,c,d,e,f])
ans
new_f = list(ans)[1][5]
new_f

eqs = [a - b*c, c - d - e, e - f**2, b - 100.0, c - 5,   d - 6755399441055743/2251799813685248, e - 2, f - new_f]
ans = nonlinsolve(eqs,  [a,b,c,d,e,f])
ans


(a-b).free_symbols
(Rational(3) - 4.99).free_symbols


a, b,  = symbols('a b ', real=True, positive=True)
eqs = [ a - b**2,   a - Rational(2.01)]
ans = nonlinsolve(eqs,  [a,b])
ans
new_b = list(ans)[0][1] if list(ans)[0][1] > 0 else list(ans)[1][1]
new_b

eqs = [ a - b**2,  a - Rational(2.01), b - new_b]
ans = nonlinsolve(eqs,  [a,b])
ans


Rational(64.2e-9)


a, b, c, d  = symbols('a b c d ', real=True, positive=True)
eqs = [ a - b**2, c - (d+ a),  a - 2.0, c-5]
ans = nonlinsolve(eqs,  [a,b,c ,d])
ans
new_b = list(ans)[0][1]
new_b

eqs = [ a - b**2,  c - (d+ a), a - 2, b - new_b, c-5]
ans = nonlinsolve(eqs,  [a,b,c,d])
ans


sqrt(2)
type(sqrt(2))
sqrt(2).atoms()
(a - b).atoms()
(a - b).func()


[a - b*c, c - d - e, e - f**2, b - 100, c - 5.0, d - 6755399441055743/2251799813685248, e - 4503599627370497/2251799813685248, f - 6369051672525773/4503599627370496]
ans = nonlinsolve(eqs,  [a,b,c,d,e,f])
ans


e =  4503599627370497/2251799813685248
print(f'e = {e}')
#e = f**2 
f = 6369051672525773/4503599627370496
print(f'f = {f}')
print(f'f**2 = {f**2}')
print(f'sqrt(e) = {sqrt(e)}')
#f**2
#sqrt(f)
d = 6755399441055743/2251799813685248
d


def filter_solutions(solutions, symbols):
    def satisfies_assumptions(solution, symbols):
        for sol, symbol in zip(solution, symbols):
            # Check assumptions only for numeric elements
            if sol.is_number:
                assumptions = symbol.assumptions0
                if assumptions.get('positive', False) and not sol.is_positive:
                    return False
                if assumptions.get('negative', False) and not sol.is_negative:
                    return False
                if assumptions.get('real', False) and not sol.is_real:
                    return False
        return True

    return {sol for sol in solutions if satisfies_assumptions(sol, symbols)}


filter_solutions(ans, [a,b,c,d,e,f])


def satisfies_assumptions(solution, symbols):
    return all(symbol.assumptions0.get('positive', True) == (sol > 0) if symbol.assumptions0.get('positive') else True
               and symbol.assumptions0.get('negative', True) == (sol < 0) if symbol.assumptions0.get('negative') else True
               and symbol.assumptions0.get('real', True) == (sol.is_real) if symbol.assumptions0.get('real') else True
               for sol, symbol in zip(solution, symbols))
satisfies_assumptions((1,a-c,3,4,5,6),(a,b,c,d,e,f))


eqs = [a - b*c, c - d - e, e - f**2, a- 1.0]
solve(eqs,  [a,b,c,d,e,f])  





eqs = [a - b*c, c - d - e, e - f**2, f - 1.73205080756888]

ans  = nonlinsolve(eqs,  [a,b,c,d,e,f])
ans
filter_solutions(ans, [a,b,c,d,e,f])


#round off error causing no solution: 
eqs = [a - b*c, c - d - e, e - f**2, b - 4.0, c - 3.0, d - 0.4, e - 2.6, f - 1.61245154965971]
ans  = nonlinsolve(eqs,  [a,b,c,d,e,f])
ans


s2a = Rational(sqrt(2).evalf())
s2a
s2a.evalf()
sqrt(2).evalf()


eqs = [a - b**2, a - 2, b - sqrt(2)]
ans = nonlinsolve(eqs, [a, b])
ans
eqs = [a - b**2, a - 2, b - sqrt(2).evalf(10)]
ans = nonlinsolve(eqs, [a, b])
ans


# Define the symbols
from sympy import Rational
a, b = symbols('a b', real=True, positive=True)

# Original equations
eqs = [a - b**2, a - 2, b - sqrt(2)]

# Solve the system
ans = nonlinsolve(eqs, [a, b])
print("Solutions:", ans)

# Convert sqrt(2) to a rational approximation
sqrt_2_approx = Rational(sqrt(2).evalf())

# New equations with rational approximation
eqs_approx = [a - b**2, a - 2, b - sqrt_2_approx]

# Solve the system with the rational approximation
ans_approx = nonlinsolve(eqs_approx, [a, b])
print("Solutions with rational approximation:", ans_approx)


def zipsys(syms, inputs):
        given = []
        print(f'symsols: {st.session_state.sym_sols}')
    #grab inputs from number_inputs, but replace with sym representation 
    #if they are there, since those will be from a prior solution. 
    #But, don't replace the index i since that has changed from user. 
        for s, v in inputs.items():
            if s != sym:
                try: 
                    given.append(s - st.session_state.sym_sols[s])
                except TypeError:
                
            
                    try:
                        given.append(s - v)
                    except TypeError:
                        pass 
            else:
                try:
                    given.append(s - v)
                except TypeError:
                    pass                 
        return given
{'a': 3.00000000000000, 'b': 0.750000000000000, 'c': 4.00000000000000, 'd': None, 'e': None, 'f': None}


Lres, Cres, RL = symbols('L_res C_res, R_L', real=True, positive=True)
fres, fsw, Tsw, wsw, wres = symbols(r'f_res f_sw, T_sw, \omega_sw, \omega_res', real=True, positive=True)
Vcmax, Vin, iavg, k = symbols('V_cmax, V_in, i_avg, k', real=True, positive=True)
eq1 = Cres - iavg/(2*fres*Vcmax)
eq2 = fres - 1/(2*pi*sqrt(Lres*Cres))
eq3 = wres - 2*pi*fres
eq4 = Tsw - 1/fsw
eq5 = fres - k*fsw
eqs = [eq1, eq2, eq3, eq4, eq5]
syms = [Lres, Cres, RL, fres, fsw, Tsw, iavg, k]
inputs = [None, None,None,None,
          2, None,None, None]
given=[]
for s, v in zip(syms, inputs):
    try: 
        given.append(s - v )
   
    except TypeError:
        pass
given
sys = eqs + given
for eq in sys:
    eq
ans = nonlinsolve(sys, syms)
ans


a,b,c = symbols('a, b, c', real=True, positive=True)
eq1 = a - 1
eq2 = a - (b+c)

ans = nonlinsolve([eq1, eq2], [a])
ans
ans = nonlinsolve([eq1, eq2], [a, b, c])
ans


eq1 = a > c
eq2 = a - (b+c)

ans = nonlinsolve([eq1, eq2], [a, b,c])
ans


x, y = symbols('x y', real=True)

inequality1 = x + y < 3
inequality2 = x - y > 1

solution1 = solve(inequality1, x)
solution2 = solve(inequality2, x)

And(solution1, solution2)



latex(a)


'''
x0 Lres 
x1 Cres 
x2 fres
x5 wres 
x6 Vcmax
x7 iavg
x8 k
'''
def func(x):
    return [(x[7] / (2*x[6]*x[2])) - x[1],
           1/(2*np.pi*np.sqrt(x[0]*x[1]]
root = fsolve(func, [1, 1])
root



sys.path.append('/home/erik/GitRepos/PowerElectronics')


from constraint_helpers import *
fsw_max = 1e6
fsw_min = 10e3
wsw_max = 2*np.pi*fsw_max
wsw_min = 2*np.pi*fsw_min
Tsw_min = 1/fsw_max
Tsw_max = 1/fsw_min
Lres_min = 1e-10
Lres_max = 1e-3
Cres_min = Lres_min
Cres_max = Lres_max
fres_min = 1/(2*np.pi*np.sqrt(Lres_max*Cres_max))
fres_max = 1/(2*np.pi*np.sqrt(Lres_min*Cres_min))
wres_min = 2*np.pi*fres_min
wres_max = 2*np.pi*fres_max
Lres = variable('L_{res}', 'H', '%.2e', min_value=Lres_min, max_value=Lres_max, step=1e-10, real=True, positive=True)
Cres = variable('C_{res}', 'F', '%.2e', min_value=Cres_min, max_value=Cres_max, step=1e-10, real=True, positive=True)
RL =  variable('R_L', 'Ω', '%.2f', min_value=.001, max_value=1000.0, step=.001, real=True, positive=True)
fres = variable('f_{res}', 'Hz', '%.2e',min_value=fres_min, max_value=fres_max, step=fres_min, real=True, positive=True )
fsw = variable('f_{sw}', 'Hz', '%.2e',min_value=fsw_min, max_value=fsw_max, step=fsw_min, real=True, positive=True)
Tsw = variable('T_{sw}', 's', '%.2e', min_value=Tsw_min, max_value=Tsw_max, step=Tsw_min, real=True, positive=True)
wsw = variable(r'\omega_{sw}', 'rad/s', '%.2e',min_value=wsw_min, max_value=wsw_max, step=wsw_min, real=True, positive=True)
wres = variable(r'\omega_{res}', 'rad/s', '%.2e',min_value=wres_min, max_value=wres_max, step=wres_min, real=True, positive=True)
Vcmax = variable('V_{C,max}', 'V', '%.2f',min_value=10.0, max_value=200.0,step=1.0, real=True, positive=True)
Vin = variable('V_{in}', 'Vin', '%.2f',min_value=10.0, max_value=200.0,step=1.0, real=True, positive=True)
iavg = variable('i_{avg}', 'A', '%.2f',min_value=.1, max_value=20.0,step=.1, real=True, positive=True)
k = variable('k', '', '', min_value=.1, max_value=1.0,step=.1, real=True, positive=True)





'''
x0 Lres 
x1 Cres 
x2 fres
x3 fsw 
x4 Tsw 
x5 wres 
x6 Vcmax
x7 iavg
x8 k
'''
def func(x):
    return [(x[7] / (2*x[6]*x[2])) - x[1],
           1/(2*np.pi*np.sqrt(x[0]*x[1])) - x[2],
            2*np.pi*x[2]- x[5],
            1/x[3] - x[4],
            x[3]*x[8] - x[2],
            x[0] - 1e-6,
            x[1] - 1e-6,
            x[3] - 2e5,
            x[6] - 50]
              
root = fsolve(func, [1e-6, 1e-6, 2e5, fsw.guess, Tsw.guess,
                     wres.guess, Vcmax.guess, iavg.guess, k.guess  ])
root
np.isclose(func(root), np.zeros(9))

[math.isclose(*a, rel_tol=.001) for a in zip(func(root), np.zeros(9))]


Vcmax.guess 



func(root)


[math.isclose(*a, abs_tol=1e-5) for a in zip(func(root), np.zeros(9))]



def func(x):
    return [x[0] * np.cos(x[1]) - 4 + x[2],
            x[1] * x[0] - x[1] - 5,
           x[2]-1.1]
root = fsolve(func, [1, 1, 1])
root
