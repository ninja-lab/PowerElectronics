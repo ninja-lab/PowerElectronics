from IPython.core.interactiveshell import InteractiveShell
InteractiveShell.ast_node_interactivity = "all"
from sympy import *
import numpy as np
import matplotlib.pyplot as plt
from math import log10
from matplotlib.widgets import Slider, Button, RadioButtons
from matplotlib.ticker import EngFormatter


g1 = .1
g2 = 10 
Gon = .001


v2 = np.linspace(-10, 10, 100)
i2 = (g1+g2)*.5*v2 + (g1-g2)*.5*np.abs(v2)


fix, ax = plt.subplots()
ax.plot(v2, i2)
ax.set_ylim(-10, 10)
ax.spines['left'].set_position('zero')
ax.spines['bottom'].set_position('zero')

# Hide the top and right spines
ax.spines['right'].set_color('none')
ax.spines['top'].set_color('none')
ax.set_xlabel('$v_2$', fontsize=16)
ax.xaxis.set_label_coords(.9, .4)
ax.set_ylabel('$i_2$', rotation=0, fontsize=16)
ax.yaxis.set_label_coords(.55, .9)


f1 = lambda v1: (v1 - np.abs(v1)) /(2* v1)` # -1 for v1 < 0, 0 for v1 > 0
f2 = lambda v2: Gon*v2 #the on state resistance
f3 = lambda v2, g1, g2: (g1+g2)*.5*v2 + (g1-g2)*.5*np.abs(v2) #the antiparallel body diode
v2 = f2(v2)*(1+f1(v1)) + f3(v2) #when reverse conducting, (source to drain), and "gate" is high, Gon is in parallel with g2 of body diode
i1 = lambda v1: 0



