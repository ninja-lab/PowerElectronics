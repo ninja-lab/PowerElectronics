{
 "cells": [
  {
   "cell_type": "code",
   "execution_count": 78,
   "id": "9af173fb",
   "metadata": {},
   "outputs": [],
   "source": [
    "import matplotlib.pyplot as plt\n",
    "import numpy as np\n",
    "import pandas as pd\n",
    "from sympy import Interval , Intersection, Lambda, imageset, sqrt\n",
    "from sympy import FiniteSet\n",
    "from sympy.core.symbol import symbols, Symbol\n",
    "from sympy import solveset"
   ]
  },
  {
   "cell_type": "code",
   "execution_count": 20,
   "id": "4a2ad4c3",
   "metadata": {},
   "outputs": [],
   "source": [
    "from IPython.core.interactiveshell import InteractiveShell\n",
    "InteractiveShell.ast_node_interactivity = \"all\""
   ]
  },
  {
   "cell_type": "code",
   "execution_count": 9,
   "id": "314b3486",
   "metadata": {},
   "outputs": [
    {
     "data": {
      "image/png": "[encoded data removed]",
      "text/plain": [
       "<Figure size 432x288 with 1 Axes>"
      ]
     },
     "metadata": {
      "needs_background": "light"
     },
     "output_type": "display_data"
    }
   ],
   "source": [
    "fig, ax = plt.subplots(subplot_kw={'title':'two constraints'})\n",
    "x = np.linspace(-4, 4, 50)\n",
    "y1 = x + 1\n",
    "y2 = x**2\n",
    "ax.plot(x, y1)\n",
    "ax.plot(x, y2)\n",
    "ax.set_ylim(-2,5)\n",
    "ax.set_xlim(-1,2)\n",
    "ax.grid()"
   ]
  },
  {
   "cell_type": "code",
   "execution_count": 16,
   "id": "4db2a914",
   "metadata": {},
   "outputs": [],
   "source": [
    "y = np.linspace(1, 2, 100)\n",
    "x = np.sqrt(y)\n",
    "xd1 = np.linspace(0, 1, 100)\n",
    "xd2 = np.linspace( -1, 1, 100)\n",
    "#What part of the domains are arc consistent, or, what part fall within x=f(y)\n"
   ]
  },
  {
   "cell_type": "code",
   "execution_count": 73,
   "id": "f782b6ba",
   "metadata": {},
   "outputs": [
    {
     "data": {
      "text/latex": [
       "$\\displaystyle \\left\\{- \\sqrt{y}, \\sqrt{y}\\right\\}$"
      ],
      "text/plain": [
       "FiniteSet(sqrt(y), -sqrt(y))"
      ]
     },
     "execution_count": 73,
     "metadata": {},
     "output_type": "execute_result"
    },
    {
     "data": {
      "text/plain": [
       "(sqrt(y), -sqrt(y))"
      ]
     },
     "execution_count": 73,
     "metadata": {},
     "output_type": "execute_result"
    },
    {
     "data": {
      "text/plain": [
       "set"
      ]
     },
     "execution_count": 73,
     "metadata": {},
     "output_type": "execute_result"
    },
    {
     "data": {
      "text/latex": [
       "$\\displaystyle y$"
      ],
      "text/plain": [
       "y"
      ]
     },
     "execution_count": 73,
     "metadata": {},
     "output_type": "execute_result"
    },
    {
     "data": {
      "text/plain": [
       "sympy.sets.sets.FiniteSet"
      ]
     },
     "execution_count": 73,
     "metadata": {},
     "output_type": "execute_result"
    },
    {
     "data": {
      "text/latex": [
       "$\\displaystyle \\sqrt{y}$"
      ],
      "text/plain": [
       "sqrt(y)"
      ]
     },
     "execution_count": 73,
     "metadata": {},
     "output_type": "execute_result"
    },
    {
     "data": {
      "text/latex": [
       "$\\displaystyle - \\sqrt{y}$"
      ],
      "text/plain": [
       "-sqrt(y)"
      ]
     },
     "execution_count": 73,
     "metadata": {},
     "output_type": "execute_result"
    }
   ],
   "source": [
    "ans = solveset(c1, x)\n",
    "ans\n",
    "ans.args\n",
    "type(ans.atoms(Symbol))\n",
    "ans.atoms(Symbol).pop()\n",
    "type(solveset(c1, x))\n",
    "for arg in ans:\n",
    "    arg"
   ]
  },
  {
   "cell_type": "code",
   "execution_count": 83,
   "id": "349b0095",
   "metadata": {},
   "outputs": [
    {
     "data": {
      "text/latex": [
       "$\\displaystyle \\left[- \\sqrt{2}, -1\\right] \\cup \\left[1, \\sqrt{2}\\right]$"
      ],
      "text/plain": [
       "Union(Interval(1, sqrt(2)), Interval(-sqrt(2), -1))"
      ]
     },
     "execution_count": 83,
     "metadata": {},
     "output_type": "execute_result"
    },
    {
     "data": {
      "text/latex": [
       "$\\displaystyle \\left\\{-1\\right\\} \\cup \\left[1, \\sqrt{2}\\right]$"
      ],
      "text/plain": [
       "Union(FiniteSet(-1), Interval(1, sqrt(2)))"
      ]
     },
     "execution_count": 83,
     "metadata": {},
     "output_type": "execute_result"
    }
   ],
   "source": [
    "ans = solveset(c1, x)\n",
    "y_domain = Interval(1,2)\n",
    "# y has a domain that needs to be mapped to all solutions from solveset \n",
    "sets = FiniteSet() \n",
    "for arg in solveset(c1, x): \n",
    "    sets = sets.union(imageset(Lambda(arg.atoms(Symbol).pop(), arg), y_domain))\n",
    "sets\n",
    "sets.intersection(Interval(-1,2))"
   ]
  },
  {
   "cell_type": "code",
   "execution_count": null,
   "id": "eff3d574",
   "metadata": {},
   "outputs": [],
   "source": []
  },
  {
   "cell_type": "markdown",
   "id": "176896c4",
   "metadata": {},
   "source": [
    " $250 deductable, 80% reimbursement = $20.42 / mo \n",
    " $250 ----------- 90% --------------= $22.05\n",
    " $100 ----------, 90% --------------= $29.18 / mo \n",
    " \n",
    " "
   ]
  },
  {
   "cell_type": "code",
   "execution_count": null,
   "id": "0cb0f66f",
   "metadata": {},
   "outputs": [],
   "source": []
  }
 ],
 "metadata": {
  "kernelspec": {
   "display_name": "Python 3 (ipykernel)",
   "language": "python",
   "name": "python3"
  },
  "language_info": {
   "codemirror_mode": {
    "name": "ipython",
    "version": 3
   },
   "file_extension": ".py",
   "mimetype": "text/x-python",
   "name": "python",
   "nbconvert_exporter": "python",
   "pygments_lexer": "ipython3",
   "version": "3.12.4"
  }
 },
 "nbformat": 4,
 "nbformat_minor": 5
}
