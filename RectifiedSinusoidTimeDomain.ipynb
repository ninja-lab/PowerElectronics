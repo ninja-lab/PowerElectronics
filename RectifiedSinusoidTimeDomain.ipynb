{
 "cells": [
  {
   "cell_type": "code",
   "execution_count": null,
   "metadata": {},
   "outputs": [],
   "source": [
    "from IPython.core.interactiveshell import InteractiveShell\n",
    "InteractiveShell.ast_node_interactivity = \"all\""
   ]
  },
  {
   "cell_type": "code",
   "execution_count": 34,
   "metadata": {},
   "outputs": [],
   "source": [
    "\n",
    "from IPython.display import display, Latex\n",
    "#import sympy\n",
    "from sympy import symbols, series, Function, fourier_series, lambdify, Order\n",
    "from sympy import sin, exp, atan, pi\n",
    "from sympy import expand, collect, apart, simplify\n",
    "from sympy import solve, solveset, nonlinsolve, dsolve\n",
    "from sympy.interactive import printing\n",
    "from sympy import latex\n",
    "import numpy as np\n",
    "import pandas as pd\n",
    "import matplotlib.pyplot as plt\n",
    "from matplotlib.ticker import FuncFormatter, EngFormatter\n",
    "from scipy import stats\n",
    "from scipy.optimize import root_scalar\n",
    "from math import log10\n",
    "import os\n",
    "from converter6 import myprint, myprint2\n",
    "from PyLTSpice import LTSpice_RawRead\n",
    "from PyLTSpice.LTSteps import LTSpiceLogReader\n",
    "printing.init_printing(use_latex=True)"
   ]
  },
  {
   "cell_type": "code",
   "execution_count": 2,
   "metadata": {},
   "outputs": [],
   "source": [
    "R = symbols('R', real=True, positive=True)\n",
    "C = symbols('C', real=True, positive=True)\n",
    "Zc = symbols('Z_C', real=True, positive=True)\n",
    "t = symbols('t', real=True, positive=True)\n",
    "Vo = Function('V_o', real=True)\n",
    "phi = symbols('phi', real=True)\n",
    "theta = symbols('theta', real=True)\n",
    "ipk= symbols('i_pk', real=True, positive=True)\n",
    "iD = symbols('i_D', real=True, positive=True)\n",
    "iin = symbols('i_{in}', real=True, positive=True)\n",
    "w=symbols('omega', real=True, positive=True)\n",
    "freq=85e3\n"
   ]
  },
  {
   "cell_type": "markdown",
   "metadata": {},
   "source": [
    "### Idea 1. \n",
    "#### For a non-resonant driven rectifier, use a polynomial approximation of exponential and sinusoid around the intersection. Subtract and find the root.  If quadratic approximations are good, this could offer a closed form analytic solution.  The time t of the intersection is scaled by tau: t= tau * root, because phi=t/tau=root. A fast tau means the exponential falls quicker to meet the rising sinusoid.  The starting point for the exponential is not 1 at phi=0: it is the value at pi/4, and we assume tau >> T. \n",
    "\n",
    "### Idea 2. \n",
    "#### Numerically solve for the root of the transcendental equation. \n",
    "\n",
    "### Idea 3. \n",
    "#### Use fourier approximation and super position. 3a) and solve the linear differential equations. 3b) multiply the fourier components by the output impedence. The output R and C form a current divider. The ripple can be computed by the current through the resistor.  "
   ]
  },
  {
   "cell_type": "markdown",
   "metadata": {},
   "source": [
    "### Idea 1"
   ]
  },
  {
   "cell_type": "code",
   "execution_count": null,
   "metadata": {},
   "outputs": [],
   "source": [
    "def get_rid_of_O(expr):\n",
    "    mask = [type(arg) is Order for arg in expr.args]\n",
    "    idx_of_O = mask.index(True)\n",
    "    removed_O=expr.args[:idx_of_O]+expr.args[idx_of_O+1:]\n",
    "    return expr.func(*removed_O)"
   ]
  },
  {
   "cell_type": "code",
   "execution_count": null,
   "metadata": {
    "scrolled": true
   },
   "outputs": [],
   "source": [
    "sin_approx = get_rid_of_O(series(sin(phi), phi, pi/4, n=3))\n",
    "exp_approx = get_rid_of_O(series(exp(-phi), phi, pi/4, n=3))"
   ]
  },
  {
   "cell_type": "code",
   "execution_count": null,
   "metadata": {},
   "outputs": [],
   "source": [
    "\n",
    "myprint(exp(-phi),collect(expand(exp_approx), phi) , exact=False)\n",
    "myprint(sin(phi),collect(expand(sin_approx), phi), exact=False )\n",
    "myprint(exp(-phi),collect(expand(exp_approx.evalf(2)), phi) , exact=False)\n",
    "myprint(sin(phi),collect(expand(sin_approx.evalf(2)), phi) , exact=False)"
   ]
  },
  {
   "cell_type": "code",
   "execution_count": null,
   "metadata": {},
   "outputs": [],
   "source": [
    "f = exp_approx - sin_approx\n",
    "simplify(collect(expand(f), phi))"
   ]
  },
  {
   "cell_type": "code",
   "execution_count": null,
   "metadata": {
    "scrolled": true
   },
   "outputs": [],
   "source": [
    "myprint(exp(-phi) - sin(phi), collect(expand((exp_approx - sin_approx).evalf(2)), phi) , exact=False)\n",
    "solve((exp_approx - sin_approx).evalf(2), phi)\n",
    "#solveset((exp_approx - sin_approx), phi)"
   ]
  },
  {
   "cell_type": "code",
   "execution_count": null,
   "metadata": {},
   "outputs": [],
   "source": [
    "sin_approx = lambdify(phi, sin_approx)\n",
    "exp_approx = lambdify(phi, exp_approx)"
   ]
  },
  {
   "cell_type": "code",
   "execution_count": null,
   "metadata": {},
   "outputs": [],
   "source": [
    "angles = np.linspace(-np.pi, np.pi, 100)\n",
    "ans = sin_approx(angles)"
   ]
  },
  {
   "cell_type": "code",
   "execution_count": null,
   "metadata": {},
   "outputs": [],
   "source": [
    "fig, ax1 = plt.subplots()\n",
    "ax1.plot(angles, sin_approx(angles), marker='*', markevery=10, label='poly approx to sin(\\u03D5)')\n",
    "ax1.plot(angles, np.sin(angles), marker='v', markevery=9,label='sin(\\u03D5)')\n",
    "ax1.set_xlim(-1,)\n",
    "ax1.set_xlabel('Angle [rad]')\n",
    "ax1.set_ylim(-1.2, 1.2)\n",
    "ax1.set_title('Comparison of sin(\\u03D5) to its approximation')\n",
    "ax1.legend()"
   ]
  },
  {
   "cell_type": "code",
   "execution_count": null,
   "metadata": {},
   "outputs": [],
   "source": [
    "fig, ax1 = plt.subplots()\n",
    "ax1.plot(angles, exp_approx(angles), marker='*', markevery=10, label='poly approx to exp(-\\u03D5)')\n",
    "ax1.plot(angles, np.exp(-angles), marker='v', markevery=9,label='exp(-\\u03D5)')\n",
    "ax1.set_xlim(-.5,)\n",
    "ax1.set_xlabel('Angle [rad]')\n",
    "ax1.set_ylim(-.2, 1)\n",
    "ax1.set_title('Comparison of exp(-\\u03D5) to its approximation')\n",
    "ax1.legend()"
   ]
  },
  {
   "cell_type": "markdown",
   "metadata": {},
   "source": [
    "### Solve for the root numerically "
   ]
  },
  {
   "cell_type": "code",
   "execution_count": null,
   "metadata": {},
   "outputs": [],
   "source": [
    "#This uses the approximations, although the exact functions would probably work too. \n",
    "\n",
    "t = np.linspace(-.1/freq, .5/freq, 100)\n",
    "t2 = np.linspace(0, .5/freq, 100)\n",
    "tau = 3/freq\n",
    "w = 2*np.pi*freq\n",
    "Vpk = 1\n",
    "k = np.exp(-.25/(freq*tau))\n",
    "def sin_approx(phi):\n",
    "    return Vpk*(phi - phi**3/6 + phi**5/120- phi**7/5040)\n",
    "sin_approx_v = np.vectorize(sin_approx)\n",
    "def g(t):\n",
    "    #k = Vpk*np.exp(-.25/(freq*tau))\n",
    "    return  k*np.exp(-t/tau)\n",
    "def f(t):\n",
    "    return sin_approx(w*t) - k*np.exp(-t/tau)\n",
    "def h(t):\n",
    "    return np.sin(w*t) - k*np.exp(-t/tau)\n",
    "    \n",
    "gv = np.vectorize(g)\n",
    "plt.plot(t[::4], Vpk*np.sin(w*t[::4]), marker='*', label='sin(\\u03C9*t)')\n",
    "plt.plot(t[::5], sin_approx_v( w*t[::5]), marker='x', label = 'poly approx to sin(\\u03D5)')\n",
    "plt.plot(t, np.sin(w*t) - k*np.exp(-t/tau), label=r'$e^{-t/RC} - sin(\\phi)$')\n",
    "#plt.plot(t2, gv(t2), label='exponential' )\n",
    "#plt.plot(t2[::5], gv(t2[::5]), linestyle='None', marker='o')\n",
    "plt.plot(t2[::5], gv(t2[::5]), marker='o', label=r'exponential: $e^{-t/RC}$ ' )\n",
    "plt.ylim(-1, 1.1)\n",
    "plt.xlim(0, 3e-6)\n",
    "plt.title(r'Finding root of $e^{-t/RC} - sin(\\omega t) = 0$ ')\n",
    "plt.legend()\n",
    "\n",
    "res = root_scalar(h, bracket=[1e-6, 3e-6])\n",
    "t3  = res.root"
   ]
  },
  {
   "cell_type": "code",
   "execution_count": null,
   "metadata": {},
   "outputs": [],
   "source": [
    "t3"
   ]
  },
  {
   "cell_type": "code",
   "execution_count": null,
   "metadata": {},
   "outputs": [],
   "source": [
    "def cp_angle(theta):\n",
    "    theta_rad = theta*np.pi/180\n",
    "    imag = np.sin(theta_rad)\n",
    "    real = np.cos(theta_rad)\n",
    "    return np.complex(real, imag)"
   ]
  },
  {
   "cell_type": "markdown",
   "metadata": {},
   "source": [
    "#### Fourier breakdown "
   ]
  },
  {
   "cell_type": "code",
   "execution_count": null,
   "metadata": {},
   "outputs": [],
   "source": [
    "rectifiedwave =ipk*abs(sin(theta))\n",
    "four_rectifiedwave = fourier_series(rectifiedwave, (theta, -pi, pi))\n",
    "four_rectifiedwave = four_rectifiedwave.truncate(4)\n",
    "four_rectifiedwave = four_rectifiedwave.subs(theta,w*t)\n",
    "four_rectifiedwave"
   ]
  },
  {
   "cell_type": "markdown",
   "metadata": {},
   "source": [
    "(1) Time Domain - solve a first order diff eq\n",
    "\n",
    "$V_{out} = i_R \\cdot R = (i_{in}-i_C)\\cdot R = (i_{in} - C\\cdot \\frac{dV_{out}}{dt}) \\cdot R = i_{in}\\cdot R - RC\\cdot \\frac{dV_{out}}{dt}$\n",
    "\n"
   ]
  },
  {
   "cell_type": "code",
   "execution_count": null,
   "metadata": {},
   "outputs": [],
   "source": [
    "result = \"$${} = {} \\\\approx {} $$\".format(latex(iin), latex(rectifiedwave), latex(four_rectifiedwave))\n",
    "result\n",
    "\n",
    "display(Latex(result))"
   ]
  },
  {
   "cell_type": "code",
   "execution_count": null,
   "metadata": {},
   "outputs": [],
   "source": [
    "sdc = four_rectifiedwave.args[0]\n",
    "s1 = four_rectifiedwave.args[1]\n",
    "s2 = four_rectifiedwave.args[2]\n",
    "s3 = four_rectifiedwave.args[3]\n",
    "result = \"$${}$$\".format(latex(sdc))\n",
    "print('DC component')\n",
    "display(Latex(result))\n",
    "result = \"$${}$$\".format(latex(s1))\n",
    "print('fundamental')\n",
    "display(Latex(result))\n",
    "result = \"$${}$$\".format(latex(s2))\n",
    "print('2nd harmonic')\n",
    "display(Latex(result))\n",
    "result = \"$${}$$\".format(latex(s3))\n",
    "print('4th harmonic')\n",
    "display(Latex(result))"
   ]
  },
  {
   "cell_type": "code",
   "execution_count": null,
   "metadata": {},
   "outputs": [],
   "source": [
    "\n",
    "eqdc =Vo(t) - sdc*R + R*C*Vo(t).diff(t)\n",
    "eq1 = Vo(t) - s1*R + R*C*Vo(t).diff(t)\n",
    "eq2 = Vo(t) - s2*R + R*C*Vo(t).diff(t)\n",
    "eq3 = Vo(t) - s3*R + R*C*Vo(t).diff(t)\n",
    "eqdc\n",
    "eq1\n",
    "eq2\n",
    "eq3"
   ]
  },
  {
   "cell_type": "code",
   "execution_count": null,
   "metadata": {},
   "outputs": [],
   "source": [
    "soldc = dsolve(eqdc, func=Vo(t),  ics={Vo(0):0}, hint='nth_linear_constant_coeff_undetermined_coefficients')\n",
    "sol1 = dsolve(eq1, func=Vo(t),  ics={Vo(0):0}, hint='nth_linear_constant_coeff_undetermined_coefficients')\n",
    "sol2 = dsolve(eq2, func=Vo(t),  ics={Vo(0):0}, hint='nth_linear_constant_coeff_undetermined_coefficients')\n",
    "sol3 = dsolve(eq3, func=Vo(t),  ics={Vo(0):0}, hint='nth_linear_constant_coeff_undetermined_coefficients')\n",
    "#sol = simplify(sol)\n",
    "#sol\n",
    "vodc = soldc.rhs\n",
    "vo1 = sol1.rhs\n",
    "vo2 = sol2.rhs\n",
    "vo3 = sol3.rhs\n",
    "#vo = lambdify(t, vo.subs(vals))\n",
    "vodc\n",
    "vo1\n",
    "vo2\n",
    "vo3"
   ]
  },
  {
   "cell_type": "markdown",
   "metadata": {},
   "source": [
    "\n",
    "ipk is NOT 15, that's the INPUT VOLTAGE PEAK \n",
    "we do know the required load current is 400A, and how to relate diode current to output DC current. \n",
    "i_avg = 2/pi * i_pk\n",
    "This is useful for a current source input. \n",
    "But, with a voltage source, still need to know what V gives that I. \n",
    "The real power is dissipated in the damping resistance and the load resistance. \n",
    "Vout = Iout*R = Iin*2/pi \n",
    "Pout = Vout*Iout \n",
    "Pin = Vin*Iin = Vout*Iout + losses \n",
    "Vin = Vo*Ii\n",
    "\n",
    "There is actually no real scenario where the tank is driven by a sinusoidal voltage. \n",
    "In the test, it's driven by square wave inverter, which has fourier terms that ARE sinusoidal. \n",
    "\n",
    "If the max time step is small enough, \n",
    "and without an output cap, the average Vout \n",
    "is the average of a rectified (voltage) sinusoid: 2/pi=.63 That voltage is determined by ___ \n",
    "Without any load (inf R), the rectified \n",
    "output average is precisely Vinpk, but only if the tank is ideal. If there is Rdamping, \n",
    "\n",
    "For a given Rload, does Cload only effect ripple, or also the average? "
   ]
  },
  {
   "cell_type": "code",
   "execution_count": null,
   "metadata": {},
   "outputs": [],
   "source": [
    "vals = {ipk:400*np.pi/2, R: 48/400, C: 250e-6, w:freq*2*pi, theta:((2*pi*freq)*t).evalf(3)}\n",
    "print(f'R/Zc = {vals[R]/(1/(freq*2*np.pi*vals[C]))}')"
   ]
  },
  {
   "cell_type": "code",
   "execution_count": null,
   "metadata": {},
   "outputs": [],
   "source": [
    "fvodc = lambdify(t, expand(vodc).subs(vals)) #the expand is found necessary for convergence to break up the exponential terms\n",
    "fvo1 = lambdify(t, expand(vo1).subs(vals)) #the expand is found necessary for convergence to break up the exponential terms\n",
    "fvo2 = lambdify(t, expand(vo2).subs(vals)) #the expand is found necessary for convergence to break up the exponential terms\n",
    "fvo3 = lambdify(t, expand(vo3).subs(vals)) #the expand is found necessary for convergence to break up the exponential terms"
   ]
  },
  {
   "cell_type": "code",
   "execution_count": null,
   "metadata": {},
   "outputs": [],
   "source": [
    "periods = 1.3\n",
    "t_1 = np.linspace(0, periods/freq, 200)\n",
    "myfunc = lambdify(t, four_rectifiedwave.subs(vals))\n",
    "myfunc2 = lambdify(t, rectifiedwave.subs(vals))\n",
    "fig, ax1 = plt.subplots()\n",
    "ax1.plot(t_1, myfunc(t_1),  linestyle='-', marker='o', markevery=9, label ='4 fourier terms of |sin(x)| ')\n",
    "theta_ = np.linspace(0, periods*2*np.pi, 200)\n",
    "ax1.plot(t_1 ,myfunc2(t_1), linestyle='-', marker='*', markevery=8,label='|sin(x)|')\n",
    "major_formatter= EngFormatter(unit='s', places=1, sep='')\n",
    "ax1.xaxis.set_major_formatter(major_formatter) \n",
    "ax1.yaxis.set_major_formatter(EngFormatter(unit='A', places=1, sep='')) \n",
    "ax1.set_title('Fourier Approximation of 85kHz Rectified Sinusoid')\n",
    "ax1.legend()"
   ]
  },
  {
   "cell_type": "code",
   "execution_count": null,
   "metadata": {},
   "outputs": [],
   "source": [
    "periods/freq"
   ]
  },
  {
   "cell_type": "code",
   "execution_count": null,
   "metadata": {},
   "outputs": [],
   "source": [
    "periods = 25\n",
    "samples_per_period = 25\n",
    "total_samples = periods*samples_per_period\n",
    "t_ = np.linspace(0, periods/freq, total_samples)\n",
    "total =  fvodc(t_) + fvo1(t_) + fvo2(t_) + fvo3(t_)\n"
   ]
  },
  {
   "cell_type": "markdown",
   "metadata": {},
   "source": [
    "#### Plot the initial output transient for the particular R and C. \n",
    "Plot with values that show a large ripple, and values that show flat. \n",
    "Try to get them with the same average. "
   ]
  },
  {
   "cell_type": "markdown",
   "metadata": {},
   "source": [
    "A voltage source and a resonant tank does put in abs(sin) current waveform shape. \n",
    "Without a tank, it's the VOLTAGE that looks like abs(sin), which has a DC content of 2*Vpk/pi. \n",
    "\n",
    "The plot below is the solution of the ODEs that describe the abs(sin) waveform driving the output RC. \n",
    "It can be compared to a spice simulation. \n"
   ]
  },
  {
   "cell_type": "code",
   "execution_count": null,
   "metadata": {},
   "outputs": [],
   "source": []
  },
  {
   "cell_type": "code",
   "execution_count": null,
   "metadata": {},
   "outputs": [],
   "source": [
    "%matplotlib inline\n",
    "path_to_raw = 'C:\\\\Users\\\\eriki\\\\Documents\\\\LTspiceXVII\\\\Twenty_kW\\\\'\n",
    "raw = os.path.join(path_to_raw+'Rectifier_Test8.raw')\n",
    "LTR = LTSpice_RawRead.LTSpiceRawRead(raw) \n",
    "Vout = LTR.get_trace(\"V(vout)\").get_wave()\n",
    "#iin = LTR.get_trace(\"I(D2)\").get_wave()\n",
    "t_sim = LTR.get_trace('time').get_time_axis()\n",
    "fig, ax1 = plt.subplots()\n",
    "ax1.plot(t_,  total , linestyle='None',marker='*', markevery=8,  label='Solution to ODEs')\n",
    "ax1.plot(t_sim, Vout, label='Spice')\n",
    "major_formatter= EngFormatter(unit='s', places=1, sep='')\n",
    "ax1.xaxis.set_major_formatter(major_formatter)    \n",
    "ax1.set_title('Solution to first 4 fourier O.D.Es, 400A output current')\n",
    "ax1.set_ylabel('Output Voltage [V]')\n",
    "ax1.set_xlabel('Time')\n",
    "ax1.legend()\n",
    "ax1.annotate(r'$\\frac{R_{load}}{Z_{Cload}} =$' + f'{vals[R]/(1/(freq*2*np.pi*vals[C])):.2f}', (.5,.5), xycoords='axes fraction', fontsize='xx-large')"
   ]
  },
  {
   "cell_type": "markdown",
   "metadata": {},
   "source": [
    "#### The above shows the well understood rectifier current-to-output voltage conversion. \n",
    "#### The input current is closely proportioned to input voltage, as seen below and in test_4_.asc \n",
    "#### The highly nonlinear and hard-to-predict is the effect of varying load \n",
    "any given load -> don't know voltage -> can't know current -> \n",
    "The phase shift from abs(I(L1)) to Vout is the net result of all the fourier components phase shifts, and its just 90 because the output is mostly capacitive. \n"
   ]
  },
  {
   "cell_type": "code",
   "execution_count": null,
   "metadata": {},
   "outputs": [],
   "source": []
  },
  {
   "cell_type": "markdown",
   "metadata": {},
   "source": [
    "#### Show spice results with varying load, but cap is always large enough to take all the AC current. "
   ]
  },
  {
   "cell_type": "code",
   "execution_count": 3,
   "metadata": {},
   "outputs": [
    {
     "name": "stdout",
     "output_type": "stream",
     "text": [
      "Number of steps  : 15\n",
      "rload     voavg      voavg_FROM voavg_TO   gain      \n",
      "       0.1   34.1158 0.00458824 0.00470588   0.170579\n",
      "  0.316228   55.3818 0.00458824 0.00470588   0.276909\n",
      "         1    68.786 0.00458824 0.00470588    0.34393\n",
      "   3.16228   74.7837 0.00458824 0.00470588   0.373918\n",
      "        10   79.5272 0.00458824 0.00470588   0.397636\n",
      "   31.6228   85.5801 0.00458824 0.00470588   0.427901\n",
      "       100   90.8727 0.00458824 0.00470588   0.454363\n",
      "   316.228    94.694 0.00458824 0.00470588    0.47347\n",
      "      1000   97.1763 0.00458824 0.00470588   0.485881\n",
      "   3162.28   98.6651 0.00458824 0.00470588   0.493325\n",
      "     10000   99.4838 0.00458824 0.00470588   0.497419\n",
      "   31622.8   99.8039 0.00458824 0.00470588   0.499019\n",
      "    100000   99.5802 0.00458824 0.00470588   0.497901\n",
      "    316228   98.7023 0.00458824 0.00470588   0.493511\n",
      " 1000000.0   98.6769 0.00458824 0.00470588   0.493384\n",
      "Total number of measures found : 30\n"
     ]
    }
   ],
   "source": [
    "\n",
    "path_to_raw = 'C:\\\\Users\\\\eriki\\\\Documents\\\\LTspiceXVII\\\\Twenty_kW\\\\'\n",
    "#raw = os.path.join(path_to_raw+'Rectifier_Test5-10to100m,Vin200.log')\n",
    "raw = os.path.join(path_to_raw+'Rectifier_Test5_largesweep.log')\n",
    "data = LTSpiceLogReader(raw,step_set ={})\n",
    "\n",
    "#raw2 = os.path.join(path_to_raw+'Rectifier_Test5-1Megto10,Vin200.log')\n",
    "#data2 = LTSpiceLogReader(raw2,step_set ={})\n",
    "print(\"Number of steps  :\", data.step_count)\n",
    "step_names = data.get_step_vars()\n",
    "meas_names = data.get_measure_names()\n",
    "\n",
    "# Printing Headers\n",
    "print(' '.join([f\"{step:10s}\" for step in step_names]), end='')  # Print steps names with no new line\n",
    "print(' '.join([f\"{name:10s}\" for name in meas_names]), end='\\n')\n",
    "# Printing data\n",
    "for i in range(data.step_count):\n",
    "    print(' '.join([f\"{data[step][i]:10}\" for step in step_names]), end='')  # Print steps names with no new line\n",
    "    print(' '.join([f\"{data[name][i]:10}\" for name in meas_names]), end='\\n')  # Print Header\n",
    "\n",
    "print(\"Total number of measures found :\", data.measure_count)\n"
   ]
  },
  {
   "cell_type": "code",
   "execution_count": 4,
   "metadata": {},
   "outputs": [
    {
     "data": {
      "text/plain": [
       "Text(0.5, 1.0, 'Spice results of varying load resistance, keeping $Z_c$=.01*$R_L$')"
      ]
     },
     "execution_count": 4,
     "metadata": {},
     "output_type": "execute_result"
    },
    {
     "data": {
      "image/png": "[encoded data removed]",
      "text/plain": [
       "<Figure size 432x288 with 2 Axes>"
      ]
     },
     "metadata": {
      "needs_background": "light"
     },
     "output_type": "display_data"
    }
   ],
   "source": [
    "\n",
    "rload = data['rload']\n",
    "voavg = data['voavg']\n",
    "cload = 1/(2*np.pi*freq*.01*np.array(rload))\n",
    "fix, ax = plt.subplots(1,1)\n",
    "ax.set_xscale('log')\n",
    "ax.plot(rload, voavg ,marker='*', label='Output Voltage', color='red')\n",
    "major_formatter= EngFormatter(unit='\\u03A9', places=0, sep='')\n",
    "ax.xaxis.set_major_formatter(major_formatter)    \n",
    "ax2 = ax.twinx()\n",
    "ax2.plot(rload ,cload, marker='^', label='load capacitance')\n",
    "major_formatter= EngFormatter(unit='F', places=1, sep='')\n",
    "ax2.yaxis.set_major_formatter(major_formatter)    \n",
    "ax.legend(loc=(.55,.6))\n",
    "ax2.legend(loc=(.55,.5))\n",
    "ax2.set_yscale('log')\n",
    "ax.set_ylabel('Average Output Voltage [V]')\n",
    "ax2.set_ylabel('Load Capacitance [F]')\n",
    "ax.annotate(r'$V_{in} = 200V_{pp}$', (.2,.2), xycoords='axes fraction', fontsize='xx-large')\n",
    "ax.set_title(r'Spice results of varying load resistance, keeping $Z_c$=.01*$R_L$')\n",
    "#ax.yaxis.set_major_formatter(EngFormatter(unit='03A9', places=1, sep=''))   "
   ]
  },
  {
   "cell_type": "code",
   "execution_count": null,
   "metadata": {},
   "outputs": [],
   "source": [
    "from converter6 import *\n",
    "Iin = variable('i_{in}', real=True, positive=True)\n",
    "Io = variable('i_{o}', real=True, positive=True)\n",
    "Rl = variable('R_L', real=True, positive=True)\n",
    "Rd = variable('R_d', real=True, positive=True)\n",
    "Vo =variable('V_o', real=True)\n",
    "Vin = variable('V_{in}', real=True)"
   ]
  },
  {
   "cell_type": "code",
   "execution_count": null,
   "metadata": {},
   "outputs": [],
   "source": [
    "\n",
    "c = converter()\n",
    "c.equations.add(Vin*Iin - (Vo*Io + Iin**2*Rd)) #VLavg must equal 0 in steady state\n",
    "c.equations.add(Iin - Io*pi/2)\n",
    "c.equations.add(Vo/Rl - Io)\n",
    "c.showequations()\n",
    "myprint(Vo, *c.solver(given={}, want=Vo))"
   ]
  },
  {
   "cell_type": "markdown",
   "metadata": {},
   "source": [
    "#### Comparison of FHA to actual behavior "
   ]
  },
  {
   "cell_type": "code",
   "execution_count": null,
   "metadata": {},
   "outputs": [],
   "source": [
    "\n",
    "model_Vout = (Vin*pi/2)/(1+(pi/2)**2*Rd/Rl)\n",
    "f = lambdify(Rl, model_Vout.subs({Vin:100, Rd:.1}))"
   ]
  },
  {
   "cell_type": "code",
   "execution_count": null,
   "metadata": {},
   "outputs": [],
   "source": [
    "#raw = os.path.join(path_to_raw+'Rectifier_Test5.log')\n",
    "#data = LTSpiceLogReader(raw,step_set ={})\n",
    "#rload = data['rload']\n",
    "#voavg = data['voavg']\n",
    "cload = 1/(2*np.pi*freq*.01*np.array(rload))\n",
    "fix, ax = plt.subplots(1,1)\n",
    "#ax.set_xscale('log')\n",
    "ax.plot(rload, voavg ,marker='*', label='Output Voltage', color='red')\n",
    "#ax.plot(np.linspace(1,50,10), f(np.linspace(1,50,10))-50  ,marker='*', label='model')\n",
    "major_formatter= EngFormatter(unit='\\u03A9', places=0, sep='')\n",
    "ax.xaxis.set_major_formatter(major_formatter)    \n",
    "ax2 = ax.twinx()\n",
    "ax2.plot(rload ,cload, marker='^', label='load capacitance')\n",
    "major_formatter= EngFormatter(unit='F', places=1, sep='')\n",
    "ax2.yaxis.set_major_formatter(major_formatter)    \n",
    "ax.legend(loc=(.55,.6))\n",
    "ax2.legend(loc=(.55,.5))\n",
    "ax2.set_yscale('log')\n",
    "ax.set_ylabel('Average Output Voltage [V]')\n",
    "ax2.set_ylabel('Load Capacitance [F]')\n",
    "ax.annotate(r'$V_{in} = 200V_{pp}$', (.2,.2), xycoords='axes fraction', fontsize='xx-large')\n",
    "ax.set_title(r'Spice results of varying load resistance, keeping $Z_c$=.01*$R_L$')\n",
    "#ax.yaxis.set_major_formatter(EngFormatter(unit='03A9', places=1, sep=''))   "
   ]
  },
  {
   "cell_type": "markdown",
   "metadata": {},
   "source": [
    "### Input Voltage and Input Current for a given load"
   ]
  },
  {
   "cell_type": "code",
   "execution_count": 11,
   "metadata": {},
   "outputs": [
    {
     "name": "stdout",
     "output_type": "stream",
     "text": [
      "Number of steps  : 3\n"
     ]
    },
    {
     "data": {
      "text/plain": [
       "odict_keys(['gain', 'voavg', 'voavg_FROM', 'voavg_TO', 'icpkpk', 'icpkpk_FROM', 'icpkpk_TO', 'irpkpk', 'irpkpk_FROM', 'irpkpk_TO', 'vopkpk', 'vopkpk_FROM', 'vopkpk_TO', 'iinpkpk', 'iinpkpk_FROM', 'iinpkpk_TO', 'vinpkpk', 'vinpkpk_FROM', 'vinpkpk_TO', 'vcrespkpk', 'vcrespkpk_FROM', 'vcrespkpk_TO', 'ioavg', 'ioavg_FROM', 'ioavg_TO', 'pout'])"
      ]
     },
     "execution_count": 11,
     "metadata": {},
     "output_type": "execute_result"
    }
   ],
   "source": [
    "#raw = os.path.join(path_to_raw+'Rectifier_Test4_.log')\n",
    "#data = LTSpiceLogReader(raw,step_set ={})\n",
    "\n",
    "print(\"Number of steps  :\", data.step_count)\n",
    "step_names = data.get_step_vars()\n",
    "meas_names = data.get_measure_names()\n",
    "meas_names"
   ]
  },
  {
   "cell_type": "code",
   "execution_count": null,
   "metadata": {},
   "outputs": [],
   "source": [
    "vin = data['vinpkpk']\n",
    "iin = data['iinpkpk']\n",
    "vout = data['voavg']\n",
    "#cload = 1/(2*np.pi*freq*.01*np.array(rload))\n",
    "fix, ax = plt.subplots(1,1)\n",
    "#ax.set_xscale('log')\n",
    "ax.plot(vin, iin ,marker='*', label='input current', color='red')\n",
    "#major_formatter= EngFormatter(unit='\\u03A9', places=0, sep='')\n",
    "#ax.xaxis.set_major_formatter(major_formatter)    \n",
    "ax2 = ax.twinx()\n",
    "ax2.plot(vin ,vout, marker='^', label='output voltage')\n",
    "#major_formatter= EngFormatter(unit='F', places=1, sep='')\n",
    "#ax2.yaxis.set_major_formatter(major_formatter)    \n",
    "ax.legend(loc=(.55,.6))\n",
    "ax.set_xlim(200, 550)\n",
    "ax.set_ylim(200, 550)\n",
    "ax.set_ylabel('Peak to Peak Input Current [A]')\n",
    "#ax2.set_ylabel('Load Capacitance [F]')\n",
    "ax.annotate('Rload = 1', (.2,.2), xycoords='axes fraction', fontsize='xx-large')\n",
    "ax.set_title(r'Spice results of varying input voltage')\n",
    "#ax.yaxis.set_major_formatter(EngFormatter(unit='03A9', places=1, sep=''))   "
   ]
  },
  {
   "cell_type": "markdown",
   "metadata": {},
   "source": [
    "how input current changes with load is the unpredictable part. \n",
    "What about reasoning from efficiency, again?\n",
    "The input voltage is only varying linearly, the load varies by orders of magnitude. "
   ]
  },
  {
   "cell_type": "code",
   "execution_count": null,
   "metadata": {},
   "outputs": [],
   "source": []
  },
  {
   "cell_type": "markdown",
   "metadata": {},
   "source": [
    "### Examination of Ripple\n",
    "    \n",
    "#### The ripple is the AC component of the RC current that goes through the R, which is determined by the current division of the AC content of  $i_{pk} \\left|{\\sin{\\left(\\theta \\right)}}\\right|$\n",
    "\n",
    "$V_{rip} = i_{ac,R} \\cdot R = i_{pk}( \\left|{\\sin{\\left(\\omega \\cdot t \\right)}}\\right| - 2/\\pi) \\cdot Z_C / (Z_C + R) \\cdot R$\n",
    "\n",
    "#### Consider the RC time constant and the tank frequency. The voltage ripple will be sinusoidal "
   ]
  },
  {
   "cell_type": "code",
   "execution_count": null,
   "metadata": {},
   "outputs": [],
   "source": [
    "Vrip = ipk*(abs(sin(w*t)) - 2/pi)*Zc*R/(Zc+R)\n",
    "Vrip = Vrip.subs({Zc: 1/(w*C)})"
   ]
  },
  {
   "cell_type": "code",
   "execution_count": null,
   "metadata": {},
   "outputs": [],
   "source": [
    "Rload = 1\n",
    "m = np.linspace(2, 5, 3)\n",
    "Cs = m*1/(Rload*2*np.pi*freq)\n",
    "vals = {ipk:400*np.pi/2, R: Rload, w:freq*2*pi}\n",
    "periods = 1.6\n",
    "samples = 200\n",
    "t_ = np.linspace(0, periods/freq, samples)\n",
    "\n",
    "rip = lambdify([t, C], Vrip.subs(vals))\n",
    "    "
   ]
  },
  {
   "cell_type": "code",
   "execution_count": null,
   "metadata": {},
   "outputs": [],
   "source": [
    "fix, ax = plt.subplots(1,1)\n",
    "for Cp in Cs: \n",
    "    ax.plot(t_, rip(t_, np.ones(samples)*Cp), label= r'$C_{load}$'+ f'={Cp*1e6:.1f}\\u03BCF') \n",
    "ax.legend()"
   ]
  },
  {
   "cell_type": "markdown",
   "metadata": {
    "scrolled": true
   },
   "source": [
    "#### Solve the BVP"
   ]
  },
  {
   "cell_type": "code",
   "execution_count": null,
   "metadata": {},
   "outputs": [],
   "source": []
  },
  {
   "cell_type": "code",
   "execution_count": null,
   "metadata": {},
   "outputs": [],
   "source": []
  },
  {
   "cell_type": "code",
   "execution_count": null,
   "metadata": {},
   "outputs": [],
   "source": []
  },
  {
   "cell_type": "code",
   "execution_count": null,
   "metadata": {},
   "outputs": [],
   "source": []
  },
  {
   "cell_type": "markdown",
   "metadata": {},
   "source": [
    "#### Actual Test Bench Expectations"
   ]
  },
  {
   "cell_type": "code",
   "execution_count": 41,
   "metadata": {},
   "outputs": [],
   "source": [
    "raw = os.path.join(path_to_raw+'Rectifier_Test9.log')\n",
    "data = LTSpiceLogReader(raw,step_set ={})\n",
    "rload = data['rload']\n",
    "voavg = data['voavg']\n",
    "pout = data['pout']\n",
    "iinpkpk = data['iinpkpk']\n",
    "vcrespkpk = data['vcrespkpk']\n",
    "df = pd.DataFrame({'rload':rload, 'voavg':voavg, 'pout':pout, 'vcrespkpk':vcrespkpk, 'tankcurrent':iinpkpk})\n",
    "df.to_csv(path_or_buf=path_to_raw+'SpiceTankSimulation.csv')"
   ]
  },
  {
   "cell_type": "code",
   "execution_count": 24,
   "metadata": {},
   "outputs": [
    {
     "data": {
      "text/plain": [
       "Text(0.5, 1.0, 'Spice results of varying load resistance')"
      ]
     },
     "execution_count": 24,
     "metadata": {},
     "output_type": "execute_result"
    },
    {
     "data": {
      "image/png": "[encoded data removed]",
      "text/plain": [
       "<Figure size 432x288 with 1 Axes>"
      ]
     },
     "metadata": {
      "needs_background": "light"
     },
     "output_type": "display_data"
    }
   ],
   "source": [
    "\n",
    "fix, ax = plt.subplots(1,1)\n",
    "ax.set_xscale('log')\n",
    "ax.plot(rload, voavg ,marker='*', label='Output Voltage', color='red')\n",
    "major_formatter= EngFormatter(unit='\\u03A9', places=0, sep='')\n",
    "ax.xaxis.set_major_formatter(major_formatter)    \n",
    "#ax2 = ax.twinx()\n",
    "#ax2.plot(rload ,cload, marker='^', label='load capacitance')\n",
    "#major_formatter= EngFormatter(unit='F', places=1, sep='')\n",
    "#ax2.yaxis.set_major_formatter(major_formatter)    \n",
    "ax.legend(loc=(.55,.6))\n",
    "#ax2.legend(loc=(.55,.5))\n",
    "#ax2.set_yscale('log')\n",
    "ax.set_ylabel('Average Output Voltage [V]')\n",
    "#ax2.set_ylabel('Load Capacitance [F]')\n",
    "ax.annotate(r'$V_{in} = 48V_{pk}$', (.2,.2), xycoords='axes fraction', fontsize='xx-large')\n",
    "ax.set_title(r'Spice results of varying load resistance')\n",
    "#ax.yaxis.set_major_formatter(EngFormatter(unit='03A9', places=1, sep=''))  "
   ]
  },
  {
   "cell_type": "code",
   "execution_count": 32,
   "metadata": {
    "scrolled": true
   },
   "outputs": [
    {
     "data": {
      "text/plain": [
       "Text(0.5, 1.0, 'Spice results of varying load resistance')"
      ]
     },
     "execution_count": 32,
     "metadata": {},
     "output_type": "execute_result"
    },
    {
     "data": {
      "image/png": "[encoded data removed]",
      "text/plain": [
       "<Figure size 432x288 with 2 Axes>"
      ]
     },
     "metadata": {
      "needs_background": "light"
     },
     "output_type": "display_data"
    }
   ],
   "source": [
    "fix, ax = plt.subplots(1,1)\n",
    "#ax.set_xscale('log')\n",
    "ax.plot(pout,iinpkpk,marker='*', label='Peak-to-Peak tank current', color='red')\n",
    "major_formatter= EngFormatter(unit='W', places=0, sep='')\n",
    "ax.xaxis.set_major_formatter(major_formatter)    \n",
    "ax2 = ax.twinx()\n",
    "ax2.plot(pout ,vcrespkpk , marker='^', label='Resonant Cap Voltage')\n",
    "#major_formatter= EngFormatter(unit='F', places=1, sep='')\n",
    "#ax2.yaxis.set_major_formatter(major_formatter)    \n",
    "ax.legend(loc=(.1,.8))\n",
    "ax2.legend(loc=(.1,.7))\n",
    "ax2.set_ylim(0,500)\n",
    "ax.set_ylabel('Peak to Peak tank current [A]')\n",
    "ax.set_xlabel('Output Power')\n",
    "ax2.set_ylabel('Peak to Peak Resonant Cap Voltage')\n",
    "ax.annotate(r'$V_{in} = 48V_{pk}$', (.6,.2), xycoords='axes fraction', fontsize='xx-large')\n",
    "ax.set_title(r'Spice results of varying load resistance')\n",
    "#ax.yaxis.set_major_formatter(EngFormatter(unit='03A9', places=1, sep='')) "
   ]
  },
  {
   "cell_type": "code",
   "execution_count": null,
   "metadata": {},
   "outputs": [],
   "source": []
  }
 ],
 "metadata": {
  "kernelspec": {
   "display_name": "Python 3 (ipykernel)",
   "language": "python",
   "name": "python3"
  },
  "language_info": {
   "codemirror_mode": {
    "name": "ipython",
    "version": 3
   },
   "file_extension": ".py",
   "mimetype": "text/x-python",
   "name": "python",
   "nbconvert_exporter": "python",
   "pygments_lexer": "ipython3",
   "version": "3.8.11"
  }
 },
 "nbformat": 4,
 "nbformat_minor": 4
}
