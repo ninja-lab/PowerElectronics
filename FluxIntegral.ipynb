{
 "cells": [
  {
   "cell_type": "code",
   "execution_count": 4,
   "id": "63ffc476",
   "metadata": {},
   "outputs": [],
   "source": [
    "import sympy\n",
    "from sympy.core.symbol import symbols, Symbol\n",
    "\n",
    "from sympy.printing import latex, pprint\n",
    "from sympy import Symbol, simplify\n",
    "from sympy import Matrix\n",
    "from sympy import dsolve, Function, Derivative, integrate, diff, sin, cos"
   ]
  },
  {
   "cell_type": "code",
   "execution_count": 10,
   "id": "dcc4a286",
   "metadata": {},
   "outputs": [],
   "source": [
    "A = symbols('A')\n",
    "t = symbols('t')\n",
    "w = symbols('omega') \n",
    "tau = symbols('tau')\n",
    "Cf = symbols('C_f')\n",
    "phi = symbols('phi')"
   ]
  },
  {
   "cell_type": "code",
   "execution_count": 11,
   "id": "dbc0ac94",
   "metadata": {},
   "outputs": [
    {
     "data": {
      "text/latex": [
       "$\\displaystyle A \\sin{\\left(\\omega \\tau \\right)}$"
      ],
      "text/plain": [
       "A*sin(omega*tau)"
      ]
     },
     "execution_count": 11,
     "metadata": {},
     "output_type": "execute_result"
    }
   ],
   "source": [
    "phi = A*sin(w*tau)\n",
    "phi"
   ]
  },
  {
   "cell_type": "code",
   "execution_count": 8,
   "id": "10a8091c",
   "metadata": {},
   "outputs": [
    {
     "data": {
      "text/latex": [
       "$\\displaystyle A \\left(\\begin{cases} - \\frac{\\cos{\\left(\\omega t \\right)}}{\\omega} & \\text{for}\\: \\omega \\neq 0 \\\\0 & \\text{otherwise} \\end{cases}\\right)$"
      ],
      "text/plain": [
       "A*Piecewise((-cos(omega*t)/omega, Ne(omega, 0)), (0, True))"
      ]
     },
     "execution_count": 8,
     "metadata": {},
     "output_type": "execute_result"
    }
   ],
   "source": [
    "integrate(phi, tau)"
   ]
  },
  {
   "cell_type": "code",
   "execution_count": 12,
   "id": "810fef72",
   "metadata": {},
   "outputs": [
    {
     "data": {
      "text/latex": [
       "$\\displaystyle \\begin{cases} - \\frac{A \\cos{\\left(\\omega t \\right)}}{\\omega} + \\frac{A}{\\omega} & \\text{for}\\: \\omega > -\\infty \\wedge \\omega < \\infty \\wedge \\omega \\neq 0 \\\\0 & \\text{otherwise} \\end{cases}$"
      ],
      "text/plain": [
       "Piecewise((-A*cos(omega*t)/omega + A/omega, (omega > -oo) & (omega < oo) & Ne(omega, 0)), (0, True))"
      ]
     },
     "execution_count": 12,
     "metadata": {},
     "output_type": "execute_result"
    }
   ],
   "source": [
    "integrate(phi, (tau, 0, t))"
   ]
  },
  {
   "cell_type": "code",
   "execution_count": 15,
   "id": "ee90634d",
   "metadata": {},
   "outputs": [
    {
     "data": {
      "text/latex": [
       "$\\displaystyle \\omega \\cos{\\left(\\omega t \\right)}$"
      ],
      "text/plain": [
       "omega*cos(omega*t)"
      ]
     },
     "execution_count": 15,
     "metadata": {},
     "output_type": "execute_result"
    }
   ],
   "source": [
    "diff(sin(w*t), t)"
   ]
  },
  {
   "cell_type": "code",
   "execution_count": null,
   "id": "239a91bd",
   "metadata": {},
   "outputs": [],
   "source": []
  }
 ],
 "metadata": {
  "kernelspec": {
   "display_name": "Python 3",
   "language": "python",
   "name": "python3"
  },
  "language_info": {
   "codemirror_mode": {
    "name": "ipython",
    "version": 3
   },
   "file_extension": ".py",
   "mimetype": "text/x-python",
   "name": "python",
   "nbconvert_exporter": "python",
   "pygments_lexer": "ipython3",
   "version": "3.8.11"
  }
 },
 "nbformat": 4,
 "nbformat_minor": 5
}
