{
 "cells": [
  {
   "cell_type": "markdown",
   "id": "ece5690c",
   "metadata": {},
   "source": [
    "### Chapter 3\n",
    "#### ch3p1"
   ]
  },
  {
   "cell_type": "code",
   "execution_count": 2,
   "id": "b1e34897",
   "metadata": {},
   "outputs": [],
   "source": [
    "import control\n",
    "import numpy as np"
   ]
  },
  {
   "cell_type": "code",
   "execution_count": 4,
   "id": "e7d9dd12",
   "metadata": {},
   "outputs": [
    {
     "data": {
      "text/plain": [
       "array([[ 0,  1,  0],\n",
       "       [ 0,  0,  1],\n",
       "       [-9, -8, -7]])"
      ]
     },
     "execution_count": 4,
     "metadata": {},
     "output_type": "execute_result"
    }
   ],
   "source": [
    "A = np.array([[0, 1, 0], [0, 0, 1], [-9, -8, -7]])\n",
    "A"
   ]
  },
  {
   "cell_type": "code",
   "execution_count": 7,
   "id": "2e910036",
   "metadata": {},
   "outputs": [
    {
     "name": "stdout",
     "output_type": "stream",
     "text": [
      "[2 3 4]\n",
      "[[7]\n",
      " [8]\n",
      " [9]]\n"
     ]
    }
   ],
   "source": [
    "C = np.array([2, 3, 4])\n",
    "B = np.array([[7],[8],[9]]) #or use transpose\n",
    "D = 0\n",
    "print(C)\n",
    "print(B)"
   ]
  },
  {
   "cell_type": "code",
   "execution_count": 8,
   "id": "e8b2e5dd",
   "metadata": {},
   "outputs": [
    {
     "data": {
      "text/latex": [
       "\\[\n",
       "\\left(\n",
       "\\begin{array}{rllrllrll|rll}\n",
       "0\\phantom{.}&\\hspace{-1em}&\\hspace{-1em}\\phantom{\\cdot}&1\\phantom{.}&\\hspace{-1em}&\\hspace{-1em}\\phantom{\\cdot}&0\\phantom{.}&\\hspace{-1em}&\\hspace{-1em}\\phantom{\\cdot}&7\\phantom{.}&\\hspace{-1em}&\\hspace{-1em}\\phantom{\\cdot}\\\\\n",
       "0\\phantom{.}&\\hspace{-1em}&\\hspace{-1em}\\phantom{\\cdot}&0\\phantom{.}&\\hspace{-1em}&\\hspace{-1em}\\phantom{\\cdot}&1\\phantom{.}&\\hspace{-1em}&\\hspace{-1em}\\phantom{\\cdot}&8\\phantom{.}&\\hspace{-1em}&\\hspace{-1em}\\phantom{\\cdot}\\\\\n",
       "-9\\phantom{.}&\\hspace{-1em}&\\hspace{-1em}\\phantom{\\cdot}&-8\\phantom{.}&\\hspace{-1em}&\\hspace{-1em}\\phantom{\\cdot}&-7\\phantom{.}&\\hspace{-1em}&\\hspace{-1em}\\phantom{\\cdot}&9\\phantom{.}&\\hspace{-1em}&\\hspace{-1em}\\phantom{\\cdot}\\\\\n",
       "\\hline\n",
       "2\\phantom{.}&\\hspace{-1em}&\\hspace{-1em}\\phantom{\\cdot}&3\\phantom{.}&\\hspace{-1em}&\\hspace{-1em}\\phantom{\\cdot}&4\\phantom{.}&\\hspace{-1em}&\\hspace{-1em}\\phantom{\\cdot}&0\\phantom{.}&\\hspace{-1em}&\\hspace{-1em}\\phantom{\\cdot}\\\\\n",
       "\\end{array}\\right)\n",
       "\\]"
      ],
      "text/plain": [
       "StateSpace(array([[ 0.,  1.,  0.],\n",
       "       [ 0.,  0.,  1.],\n",
       "       [-9., -8., -7.]]), array([[7.],\n",
       "       [8.],\n",
       "       [9.]]), array([[2., 3., 4.]]), array([[0.]]))"
      ]
     },
     "execution_count": 8,
     "metadata": {},
     "output_type": "execute_result"
    }
   ],
   "source": [
    "F = control.ss(A, B, C, D)\n",
    "F"
   ]
  },
  {
   "cell_type": "markdown",
   "id": "118e554a",
   "metadata": {},
   "source": [
    "#### ch3p4"
   ]
  },
  {
   "cell_type": "code",
   "execution_count": 22,
   "id": "1e6194b5",
   "metadata": {},
   "outputs": [
    {
     "data": {
      "text/latex": [
       "$$\\frac{24}{s^3 + 9 s^2 + 26 s + 24}$$"
      ],
      "text/plain": [
       "TransferFunction(array([24]), array([ 1,  9, 26, 24]))"
      ]
     },
     "execution_count": 22,
     "metadata": {},
     "output_type": "execute_result"
    }
   ],
   "source": [
    "num = 24\n",
    "den = np.array([1, 9, 26, 24])\n",
    "G = control.tf(num, den)\n",
    "G"
   ]
  },
  {
   "cell_type": "code",
   "execution_count": 26,
   "id": "b7b6e69f",
   "metadata": {},
   "outputs": [
    {
     "data": {
      "text/latex": [
       "\\[\n",
       "\\left(\n",
       "\\begin{array}{rllrllrll|rll}\n",
       "-9\\phantom{.}&\\hspace{-1em}&\\hspace{-1em}\\phantom{\\cdot}&-26\\phantom{.}&\\hspace{-1em}&\\hspace{-1em}\\phantom{\\cdot}&-24\\phantom{.}&\\hspace{-1em}&\\hspace{-1em}\\phantom{\\cdot}&1\\phantom{.}&\\hspace{-1em}&\\hspace{-1em}\\phantom{\\cdot}\\\\\n",
       "1\\phantom{.}&\\hspace{-1em}&\\hspace{-1em}\\phantom{\\cdot}&0\\phantom{.}&\\hspace{-1em}&\\hspace{-1em}\\phantom{\\cdot}&0\\phantom{.}&\\hspace{-1em}&\\hspace{-1em}\\phantom{\\cdot}&0\\phantom{.}&\\hspace{-1em}&\\hspace{-1em}\\phantom{\\cdot}\\\\\n",
       "0\\phantom{.}&\\hspace{-1em}&\\hspace{-1em}\\phantom{\\cdot}&1\\phantom{.}&\\hspace{-1em}&\\hspace{-1em}\\phantom{\\cdot}&0\\phantom{.}&\\hspace{-1em}&\\hspace{-1em}\\phantom{\\cdot}&0\\phantom{.}&\\hspace{-1em}&\\hspace{-1em}\\phantom{\\cdot}\\\\\n",
       "\\hline\n",
       "0\\phantom{.}&\\hspace{-1em}&\\hspace{-1em}\\phantom{\\cdot}&0\\phantom{.}&\\hspace{-1em}&\\hspace{-1em}\\phantom{\\cdot}&24\\phantom{.}&\\hspace{-1em}&\\hspace{-1em}\\phantom{\\cdot}&0\\phantom{.}&\\hspace{-1em}&\\hspace{-1em}\\phantom{\\cdot}\\\\\n",
       "\\end{array}\\right)\n",
       "\\]"
      ],
      "text/plain": [
       "StateSpace(array([[ -9., -26., -24.],\n",
       "       [  1.,   0.,   0.],\n",
       "       [  0.,   1.,   0.]]), array([[1.],\n",
       "       [0.],\n",
       "       [0.]]), array([[ 0.,  0., 24.]]), array([[0.]]))"
      ]
     },
     "execution_count": 26,
     "metadata": {},
     "output_type": "execute_result"
    }
   ],
   "source": [
    "Gss = control.tf2ss(G)\n",
    "Gss #A is represented in controller canonical form"
   ]
  },
  {
   "cell_type": "code",
   "execution_count": 27,
   "id": "6f3dcba7",
   "metadata": {},
   "outputs": [
    {
     "name": "stdout",
     "output_type": "stream",
     "text": [
      "[[ -9. -26. -24.]\n",
      " [  1.   0.   0.]\n",
      " [  0.   1.   0.]]\n",
      "[[1.]\n",
      " [0.]\n",
      " [0.]]\n",
      "[[ 0.  0. 24.]]\n",
      "[[0.]]\n"
     ]
    }
   ],
   "source": [
    "print(Gss.A)\n",
    "print(Gss.B)\n",
    "print(Gss.C)\n",
    "print(Gss.D)"
   ]
  },
  {
   "cell_type": "code",
   "execution_count": 31,
   "id": "86b52647",
   "metadata": {},
   "outputs": [
    {
     "data": {
      "text/plain": [
       "array([[  0.,   1.,   0.],\n",
       "       [  0.,   0.,   1.],\n",
       "       [-24., -26.,  -9.]])"
      ]
     },
     "execution_count": 31,
     "metadata": {},
     "output_type": "execute_result"
    }
   ],
   "source": [
    "P = np.array([[0, 0, 1], [0,1,0],[1,0,0]])\n",
    "Ap = np.linalg.inv(P)@Gss.A@P \n",
    "#PEP465: @ for matrix multiplication\n",
    "Ap"
   ]
  },
  {
   "cell_type": "markdown",
   "id": "16f59450",
   "metadata": {},
   "source": [
    "#### ch3p5"
   ]
  },
  {
   "cell_type": "code",
   "execution_count": 34,
   "id": "f9aff6d0",
   "metadata": {},
   "outputs": [
    {
     "name": "stdout",
     "output_type": "stream",
     "text": [
      "[[ 0  1  0]\n",
      " [ 0  0  1]\n",
      " [-9 -8 -7]]\n",
      "[2 3 4]\n",
      "[[7]\n",
      " [8]\n",
      " [9]]\n",
      "0\n"
     ]
    }
   ],
   "source": [
    "print(A)\n",
    "print(C)\n",
    "print(B)\n",
    "print(D)"
   ]
  },
  {
   "cell_type": "code",
   "execution_count": 37,
   "id": "d4a155eb",
   "metadata": {},
   "outputs": [
    {
     "data": {
      "text/latex": [
       "$$\\frac{74 s^2 - 199 s - 235}{s^3 + 7 s^2 + 8 s + 9}$$"
      ],
      "text/plain": [
       "TransferFunction(array([  74., -199., -235.]), array([1., 7., 8., 9.]))"
      ]
     },
     "execution_count": 37,
     "metadata": {},
     "output_type": "execute_result"
    }
   ],
   "source": [
    "control.ss2tf(A, B,C,D)"
   ]
  },
  {
   "cell_type": "code",
   "execution_count": 39,
   "id": "0d6d7599",
   "metadata": {},
   "outputs": [
    {
     "data": {
      "text/latex": [
       "$$\\frac{5.329 \\times 10^{-15} s^2 + 2.132 \\times 10^{-14} s + 24}{s^3 + 9 s^2 + 26 s + 24}$$"
      ],
      "text/plain": [
       "TransferFunction(array([5.32907052e-15, 2.13162821e-14, 2.40000000e+01]), array([ 1.,  9., 26., 24.]))"
      ]
     },
     "execution_count": 39,
     "metadata": {},
     "output_type": "execute_result"
    }
   ],
   "source": [
    "#control.ss2tf(Gss.A, Gss.B,Gss.C,Gss.D)\n",
    "control.ss2tf(Gss)"
   ]
  },
  {
   "cell_type": "markdown",
   "id": "fbe7199a",
   "metadata": {},
   "source": [
    "#### ss2tf needs the matrices in controller canonical form. And the numerator coefficients have some numerical \"offset\" from zero. "
   ]
  },
  {
   "cell_type": "code",
   "execution_count": 40,
   "id": "a0507b19",
   "metadata": {},
   "outputs": [],
   "source": [
    "from control.matlab import *"
   ]
  },
  {
   "cell_type": "code",
   "execution_count": 42,
   "id": "e916fcfe",
   "metadata": {},
   "outputs": [
    {
     "data": {
      "text/plain": [
       "<function control.statesp.ss(*args, **kwargs)>"
      ]
     },
     "execution_count": 42,
     "metadata": {},
     "output_type": "execute_result"
    }
   ],
   "source": [
    "ss"
   ]
  }
 ],
 "metadata": {
  "kernelspec": {
   "display_name": "Python 3 (ipykernel)",
   "language": "python",
   "name": "python3"
  },
  "language_info": {
   "codemirror_mode": {
    "name": "ipython",
    "version": 3
   },
   "file_extension": ".py",
   "mimetype": "text/x-python",
   "name": "python",
   "nbconvert_exporter": "python",
   "pygments_lexer": "ipython3",
   "version": "3.8.13"
  }
 },
 "nbformat": 4,
 "nbformat_minor": 5
}
