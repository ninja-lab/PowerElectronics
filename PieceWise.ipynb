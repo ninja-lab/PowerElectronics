{
 "cells": [
  {
   "cell_type": "code",
   "execution_count": 5,
   "id": "0316618b-05ac-4141-8d8d-5a9e0e1e6ee2",
   "metadata": {},
   "outputs": [],
   "source": [
    "from IPython.core.interactiveshell import InteractiveShell\n",
    "InteractiveShell.ast_node_interactivity = \"all\"\n",
    "from sympy import *\n",
    "import numpy as np\n",
    "import matplotlib.pyplot as plt\n",
    "from math import log10\n",
    "from matplotlib.widgets import Slider, Button, RadioButtons\n",
    "from matplotlib.ticker import EngFormatter"
   ]
  },
  {
   "cell_type": "code",
   "execution_count": 6,
   "id": "3d18232b-2519-4ddb-94ca-776237009dfb",
   "metadata": {},
   "outputs": [],
   "source": [
    "g1 = .1\n",
    "g2 = 10 \n",
    "Gon = .001"
   ]
  },
  {
   "cell_type": "code",
   "execution_count": 13,
   "id": "e6f35680-0c9a-4896-a61d-d8730bf5fa2f",
   "metadata": {},
   "outputs": [],
   "source": [
    "v2 = np.linspace(-10, 10, 100)\n",
    "i2 = (g1+g2)*.5*v2 + (g1-g2)*.5*np.abs(v2)"
   ]
  },
  {
   "cell_type": "code",
   "execution_count": 30,
   "id": "875ac639-8491-4264-8a5b-04ef9ce1468f",
   "metadata": {},
   "outputs": [
    {
     "data": {
      "text/plain": [
       "[<matplotlib.lines.Line2D at 0x125507b6430>]"
      ]
     },
     "execution_count": 30,
     "metadata": {},
     "output_type": "execute_result"
    },
    {
     "data": {
      "text/plain": [
       "(-10.0, 10.0)"
      ]
     },
     "execution_count": 30,
     "metadata": {},
     "output_type": "execute_result"
    },
    {
     "data": {
      "text/plain": [
       "Text(0.5, 0, '$v_2$')"
      ]
     },
     "execution_count": 30,
     "metadata": {},
     "output_type": "execute_result"
    },
    {
     "data": {
      "text/plain": [
       "Text(0, 0.5, '$i_2$')"
      ]
     },
     "execution_count": 30,
     "metadata": {},
     "output_type": "execute_result"
    },
    {
     "data": {
      "image/png": "[encoded data removed]",
      "text/plain": [
       "<Figure size 640x480 with 1 Axes>"
      ]
     },
     "metadata": {},
     "output_type": "display_data"
    }
   ],
   "source": [
    "fix, ax = plt.subplots()\n",
    "ax.plot(v2, i2)\n",
    "ax.set_ylim(-10, 10)\n",
    "ax.spines['left'].set_position('zero')\n",
    "ax.spines['bottom'].set_position('zero')\n",
    "\n",
    "# Hide the top and right spines\n",
    "ax.spines['right'].set_color('none')\n",
    "ax.spines['top'].set_color('none')\n",
    "ax.set_xlabel('$v_2$', fontsize=16)\n",
    "ax.xaxis.set_label_coords(.9, .4)\n",
    "ax.set_ylabel('$i_2$', rotation=0, fontsize=16)\n",
    "ax.yaxis.set_label_coords(.55, .9)"
   ]
  },
  {
   "cell_type": "code",
   "execution_count": null,
   "id": "02f6ba34-dc50-43be-a852-f9d3096809aa",
   "metadata": {},
   "outputs": [],
   "source": [
    "f1 = lambda v1: (v1 - np.abs(v1)) / v1 # -1 for v1 < 0, 0 for v1 > 0\n",
    "f2 = lambda v2: Gon*v2 #the on state resistance\n",
    "f3 = lambda v2, g1, g2: (g1+g2)*.5*v2 + (g1-g2)*.5*np.abs(v2) #the antiparallel body diode\n",
    "v2 = f2(v2)*(1+f1(v1)) + f3(v2) #when reverse conducting, (source to drain), and \"gate\" is high, Gon is in parallel with g2 of body diode\n",
    "i1 = lambda v1: 0"
   ]
  },
  {
   "cell_type": "markdown",
   "id": "f031cc66-800c-48ef-82ec-a5e3907a17fc",
   "metadata": {},
   "source": [
    "A BJT characteristic is traditionally plotted as $i_b = f(v_{be})$ with $v_{ce}$ as a parameter, and $i_c = f(v_{ce})$ with $i_b$ as a parameter. But the ideal switch has an open input port and so $i_1 = 0$ for all $v_1$ and $v_2$."
   ]
  }
 ],
 "metadata": {
  "kernelspec": {
   "display_name": "Python 3 (ipykernel)",
   "language": "python",
   "name": "python3"
  },
  "language_info": {
   "codemirror_mode": {
    "name": "ipython",
    "version": 3
   },
   "file_extension": ".py",
   "mimetype": "text/x-python",
   "name": "python",
   "nbconvert_exporter": "python",
   "pygments_lexer": "ipython3",
   "version": "3.8.11"
  }
 },
 "nbformat": 4,
 "nbformat_minor": 5
}
