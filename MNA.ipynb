{
 "cells": [
  {
   "cell_type": "code",
   "execution_count": 2,
   "id": "1631bb4c-275a-4fe3-8207-476f30a8f096",
   "metadata": {},
   "outputs": [],
   "source": [
    "from IPython.display import display, Latex\n",
    "import sympy\n",
    "from sympy.core.symbol import symbols, Symbol\n",
    "from sympy.printing import latex, pprint\n",
    "from sympy import log, exp, oo, integrate, Function, lambdify, nsolve, Pow, S, Derivative\n",
    "from sympy import simplify, collect, expand, factor, apart, cancel \n",
    "\n",
    "from sympy.solvers.solveset import nonlinsolve, solveset\n",
    "from sympy import solve\n",
    "from sympy.solvers.ode import dsolve\n",
    "import numpy as np\n",
    "import os\n",
    "import matplotlib.pyplot as plt\n",
    "from matplotlib.ticker import FuncFormatter, EngFormatter\n",
    "from scipy.optimize import curve_fit, root_scalar, root\n",
    "from math import pow"
   ]
  },
  {
   "cell_type": "code",
   "execution_count": 3,
   "id": "69028f2f-63f2-4a15-81c7-f56b0d5b310f",
   "metadata": {},
   "outputs": [],
   "source": [
    "#from IPython.display \n",
    "from sympy.core.symbol import symbols, Symbol\n",
    "from sympy import inverse_laplace_transform\n",
    "from sympy.printing import latex, pprint\n",
    "from sympy import Matrix, zeros, eye,pi, I\n",
    "import numpy as np\n",
    "import matplotlib.pyplot as plt\n",
    "from matplotlib.ticker import FuncFormatter, EngFormatter\n",
    "from scipy.optimize import curve_fit, root_scalar, root\n",
    "from IPython.core.interactiveshell import InteractiveShell"
   ]
  },
  {
   "cell_type": "code",
   "execution_count": 4,
   "id": "691b2cb1-606e-4f46-a700-93db22cc1257",
   "metadata": {},
   "outputs": [],
   "source": [
    "\n",
    "InteractiveShell.ast_node_interactivity = \"all\"\n",
    "#InteractiveShell.ast_node_interactivity = \"last_expr\""
   ]
  },
  {
   "cell_type": "code",
   "execution_count": 5,
   "id": "a39e12cf-3572-435b-903a-139e1ddb9b77",
   "metadata": {},
   "outputs": [],
   "source": [
    "R1 = symbols('R_1', real=True, positive=True)\n",
    "R2 = symbols('R_2' ,real=True, positive=True)\n",
    "C1 = symbols('C1' ,real=True, positive=True)\n",
    "Vm = symbols('V_m' ,real=True)\n",
    "V1 = symbols('V_1', real=True)\n",
    "V2 = symbols('V_2', real=True)\n",
    "V3 = symbols('V_3', real=True)\n",
    "V4 = symbols('V_4', real=True)\n",
    "E1 = symbols('E_1', real=True)\n",
    "E2 = symbols('E_2', real=True)\n",
    "I1 = symbols('I_1', real=True)\n",
    "I2 = symbols('I_2', real=True)\n",
    "I3 = symbols('I_3', real=True)\n",
    "I4 = symbols('I_4', real=True)\n",
    "s = symbols('s')\n",
    "t = symbols('t', real=True, positive=True)\n",
    "w = symbols('omega', real=True)\n",
    "wp = symbols('omega_p', real=True)\n",
    "f = symbols('f', real=True)\n",
    "fp = symbols('f_p', real=True)\n",
    "Avo = symbols('A_{vo}', real=True)\n",
    "j=I\n",
    "b = 4\n",
    "n = 3\n",
    "num = 2*b + n - 1"
   ]
  },
  {
   "cell_type": "code",
   "execution_count": 6,
   "id": "dc2fb248-4df4-41f7-b15c-6784e1eac04e",
   "metadata": {},
   "outputs": [
    {
     "data": {
      "text/latex": [
       "$\\displaystyle \\left[\\begin{matrix}1 & 1 & 0 & 0\\\\0 & -1 & 1 & 1\\\\-1 & 0 & -1 & -1\\end{matrix}\\right]$"
      ],
      "text/plain": [
       "Matrix([\n",
       "[ 1,  1,  0,  0],\n",
       "[ 0, -1,  1,  1],\n",
       "[-1,  0, -1, -1]])"
      ]
     },
     "execution_count": 6,
     "metadata": {},
     "output_type": "execute_result"
    },
    {
     "data": {
      "text/latex": [
       "$\\displaystyle \\left[\\begin{matrix}1 & 1 & 0 & 0\\\\0 & -1 & 1 & 1\\end{matrix}\\right]$"
      ],
      "text/plain": [
       "Matrix([\n",
       "[1,  1, 0, 0],\n",
       "[0, -1, 1, 1]])"
      ]
     },
     "execution_count": 6,
     "metadata": {},
     "output_type": "execute_result"
    }
   ],
   "source": [
    "A = Matrix([[1,1,0,0],[0,-1,1,1],[-1,0,-1,-1]])\n",
    "A\n",
    "#Aa = A.rref()[0] #this messes up the Tableau matrix \n",
    "Aa = A.row([0,1]) #remove datum node KCL equation\n",
    "Aa # size is n-1 x b \n"
   ]
  },
  {
   "cell_type": "code",
   "execution_count": 7,
   "id": "0f3b515b-c5a3-4a57-ac48-705aad614cc2",
   "metadata": {},
   "outputs": [
    {
     "data": {
      "text/latex": [
       "$\\displaystyle \\left[\\begin{matrix}0 & 0 & 0 & 0\\\\0 & 0 & 0 & 0\\\\0 & 0 & 0 & 0\\\\0 & 0 & 0 & C_{1}\\end{matrix}\\right]$"
      ],
      "text/plain": [
       "Matrix([\n",
       "[0, 0, 0,  0],\n",
       "[0, 0, 0,  0],\n",
       "[0, 0, 0,  0],\n",
       "[0, 0, 0, C1]])"
      ]
     },
     "execution_count": 7,
     "metadata": {},
     "output_type": "execute_result"
    },
    {
     "data": {
      "text/latex": [
       "$\\displaystyle \\left[\\begin{matrix}0 & 0 & 0 & 0\\\\0 & 0 & 0 & 0\\\\0 & 0 & 0 & 0\\\\0 & 0 & 0 & 0\\end{matrix}\\right]$"
      ],
      "text/plain": [
       "Matrix([\n",
       "[0, 0, 0, 0],\n",
       "[0, 0, 0, 0],\n",
       "[0, 0, 0, 0],\n",
       "[0, 0, 0, 0]])"
      ]
     },
     "execution_count": 7,
     "metadata": {},
     "output_type": "execute_result"
    },
    {
     "data": {
      "text/latex": [
       "$\\displaystyle \\left[\\begin{matrix}0\\\\0\\\\0\\\\0\\\\0\\\\0\\\\\\frac{V_{m} s}{\\omega^{2} + s^{2}}\\\\0\\\\0\\\\0\\end{matrix}\\right]$"
      ],
      "text/plain": [
       "Matrix([\n",
       "[                      0],\n",
       "[                      0],\n",
       "[                      0],\n",
       "[                      0],\n",
       "[                      0],\n",
       "[                      0],\n",
       "[V_m*s/(omega**2 + s**2)],\n",
       "[                      0],\n",
       "[                      0],\n",
       "[                      0]])"
      ]
     },
     "execution_count": 7,
     "metadata": {},
     "output_type": "execute_result"
    }
   ],
   "source": [
    "M0 = Matrix([[0,0,0,0],[0,0,0,0],[0,0,0,0],[0,0,0,C1]])\n",
    "M0\n",
    "M1 =  Matrix([[1,0,0,0],[0,1,0,0],[0,0,1,0],[0,0,0,0]])\n",
    "N0 = Matrix(np.zeros((4,4)))\n",
    "N0\n",
    "N1 =  Matrix([[0,0,0,0],[0,-R1,0,0],[0,0,-R2,0],[0,0,0,-1]])\n",
    "U = Matrix([zeros(n-1+b,1),[Vm*s/(s**2 + w**2)],[0],[0],[0]])\n",
    "U\n",
    "Es = Matrix([[E1],[E2]])\n",
    "Vs = Matrix([[V1],[V2],[V3],[V4]])\n",
    "Is = Matrix([[I1],[I2],[I3],[I4]])"
   ]
  },
  {
   "cell_type": "code",
   "execution_count": 8,
   "id": "9a71f6c4-2b94-4642-9010-2d513e1339a4",
   "metadata": {},
   "outputs": [
    {
     "data": {
      "text/latex": [
       "$\\displaystyle \\left[\\begin{matrix}C_{1} V_{4} s - I_{4}\\end{matrix}\\right]$"
      ],
      "text/plain": [
       "Matrix([[C1*V_4*s - I_4]])"
      ]
     },
     "execution_count": 8,
     "metadata": {},
     "output_type": "execute_result"
    }
   ],
   "source": [
    "((M0*s+M1)*Vs + (N0*s+N1)*Is).row(3)"
   ]
  },
  {
   "cell_type": "code",
   "execution_count": 9,
   "id": "76103060-a095-4f3e-8fa9-72c8d2d9061a",
   "metadata": {},
   "outputs": [
    {
     "data": {
      "text/latex": [
       "$\\displaystyle \\left[\\begin{matrix}V_{1}\\\\- I_{2} R_{1} + V_{2}\\\\- I_{3} R_{2} + V_{3}\\\\C_{1} V_{4} s - I_{4}\\end{matrix}\\right]$"
      ],
      "text/plain": [
       "Matrix([\n",
       "[           V_1],\n",
       "[-I_2*R_1 + V_2],\n",
       "[-I_3*R_2 + V_3],\n",
       "[C1*V_4*s - I_4]])"
      ]
     },
     "execution_count": 9,
     "metadata": {},
     "output_type": "execute_result"
    }
   ],
   "source": [
    "(M0*s+M1)*Vs + (N0*s+N1)*Is"
   ]
  },
  {
   "cell_type": "code",
   "execution_count": 10,
   "id": "df9c93f8-3640-4ad0-8c42-732033673bd6",
   "metadata": {},
   "outputs": [
    {
     "data": {
      "text/latex": [
       "$\\displaystyle \\left[\\begin{matrix}0 & 0 & 0 & 0 & 0 & 0 & 0 & 0 & 0 & 0\\\\0 & 0 & 0 & 0 & 0 & 0 & 0 & 0 & 0 & 0\\\\0 & 0 & 0 & 0 & 0 & 0 & 0 & 0 & 0 & 0\\\\0 & 0 & 0 & 0 & 0 & 0 & 0 & 0 & 0 & 0\\\\0 & 0 & 0 & 0 & 0 & 0 & 0 & 0 & 0 & 0\\\\0 & 0 & 0 & 0 & 0 & 0 & 0 & 0 & 0 & 0\\\\0 & 0 & 0 & 0 & 0 & 0 & 0 & 0 & 0 & 0\\\\0 & 0 & 0 & 0 & 0 & 0 & 0 & 0 & 0 & 0\\\\0 & 0 & 0 & 0 & 0 & 0 & 0 & 0 & 0 & 0\\\\0 & 0 & 0 & 0 & 0 & 0 & 0 & 0 & 0 & 0\\end{matrix}\\right]$"
      ],
      "text/plain": [
       "Matrix([\n",
       "[0, 0, 0, 0, 0, 0, 0, 0, 0, 0],\n",
       "[0, 0, 0, 0, 0, 0, 0, 0, 0, 0],\n",
       "[0, 0, 0, 0, 0, 0, 0, 0, 0, 0],\n",
       "[0, 0, 0, 0, 0, 0, 0, 0, 0, 0],\n",
       "[0, 0, 0, 0, 0, 0, 0, 0, 0, 0],\n",
       "[0, 0, 0, 0, 0, 0, 0, 0, 0, 0],\n",
       "[0, 0, 0, 0, 0, 0, 0, 0, 0, 0],\n",
       "[0, 0, 0, 0, 0, 0, 0, 0, 0, 0],\n",
       "[0, 0, 0, 0, 0, 0, 0, 0, 0, 0],\n",
       "[0, 0, 0, 0, 0, 0, 0, 0, 0, 0]])"
      ]
     },
     "execution_count": 10,
     "metadata": {},
     "output_type": "execute_result"
    }
   ],
   "source": [
    "T = zeros(num, num)\n",
    "T"
   ]
  },
  {
   "cell_type": "markdown",
   "id": "e6d01aa3-8408-4266-b48e-75deed879d5c",
   "metadata": {},
   "source": [
    "\\begin{bmatrix}\n",
    "n-1,n-1 & n-1,b & n-1,b\\\\ \n",
    "b,n-1 & b,b & b,b\\\\ \n",
    "b,n-1 & b,b & b,b\n",
    "\\end{bmatrix}\n",
    "\n",
    "\\begin{bmatrix}\n",
    "2,2 & 2,4 & 2,4\\\\ \n",
    "4,2 & 4,4 & 4,4\\\\ \n",
    "4,2 & 4,4 & 4,4\n",
    "\\end{bmatrix}"
   ]
  },
  {
   "cell_type": "code",
   "execution_count": 49,
   "id": "413cde92-5283-45e8-889a-ee0b55384938",
   "metadata": {},
   "outputs": [
    {
     "data": {
      "text/latex": [
       "$\\displaystyle \\left[\\begin{matrix}0 & 0 & 0 & 0 & 0 & 0 & 1 & 1 & 0 & 0\\\\0 & 0 & 0 & 0 & 0 & 0 & 0 & -1 & 1 & 1\\\\-1 & 0 & 1 & 0 & 0 & 0 & 0 & 0 & 0 & 0\\\\-1 & 1 & 0 & 1 & 0 & 0 & 0 & 0 & 0 & 0\\\\0 & -1 & 0 & 0 & 1 & 0 & 0 & 0 & 0 & 0\\\\0 & -1 & 0 & 0 & 0 & 1 & 0 & 0 & 0 & 0\\\\0 & 0 & 1 & 0 & 0 & 0 & 0 & 0 & 0 & 0\\\\0 & 0 & 0 & 1 & 0 & 0 & 0 & - R_{1} & 0 & 0\\\\0 & 0 & 0 & 0 & 1 & 0 & 0 & 0 & - R_{2} & 0\\\\0 & 0 & 0 & 0 & 0 & C_{1} s & 0 & 0 & 0 & -1\\end{matrix}\\right]$"
      ],
      "text/plain": [
       "Matrix([\n",
       "[ 0,  0, 0, 0, 0,    0, 1,    1,    0,  0],\n",
       "[ 0,  0, 0, 0, 0,    0, 0,   -1,    1,  1],\n",
       "[-1,  0, 1, 0, 0,    0, 0,    0,    0,  0],\n",
       "[-1,  1, 0, 1, 0,    0, 0,    0,    0,  0],\n",
       "[ 0, -1, 0, 0, 1,    0, 0,    0,    0,  0],\n",
       "[ 0, -1, 0, 0, 0,    1, 0,    0,    0,  0],\n",
       "[ 0,  0, 1, 0, 0,    0, 0,    0,    0,  0],\n",
       "[ 0,  0, 0, 1, 0,    0, 0, -R_1,    0,  0],\n",
       "[ 0,  0, 0, 0, 1,    0, 0,    0, -R_2,  0],\n",
       "[ 0,  0, 0, 0, 0, C1*s, 0,    0,    0, -1]])"
      ]
     },
     "execution_count": 49,
     "metadata": {},
     "output_type": "execute_result"
    },
    {
     "data": {
      "text/latex": [
       "$\\displaystyle \\left[\\begin{matrix}0 & 0 & -1 & 0 & 0 & 0 & 1 & 0 & 0 & 0\\\\0 & \\frac{R_{1} R_{2}}{C_{1} R_{1} R_{2} s + R_{1} + R_{2}} & - \\frac{R_{2}}{C_{1} R_{1} R_{2} s + R_{1} + R_{2}} & \\frac{R_{2}}{C_{1} R_{1} R_{2} s + R_{1} + R_{2}} & - \\frac{R_{1}}{C_{1} R_{1} R_{2} s + R_{1} + R_{2}} & - \\frac{C_{1} R_{1} R_{2} s}{C_{1} R_{1} R_{2} s + R_{1} + R_{2}} & \\frac{R_{2}}{C_{1} R_{1} R_{2} s + R_{1} + R_{2}} & - \\frac{R_{2}}{C_{1} R_{1} R_{2} s + R_{1} + R_{2}} & \\frac{R_{1}}{C_{1} R_{1} R_{2} s + R_{1} + R_{2}} & \\frac{R_{1} R_{2}}{C_{1} R_{1} R_{2} s + R_{1} + R_{2}}\\\\0 & 0 & 0 & 0 & 0 & 0 & 1 & 0 & 0 & 0\\\\0 & - \\frac{R_{1} R_{2}}{C_{1} R_{1} R_{2} s + R_{1} + R_{2}} & \\frac{- C_{1} R_{1} R_{2} s - R_{1}}{C_{1} R_{1} R_{2} s + R_{1} + R_{2}} & \\frac{C_{1} R_{1} R_{2} s + R_{1}}{C_{1} R_{1} R_{2} s + R_{1} + R_{2}} & \\frac{R_{1}}{C_{1} R_{1} R_{2} s + R_{1} + R_{2}} & \\frac{C_{1} R_{1} R_{2} s}{C_{1} R_{1} R_{2} s + R_{1} + R_{2}} & \\frac{C_{1} R_{1} R_{2} s + R_{1}}{C_{1} R_{1} R_{2} s + R_{1} + R_{2}} & \\frac{R_{2}}{C_{1} R_{1} R_{2} s + R_{1} + R_{2}} & - \\frac{R_{1}}{C_{1} R_{1} R_{2} s + R_{1} + R_{2}} & - \\frac{R_{1} R_{2}}{C_{1} R_{1} R_{2} s + R_{1} + R_{2}}\\\\0 & \\frac{R_{1} R_{2}}{C_{1} R_{1} R_{2} s + R_{1} + R_{2}} & - \\frac{R_{2}}{C_{1} R_{1} R_{2} s + R_{1} + R_{2}} & \\frac{R_{2}}{C_{1} R_{1} R_{2} s + R_{1} + R_{2}} & \\frac{C_{1} R_{1} R_{2} s + R_{2}}{C_{1} R_{1} R_{2} s + R_{1} + R_{2}} & - \\frac{C_{1} R_{1} R_{2} s}{C_{1} R_{1} R_{2} s + R_{1} + R_{2}} & \\frac{R_{2}}{C_{1} R_{1} R_{2} s + R_{1} + R_{2}} & - \\frac{R_{2}}{C_{1} R_{1} R_{2} s + R_{1} + R_{2}} & \\frac{R_{1}}{C_{1} R_{1} R_{2} s + R_{1} + R_{2}} & \\frac{R_{1} R_{2}}{C_{1} R_{1} R_{2} s + R_{1} + R_{2}}\\\\0 & \\frac{R_{1} R_{2}}{C_{1} R_{1} R_{2} s + R_{1} + R_{2}} & - \\frac{R_{2}}{C_{1} R_{1} R_{2} s + R_{1} + R_{2}} & \\frac{R_{2}}{C_{1} R_{1} R_{2} s + R_{1} + R_{2}} & - \\frac{R_{1}}{C_{1} R_{1} R_{2} s + R_{1} + R_{2}} & \\frac{R_{1} + R_{2}}{C_{1} R_{1} R_{2} s + R_{1} + R_{2}} & \\frac{R_{2}}{C_{1} R_{1} R_{2} s + R_{1} + R_{2}} & - \\frac{R_{2}}{C_{1} R_{1} R_{2} s + R_{1} + R_{2}} & \\frac{R_{1}}{C_{1} R_{1} R_{2} s + R_{1} + R_{2}} & \\frac{R_{1} R_{2}}{C_{1} R_{1} R_{2} s + R_{1} + R_{2}}\\\\1 & \\frac{R_{2}}{C_{1} R_{1} R_{2} s + R_{1} + R_{2}} & \\frac{C_{1} R_{2} s + 1}{C_{1} R_{1} R_{2} s + R_{1} + R_{2}} & \\frac{- C_{1} R_{2} s - 1}{C_{1} R_{1} R_{2} s + R_{1} + R_{2}} & - \\frac{1}{C_{1} R_{1} R_{2} s + R_{1} + R_{2}} & - \\frac{C_{1} R_{2} s}{C_{1} R_{1} R_{2} s + R_{1} + R_{2}} & \\frac{- C_{1} R_{2} s - 1}{C_{1} R_{1} R_{2} s + R_{1} + R_{2}} & \\frac{C_{1} R_{2} s + 1}{C_{1} R_{1} R_{2} s + R_{1} + R_{2}} & \\frac{1}{C_{1} R_{1} R_{2} s + R_{1} + R_{2}} & \\frac{R_{2}}{C_{1} R_{1} R_{2} s + R_{1} + R_{2}}\\\\0 & - \\frac{R_{2}}{C_{1} R_{1} R_{2} s + R_{1} + R_{2}} & \\frac{- C_{1} R_{2} s - 1}{C_{1} R_{1} R_{2} s + R_{1} + R_{2}} & \\frac{C_{1} R_{2} s + 1}{C_{1} R_{1} R_{2} s + R_{1} + R_{2}} & \\frac{1}{C_{1} R_{1} R_{2} s + R_{1} + R_{2}} & \\frac{C_{1} R_{2} s}{C_{1} R_{1} R_{2} s + R_{1} + R_{2}} & \\frac{C_{1} R_{2} s + 1}{C_{1} R_{1} R_{2} s + R_{1} + R_{2}} & \\frac{- C_{1} R_{2} s - 1}{C_{1} R_{1} R_{2} s + R_{1} + R_{2}} & - \\frac{1}{C_{1} R_{1} R_{2} s + R_{1} + R_{2}} & - \\frac{R_{2}}{C_{1} R_{1} R_{2} s + R_{1} + R_{2}}\\\\0 & \\frac{R_{1}}{C_{1} R_{1} R_{2} s + R_{1} + R_{2}} & - \\frac{1}{C_{1} R_{1} R_{2} s + R_{1} + R_{2}} & \\frac{1}{C_{1} R_{1} R_{2} s + R_{1} + R_{2}} & \\frac{C_{1} R_{1} s + 1}{C_{1} R_{1} R_{2} s + R_{1} + R_{2}} & - \\frac{C_{1} R_{1} s}{C_{1} R_{1} R_{2} s + R_{1} + R_{2}} & \\frac{1}{C_{1} R_{1} R_{2} s + R_{1} + R_{2}} & - \\frac{1}{C_{1} R_{1} R_{2} s + R_{1} + R_{2}} & \\frac{- C_{1} R_{1} s - 1}{C_{1} R_{1} R_{2} s + R_{1} + R_{2}} & \\frac{R_{1}}{C_{1} R_{1} R_{2} s + R_{1} + R_{2}}\\\\0 & \\frac{C_{1} R_{1} R_{2} s}{C_{1} R_{1} R_{2} s + R_{1} + R_{2}} & - \\frac{C_{1} R_{2} s}{C_{1} R_{1} R_{2} s + R_{1} + R_{2}} & \\frac{C_{1} R_{2} s}{C_{1} R_{1} R_{2} s + R_{1} + R_{2}} & - \\frac{C_{1} R_{1} s}{C_{1} R_{1} R_{2} s + R_{1} + R_{2}} & \\frac{C_{1} R_{1} s + C_{1} R_{2} s}{C_{1} R_{1} R_{2} s + R_{1} + R_{2}} & \\frac{C_{1} R_{2} s}{C_{1} R_{1} R_{2} s + R_{1} + R_{2}} & - \\frac{C_{1} R_{2} s}{C_{1} R_{1} R_{2} s + R_{1} + R_{2}} & \\frac{C_{1} R_{1} s}{C_{1} R_{1} R_{2} s + R_{1} + R_{2}} & \\frac{- R_{1} - R_{2}}{C_{1} R_{1} R_{2} s + R_{1} + R_{2}}\\end{matrix}\\right]$"
      ],
      "text/plain": [
       "Matrix([\n",
       "[0,                                       0,                                               -1,                                               0,                                               0,                                                0,                                               1,                                          0,                                          0,                                       0],\n",
       "[0,      R_1*R_2/(C1*R_1*R_2*s + R_1 + R_2),                  -R_2/(C1*R_1*R_2*s + R_1 + R_2),                  R_2/(C1*R_1*R_2*s + R_1 + R_2),                 -R_1/(C1*R_1*R_2*s + R_1 + R_2),         -C1*R_1*R_2*s/(C1*R_1*R_2*s + R_1 + R_2),                  R_2/(C1*R_1*R_2*s + R_1 + R_2),            -R_2/(C1*R_1*R_2*s + R_1 + R_2),             R_1/(C1*R_1*R_2*s + R_1 + R_2),      R_1*R_2/(C1*R_1*R_2*s + R_1 + R_2)],\n",
       "[0,                                       0,                                                0,                                               0,                                               0,                                                0,                                               1,                                          0,                                          0,                                       0],\n",
       "[0,     -R_1*R_2/(C1*R_1*R_2*s + R_1 + R_2), (-C1*R_1*R_2*s - R_1)/(C1*R_1*R_2*s + R_1 + R_2), (C1*R_1*R_2*s + R_1)/(C1*R_1*R_2*s + R_1 + R_2),                  R_1/(C1*R_1*R_2*s + R_1 + R_2),          C1*R_1*R_2*s/(C1*R_1*R_2*s + R_1 + R_2), (C1*R_1*R_2*s + R_1)/(C1*R_1*R_2*s + R_1 + R_2),             R_2/(C1*R_1*R_2*s + R_1 + R_2),            -R_1/(C1*R_1*R_2*s + R_1 + R_2),     -R_1*R_2/(C1*R_1*R_2*s + R_1 + R_2)],\n",
       "[0,      R_1*R_2/(C1*R_1*R_2*s + R_1 + R_2),                  -R_2/(C1*R_1*R_2*s + R_1 + R_2),                  R_2/(C1*R_1*R_2*s + R_1 + R_2), (C1*R_1*R_2*s + R_2)/(C1*R_1*R_2*s + R_1 + R_2),         -C1*R_1*R_2*s/(C1*R_1*R_2*s + R_1 + R_2),                  R_2/(C1*R_1*R_2*s + R_1 + R_2),            -R_2/(C1*R_1*R_2*s + R_1 + R_2),             R_1/(C1*R_1*R_2*s + R_1 + R_2),      R_1*R_2/(C1*R_1*R_2*s + R_1 + R_2)],\n",
       "[0,      R_1*R_2/(C1*R_1*R_2*s + R_1 + R_2),                  -R_2/(C1*R_1*R_2*s + R_1 + R_2),                  R_2/(C1*R_1*R_2*s + R_1 + R_2),                 -R_1/(C1*R_1*R_2*s + R_1 + R_2),           (R_1 + R_2)/(C1*R_1*R_2*s + R_1 + R_2),                  R_2/(C1*R_1*R_2*s + R_1 + R_2),            -R_2/(C1*R_1*R_2*s + R_1 + R_2),             R_1/(C1*R_1*R_2*s + R_1 + R_2),      R_1*R_2/(C1*R_1*R_2*s + R_1 + R_2)],\n",
       "[1,          R_2/(C1*R_1*R_2*s + R_1 + R_2),        (C1*R_2*s + 1)/(C1*R_1*R_2*s + R_1 + R_2),      (-C1*R_2*s - 1)/(C1*R_1*R_2*s + R_1 + R_2),                   -1/(C1*R_1*R_2*s + R_1 + R_2),             -C1*R_2*s/(C1*R_1*R_2*s + R_1 + R_2),      (-C1*R_2*s - 1)/(C1*R_1*R_2*s + R_1 + R_2),  (C1*R_2*s + 1)/(C1*R_1*R_2*s + R_1 + R_2),               1/(C1*R_1*R_2*s + R_1 + R_2),          R_2/(C1*R_1*R_2*s + R_1 + R_2)],\n",
       "[0,         -R_2/(C1*R_1*R_2*s + R_1 + R_2),       (-C1*R_2*s - 1)/(C1*R_1*R_2*s + R_1 + R_2),       (C1*R_2*s + 1)/(C1*R_1*R_2*s + R_1 + R_2),                    1/(C1*R_1*R_2*s + R_1 + R_2),              C1*R_2*s/(C1*R_1*R_2*s + R_1 + R_2),       (C1*R_2*s + 1)/(C1*R_1*R_2*s + R_1 + R_2), (-C1*R_2*s - 1)/(C1*R_1*R_2*s + R_1 + R_2),              -1/(C1*R_1*R_2*s + R_1 + R_2),         -R_2/(C1*R_1*R_2*s + R_1 + R_2)],\n",
       "[0,          R_1/(C1*R_1*R_2*s + R_1 + R_2),                    -1/(C1*R_1*R_2*s + R_1 + R_2),                    1/(C1*R_1*R_2*s + R_1 + R_2),       (C1*R_1*s + 1)/(C1*R_1*R_2*s + R_1 + R_2),             -C1*R_1*s/(C1*R_1*R_2*s + R_1 + R_2),                    1/(C1*R_1*R_2*s + R_1 + R_2),              -1/(C1*R_1*R_2*s + R_1 + R_2), (-C1*R_1*s - 1)/(C1*R_1*R_2*s + R_1 + R_2),          R_1/(C1*R_1*R_2*s + R_1 + R_2)],\n",
       "[0, C1*R_1*R_2*s/(C1*R_1*R_2*s + R_1 + R_2),             -C1*R_2*s/(C1*R_1*R_2*s + R_1 + R_2),             C1*R_2*s/(C1*R_1*R_2*s + R_1 + R_2),            -C1*R_1*s/(C1*R_1*R_2*s + R_1 + R_2), (C1*R_1*s + C1*R_2*s)/(C1*R_1*R_2*s + R_1 + R_2),             C1*R_2*s/(C1*R_1*R_2*s + R_1 + R_2),       -C1*R_2*s/(C1*R_1*R_2*s + R_1 + R_2),        C1*R_1*s/(C1*R_1*R_2*s + R_1 + R_2), (-R_1 - R_2)/(C1*R_1*R_2*s + R_1 + R_2)]])"
      ]
     },
     "execution_count": 49,
     "metadata": {},
     "output_type": "execute_result"
    }
   ],
   "source": [
    "T[0:n-1,n-1+b:] = Aa\n",
    "T[n-1:b+n-1,:n-1] = -Aa.transpose()\n",
    "T[n-1:b+n-1, n-1:b+n-1] = eye(4)\n",
    "T[n-1+b:,n-1:n-1+b] = M0*s+M1\n",
    "T[n-1+b:,n-1+b:] = N0*s+N1\n",
    "T\n",
    "Tinv = T**-1\n",
    "Tinv "
   ]
  },
  {
   "cell_type": "code",
   "execution_count": 39,
   "id": "95815a7a-07bc-422e-8293-b4609f6beb23",
   "metadata": {},
   "outputs": [
    {
     "data": {
      "text/latex": [
       "$\\displaystyle \\left[\\begin{matrix}E_{1}\\\\E_{2}\\\\V_{1}\\\\V_{2}\\\\V_{3}\\\\V_{4}\\\\I_{1}\\\\I_{2}\\\\I_{3}\\\\I_{4}\\end{matrix}\\right]$"
      ],
      "text/plain": [
       "Matrix([\n",
       "[E_1],\n",
       "[E_2],\n",
       "[V_1],\n",
       "[V_2],\n",
       "[V_3],\n",
       "[V_4],\n",
       "[I_1],\n",
       "[I_2],\n",
       "[I_3],\n",
       "[I_4]])"
      ]
     },
     "execution_count": 39,
     "metadata": {},
     "output_type": "execute_result"
    }
   ],
   "source": [
    "W = Matrix([[Es], [Vs], [Is]])\n",
    "W"
   ]
  },
  {
   "cell_type": "markdown",
   "id": "400f77ed-491c-4248-aeba-de267dae496a",
   "metadata": {},
   "source": [
    "The linear system can be invertered and W solved for. "
   ]
  },
  {
   "cell_type": "code",
   "execution_count": 40,
   "id": "c972d1e4-9a43-43b3-bbbd-4a70d2390837",
   "metadata": {},
   "outputs": [
    {
     "data": {
      "text/latex": [
       "$\\displaystyle \\left[\\begin{matrix}\\frac{V_{m} s}{\\omega^{2} + s^{2}}\\\\\\frac{R_{2} V_{m} s}{\\left(\\omega^{2} + s^{2}\\right) \\left(C_{1} R_{1} R_{2} s + R_{1} + R_{2}\\right)}\\\\\\frac{V_{m} s}{\\omega^{2} + s^{2}}\\\\\\frac{V_{m} s \\left(C_{1} R_{1} R_{2} s + R_{1}\\right)}{\\left(\\omega^{2} + s^{2}\\right) \\left(C_{1} R_{1} R_{2} s + R_{1} + R_{2}\\right)}\\\\\\frac{R_{2} V_{m} s}{\\left(\\omega^{2} + s^{2}\\right) \\left(C_{1} R_{1} R_{2} s + R_{1} + R_{2}\\right)}\\\\\\frac{R_{2} V_{m} s}{\\left(\\omega^{2} + s^{2}\\right) \\left(C_{1} R_{1} R_{2} s + R_{1} + R_{2}\\right)}\\\\\\frac{V_{m} s \\left(- C_{1} R_{2} s - 1\\right)}{\\left(\\omega^{2} + s^{2}\\right) \\left(C_{1} R_{1} R_{2} s + R_{1} + R_{2}\\right)}\\\\\\frac{V_{m} s \\left(C_{1} R_{2} s + 1\\right)}{\\left(\\omega^{2} + s^{2}\\right) \\left(C_{1} R_{1} R_{2} s + R_{1} + R_{2}\\right)}\\\\\\frac{V_{m} s}{\\left(\\omega^{2} + s^{2}\\right) \\left(C_{1} R_{1} R_{2} s + R_{1} + R_{2}\\right)}\\\\\\frac{C_{1} R_{2} V_{m} s^{2}}{\\left(\\omega^{2} + s^{2}\\right) \\left(C_{1} R_{1} R_{2} s + R_{1} + R_{2}\\right)}\\end{matrix}\\right]$"
      ],
      "text/plain": [
       "Matrix([\n",
       "[                                                  V_m*s/(omega**2 + s**2)],\n",
       "[                 R_2*V_m*s/((omega**2 + s**2)*(C1*R_1*R_2*s + R_1 + R_2))],\n",
       "[                                                  V_m*s/(omega**2 + s**2)],\n",
       "[V_m*s*(C1*R_1*R_2*s + R_1)/((omega**2 + s**2)*(C1*R_1*R_2*s + R_1 + R_2))],\n",
       "[                 R_2*V_m*s/((omega**2 + s**2)*(C1*R_1*R_2*s + R_1 + R_2))],\n",
       "[                 R_2*V_m*s/((omega**2 + s**2)*(C1*R_1*R_2*s + R_1 + R_2))],\n",
       "[     V_m*s*(-C1*R_2*s - 1)/((omega**2 + s**2)*(C1*R_1*R_2*s + R_1 + R_2))],\n",
       "[      V_m*s*(C1*R_2*s + 1)/((omega**2 + s**2)*(C1*R_1*R_2*s + R_1 + R_2))],\n",
       "[                     V_m*s/((omega**2 + s**2)*(C1*R_1*R_2*s + R_1 + R_2))],\n",
       "[           C1*R_2*V_m*s**2/((omega**2 + s**2)*(C1*R_1*R_2*s + R_1 + R_2))]])"
      ]
     },
     "execution_count": 40,
     "metadata": {},
     "output_type": "execute_result"
    }
   ],
   "source": [
    "#T*W - U # = 0 \n",
    "Tinv*U\n",
    "# norm_TinvU = Tinv*U /  tempting to normalize, but what if there were more sources? "
   ]
  },
  {
   "cell_type": "code",
   "execution_count": 21,
   "id": "18efe586-8fce-48e9-a789-dc1c6e0854e1",
   "metadata": {},
   "outputs": [
    {
     "data": {
      "text/latex": [
       "$\\displaystyle \\frac{R_{2} V_{m} s}{\\left(\\omega^{2} + s^{2}\\right) \\left(C_{1} R_{1} R_{2} s + R_{1} + R_{2}\\right)}$"
      ],
      "text/plain": [
       "R_2*V_m*s/((omega**2 + s**2)*(C1*R_1*R_2*s + R_1 + R_2))"
      ]
     },
     "execution_count": 21,
     "metadata": {},
     "output_type": "execute_result"
    },
    {
     "data": {
      "text/latex": [
       "$\\displaystyle \\frac{R_{2} V_{m} \\left(- R_{1} - R_{2} + \\left(C_{1} R_{1} R_{2} \\omega \\sin{\\left(\\omega t \\right)} + R_{1} \\cos{\\left(\\omega t \\right)} + R_{2} \\cos{\\left(\\omega t \\right)}\\right) e^{\\frac{t \\left(R_{1} + R_{2}\\right)}{C_{1} R_{1} R_{2}}}\\right) e^{- \\frac{t \\left(R_{1} + R_{2}\\right)}{C_{1} R_{1} R_{2}}}}{C_{1}^{2} R_{1}^{2} R_{2}^{2} \\omega^{2} + R_{1}^{2} + 2 R_{1} R_{2} + R_{2}^{2}}$"
      ],
      "text/plain": [
       "R_2*V_m*(-R_1 - R_2 + (C1*R_1*R_2*omega*sin(omega*t) + R_1*cos(omega*t) + R_2*cos(omega*t))*exp(t*(R_1 + R_2)/(C1*R_1*R_2)))*exp(-t*(R_1 + R_2)/(C1*R_1*R_2))/(C1**2*R_1**2*R_2**2*omega**2 + R_1**2 + 2*R_1*R_2 + R_2**2)"
      ]
     },
     "execution_count": 21,
     "metadata": {},
     "output_type": "execute_result"
    },
    {
     "data": {
      "text/latex": [
       "$\\displaystyle - \\frac{R_{2} V_{m} \\left(R_{1} + R_{2} - \\left(C_{1} R_{1} R_{2} \\omega \\sin{\\left(\\omega t \\right)} + R_{1} \\cos{\\left(\\omega t \\right)} + R_{2} \\cos{\\left(\\omega t \\right)}\\right) e^{\\frac{t \\left(R_{1} + R_{2}\\right)}{C_{1} R_{1} R_{2}}}\\right) e^{- \\frac{t \\left(R_{1} + R_{2}\\right)}{C_{1} R_{1} R_{2}}}}{C_{1}^{2} R_{1}^{2} R_{2}^{2} \\omega^{2} + R_{1}^{2} + 2 R_{1} R_{2} + R_{2}^{2}}$"
      ],
      "text/plain": [
       "-R_2*V_m*(R_1 + R_2 - (C1*R_1*R_2*omega*sin(omega*t) + R_1*cos(omega*t) + R_2*cos(omega*t))*exp(t*(R_1 + R_2)/(C1*R_1*R_2)))*exp(-t*(R_1 + R_2)/(C1*R_1*R_2))/(C1**2*R_1**2*R_2**2*omega**2 + R_1**2 + 2*R_1*R_2 + R_2**2)"
      ]
     },
     "execution_count": 21,
     "metadata": {},
     "output_type": "execute_result"
    }
   ],
   "source": [
    "(Tinv*U).row(4)[0]\n",
    "vout = apart((Tinv*U).row(4)[0],s)\n",
    "vout = inverse_laplace_transform(apart((Tinv*U).row(4)[0],s),s,t)\n",
    "vout \n",
    "simplify(vout)"
   ]
  },
  {
   "cell_type": "code",
   "execution_count": null,
   "id": "189a0f9e-3d43-454f-a3ac-b8bd0a56bfd9",
   "metadata": {},
   "outputs": [],
   "source": []
  },
  {
   "cell_type": "code",
   "execution_count": 24,
   "id": "0f56ead5-98ac-4426-87c4-5053d697d7fa",
   "metadata": {},
   "outputs": [],
   "source": [
    "fs = 100e3\n",
    "Ts = 1/fs \n",
    "subs = {R2: 10e3, R1:10e3, Vm:10, C1:.3e-9, w: 2*pi*fs}\n",
    "fVout = lambdify(t, vout.subs(subs))"
   ]
  },
  {
   "cell_type": "code",
   "execution_count": 33,
   "id": "5d0a22ae-53d5-42b9-aae8-f118d398c7eb",
   "metadata": {},
   "outputs": [
    {
     "data": {
      "text/plain": [
       "Text(0, 0.5, 'Voltage [V]')"
      ]
     },
     "execution_count": 33,
     "metadata": {},
     "output_type": "execute_result"
    },
    {
     "data": {
      "text/plain": [
       "Text(0.5, 0, 'Time [s]')"
      ]
     },
     "execution_count": 33,
     "metadata": {},
     "output_type": "execute_result"
    },
    {
     "data": {
      "text/plain": [
       "[<matplotlib.lines.Line2D at 0x7fcefb022760>]"
      ]
     },
     "execution_count": 33,
     "metadata": {},
     "output_type": "execute_result"
    },
    {
     "data": {
      "text/plain": [
       "[<matplotlib.lines.Line2D at 0x7fcefb022a60>]"
      ]
     },
     "execution_count": 33,
     "metadata": {},
     "output_type": "execute_result"
    },
    {
     "data": {
      "text/plain": [
       "<matplotlib.legend.Legend at 0x7fcefb022ac0>"
      ]
     },
     "execution_count": 33,
     "metadata": {},
     "output_type": "execute_result"
    },
    {
     "data": {
      "image/png": "[encoded data removed]",
      "text/plain": [
       "<Figure size 640x480 with 1 Axes>"
      ]
     },
     "metadata": {},
     "output_type": "display_data"
    }
   ],
   "source": [
    "subs = {R2: 10e3, R1:10e3, Vm:10, C1:.3e-9, w:2*pi*100e3 }\n",
    "fig, ax = plt.subplots(subplot_kw={'title':'Solution'})\n",
    "#ax.set_ylim(bottom= -1, top=15)\n",
    "#ax.set_xlim(left=0, right=t[-1]+epsilon)\n",
    "ax.set_ylabel('Voltage [V]')\n",
    "ax.set_xlabel('Time [s]')\n",
    "samples = np.arange(0, 4*Ts, 4*Ts/200)\n",
    "ax.plot(samples, fVout(samples), label='Vout')\n",
    "ax.plot(samples, subs[Vm]*np.cos(2*fs*np.pi*samples), label='Vin')\n",
    "ax.legend()"
   ]
  },
  {
   "cell_type": "code",
   "execution_count": 36,
   "id": "62994ac7-c8bd-4f63-858f-e04a46dd4f72",
   "metadata": {},
   "outputs": [
    {
     "data": {
      "text/plain": [
       "0.7277259885010533"
      ]
     },
     "execution_count": 36,
     "metadata": {},
     "output_type": "execute_result"
    }
   ],
   "source": [
    "np.max(fVout(samples))/np.max(subs[Vm]*np.cos(2*fs*np.pi*samples))*2"
   ]
  },
  {
   "cell_type": "markdown",
   "id": "a7284025-b14c-47c2-8e61-f6005c6d9324",
   "metadata": {},
   "source": [
    "$TW = U$ has b branch circuit values undeclared. \n",
    "1. Choose some values and compute the simulation (the sweep of $s=j\\omega$). \n",
    "In the time domain, one would need to integrate the set of differential equations at each step, and set the subsequent time step initial conditions to the prior step solution. In the Laplace domain, the set of equations is algebraic. \n",
    "What role does the frequency $\\omega$ of the source play? When $s=j\\omega$ and matches the source, the denominiator goes to 0. AC simulations show responses relative to the driving source. \n",
    "2. $2b+n-1=10$ equations - 3 circuit element values + 2 parameters that describe the input source ($V_m$ and $\\omega$). "
   ]
  },
  {
   "cell_type": "code",
   "execution_count": null,
   "id": "8edca538-94de-40ad-bda4-255d230eab5f",
   "metadata": {},
   "outputs": [],
   "source": []
  },
  {
   "cell_type": "code",
   "execution_count": null,
   "id": "209af40c-82bd-4b5c-a9ad-3099134fecb5",
   "metadata": {},
   "outputs": [],
   "source": []
  },
  {
   "cell_type": "code",
   "execution_count": null,
   "id": "fe8a112b-5fcf-45f3-a325-d4790fc151a7",
   "metadata": {},
   "outputs": [],
   "source": []
  },
  {
   "cell_type": "code",
   "execution_count": null,
   "id": "ef48d65f-1b13-43b8-9167-a080c4d46a2b",
   "metadata": {},
   "outputs": [],
   "source": []
  },
  {
   "cell_type": "markdown",
   "id": "a056d2a6-5895-409b-b9ea-0023096741d2",
   "metadata": {},
   "source": [
    "This particular circuit will have the relation \n",
    "$ V_4 = V_{1}\\frac{R_2||{Z_{C_1}}}{R_1+R_2||Z_{C_1}} = V_1\\frac{R_2Z_{C_1}}{R_1(R_2+Z_{C_1})+R_2Z_{C_1}}$\n",
    "\n",
    "$ V_4 = V_1\\frac{R_2Z_{C_1}}{R_1R_2+R_1Z_{C_1}+R_2Z_{C_1}} =  V_1\\frac{R_2Z_{C_1}}{R_1R_2+(R_1+R_2)Z_{C_1}}$\n",
    "\n",
    "$ V_4 =  V_1\\frac{R_2Z_{C_1}}{(R_1+R_2)(\\frac{R_1R_2}{R_1+R_2}+Z_{C_1})}=  V_1\\frac{R_2}{(R_1+R_2)(\\frac{R_1R_2}{Z_{C_1}(R_1+R_2)}+1)}$\n",
    "\n",
    "$ V_4 =  V_1\\frac{R_2}{(R_1+R_2)(\\frac{R_1R_2}{\\frac{1}{j\\omega C_1}(R_1+R_2)}+1)}=  V_1\\frac{R_2}{(R_1+R_2)(\\frac{R_1R_2j\\omega C_1}{(R_1+R_2)}+1)} = A_{Vo}\\frac{1}{1+\\frac{j\\omega}{\\omega_p}}$\n",
    "\n",
    "where $A_{Vo} = \\frac{R_2}{R_1+R_2}$ and $\\omega_p = \\frac{R_1+R_2}{R_1R_2C_1}$ or $f_p = \\frac{R_1+R_2}{2\\pi R_1R_2C_1}$\n",
    "which is embodied by the Tableau equations. It is in a form recognized as a voltage divider with a single pole. An algorithm that spits out permutations may be too verbose for a user, and offer unrecognizable forms. For example, all the derivation steps are equivalent, but only the last one is the useful form. But, there could be an option for selecting \"this variable in terms of these other variables, but not those\". If there is no such relation, so be it.  \n",
    "\n",
    "Qualitatively though, a user knows what the circuit does. A user could specify DC division ratio along with a corner frequency. The system will either be satisfied, or not. To specify a pole, the user would need to know the exact expression. There _could_ be boilerplate circuits with pre-made relations such as this. "
   ]
  },
  {
   "cell_type": "markdown",
   "id": "455239ed-9e5b-4ab4-910e-4a92483e8fd4",
   "metadata": {},
   "source": [
    "Ten equations and 15 unknowns, because the element values, source magnitude, and source frequency are not known yet. The variable s is interpreted the same as the differential operator in the time domain. \n",
    "\n",
    "In the context of Some equations can be considered constraints, Since KCL and KVL need to be satisfied, \n",
    "\n",
    "The simulation of a system typically sweeps time or frequency, and the evolution of nodes and branches are calculated. \n",
    "When choosing element values and the system is underconstrained, there are a range of values that would work. Successively choosing values further contrains the system.  \n",
    "\n",
    "The big assumption is that one knows how to write down equations that describe relationships of interest. \n",
    "This is a \"power tool\" that removes a lot of back and forth in circuit design: the choose, check, propogate. The \"converter.py\" is meant to help with the discovery of relations. \n",
    "\n",
    "Minimize work, maximize understanding \n",
    "\n",
    "How does one learn? \n",
    "- trial and error \n",
    "- recognize trends \n",
    "- frequent opportunity \n",
    "- reading \n",
    "- from a good teacher \n",
    "- the hard way (making mistakes) \n",
    "\n",
    "A choice of detail in the model determines what can be specified. \n",
    "ex1) specifying ripple current means one knows how to express it. \n",
    "ex2) specifying DC voltage division in a low pass filter \n",
    "\n",
    "For an LTI system, it may be interesting to use scipy.signal for solution and plotting. The state space representation can be used. It is written down symbollically for the target topology. Parameter estimation is then used with the desired response being scipy step or impulse response, or bode.  \n",
    "\n",
    "Think of a buck converter that has input ports and an output port. And all the components in between. The number of components is on the order of 5: input cap, 2 FETs, inductor, output cap. The specifications declare some things: input and output voltage, output current, use this inductor, achieve that efficiency. \n",
    "\n",
    "Think of a wireless power transfer system that has input ports and an output port. And all the components in between. The number of components greatly exceeds the input and output ports. \n",
    "\n",
    "#### Ambition: \n",
    "**Given a circuit, user specifies anything: a branch voltage or current (source, load, some intermediate), element values. As soon as anything is entered, whatever else that can be calculated, is. 2D or 3D curves are available to represent what is unconstrained, and the curves are parameterized by other things if necessary. If you want to plot this, you have to choose that from domains that known to satisfy. Satisfaction is guaranteed.** \n",
    "\n",
    "Example: \n",
    "A resistive divider. Vin, R1, R2, V1, V2, I1, I2. User specifies a trianular wave for I1. \n",
    "\n",
    "Declaring I1 puts a ratio on "
   ]
  },
  {
   "cell_type": "markdown",
   "id": "945550bb-9e18-4e73-99b7-f0063dda4dec",
   "metadata": {},
   "source": [
    "The branch voltages, node voltages, and branch currents are functions of s in the Laplace domain, and capture both \n",
    "transient and steady state information. In this example the input is a sinusoid without DC offset (yet). \n",
    "The evolution of s across some range (in the complex plane), and the solution to the equations, is the simulation. \n"
   ]
  },
  {
   "cell_type": "code",
   "execution_count": 47,
   "id": "55c47d60-69cb-4917-9416-d18f694f86c0",
   "metadata": {},
   "outputs": [
    {
     "name": "stdout",
     "output_type": "stream",
     "text": [
      "16 symbols and 13 equations\n"
     ]
    },
    {
     "data": {
      "text/latex": [
       "$\\displaystyle \\left[\\begin{matrix}I_{1} + I_{2}\\\\- I_{2} + I_{3} + I_{4}\\\\- E_{1} + V_{1}\\\\- E_{1} + E_{2} + V_{2}\\\\- E_{2} + V_{3}\\\\- E_{2} + V_{4}\\\\V_{1} - \\frac{V_{m} s}{\\omega^{2} + s^{2}}\\\\- I_{2} R_{1} + V_{2}\\\\- I_{3} R_{2} + V_{3}\\\\C_{1} V_{4} s - I_{4}\\\\A_{vo} - \\frac{R_{2}}{R_{1} + R_{2}}\\\\f_{p} - \\frac{R_{1} + R_{2}}{2 \\pi C_{1} R_{1} R_{2}}\\\\- 2 \\pi f_{p} + \\omega_{p}\\end{matrix}\\right]$"
      ],
      "text/plain": [
       "Matrix([\n",
       "[                          I_1 + I_2],\n",
       "[                   -I_2 + I_3 + I_4],\n",
       "[                         -E_1 + V_1],\n",
       "[                   -E_1 + E_2 + V_2],\n",
       "[                         -E_2 + V_3],\n",
       "[                         -E_2 + V_4],\n",
       "[      V_1 - V_m*s/(omega**2 + s**2)],\n",
       "[                     -I_2*R_1 + V_2],\n",
       "[                     -I_3*R_2 + V_3],\n",
       "[                     C1*V_4*s - I_4],\n",
       "[           A_{vo} - R_2/(R_1 + R_2)],\n",
       "[f_p - (R_1 + R_2)/(2*pi*C1*R_1*R_2)],\n",
       "[                -2*pi*f_p + omega_p]])"
      ]
     },
     "execution_count": 47,
     "metadata": {},
     "output_type": "execute_result"
    },
    {
     "data": {
      "text/latex": [
       "$\\displaystyle \\left[\\begin{matrix}I_{1} + I_{2}\\\\- I_{2} + I_{3} + I_{4}\\\\- E_{1} + V_{1}\\\\- E_{1} + E_{2} + V_{2}\\\\- E_{2} + V_{3}\\\\- E_{2} + V_{4}\\\\V_{1} - \\frac{V_{m} s}{\\omega^{2} + s^{2}}\\\\- I_{2} R_{1} + V_{2}\\\\- I_{3} R_{2} + V_{3}\\\\C_{1} V_{4} s - I_{4}\\\\- \\frac{R_{2}}{R_{1} + R_{2}} + 0.5\\\\f_{p} - \\frac{R_{1} + R_{2}}{2 \\pi C_{1} R_{1} R_{2}}\\\\- 2 \\pi f_{p} + 100000.0\\end{matrix}\\right]$"
      ],
      "text/plain": [
       "Matrix([\n",
       "[                          I_1 + I_2],\n",
       "[                   -I_2 + I_3 + I_4],\n",
       "[                         -E_1 + V_1],\n",
       "[                   -E_1 + E_2 + V_2],\n",
       "[                         -E_2 + V_3],\n",
       "[                         -E_2 + V_4],\n",
       "[      V_1 - V_m*s/(omega**2 + s**2)],\n",
       "[                     -I_2*R_1 + V_2],\n",
       "[                     -I_3*R_2 + V_3],\n",
       "[                     C1*V_4*s - I_4],\n",
       "[             -R_2/(R_1 + R_2) + 0.5],\n",
       "[f_p - (R_1 + R_2)/(2*pi*C1*R_1*R_2)],\n",
       "[               -2*pi*f_p + 100000.0]])"
      ]
     },
     "execution_count": 47,
     "metadata": {},
     "output_type": "execute_result"
    }
   ],
   "source": [
    "eq1 = Avo - R2/(R1+R2)\n",
    "eq2 = fp -(R1+R2)/(2*pi*C1*R1*R2)\n",
    "eq3 = wp - 2*pi*fp\n",
    "sys = T*W - U\n",
    "symbol_set = sys.free_symbols\n",
    "print(f'{len(symbol_set)} symbols and {constrained_sys.rows} equations') \n",
    "sys = sys.row_insert(sys.rows, Matrix([[eq1],[eq2],[eq3]]))\n",
    "sys\n",
    "subs = {Avo:.5, wp:100e3}\n",
    "constrained_sys = sys.subs(subs)\n",
    "constrained_sys\n",
    "print(f'Cont{len(symbol_set)} symbols and {constrained_sys.rows} equations') "
   ]
  },
  {
   "cell_type": "markdown",
   "id": "0ad90a8b-7744-4150-bd51-d6b07b73b9e9",
   "metadata": {},
   "source": [
    "What contraints make sense algebraically and what makes sense over some span $s$ or $t$? \n",
    "To run a simulation over some span of $s$, the circuit must be solved for: all element values are chosen. For the transform of the input cosine, $w$ is the source frequency and $s=j\\omega$ is swept.\n",
    "The pole frequency or phase is specified independent of the source frequency. \n",
    "\n",
    "Spice is completely in the analysis direction: defined circuit -> circuit response\n",
    "How can this be reversed or combined with some design? \n",
    "\n",
    "topology + desired circuit response -> fully defined circuit \n",
    "\n",
    "topology + partial circuit response + some circuit element values -> fully defined circuit + the rest of the circuit response \n",
    "\n",
    "A circuit model has certain things that can specified in terms of element values. An insufficient model won't capture some necesssary detail. So a given model has finite capability. A more detailed model may require approximations - or is the point of this to not? \n",
    "Inductor current ripple, for example, comes from a pretty simple circuit model. \n",
    "The MNA and tableau allow writing down really complex circuit models - a key ability. \n",
    "Can circuit response be plotted without circuit values? This would be quite difficult because it would be symbolic. \n",
    "\n",
    "Plot inductor ripple as function of time, Vin, L, Vout, etc. This amounts to plotting a quantity measured over time, as a function of either time OR an element value, while doing minimal work: \n",
    "\n",
    "Approximations are made by looking at sums: ignore the .001 in 1000+.001 \n",
    "\n",
    "A 2D curve of some desired behavior relates f(x) = y, with x, y possibly parameterized by several things. \n",
    "pages with circuit N symbol: 68,217\n",
    "If I present a circuit model along with "
   ]
  },
  {
   "cell_type": "markdown",
   "id": "04301d30-2311-4fb7-a20e-ec6ce9007be1",
   "metadata": {},
   "source": [
    "$\\mathscr{N}$\n",
    "$\\mathcal{N}$\n",
    "\n",
    "$\\mathcal{N}_{-n}$ is a partially defined circuit  \n",
    "$f( \\mathbf{t ,w}, \\mathcal{N}_{-n})$\n",
    "\n",
    "use the KCL, KVL, branch equations as contraints on optimization problem. \n",
    "What is the objective function? \n",
    "The objective function is the residual least squares difference between achieved response and desired. "
   ]
  },
  {
   "cell_type": "code",
   "execution_count": 46,
   "id": "20d3cd1b-3ff5-4025-9700-16f2c4ffb951",
   "metadata": {},
   "outputs": [
    {
     "name": "stdout",
     "output_type": "stream",
     "text": [
      "17 symbols and 13 equations\n"
     ]
    },
    {
     "data": {
      "text/plain": [
       "{C1,\n",
       " E_1,\n",
       " E_2,\n",
       " I_1,\n",
       " I_2,\n",
       " I_3,\n",
       " I_4,\n",
       " R_1,\n",
       " R_2,\n",
       " V_1,\n",
       " V_2,\n",
       " V_3,\n",
       " V_4,\n",
       " V_m,\n",
       " f_p,\n",
       " omega,\n",
       " s}"
      ]
     },
     "execution_count": 46,
     "metadata": {},
     "output_type": "execute_result"
    }
   ],
   "source": [
    "symbol_set = constrained_sys.free_symbols\n",
    "print(f'{len(symbol_set)} symbols and {constrained_sys.rows} equations') \n",
    "symbol_set\n"
   ]
  }
 ],
 "metadata": {
  "kernelspec": {
   "display_name": "Python 3 (ipykernel)",
   "language": "python",
   "name": "python3"
  },
  "language_info": {
   "codemirror_mode": {
    "name": "ipython",
    "version": 3
   },
   "file_extension": ".py",
   "mimetype": "text/x-python",
   "name": "python",
   "nbconvert_exporter": "python",
   "pygments_lexer": "ipython3",
   "version": "3.8.13"
  }
 },
 "nbformat": 4,
 "nbformat_minor": 5
}
